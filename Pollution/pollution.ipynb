{
 "cells": [
  {
   "cell_type": "markdown",
   "id": "nutritional-myanmar",
   "metadata": {},
   "source": [
    "# Regression and Other Stories: Pollution\n",
    "\n",
    "A pollution data set. See Chapter 12 in Regression and Other Stories.\n",
    "\n",
    "Source: McDonald, G.C. and Schwing, R.C. (1973) 'Instabilities of regression estimates relating air pollution to mortality', Technometrics, vol.15, 463-482. See data/pollution.txt for the explanation of the variables.\n",
    "\n",
    "----"
   ]
  },
  {
   "cell_type": "markdown",
   "id": "applicable-nightmare",
   "metadata": {},
   "source": [
    "## Load Packages"
   ]
  },
  {
   "cell_type": "code",
   "execution_count": 1,
   "id": "stylish-mumbai",
   "metadata": {},
   "outputs": [],
   "source": [
    "using DataFrames, CSV, HTTP"
   ]
  },
  {
   "cell_type": "markdown",
   "id": "grand-merchant",
   "metadata": {},
   "source": [
    "## Load data"
   ]
  },
  {
   "cell_type": "code",
   "execution_count": 2,
   "id": "trying-blend",
   "metadata": {},
   "outputs": [
    {
     "data": {
      "text/html": [
       "<table class=\"data-frame\"><thead><tr><th></th><th>prec</th><th>jant</th><th>jult</th><th>ovr65</th><th>popn</th><th>educ</th><th>hous</th><th>dens</th><th>nonw</th><th>wwdrk</th></tr><tr><th></th><th>Int64</th><th>Int64</th><th>Int64</th><th>Float64</th><th>Float64</th><th>Float64</th><th>Float64</th><th>Int64</th><th>Float64</th><th>Float64</th></tr></thead><tbody><p>6 rows × 16 columns (omitted printing of 6 columns)</p><tr><th>1</th><td>36</td><td>27</td><td>71</td><td>8.1</td><td>3.34</td><td>11.4</td><td>81.5</td><td>3243</td><td>8.8</td><td>42.6</td></tr><tr><th>2</th><td>35</td><td>23</td><td>72</td><td>11.1</td><td>3.14</td><td>11.0</td><td>78.8</td><td>4281</td><td>3.5</td><td>50.7</td></tr><tr><th>3</th><td>44</td><td>29</td><td>74</td><td>10.4</td><td>3.21</td><td>9.8</td><td>81.6</td><td>4260</td><td>0.8</td><td>39.4</td></tr><tr><th>4</th><td>47</td><td>45</td><td>79</td><td>6.5</td><td>3.41</td><td>11.1</td><td>77.5</td><td>3125</td><td>27.1</td><td>50.2</td></tr><tr><th>5</th><td>43</td><td>35</td><td>77</td><td>7.6</td><td>3.44</td><td>9.6</td><td>84.6</td><td>6441</td><td>24.4</td><td>43.7</td></tr><tr><th>6</th><td>53</td><td>45</td><td>80</td><td>7.7</td><td>3.45</td><td>10.2</td><td>66.8</td><td>3325</td><td>38.5</td><td>43.1</td></tr></tbody></table>"
      ],
      "text/latex": [
       "\\begin{tabular}{r|ccccccccccc}\n",
       "\t& prec & jant & jult & ovr65 & popn & educ & hous & dens & nonw & wwdrk & \\\\\n",
       "\t\\hline\n",
       "\t& Int64 & Int64 & Int64 & Float64 & Float64 & Float64 & Float64 & Int64 & Float64 & Float64 & \\\\\n",
       "\t\\hline\n",
       "\t1 & 36 & 27 & 71 & 8.1 & 3.34 & 11.4 & 81.5 & 3243 & 8.8 & 42.6 & $\\dots$ \\\\\n",
       "\t2 & 35 & 23 & 72 & 11.1 & 3.14 & 11.0 & 78.8 & 4281 & 3.5 & 50.7 & $\\dots$ \\\\\n",
       "\t3 & 44 & 29 & 74 & 10.4 & 3.21 & 9.8 & 81.6 & 4260 & 0.8 & 39.4 & $\\dots$ \\\\\n",
       "\t4 & 47 & 45 & 79 & 6.5 & 3.41 & 11.1 & 77.5 & 3125 & 27.1 & 50.2 & $\\dots$ \\\\\n",
       "\t5 & 43 & 35 & 77 & 7.6 & 3.44 & 9.6 & 84.6 & 6441 & 24.4 & 43.7 & $\\dots$ \\\\\n",
       "\t6 & 53 & 45 & 80 & 7.7 & 3.45 & 10.2 & 66.8 & 3325 & 38.5 & 43.1 & $\\dots$ \\\\\n",
       "\\end{tabular}\n"
      ],
      "text/plain": [
       "\u001b[1m6×16 DataFrame\u001b[0m\n",
       "\u001b[1m Row \u001b[0m│\u001b[1m prec  \u001b[0m\u001b[1m jant  \u001b[0m\u001b[1m jult  \u001b[0m\u001b[1m ovr65   \u001b[0m\u001b[1m popn    \u001b[0m\u001b[1m educ    \u001b[0m\u001b[1m hous    \u001b[0m\u001b[1m dens  \u001b[0m\u001b[1m nonw   \u001b[0m ⋯\n",
       "\u001b[1m     \u001b[0m│\u001b[90m Int64 \u001b[0m\u001b[90m Int64 \u001b[0m\u001b[90m Int64 \u001b[0m\u001b[90m Float64 \u001b[0m\u001b[90m Float64 \u001b[0m\u001b[90m Float64 \u001b[0m\u001b[90m Float64 \u001b[0m\u001b[90m Int64 \u001b[0m\u001b[90m Float64\u001b[0m ⋯\n",
       "─────┼──────────────────────────────────────────────────────────────────────────\n",
       "   1 │    36     27     71      8.1     3.34     11.4     81.5   3243      8.8 ⋯\n",
       "   2 │    35     23     72     11.1     3.14     11.0     78.8   4281      3.5\n",
       "   3 │    44     29     74     10.4     3.21      9.8     81.6   4260      0.8\n",
       "   4 │    47     45     79      6.5     3.41     11.1     77.5   3125     27.1\n",
       "   5 │    43     35     77      7.6     3.44      9.6     84.6   6441     24.4 ⋯\n",
       "   6 │    53     45     80      7.7     3.45     10.2     66.8   3325     38.5\n",
       "\u001b[36m                                                               7 columns omitted\u001b[0m"
      ]
     },
     "execution_count": 2,
     "metadata": {},
     "output_type": "execute_result"
    }
   ],
   "source": [
    "data = \"https://raw.githubusercontent.com/avehtari/ROS-Examples/master/Pollution/data/pollution.csv\"\n",
    "pollution = CSV.File(HTTP.get(data).body) |> DataFrame;\n",
    "first(pollution, 6)"
   ]
  },
  {
   "cell_type": "code",
   "execution_count": 3,
   "id": "historic-sodium",
   "metadata": {},
   "outputs": [
    {
     "name": "stdout",
     "output_type": "stream",
     "text": [
      "\u001b[1m6×16 DataFrame\u001b[0m\n",
      "\u001b[1m Row \u001b[0m│\u001b[1m prec  \u001b[0m\u001b[1m jant  \u001b[0m\u001b[1m jult  \u001b[0m\u001b[1m ovr65   \u001b[0m\u001b[1m popn    \u001b[0m\u001b[1m educ    \u001b[0m\u001b[1m hous    \u001b[0m\u001b[1m dens  \u001b[0m\u001b[1m nonw    \u001b[0m\u001b[1m wwdrk   \u001b[0m\u001b[1m poor    \u001b[0m\u001b[1m hc    \u001b[0m\u001b[1m nox   \u001b[0m\u001b[1m so2   \u001b[0m\u001b[1m humid \u001b[0m\u001b[1m mort     \u001b[0m\n",
      "\u001b[1m     \u001b[0m│\u001b[90m Int64 \u001b[0m\u001b[90m Int64 \u001b[0m\u001b[90m Int64 \u001b[0m\u001b[90m Float64 \u001b[0m\u001b[90m Float64 \u001b[0m\u001b[90m Float64 \u001b[0m\u001b[90m Float64 \u001b[0m\u001b[90m Int64 \u001b[0m\u001b[90m Float64 \u001b[0m\u001b[90m Float64 \u001b[0m\u001b[90m Float64 \u001b[0m\u001b[90m Int64 \u001b[0m\u001b[90m Int64 \u001b[0m\u001b[90m Int64 \u001b[0m\u001b[90m Int64 \u001b[0m\u001b[90m Float64  \u001b[0m\n",
      "─────┼─────────────────────────────────────────────────────────────────────────────────────────────────────────────────────────────────\n",
      "   1 │    36     27     71      8.1     3.34     11.4     81.5   3243      8.8     42.6     11.7     21     15     59     59   921.87\n",
      "   2 │    35     23     72     11.1     3.14     11.0     78.8   4281      3.5     50.7     14.4      8     10     39     57   997.875\n",
      "   3 │    44     29     74     10.4     3.21      9.8     81.6   4260      0.8     39.4     12.4      6      6     33     54   962.354\n",
      "   4 │    47     45     79      6.5     3.41     11.1     77.5   3125     27.1     50.2     20.6     18      8     24     56   982.291\n",
      "   5 │    43     35     77      7.6     3.44      9.6     84.6   6441     24.4     43.7     14.3     43     38    206     55  1071.29\n",
      "   6 │    53     45     80      7.7     3.45     10.2     66.8   3325     38.5     43.1     25.5     30     32     72     54  1030.38"
     ]
    }
   ],
   "source": [
    "# alternate method to show all columns\n",
    "show(first(pollution, 6), allcols=true)"
   ]
  }
 ],
 "metadata": {
  "kernelspec": {
   "display_name": "Julia 1.6.0",
   "language": "julia",
   "name": "julia-1.6"
  },
  "language_info": {
   "file_extension": ".jl",
   "mimetype": "application/julia",
   "name": "julia",
   "version": "1.6.0"
  }
 },
 "nbformat": 4,
 "nbformat_minor": 5
}
