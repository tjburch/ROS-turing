{
 "cells": [
  {
   "cell_type": "markdown",
   "id": "alert-confirmation",
   "metadata": {},
   "source": [
    "# Regression and Other Stories: Helicopters\n",
    "\n",
    "Example data file for helicopter flying time exercise. See Chapter 1 in Regression and Other Stories."
   ]
  },
  {
   "cell_type": "markdown",
   "id": "bizarre-buyer",
   "metadata": {},
   "source": [
    "## Load packages"
   ]
  },
  {
   "cell_type": "code",
   "execution_count": 1,
   "id": "improved-cassette",
   "metadata": {},
   "outputs": [],
   "source": [
    "using DataFrames, CSV, HTTP"
   ]
  },
  {
   "cell_type": "markdown",
   "id": "precise-toner",
   "metadata": {},
   "source": [
    "## Load data"
   ]
  },
  {
   "cell_type": "code",
   "execution_count": 2,
   "id": "abroad-portable",
   "metadata": {},
   "outputs": [
    {
     "name": "stderr",
     "output_type": "stream",
     "text": [
      "┌ Warning: thread = 1 warning: parsed expected 4 columns, but didn't reach end of line around data row: 2. Ignoring any extra columns on this row\n",
      "└ @ CSV C:\\Users\\tburch\\.julia\\packages\\CSV\\CJfFO\\src\\file.jl:606\n",
      "┌ Warning: thread = 1 warning: parsed expected 4 columns, but didn't reach end of line around data row: 3. Ignoring any extra columns on this row\n",
      "└ @ CSV C:\\Users\\tburch\\.julia\\packages\\CSV\\CJfFO\\src\\file.jl:606\n",
      "┌ Warning: thread = 1 warning: parsed expected 4 columns, but didn't reach end of line around data row: 4. Ignoring any extra columns on this row\n",
      "└ @ CSV C:\\Users\\tburch\\.julia\\packages\\CSV\\CJfFO\\src\\file.jl:606\n",
      "┌ Warning: thread = 1 warning: parsed expected 4 columns, but didn't reach end of line around data row: 5. Ignoring any extra columns on this row\n",
      "└ @ CSV C:\\Users\\tburch\\.julia\\packages\\CSV\\CJfFO\\src\\file.jl:606\n",
      "┌ Warning: thread = 1 warning: parsed expected 4 columns, but didn't reach end of line around data row: 6. Ignoring any extra columns on this row\n",
      "└ @ CSV C:\\Users\\tburch\\.julia\\packages\\CSV\\CJfFO\\src\\file.jl:606\n",
      "┌ Warning: thread = 1 warning: parsed expected 4 columns, but didn't reach end of line around data row: 7. Ignoring any extra columns on this row\n",
      "└ @ CSV C:\\Users\\tburch\\.julia\\packages\\CSV\\CJfFO\\src\\file.jl:606\n",
      "┌ Warning: thread = 1 warning: parsed expected 4 columns, but didn't reach end of line around data row: 8. Ignoring any extra columns on this row\n",
      "└ @ CSV C:\\Users\\tburch\\.julia\\packages\\CSV\\CJfFO\\src\\file.jl:606\n",
      "┌ Warning: thread = 1 warning: parsed expected 4 columns, but didn't reach end of line around data row: 9. Ignoring any extra columns on this row\n",
      "└ @ CSV C:\\Users\\tburch\\.julia\\packages\\CSV\\CJfFO\\src\\file.jl:606\n",
      "┌ Warning: thread = 1 warning: parsed expected 4 columns, but didn't reach end of line around data row: 10. Ignoring any extra columns on this row\n",
      "└ @ CSV C:\\Users\\tburch\\.julia\\packages\\CSV\\CJfFO\\src\\file.jl:606\n"
     ]
    }
   ],
   "source": [
    "data = \"https://raw.githubusercontent.com/avehtari/ROS-Examples/master/Helicopters/data/helicopters.txt\"\n",
    "helicopters = CSV.File(HTTP.get(data).body, delim=\" \") |> DataFrame;"
   ]
  },
  {
   "cell_type": "markdown",
   "id": "tracked-uncertainty",
   "metadata": {},
   "source": [
    "> warnings appear to be a product of trailing whitespace in the data when using a whitespace delimiter"
   ]
  },
  {
   "cell_type": "markdown",
   "id": "strange-recovery",
   "metadata": {},
   "source": [
    "## Display the example data"
   ]
  },
  {
   "cell_type": "code",
   "execution_count": 3,
   "id": "retained-stack",
   "metadata": {},
   "outputs": [
    {
     "data": {
      "text/html": [
       "<table class=\"data-frame\"><thead><tr><th></th><th>Helicopter_ID</th><th>width_cm</th><th>length_cm</th><th>time_sec</th></tr><tr><th></th><th>Int64</th><th>Float64</th><th>Float64</th><th>Float64</th></tr></thead><tbody><p>20 rows × 4 columns</p><tr><th>1</th><td>1</td><td>4.6</td><td>8.2</td><td>1.64</td></tr><tr><th>2</th><td>1</td><td>4.6</td><td>8.2</td><td>1.74</td></tr><tr><th>3</th><td>1</td><td>4.6</td><td>8.2</td><td>1.68</td></tr><tr><th>4</th><td>1</td><td>4.6</td><td>8.2</td><td>1.62</td></tr><tr><th>5</th><td>1</td><td>4.6</td><td>8.2</td><td>1.68</td></tr><tr><th>6</th><td>1</td><td>4.6</td><td>8.2</td><td>1.7</td></tr><tr><th>7</th><td>1</td><td>4.6</td><td>8.2</td><td>1.62</td></tr><tr><th>8</th><td>1</td><td>4.6</td><td>8.2</td><td>1.66</td></tr><tr><th>9</th><td>1</td><td>4.6</td><td>8.2</td><td>1.69</td></tr><tr><th>10</th><td>1</td><td>4.6</td><td>8.2</td><td>1.62</td></tr><tr><th>11</th><td>2</td><td>4.6</td><td>8.2</td><td>1.62</td></tr><tr><th>12</th><td>2</td><td>4.6</td><td>8.2</td><td>1.65</td></tr><tr><th>13</th><td>2</td><td>4.6</td><td>8.2</td><td>1.66</td></tr><tr><th>14</th><td>2</td><td>4.6</td><td>8.2</td><td>1.63</td></tr><tr><th>15</th><td>2</td><td>4.6</td><td>8.2</td><td>1.66</td></tr><tr><th>16</th><td>2</td><td>4.6</td><td>8.2</td><td>1.71</td></tr><tr><th>17</th><td>2</td><td>4.6</td><td>8.2</td><td>1.64</td></tr><tr><th>18</th><td>2</td><td>4.6</td><td>8.2</td><td>1.69</td></tr><tr><th>19</th><td>2</td><td>4.6</td><td>8.2</td><td>1.59</td></tr><tr><th>20</th><td>2</td><td>4.6</td><td>8.2</td><td>1.61</td></tr></tbody></table>"
      ],
      "text/latex": [
       "\\begin{tabular}{r|cccc}\n",
       "\t& Helicopter\\_ID & width\\_cm & length\\_cm & time\\_sec\\\\\n",
       "\t\\hline\n",
       "\t& Int64 & Float64 & Float64 & Float64\\\\\n",
       "\t\\hline\n",
       "\t1 & 1 & 4.6 & 8.2 & 1.64 \\\\\n",
       "\t2 & 1 & 4.6 & 8.2 & 1.74 \\\\\n",
       "\t3 & 1 & 4.6 & 8.2 & 1.68 \\\\\n",
       "\t4 & 1 & 4.6 & 8.2 & 1.62 \\\\\n",
       "\t5 & 1 & 4.6 & 8.2 & 1.68 \\\\\n",
       "\t6 & 1 & 4.6 & 8.2 & 1.7 \\\\\n",
       "\t7 & 1 & 4.6 & 8.2 & 1.62 \\\\\n",
       "\t8 & 1 & 4.6 & 8.2 & 1.66 \\\\\n",
       "\t9 & 1 & 4.6 & 8.2 & 1.69 \\\\\n",
       "\t10 & 1 & 4.6 & 8.2 & 1.62 \\\\\n",
       "\t11 & 2 & 4.6 & 8.2 & 1.62 \\\\\n",
       "\t12 & 2 & 4.6 & 8.2 & 1.65 \\\\\n",
       "\t13 & 2 & 4.6 & 8.2 & 1.66 \\\\\n",
       "\t14 & 2 & 4.6 & 8.2 & 1.63 \\\\\n",
       "\t15 & 2 & 4.6 & 8.2 & 1.66 \\\\\n",
       "\t16 & 2 & 4.6 & 8.2 & 1.71 \\\\\n",
       "\t17 & 2 & 4.6 & 8.2 & 1.64 \\\\\n",
       "\t18 & 2 & 4.6 & 8.2 & 1.69 \\\\\n",
       "\t19 & 2 & 4.6 & 8.2 & 1.59 \\\\\n",
       "\t20 & 2 & 4.6 & 8.2 & 1.61 \\\\\n",
       "\\end{tabular}\n"
      ],
      "text/plain": [
       "\u001b[1m20×4 DataFrame\u001b[0m\n",
       "\u001b[1m Row \u001b[0m│\u001b[1m Helicopter_ID \u001b[0m\u001b[1m width_cm \u001b[0m\u001b[1m length_cm \u001b[0m\u001b[1m time_sec \u001b[0m\n",
       "\u001b[1m     \u001b[0m│\u001b[90m Int64         \u001b[0m\u001b[90m Float64  \u001b[0m\u001b[90m Float64   \u001b[0m\u001b[90m Float64  \u001b[0m\n",
       "─────┼──────────────────────────────────────────────\n",
       "   1 │             1       4.6        8.2      1.64\n",
       "   2 │             1       4.6        8.2      1.74\n",
       "   3 │             1       4.6        8.2      1.68\n",
       "   4 │             1       4.6        8.2      1.62\n",
       "   5 │             1       4.6        8.2      1.68\n",
       "   6 │             1       4.6        8.2      1.7\n",
       "   7 │             1       4.6        8.2      1.62\n",
       "   8 │             1       4.6        8.2      1.66\n",
       "   9 │             1       4.6        8.2      1.69\n",
       "  10 │             1       4.6        8.2      1.62\n",
       "  11 │             2       4.6        8.2      1.62\n",
       "  12 │             2       4.6        8.2      1.65\n",
       "  13 │             2       4.6        8.2      1.66\n",
       "  14 │             2       4.6        8.2      1.63\n",
       "  15 │             2       4.6        8.2      1.66\n",
       "  16 │             2       4.6        8.2      1.71\n",
       "  17 │             2       4.6        8.2      1.64\n",
       "  18 │             2       4.6        8.2      1.69\n",
       "  19 │             2       4.6        8.2      1.59\n",
       "  20 │             2       4.6        8.2      1.61"
      ]
     },
     "execution_count": 3,
     "metadata": {},
     "output_type": "execute_result"
    }
   ],
   "source": [
    "helicopters"
   ]
  }
 ],
 "metadata": {
  "kernelspec": {
   "display_name": "Julia 1.6.0",
   "language": "julia",
   "name": "julia-1.6"
  },
  "language_info": {
   "file_extension": ".jl",
   "mimetype": "application/julia",
   "name": "julia",
   "version": "1.6.0"
  }
 },
 "nbformat": 4,
 "nbformat_minor": 5
}
