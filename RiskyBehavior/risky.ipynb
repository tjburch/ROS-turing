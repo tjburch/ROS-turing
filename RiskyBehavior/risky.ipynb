{
 "cells": [
  {
   "cell_type": "markdown",
   "id": "b01f3e03-8635-4fd7-bbc7-68ab63748265",
   "metadata": {},
   "source": [
    "# Regression and Other Stories: RiskyBehavior\n",
    "\n",
    "Data from a randomized trial targeting couples at high risk of HIV infection. The intervention provided counseling sessions regarding practices that could reduce their likelihood of contracting HIV. Couples were randomized either to a control group, a group in which just the woman participated, or a group in which both members of the couple participated. One of the outcomes examined after three months was “number of unprotected sex acts.”. See Chapter 15 in Regression and Other Stories.\n",
    "\n",
    "Reference: El-Bassel, N., Witte, S. S., Gilbert, L., Wu, E., Chang, M., Hill, J., and Steinglass, P. (2003). The efficacy of a relationship-based HIV/STD prevention program for heterosexual couples. American journal of public health, 93, 963--969.\n",
    "\n",
    "-----"
   ]
  },
  {
   "cell_type": "markdown",
   "id": "72e9f185-369e-43ba-a623-ca5136f76139",
   "metadata": {},
   "source": [
    "#### Load packages"
   ]
  },
  {
   "cell_type": "code",
   "execution_count": 1,
   "id": "9dc162bf-2c8b-47a9-b91a-229efc3816d3",
   "metadata": {},
   "outputs": [],
   "source": [
    "using DataFrames, CSV, HTTP"
   ]
  },
  {
   "cell_type": "markdown",
   "id": "e936efea-0226-4a92-8ca3-36e60f9c864e",
   "metadata": {},
   "source": [
    "#### Load data"
   ]
  },
  {
   "cell_type": "code",
   "execution_count": 2,
   "id": "e5f4e68b-9c91-48e7-ba45-067991953bcf",
   "metadata": {},
   "outputs": [
    {
     "data": {
      "text/html": [
       "<table class=\"data-frame\"><thead><tr><th></th><th>sex</th><th>couples</th><th>women_alone</th><th>bs_hiv</th><th>bupacts</th><th>fupacts</th></tr><tr><th></th><th>String</th><th>Int64</th><th>Int64</th><th>String</th><th>Int64</th><th>Float64</th></tr></thead><tbody><p>6 rows × 6 columns</p><tr><th>1</th><td>woman</td><td>0</td><td>1</td><td>negative</td><td>7</td><td>32.0</td></tr><tr><th>2</th><td>woman</td><td>0</td><td>0</td><td>negative</td><td>2</td><td>5.0</td></tr><tr><th>3</th><td>woman</td><td>0</td><td>0</td><td>positive</td><td>0</td><td>15.0</td></tr><tr><th>4</th><td>woman</td><td>0</td><td>0</td><td>negative</td><td>24</td><td>9.0</td></tr><tr><th>5</th><td>woman</td><td>1</td><td>0</td><td>negative</td><td>2</td><td>2.0</td></tr><tr><th>6</th><td>woman</td><td>1</td><td>0</td><td>negative</td><td>15</td><td>4.0</td></tr></tbody></table>"
      ],
      "text/latex": [
       "\\begin{tabular}{r|cccccc}\n",
       "\t& sex & couples & women\\_alone & bs\\_hiv & bupacts & fupacts\\\\\n",
       "\t\\hline\n",
       "\t& String & Int64 & Int64 & String & Int64 & Float64\\\\\n",
       "\t\\hline\n",
       "\t1 & woman & 0 & 1 & negative & 7 & 32.0 \\\\\n",
       "\t2 & woman & 0 & 0 & negative & 2 & 5.0 \\\\\n",
       "\t3 & woman & 0 & 0 & positive & 0 & 15.0 \\\\\n",
       "\t4 & woman & 0 & 0 & negative & 24 & 9.0 \\\\\n",
       "\t5 & woman & 1 & 0 & negative & 2 & 2.0 \\\\\n",
       "\t6 & woman & 1 & 0 & negative & 15 & 4.0 \\\\\n",
       "\\end{tabular}\n"
      ],
      "text/plain": [
       "\u001b[1m6×6 DataFrame\u001b[0m\n",
       "\u001b[1m Row \u001b[0m│\u001b[1m sex    \u001b[0m\u001b[1m couples \u001b[0m\u001b[1m women_alone \u001b[0m\u001b[1m bs_hiv   \u001b[0m\u001b[1m bupacts \u001b[0m\u001b[1m fupacts \u001b[0m\n",
       "\u001b[1m     \u001b[0m│\u001b[90m String \u001b[0m\u001b[90m Int64   \u001b[0m\u001b[90m Int64       \u001b[0m\u001b[90m String   \u001b[0m\u001b[90m Int64   \u001b[0m\u001b[90m Float64 \u001b[0m\n",
       "─────┼──────────────────────────────────────────────────────────\n",
       "   1 │ woman         0            1  negative        7     32.0\n",
       "   2 │ woman         0            0  negative        2      5.0\n",
       "   3 │ woman         0            0  positive        0     15.0\n",
       "   4 │ woman         0            0  negative       24      9.0\n",
       "   5 │ woman         1            0  negative        2      2.0\n",
       "   6 │ woman         1            0  negative       15      4.0"
      ]
     },
     "execution_count": 2,
     "metadata": {},
     "output_type": "execute_result"
    }
   ],
   "source": [
    "src = \"https://raw.githubusercontent.com/avehtari/ROS-Examples/master/RiskyBehavior/data/risky.csv\"\n",
    "risky  = CSV.File(HTTP.get(src).body) |> DataFrame\n",
    "first(risky, 6)"
   ]
  }
 ],
 "metadata": {
  "kernelspec": {
   "display_name": "Julia 1.6.0",
   "language": "julia",
   "name": "julia-1.6"
  },
  "language_info": {
   "file_extension": ".jl",
   "mimetype": "application/julia",
   "name": "julia",
   "version": "1.6.0"
  }
 },
 "nbformat": 4,
 "nbformat_minor": 5
}
