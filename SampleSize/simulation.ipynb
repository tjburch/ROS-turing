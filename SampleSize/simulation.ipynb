{
 "cells": [
  {
   "cell_type": "markdown",
   "metadata": {},
   "source": [
    "# Regression and Other Stories: Sample size simulation\n",
    "\n",
    "Sample size simulation. See Chapter 16 in Regression and Other Stories.\n",
    "\n",
    "---"
   ]
  },
  {
   "cell_type": "markdown",
   "metadata": {},
   "source": [
    "### Load packages"
   ]
  },
  {
   "cell_type": "code",
   "execution_count": 1,
   "metadata": {},
   "outputs": [],
   "source": [
    "using Turing, MCMCChains, Distributions, Random"
   ]
  },
  {
   "cell_type": "markdown",
   "metadata": {},
   "source": [
    "### Simulated data 1: predictor range (-0.5, 0.5)"
   ]
  },
  {
   "cell_type": "code",
   "execution_count": 2,
   "metadata": {},
   "outputs": [
    {
     "name": "stderr",
     "output_type": "stream",
     "text": [
      "┌ Info: Found initial step size\n",
      "│   ϵ = 0.00625\n",
      "└ @ Turing.Inference /Users/tburch/.julia/packages/Turing/uAz5c/src/inference/hmc.jl:195\n",
      "\u001b[32mSampling: 100%|█████████████████████████████████████████| Time: 0:00:03\u001b[39m\n",
      "┌ Warning: The current proposal will be rejected due to numerical error(s).\n",
      "│   isfinite.((θ, r, ℓπ, ℓκ)) = (true, false, false, false)\n",
      "└ @ AdvancedHMC /Users/tburch/.julia/packages/AdvancedHMC/MIxdK/src/hamiltonian.jl:47\n",
      "┌ Warning: The current proposal will be rejected due to numerical error(s).\n",
      "│   isfinite.((θ, r, ℓπ, ℓκ)) = (true, false, false, false)\n",
      "└ @ AdvancedHMC /Users/tburch/.julia/packages/AdvancedHMC/MIxdK/src/hamiltonian.jl:47\n",
      "┌ Warning: The current proposal will be rejected due to numerical error(s).\n",
      "│   isfinite.((θ, r, ℓπ, ℓκ)) = (true, false, false, false)\n",
      "└ @ AdvancedHMC /Users/tburch/.julia/packages/AdvancedHMC/MIxdK/src/hamiltonian.jl:47\n",
      "┌ Info: Found initial step size\n",
      "│   ϵ = 0.003125\n",
      "└ @ Turing.Inference /Users/tburch/.julia/packages/Turing/uAz5c/src/inference/hmc.jl:195\n",
      "\u001b[32mSampling: 100%|█████████████████████████████████████████| Time: 0:00:10\u001b[39m\n"
     ]
    },
    {
     "data": {
      "text/plain": [
       "Summary Statistics\n",
       " \u001b[1m parameters \u001b[0m \u001b[1m    mean \u001b[0m \u001b[1m     std \u001b[0m \u001b[1m naive_se \u001b[0m \u001b[1m    mcse \u001b[0m \u001b[1m       ess \u001b[0m \u001b[1m    rhat \u001b[0m\n",
       " \u001b[90m     Symbol \u001b[0m \u001b[90m Float64 \u001b[0m \u001b[90m Float64 \u001b[0m \u001b[90m  Float64 \u001b[0m \u001b[90m Float64 \u001b[0m \u001b[90m   Float64 \u001b[0m \u001b[90m Float64 \u001b[0m\n",
       "\n",
       "           α   -0.2294    0.3169     0.0050    0.0035   7384.5839    1.0000\n",
       "          β1   -0.7016    0.6430     0.0102    0.0081   8374.7872    0.9998\n",
       "          β2   -0.4290    0.6537     0.0103    0.0076   7380.8327    0.9998\n",
       "         β12   -0.3397    1.2425     0.0196    0.0137   6872.7855    0.9997\n",
       "           σ   10.1809    0.2297     0.0036    0.0022   8357.0476    0.9998\n"
      ]
     },
     "execution_count": 2,
     "metadata": {},
     "output_type": "execute_result"
    }
   ],
   "source": [
    "N = 1000\n",
    "sigma = 10\n",
    "y = rand(Normal(0, sigma), N)\n",
    "x1 = sample([-0.5,0.5], N)\n",
    "x2 = sample([-0.5,0.5], N)\n",
    "\n",
    "@model function m1(x1, y)\n",
    "    σ ~ truncated(Normal(0,50), 0, Inf)\n",
    "    α ~ Normal(0,5)\n",
    "    β ~ Normal(0,5)\n",
    "    y ~ MvNormal(α .+ β * x1, σ)\n",
    "end\n",
    "model_1 = m1(x1, y)\n",
    "fit_1 = sample(model_1, NUTS(),4000)\n",
    "\n",
    "@model function m2(x1, x2, y)\n",
    "    σ ~ truncated(Normal(0,50), 0, Inf)\n",
    "    α ~ Normal(0,5)\n",
    "    β1 ~ Normal(0,5)\n",
    "    β2 ~ Normal(0,5)\n",
    "    β12 ~ Normal(0,5)\n",
    "    y ~ MvNormal(α .+ β1 * x1 .+ β2 * x2 .+ β12 * x1 .* x2, σ)\n",
    "end\n",
    "model_2 = m2(x1, x2, y)\n",
    "fit_2 = sample(model_2, NUTS(),4000)\n",
    "\n",
    "summarystats(fit_1)\n",
    "summarystats(fit_2)"
   ]
  },
  {
   "cell_type": "markdown",
   "metadata": {},
   "source": [
    "### Simulated data 2: predictor range (0, 1)"
   ]
  },
  {
   "cell_type": "code",
   "execution_count": 3,
   "metadata": {},
   "outputs": [],
   "source": [
    "x1 = sample([0,1], N)\n",
    "x2 = sample([0,1], N);"
   ]
  },
  {
   "cell_type": "markdown",
   "metadata": {},
   "source": [
    "### Fit models"
   ]
  },
  {
   "cell_type": "code",
   "execution_count": 4,
   "metadata": {},
   "outputs": [
    {
     "name": "stderr",
     "output_type": "stream",
     "text": [
      "┌ Info: Found initial step size\n",
      "│   ϵ = 0.0125\n",
      "└ @ Turing.Inference /Users/tburch/.julia/packages/Turing/uAz5c/src/inference/hmc.jl:195\n",
      "\u001b[32mSampling: 100%|█████████████████████████████████████████| Time: 0:00:03\u001b[39m\n",
      "┌ Info: Found initial step size\n",
      "│   ϵ = 0.0125\n",
      "└ @ Turing.Inference /Users/tburch/.julia/packages/Turing/uAz5c/src/inference/hmc.jl:195\n",
      "\u001b[32mSampling: 100%|█████████████████████████████████████████| Time: 0:00:19\u001b[39m\n"
     ]
    },
    {
     "data": {
      "text/plain": [
       "Summary Statistics\n",
       " \u001b[1m parameters \u001b[0m \u001b[1m    mean \u001b[0m \u001b[1m     std \u001b[0m \u001b[1m naive_se \u001b[0m \u001b[1m    mcse \u001b[0m \u001b[1m       ess \u001b[0m \u001b[1m    rhat \u001b[0m\n",
       " \u001b[90m     Symbol \u001b[0m \u001b[90m Float64 \u001b[0m \u001b[90m Float64 \u001b[0m \u001b[90m  Float64 \u001b[0m \u001b[90m Float64 \u001b[0m \u001b[90m   Float64 \u001b[0m \u001b[90m Float64 \u001b[0m\n",
       "\n",
       "           α   -0.0020    0.6447     0.0102    0.0166   1396.3498    0.9998\n",
       "          β1   -0.9904    0.8780     0.0139    0.0206   1501.9018    0.9998\n",
       "          β2   -0.0533    0.8952     0.0142    0.0235   1318.3159    0.9999\n",
       "         β12    1.2201    1.2291     0.0194    0.0287   1417.8593    1.0000\n",
       "           σ   10.1733    0.2315     0.0037    0.0039   3453.5944    0.9999\n"
      ]
     },
     "execution_count": 4,
     "metadata": {},
     "output_type": "execute_result"
    }
   ],
   "source": [
    "model_2a = m1(x1, y)\n",
    "fit_2a = sample(model_2a, NUTS(), 4000)\n",
    "model_2b = m2(x1, x2, y)\n",
    "fit_2b = sample(model_2b, NUTS(), 4000)\n",
    "summarystats(fit_2a)\n",
    "summarystats(fit_2b)"
   ]
  },
  {
   "cell_type": "markdown",
   "metadata": {},
   "source": [
    "### Simulated data 3: predictor range (-1, 1)"
   ]
  },
  {
   "cell_type": "code",
   "execution_count": 5,
   "metadata": {},
   "outputs": [],
   "source": [
    "x1 = sample([-1,1], N)\n",
    "x2 = sample([-1,1], N);"
   ]
  },
  {
   "cell_type": "markdown",
   "metadata": {},
   "source": [
    "### Fit models"
   ]
  },
  {
   "cell_type": "code",
   "execution_count": 6,
   "metadata": {},
   "outputs": [
    {
     "name": "stderr",
     "output_type": "stream",
     "text": [
      "┌ Warning: The current proposal will be rejected due to numerical error(s).\n",
      "│   isfinite.((θ, r, ℓπ, ℓκ)) = (true, false, false, false)\n",
      "└ @ AdvancedHMC /Users/tburch/.julia/packages/AdvancedHMC/MIxdK/src/hamiltonian.jl:47\n",
      "┌ Warning: The current proposal will be rejected due to numerical error(s).\n",
      "│   isfinite.((θ, r, ℓπ, ℓκ)) = (true, false, false, false)\n",
      "└ @ AdvancedHMC /Users/tburch/.julia/packages/AdvancedHMC/MIxdK/src/hamiltonian.jl:47\n",
      "┌ Warning: The current proposal will be rejected due to numerical error(s).\n",
      "│   isfinite.((θ, r, ℓπ, ℓκ)) = (true, false, false, false)\n",
      "└ @ AdvancedHMC /Users/tburch/.julia/packages/AdvancedHMC/MIxdK/src/hamiltonian.jl:47\n",
      "┌ Warning: The current proposal will be rejected due to numerical error(s).\n",
      "│   isfinite.((θ, r, ℓπ, ℓκ)) = (true, false, false, false)\n",
      "└ @ AdvancedHMC /Users/tburch/.julia/packages/AdvancedHMC/MIxdK/src/hamiltonian.jl:47\n",
      "┌ Warning: The current proposal will be rejected due to numerical error(s).\n",
      "│   isfinite.((θ, r, ℓπ, ℓκ)) = (true, true, true, false)\n",
      "└ @ AdvancedHMC /Users/tburch/.julia/packages/AdvancedHMC/MIxdK/src/hamiltonian.jl:47\n",
      "┌ Info: Found initial step size\n",
      "│   ϵ = 0.00078125\n",
      "└ @ Turing.Inference /Users/tburch/.julia/packages/Turing/uAz5c/src/inference/hmc.jl:195\n",
      "\u001b[32mSampling: 100%|█████████████████████████████████████████| Time: 0:00:01\u001b[39m\n",
      "┌ Info: Found initial step size\n",
      "│   ϵ = 0.00625\n",
      "└ @ Turing.Inference /Users/tburch/.julia/packages/Turing/uAz5c/src/inference/hmc.jl:195\n",
      "\u001b[32mSampling: 100%|█████████████████████████████████████████| Time: 0:00:09\u001b[39m\n"
     ]
    },
    {
     "data": {
      "text/plain": [
       "Summary Statistics\n",
       " \u001b[1m parameters \u001b[0m \u001b[1m    mean \u001b[0m \u001b[1m     std \u001b[0m \u001b[1m naive_se \u001b[0m \u001b[1m    mcse \u001b[0m \u001b[1m       ess \u001b[0m \u001b[1m    rhat \u001b[0m\n",
       " \u001b[90m     Symbol \u001b[0m \u001b[90m Float64 \u001b[0m \u001b[90m Float64 \u001b[0m \u001b[90m  Float64 \u001b[0m \u001b[90m Float64 \u001b[0m \u001b[90m   Float64 \u001b[0m \u001b[90m Float64 \u001b[0m\n",
       "\n",
       "           α   -0.2063    0.3296     0.0052    0.0039   7861.6572    0.9998\n",
       "          β1   -0.6267    0.3177     0.0050    0.0040   5416.5840    1.0001\n",
       "          β2   -0.2835    0.3145     0.0050    0.0036   5281.3292    0.9998\n",
       "         β12   -0.0640    0.3319     0.0052    0.0037   6117.8932    1.0001\n",
       "           σ   10.1702    0.2332     0.0037    0.0032   5726.1952    1.0002\n"
      ]
     },
     "execution_count": 6,
     "metadata": {},
     "output_type": "execute_result"
    }
   ],
   "source": [
    "model_3a = m1(x1, y)\n",
    "fit_3a = sample(model_3a, NUTS(), 4000)\n",
    "model_3b = m2(x1, x2, y)\n",
    "fit_3b = sample(model_3b, NUTS(), 4000)\n",
    "summarystats(fit_3a)\n",
    "summarystats(fit_3b)"
   ]
  }
 ],
 "metadata": {
  "kernelspec": {
   "display_name": "Julia 1.6.0",
   "language": "julia",
   "name": "julia-1.6"
  },
  "language_info": {
   "file_extension": ".jl",
   "mimetype": "application/julia",
   "name": "julia",
   "version": "1.6.0"
  }
 },
 "nbformat": 4,
 "nbformat_minor": 4
}
