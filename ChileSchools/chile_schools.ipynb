{
 "cells": [
  {
   "cell_type": "markdown",
   "id": "29047497-3c39-41ae-9d51-0f4257d5ab95",
   "metadata": {},
   "source": [
    "# Regression and Other Stories: ChileSchools\n",
    "\n",
    "Code and figures for ChileSchools example. See Chapter 21 in Regression and Other Stories.\n",
    "\n",
    "Data are from\n",
    "\n",
    "Chay, K. Y., McEwan, P. J., and Urquiola, M. (2005). The central role of noise in evaluating interventions that use test scores to rank schools. American Economic Review 95, 1237–1258.\n",
    "\n",
    "----"
   ]
  },
  {
   "cell_type": "markdown",
   "id": "ecfca29b-5b54-4801-a709-518d2c20aaaa",
   "metadata": {},
   "source": [
    "#### Load Packages"
   ]
  },
  {
   "cell_type": "code",
   "execution_count": 1,
   "id": "e962400f-c02a-4650-8950-dd3663687d96",
   "metadata": {},
   "outputs": [],
   "source": [
    "using DataFrames, StatsPlots, CSV, HTTP\n",
    "using Distributions, Turing, MCMCChains"
   ]
  },
  {
   "cell_type": "markdown",
   "id": "f9cd9422-f167-4ebe-a0e5-4338f83a6617",
   "metadata": {},
   "source": [
    "#### Load data\n",
    "\n",
    "The outcomes in these analyses are the gain scores between 88 and 92."
   ]
  },
  {
   "cell_type": "code",
   "execution_count": 2,
   "id": "fd8c24db-9249-4b24-b15d-0f0cea8ac678",
   "metadata": {},
   "outputs": [
    {
     "data": {
      "text/html": [
       "<table class=\"data-frame\"><thead><tr><th></th><th>p90</th><th>cmb_regn</th><th>urban88</th><th>rule2</th><th>cutoff</th><th>cutoff_cmb</th><th>eligible</th><th>read92</th></tr><tr><th></th><th>Int64</th><th>String</th><th>Int64</th><th>Float64</th><th>Float64</th><th>Float64</th><th>Int64</th><th>Float64</th></tr></thead><tbody><p>6 rows × 11 columns (omitted printing of 3 columns)</p><tr><th>1</th><td>0</td><td>Regions 2,5,10</td><td>1</td><td>3.415</td><td>49.4</td><td>49.4</td><td>0</td><td>57.0</td></tr><tr><th>2</th><td>0</td><td>Regions 6,8</td><td>1</td><td>31.815</td><td>43.4</td><td>43.4</td><td>0</td><td>85.515</td></tr><tr><th>3</th><td>0</td><td>Regions 6,8</td><td>1</td><td>4.445</td><td>43.4</td><td>43.4</td><td>0</td><td>51.971</td></tr><tr><th>4</th><td>0</td><td>Region 13</td><td>1</td><td>16.8</td><td>46.4</td><td>46.4</td><td>0</td><td>66.374</td></tr><tr><th>5</th><td>0</td><td>Regions 2,5,10</td><td>1</td><td>0.0949989</td><td>49.4</td><td>49.4</td><td>0</td><td>52.5</td></tr><tr><th>6</th><td>1</td><td>Region 13</td><td>1</td><td>-2.03</td><td>46.4</td><td>46.4</td><td>1</td><td>55.333</td></tr></tbody></table>"
      ],
      "text/latex": [
       "\\begin{tabular}{r|ccccccccc}\n",
       "\t& p90 & cmb\\_regn & urban88 & rule2 & cutoff & cutoff\\_cmb & eligible & read92 & \\\\\n",
       "\t\\hline\n",
       "\t& Int64 & String & Int64 & Float64 & Float64 & Float64 & Int64 & Float64 & \\\\\n",
       "\t\\hline\n",
       "\t1 & 0 & Regions 2,5,10 & 1 & 3.415 & 49.4 & 49.4 & 0 & 57.0 & $\\dots$ \\\\\n",
       "\t2 & 0 & Regions 6,8 & 1 & 31.815 & 43.4 & 43.4 & 0 & 85.515 & $\\dots$ \\\\\n",
       "\t3 & 0 & Regions 6,8 & 1 & 4.445 & 43.4 & 43.4 & 0 & 51.971 & $\\dots$ \\\\\n",
       "\t4 & 0 & Region 13 & 1 & 16.8 & 46.4 & 46.4 & 0 & 66.374 & $\\dots$ \\\\\n",
       "\t5 & 0 & Regions 2,5,10 & 1 & 0.0949989 & 49.4 & 49.4 & 0 & 52.5 & $\\dots$ \\\\\n",
       "\t6 & 1 & Region 13 & 1 & -2.03 & 46.4 & 46.4 & 1 & 55.333 & $\\dots$ \\\\\n",
       "\\end{tabular}\n"
      ],
      "text/plain": [
       "\u001b[1m6×11 DataFrame\u001b[0m\n",
       "\u001b[1m Row \u001b[0m│\u001b[1m p90   \u001b[0m\u001b[1m cmb_regn       \u001b[0m\u001b[1m urban88 \u001b[0m\u001b[1m rule2      \u001b[0m\u001b[1m cutoff  \u001b[0m\u001b[1m cutoff_cmb \u001b[0m\u001b[1m eligib\u001b[0m ⋯\n",
       "\u001b[1m     \u001b[0m│\u001b[90m Int64 \u001b[0m\u001b[90m String         \u001b[0m\u001b[90m Int64   \u001b[0m\u001b[90m Float64    \u001b[0m\u001b[90m Float64 \u001b[0m\u001b[90m Float64    \u001b[0m\u001b[90m Int64 \u001b[0m ⋯\n",
       "─────┼──────────────────────────────────────────────────────────────────────────\n",
       "   1 │     0  Regions 2,5,10        1   3.415         49.4        49.4         ⋯\n",
       "   2 │     0  Regions 6,8           1  31.815         43.4        43.4\n",
       "   3 │     0  Regions 6,8           1   4.445         43.4        43.4\n",
       "   4 │     0  Region 13             1  16.8           46.4        46.4\n",
       "   5 │     0  Regions 2,5,10        1   0.0949989     49.4        49.4         ⋯\n",
       "   6 │     1  Region 13             1  -2.03          46.4        46.4\n",
       "\u001b[36m                                                               5 columns omitted\u001b[0m"
      ]
     },
     "execution_count": 2,
     "metadata": {},
     "output_type": "execute_result"
    }
   ],
   "source": [
    "data = \"https://raw.githubusercontent.com/avehtari/ROS-Examples/master/ChileSchools/data/chile.csv\"\n",
    "chile  = CSV.File(HTTP.get(data).body, delim=\",\") |> DataFrame\n",
    "first(chile, 6)"
   ]
  },
  {
   "cell_type": "markdown",
   "id": "e2ca2e24-3868-4e79-9509-88ac0311c6b1",
   "metadata": {},
   "source": [
    "### Fit models"
   ]
  },
  {
   "cell_type": "code",
   "execution_count": 4,
   "id": "602c65c7-b41f-48d5-9be4-e42d4231ea67",
   "metadata": {},
   "outputs": [],
   "source": [
    "# Model 1: No interaction terms\n",
    "@model function model_1(eligible, rule2, read92)\n",
    "    σ ~ Exponential(10)\n",
    "    \n",
    "    α ~ Normal(0, 100)\n",
    "    β_e ~ Normal(0, 10)\n",
    "    β_r ~ Normal(0, 10)\n",
    "    \n",
    "    μ = α .+ eligible * β_e .+ rule2 * β_r\n",
    "    read92 ~ MvNormal(μ, σ)\n",
    "end\n",
    "\n",
    "# Model 2: Add interaction between eligible and rule2\n",
    "@model function model_2(eligible, rule2, read92)\n",
    "    σ ~ Exponential(10)\n",
    "    \n",
    "    α ~ Normal(0, 100)\n",
    "    β_e ~ Normal(0, 10)\n",
    "    β_r ~ Normal(0, 10)\n",
    "    β_er ~ Normal(0,10)\n",
    "    \n",
    "    μ = α .+ eligible * β_e .+ rule2 * β_r + eligible * rule2 * β_er\n",
    "    read92 ~ MvNormal(μ, σ)\n",
    "end\n",
    "\n",
    "# Model 3: Add read88 and math88\n",
    "@model function model_3(eligible, rule2, read88, math88, read92)\n",
    "    σ ~ Exponential(10)\n",
    "    \n",
    "    α ~ Normal(0, 100)\n",
    "    β_eligible ~ Normal(0, 10)\n",
    "    β_rule2 ~ Normal(0, 10)\n",
    "    β_read88 ~ Normal(0,10)\n",
    "    β_math88 ~ Normal(0,10)\n",
    "    \n",
    "    μ = α .+ eligible * β_e .+ rule2 * β_r .+ read88 * β_read88 .+ math88 * β_math88 \n",
    "    read92 ~ MvNormal(μ, σ)\n",
    "end;"
   ]
  },
  {
   "cell_type": "code",
   "execution_count": 10,
   "id": "8bbd2182-9899-4802-afe9-80bc12c325b6",
   "metadata": {},
   "outputs": [
    {
     "name": "stderr",
     "output_type": "stream",
     "text": [
      "┌ Warning: The current proposal will be rejected due to numerical error(s).\n",
      "│   isfinite.((θ, r, ℓπ, ℓκ)) = (true, false, false, false)\n",
      "└ @ AdvancedHMC C:\\Users\\tburch\\.julia\\packages\\AdvancedHMC\\MIxdK\\src\\hamiltonian.jl:47\n",
      "┌ Warning: The current proposal will be rejected due to numerical error(s).\n",
      "│   isfinite.((θ, r, ℓπ, ℓκ)) = (true, false, false, false)\n",
      "└ @ AdvancedHMC C:\\Users\\tburch\\.julia\\packages\\AdvancedHMC\\MIxdK\\src\\hamiltonian.jl:47\n",
      "┌ Warning: The current proposal will be rejected due to numerical error(s).\n",
      "│   isfinite.((θ, r, ℓπ, ℓκ)) = (true, false, false, false)\n",
      "└ @ AdvancedHMC C:\\Users\\tburch\\.julia\\packages\\AdvancedHMC\\MIxdK\\src\\hamiltonian.jl:47\n",
      "┌ Warning: The current proposal will be rejected due to numerical error(s).\n",
      "│   isfinite.((θ, r, ℓπ, ℓκ)) = (true, false, false, false)\n",
      "└ @ AdvancedHMC C:\\Users\\tburch\\.julia\\packages\\AdvancedHMC\\MIxdK\\src\\hamiltonian.jl:47\n",
      "┌ Warning: The current proposal will be rejected due to numerical error(s).\n",
      "│   isfinite.((θ, r, ℓπ, ℓκ)) = (true, false, false, false)\n",
      "└ @ AdvancedHMC C:\\Users\\tburch\\.julia\\packages\\AdvancedHMC\\MIxdK\\src\\hamiltonian.jl:47\n",
      "┌ Warning: The current proposal will be rejected due to numerical error(s).\n",
      "│   isfinite.((θ, r, ℓπ, ℓκ)) = (true, false, false, false)\n",
      "└ @ AdvancedHMC C:\\Users\\tburch\\.julia\\packages\\AdvancedHMC\\MIxdK\\src\\hamiltonian.jl:47\n",
      "┌ Warning: The current proposal will be rejected due to numerical error(s).\n",
      "│   isfinite.((θ, r, ℓπ, ℓκ)) = (true, false, false, false)\n",
      "└ @ AdvancedHMC C:\\Users\\tburch\\.julia\\packages\\AdvancedHMC\\MIxdK\\src\\hamiltonian.jl:47\n",
      "┌ Warning: The current proposal will be rejected due to numerical error(s).\n",
      "│   isfinite.((θ, r, ℓπ, ℓκ)) = (true, false, false, false)\n",
      "└ @ AdvancedHMC C:\\Users\\tburch\\.julia\\packages\\AdvancedHMC\\MIxdK\\src\\hamiltonian.jl:47\n",
      "┌ Info: Found initial step size\n",
      "│   ϵ = 4.8828125e-5\n",
      "└ @ Turing.Inference C:\\Users\\tburch\\.julia\\packages\\Turing\\pwMQO\\src\\inference\\hmc.jl:188\n",
      "\u001b[32mSampling: 100%|█████████████████████████████████████████| Time: 0:00:05\u001b[39m\n",
      "┌ Warning: The current proposal will be rejected due to numerical error(s).\n",
      "│   isfinite.((θ, r, ℓπ, ℓκ)) = (true, false, false, false)\n",
      "└ @ AdvancedHMC C:\\Users\\tburch\\.julia\\packages\\AdvancedHMC\\MIxdK\\src\\hamiltonian.jl:47\n",
      "┌ Warning: The current proposal will be rejected due to numerical error(s).\n",
      "│   isfinite.((θ, r, ℓπ, ℓκ)) = (true, false, false, false)\n",
      "└ @ AdvancedHMC C:\\Users\\tburch\\.julia\\packages\\AdvancedHMC\\MIxdK\\src\\hamiltonian.jl:47\n",
      "┌ Warning: The current proposal will be rejected due to numerical error(s).\n",
      "│   isfinite.((θ, r, ℓπ, ℓκ)) = (true, false, false, false)\n",
      "└ @ AdvancedHMC C:\\Users\\tburch\\.julia\\packages\\AdvancedHMC\\MIxdK\\src\\hamiltonian.jl:47\n",
      "┌ Warning: The current proposal will be rejected due to numerical error(s).\n",
      "│   isfinite.((θ, r, ℓπ, ℓκ)) = (true, false, false, false)\n",
      "└ @ AdvancedHMC C:\\Users\\tburch\\.julia\\packages\\AdvancedHMC\\MIxdK\\src\\hamiltonian.jl:47\n",
      "┌ Warning: The current proposal will be rejected due to numerical error(s).\n",
      "│   isfinite.((θ, r, ℓπ, ℓκ)) = (true, false, false, false)\n",
      "└ @ AdvancedHMC C:\\Users\\tburch\\.julia\\packages\\AdvancedHMC\\MIxdK\\src\\hamiltonian.jl:47\n",
      "┌ Warning: The current proposal will be rejected due to numerical error(s).\n",
      "│   isfinite.((θ, r, ℓπ, ℓκ)) = (true, false, false, false)\n",
      "└ @ AdvancedHMC C:\\Users\\tburch\\.julia\\packages\\AdvancedHMC\\MIxdK\\src\\hamiltonian.jl:47\n",
      "┌ Info: Found initial step size\n",
      "│   ϵ = 0.0001953125\n",
      "└ @ Turing.Inference C:\\Users\\tburch\\.julia\\packages\\Turing\\pwMQO\\src\\inference\\hmc.jl:188\n",
      "\u001b[32mSampling: 100%|█████████████████████████████████████████| Time: 0:00:02\u001b[39m\n"
     ]
    },
    {
     "ename": "LoadError",
     "evalue": "MethodError: no method matching *(::Vector{Int64}, ::Vector{Float64})\n\u001b[0mClosest candidates are:\n\u001b[0m  *(::Any, ::Any, \u001b[91m::Any\u001b[39m, \u001b[91m::Any...\u001b[39m) at operators.jl:560\n\u001b[0m  *(\u001b[91m::StridedMatrix{T}\u001b[39m, ::StridedVector{S}) where {T<:Union{Float32, Float64, ComplexF32, ComplexF64}, S<:Real} at C:\\buildbot\\worker\\package_win64\\build\\usr\\share\\julia\\stdlib\\v1.6\\LinearAlgebra\\src\\matmul.jl:44\n\u001b[0m  *(::StridedVecOrMat{T} where T, \u001b[91m::LinearAlgebra.Adjoint{var\"#s832\", var\"#s831\"} where {var\"#s832\", var\"#s831\"<:LinearAlgebra.LQPackedQ}\u001b[39m) at C:\\buildbot\\worker\\package_win64\\build\\usr\\share\\julia\\stdlib\\v1.6\\LinearAlgebra\\src\\lq.jl:254\n\u001b[0m  ...",
     "output_type": "error",
     "traceback": [
      "MethodError: no method matching *(::Vector{Int64}, ::Vector{Float64})\n\u001b[0mClosest candidates are:\n\u001b[0m  *(::Any, ::Any, \u001b[91m::Any\u001b[39m, \u001b[91m::Any...\u001b[39m) at operators.jl:560\n\u001b[0m  *(\u001b[91m::StridedMatrix{T}\u001b[39m, ::StridedVector{S}) where {T<:Union{Float32, Float64, ComplexF32, ComplexF64}, S<:Real} at C:\\buildbot\\worker\\package_win64\\build\\usr\\share\\julia\\stdlib\\v1.6\\LinearAlgebra\\src\\matmul.jl:44\n\u001b[0m  *(::StridedVecOrMat{T} where T, \u001b[91m::LinearAlgebra.Adjoint{var\"#s832\", var\"#s831\"} where {var\"#s832\", var\"#s831\"<:LinearAlgebra.LQPackedQ}\u001b[39m) at C:\\buildbot\\worker\\package_win64\\build\\usr\\share\\julia\\stdlib\\v1.6\\LinearAlgebra\\src\\lq.jl:254\n\u001b[0m  ...",
      "",
      "Stacktrace:",
      "  [1] *(::Vector{Int64}, ::Vector{Float64}, ::Float64)",
      "    @ Base .\\operators.jl:560",
      "  [2] #9",
      "    @ .\\In[4]:22 [inlined]",
      "  [3] (::var\"#9#10\")(__rng__::Random._GLOBAL_RNG, __model__::DynamicPPL.Model{var\"#9#10\", (:eligible, :rule2, :read92), (), (), Tuple{Vector{Int64}, Vector{Float64}, Vector{Float64}}, Tuple{}}, __varinfo__::DynamicPPL.UntypedVarInfo{DynamicPPL.Metadata{Dict{AbstractPPL.VarName, Int64}, Vector{Distribution}, Vector{AbstractPPL.VarName}, Vector{Real}, Vector{Set{DynamicPPL.Selector}}}, Float64}, __sampler__::DynamicPPL.SampleFromUniform, __context__::DynamicPPL.DefaultContext, eligible::Vector{Int64}, rule2::Vector{Float64}, read92::Vector{Float64})",
      "    @ Main .\\none:0",
      "  [4] macro expansion",
      "    @ ~\\.julia\\packages\\DynamicPPL\\SgzCy\\src\\model.jl:0 [inlined]",
      "  [5] _evaluate(rng::Random._GLOBAL_RNG, model::DynamicPPL.Model{var\"#9#10\", (:eligible, :rule2, :read92), (), (), Tuple{Vector{Int64}, Vector{Float64}, Vector{Float64}}, Tuple{}}, varinfo::DynamicPPL.UntypedVarInfo{DynamicPPL.Metadata{Dict{AbstractPPL.VarName, Int64}, Vector{Distribution}, Vector{AbstractPPL.VarName}, Vector{Real}, Vector{Set{DynamicPPL.Selector}}}, Float64}, sampler::DynamicPPL.SampleFromUniform, context::DynamicPPL.DefaultContext)",
      "    @ DynamicPPL ~\\.julia\\packages\\DynamicPPL\\SgzCy\\src\\model.jl:154",
      "  [6] evaluate_threadunsafe(rng::Random._GLOBAL_RNG, model::DynamicPPL.Model{var\"#9#10\", (:eligible, :rule2, :read92), (), (), Tuple{Vector{Int64}, Vector{Float64}, Vector{Float64}}, Tuple{}}, varinfo::DynamicPPL.UntypedVarInfo{DynamicPPL.Metadata{Dict{AbstractPPL.VarName, Int64}, Vector{Distribution}, Vector{AbstractPPL.VarName}, Vector{Real}, Vector{Set{DynamicPPL.Selector}}}, Float64}, sampler::DynamicPPL.SampleFromUniform, context::DynamicPPL.DefaultContext)",
      "    @ DynamicPPL ~\\.julia\\packages\\DynamicPPL\\SgzCy\\src\\model.jl:127",
      "  [7] (::DynamicPPL.Model{var\"#9#10\", (:eligible, :rule2, :read92), (), (), Tuple{Vector{Int64}, Vector{Float64}, Vector{Float64}}, Tuple{}})(rng::Random._GLOBAL_RNG, varinfo::DynamicPPL.UntypedVarInfo{DynamicPPL.Metadata{Dict{AbstractPPL.VarName, Int64}, Vector{Distribution}, Vector{AbstractPPL.VarName}, Vector{Real}, Vector{Set{DynamicPPL.Selector}}}, Float64}, sampler::DynamicPPL.SampleFromUniform, context::DynamicPPL.DefaultContext)",
      "    @ DynamicPPL ~\\.julia\\packages\\DynamicPPL\\SgzCy\\src\\model.jl:92",
      "  [8] DynamicPPL.VarInfo(rng::Random._GLOBAL_RNG, model::DynamicPPL.Model{var\"#9#10\", (:eligible, :rule2, :read92), (), (), Tuple{Vector{Int64}, Vector{Float64}, Vector{Float64}}, Tuple{}}, sampler::DynamicPPL.SampleFromUniform, context::DynamicPPL.DefaultContext)",
      "    @ DynamicPPL ~\\.julia\\packages\\DynamicPPL\\SgzCy\\src\\varinfo.jl:126",
      "  [9] DynamicPPL.VarInfo(rng::Random._GLOBAL_RNG, model::DynamicPPL.Model{var\"#9#10\", (:eligible, :rule2, :read92), (), (), Tuple{Vector{Int64}, Vector{Float64}, Vector{Float64}}, Tuple{}}, sampler::DynamicPPL.SampleFromUniform)",
      "    @ DynamicPPL ~\\.julia\\packages\\DynamicPPL\\SgzCy\\src\\varinfo.jl:125",
      " [10] step(rng::Random._GLOBAL_RNG, model::DynamicPPL.Model{var\"#9#10\", (:eligible, :rule2, :read92), (), (), Tuple{Vector{Int64}, Vector{Float64}, Vector{Float64}}, Tuple{}}, spl::DynamicPPL.Sampler{NUTS{Turing.Core.ForwardDiffAD{40}, (), AdvancedHMC.DiagEuclideanMetric}}; resume_from::Nothing, kwargs::Base.Iterators.Pairs{Symbol, Int64, Tuple{Symbol}, NamedTuple{(:nadapts,), Tuple{Int64}}})",
      "    @ DynamicPPL ~\\.julia\\packages\\DynamicPPL\\SgzCy\\src\\sampler.jl:73",
      " [11] macro expansion",
      "    @ ~\\.julia\\packages\\AbstractMCMC\\ByHEr\\src\\sample.jl:123 [inlined]",
      " [12] macro expansion",
      "    @ ~\\.julia\\packages\\ProgressLogging\\6KXlp\\src\\ProgressLogging.jl:328 [inlined]",
      " [13] (::AbstractMCMC.var\"#21#22\"{Bool, String, Nothing, Int64, Int64, Base.Iterators.Pairs{Symbol, Int64, Tuple{Symbol}, NamedTuple{(:nadapts,), Tuple{Int64}}}, Random._GLOBAL_RNG, DynamicPPL.Model{var\"#9#10\", (:eligible, :rule2, :read92), (), (), Tuple{Vector{Int64}, Vector{Float64}, Vector{Float64}}, Tuple{}}, DynamicPPL.Sampler{NUTS{Turing.Core.ForwardDiffAD{40}, (), AdvancedHMC.DiagEuclideanMetric}}, Int64, Int64})()",
      "    @ AbstractMCMC ~\\.julia\\packages\\AbstractMCMC\\ByHEr\\src\\logging.jl:11",
      " [14] with_logstate(f::Function, logstate::Any)",
      "    @ Base.CoreLogging .\\logging.jl:491",
      " [15] with_logger(f::Function, logger::LoggingExtras.TeeLogger{Tuple{LoggingExtras.EarlyFilteredLogger{ConsoleProgressMonitor.ProgressLogger, AbstractMCMC.var\"#1#3\"{Module}}, LoggingExtras.EarlyFilteredLogger{Base.CoreLogging.SimpleLogger, AbstractMCMC.var\"#2#4\"{Module}}}})",
      "    @ Base.CoreLogging .\\logging.jl:603",
      " [16] with_progresslogger(f::Function, _module::Module, logger::Base.CoreLogging.SimpleLogger)",
      "    @ AbstractMCMC ~\\.julia\\packages\\AbstractMCMC\\ByHEr\\src\\logging.jl:34",
      " [17] macro expansion",
      "    @ ~\\.julia\\packages\\AbstractMCMC\\ByHEr\\src\\logging.jl:10 [inlined]",
      " [18] mcmcsample(rng::Random._GLOBAL_RNG, model::DynamicPPL.Model{var\"#9#10\", (:eligible, :rule2, :read92), (), (), Tuple{Vector{Int64}, Vector{Float64}, Vector{Float64}}, Tuple{}}, sampler::DynamicPPL.Sampler{NUTS{Turing.Core.ForwardDiffAD{40}, (), AdvancedHMC.DiagEuclideanMetric}}, N::Int64; progress::Bool, progressname::String, callback::Nothing, discard_initial::Int64, thinning::Int64, chain_type::Type, kwargs::Base.Iterators.Pairs{Symbol, Int64, Tuple{Symbol}, NamedTuple{(:nadapts,), Tuple{Int64}}})",
      "    @ AbstractMCMC ~\\.julia\\packages\\AbstractMCMC\\ByHEr\\src\\sample.jl:114",
      " [19] sample(rng::Random._GLOBAL_RNG, model::DynamicPPL.Model{var\"#9#10\", (:eligible, :rule2, :read92), (), (), Tuple{Vector{Int64}, Vector{Float64}, Vector{Float64}}, Tuple{}}, sampler::DynamicPPL.Sampler{NUTS{Turing.Core.ForwardDiffAD{40}, (), AdvancedHMC.DiagEuclideanMetric}}, N::Int64; chain_type::Type, resume_from::Nothing, progress::Bool, nadapts::Int64, discard_adapt::Bool, discard_initial::Int64, kwargs::Base.Iterators.Pairs{Union{}, Union{}, Tuple{}, NamedTuple{(), Tuple{}}})",
      "    @ Turing.Inference ~\\.julia\\packages\\Turing\\pwMQO\\src\\inference\\hmc.jl:133",
      " [20] sample",
      "    @ ~\\.julia\\packages\\Turing\\pwMQO\\src\\inference\\hmc.jl:116 [inlined]",
      " [21] #sample#2",
      "    @ ~\\.julia\\packages\\Turing\\pwMQO\\src\\inference\\Inference.jl:142 [inlined]",
      " [22] sample",
      "    @ ~\\.julia\\packages\\Turing\\pwMQO\\src\\inference\\Inference.jl:142 [inlined]",
      " [23] #sample#1",
      "    @ ~\\.julia\\packages\\Turing\\pwMQO\\src\\inference\\Inference.jl:132 [inlined]",
      " [24] sample(model::DynamicPPL.Model{var\"#9#10\", (:eligible, :rule2, :read92), (), (), Tuple{Vector{Int64}, Vector{Float64}, Vector{Float64}}, Tuple{}}, alg::NUTS{Turing.Core.ForwardDiffAD{40}, (), AdvancedHMC.DiagEuclideanMetric}, N::Int64)",
      "    @ Turing.Inference ~\\.julia\\packages\\Turing\\pwMQO\\src\\inference\\Inference.jl:132",
      " [25] top-level scope",
      "    @ In[10]:9",
      " [26] eval",
      "    @ .\\boot.jl:360 [inlined]",
      " [27] include_string(mapexpr::typeof(REPL.softscope), mod::Module, code::String, filename::String)",
      "    @ Base .\\loading.jl:1094"
     ]
    }
   ],
   "source": [
    "model_1a = model_1(chile.eligible, chile.rule2, chile.read92)\n",
    "fit_1a = sample(model_1a, NUTS(), 2000)\n",
    "\n",
    "chile_subset = filter(:rule2 => rule2 -> abs(rule2) < 5, chile)\n",
    "model_1b = model_1(chile_subset.eligible, chile_subset.rule2, chile_subset.read92)\n",
    "fit_1b = sample(model_1b, NUTS(), 2000)\n",
    "\n",
    "model_2b = model_2(chile.eligible, chile.rule2, chile.read92)\n",
    "fit_2b = sample(model_2b, NUTS(), 2000)\n",
    "\n",
    "model_3a = model_3(chile.eligible, chile.rule2, chile.read88, chile.math88, chile.read92)\n",
    "fit_3a = sample(model_3a, NUTS(), 2000)\n",
    "\n",
    "model_3b = model_3(\n",
    "    chile_subset.eligible, \n",
    "    chile_subset.rule2, \n",
    "    chile_subset.read88, \n",
    "    chile_subset.math88, \n",
    "    chile_subset.read92)\n",
    "fit_3b = sample(model_3b, NUTS(), 2000)\n"
   ]
  },
  {
   "cell_type": "code",
   "execution_count": null,
   "id": "234d5868-e826-4f20-a614-b98a79803179",
   "metadata": {},
   "outputs": [],
   "source": []
  }
 ],
 "metadata": {
  "kernelspec": {
   "display_name": "Julia 1.6.0",
   "language": "julia",
   "name": "julia-1.6"
  },
  "language_info": {
   "file_extension": ".jl",
   "mimetype": "application/julia",
   "name": "julia",
   "version": "1.6.0"
  }
 },
 "nbformat": 4,
 "nbformat_minor": 5
}
