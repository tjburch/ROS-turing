{
 "cells": [
  {
   "cell_type": "markdown",
   "id": "protective-breach",
   "metadata": {},
   "source": [
    "# Regression and Other Stories: Death penalty poll\n",
    "\n",
    "Death penalty poll - Proportion of American adults supporting the death penalty. See Chapter 4 in Regression and Other Stories.\n",
    "\n",
    "-----"
   ]
  },
  {
   "cell_type": "markdown",
   "id": "turkish-prison",
   "metadata": {},
   "source": [
    "## Load Packages"
   ]
  },
  {
   "cell_type": "code",
   "execution_count": 2,
   "id": "answering-opinion",
   "metadata": {},
   "outputs": [],
   "source": [
    "using DataFrames, StatsPlots, CSV, HTTP\n",
    "using Distributions, Turing, MCMCChains"
   ]
  },
  {
   "cell_type": "markdown",
   "id": "apart-sixth",
   "metadata": {},
   "source": [
    "## Load data"
   ]
  },
  {
   "cell_type": "code",
   "execution_count": 3,
   "id": "guided-salvation",
   "metadata": {},
   "outputs": [
    {
     "ename": "LoadError",
     "evalue": "MethodError: no method matching (Matrix{T} where T)(::CSV.File{false})\n\u001b[0mClosest candidates are:\n\u001b[0m  (Array{T, N} where T)(::AbstractArray{S, N}) where {S, N} at boot.jl:470\n\u001b[0m  (Matrix{T} where T)(\u001b[91m::Union{LinearAlgebra.QR, LinearAlgebra.QRCompactWY}\u001b[39m) at C:\\buildbot\\worker\\package_win64\\build\\usr\\share\\julia\\stdlib\\v1.6\\LinearAlgebra\\src\\qr.jl:400\n\u001b[0m  (Matrix{T} where T)(\u001b[91m::LinearAlgebra.Hessenberg\u001b[39m) at C:\\buildbot\\worker\\package_win64\\build\\usr\\share\\julia\\stdlib\\v1.6\\LinearAlgebra\\src\\hessenberg.jl:470\n\u001b[0m  ...",
     "output_type": "error",
     "traceback": [
      "MethodError: no method matching (Matrix{T} where T)(::CSV.File{false})\n\u001b[0mClosest candidates are:\n\u001b[0m  (Array{T, N} where T)(::AbstractArray{S, N}) where {S, N} at boot.jl:470\n\u001b[0m  (Matrix{T} where T)(\u001b[91m::Union{LinearAlgebra.QR, LinearAlgebra.QRCompactWY}\u001b[39m) at C:\\buildbot\\worker\\package_win64\\build\\usr\\share\\julia\\stdlib\\v1.6\\LinearAlgebra\\src\\qr.jl:400\n\u001b[0m  (Matrix{T} where T)(\u001b[91m::LinearAlgebra.Hessenberg\u001b[39m) at C:\\buildbot\\worker\\package_win64\\build\\usr\\share\\julia\\stdlib\\v1.6\\LinearAlgebra\\src\\hessenberg.jl:470\n\u001b[0m  ...",
      "",
      "Stacktrace:",
      " [1] |>(x::CSV.File{false}, f::Type{Matrix{T} where T})",
      "   @ Base .\\operators.jl:858",
      " [2] top-level scope",
      "   @ In[3]:2",
      " [3] eval",
      "   @ .\\boot.jl:360 [inlined]",
      " [4] include_string(mapexpr::typeof(REPL.softscope), mod::Module, code::String, filename::String)",
      "   @ Base .\\loading.jl:1094"
     ]
    }
   ],
   "source": [
    "src_polls = \"https://raw.githubusercontent.com/avehtari/ROS-Examples/master/Death/data/polls.dat\"\n",
    "polls = CSV.File(HTTP.get(data).body) |> Matrix"
   ]
  },
  {
   "cell_type": "code",
   "execution_count": 15,
   "id": "whole-seminar",
   "metadata": {},
   "outputs": [
    {
     "ename": "LoadError",
     "evalue": "MethodError: no method matching +(::Vector{Union{Missing, Float64}}, ::Int64)\n\u001b[0mClosest candidates are:\n\u001b[0m  +(::Any, ::Any, \u001b[91m::Any\u001b[39m, \u001b[91m::Any...\u001b[39m) at operators.jl:560\n\u001b[0m  +(\u001b[91m::T\u001b[39m, ::T) where T<:Union{Int128, Int16, Int32, Int64, Int8, UInt128, UInt16, UInt32, UInt64, UInt8} at int.jl:87\n\u001b[0m  +(\u001b[91m::Union{InitialValues.NonspecificInitialValue, InitialValues.SpecificInitialValue{typeof(+)}}\u001b[39m, ::Any) at C:\\Users\\tburch\\.julia\\packages\\InitialValues\\EPz1F\\src\\InitialValues.jl:153\n\u001b[0m  ...",
     "output_type": "error",
     "traceback": [
      "MethodError: no method matching +(::Vector{Union{Missing, Float64}}, ::Int64)\n\u001b[0mClosest candidates are:\n\u001b[0m  +(::Any, ::Any, \u001b[91m::Any\u001b[39m, \u001b[91m::Any...\u001b[39m) at operators.jl:560\n\u001b[0m  +(\u001b[91m::T\u001b[39m, ::T) where T<:Union{Int128, Int16, Int32, Int64, Int8, UInt128, UInt16, UInt32, UInt64, UInt8} at int.jl:87\n\u001b[0m  +(\u001b[91m::Union{InitialValues.NonspecificInitialValue, InitialValues.SpecificInitialValue{typeof(+)}}\u001b[39m, ::Any) at C:\\Users\\tburch\\.julia\\packages\\InitialValues\\EPz1F\\src\\InitialValues.jl:153\n\u001b[0m  ...",
      "",
      "Stacktrace:",
      " [1] top-level scope",
      "   @ In[15]:13",
      " [2] eval",
      "   @ .\\boot.jl:360 [inlined]",
      " [3] include_string(mapexpr::typeof(REPL.softscope), mod::Module, code::String, filename::String)",
      "   @ Base .\\loading.jl:1094"
     ]
    }
   ],
   "source": [
    "src_death = \"https://raw.githubusercontent.com/avehtari/ROS-Examples/master/Death/data/dataforandy.txt\"\n",
    "death = CSV.File(HTTP.get(src_death).body, missingstring=\"NA\", ) |> DataFrame\n",
    "ex_rate = death[:,8] / 100 # n.b. csv import in julia sets the state index as column1, so one extra column\n",
    "err_rate = death[:,7] / 100\n",
    "hom_rate = death[:,5] / 100000\n",
    "ds_per_homicide = death[:,3] / 1000\n",
    "ds = death[:,2]\n",
    "ex = ex_rate .* ds\n",
    "err = err_rate .* ds\n",
    "hom = ds ./ ds_per_homicide\n",
    "pop = hom ./ hom_rate\n",
    "state_abbrs = death[:,1]\n",
    "# std_err_rate = sqrt((err.+1)*(ds.+1.-err)/((ds.+2)^2*(ds.+3))) todo"
   ]
  },
  {
   "cell_type": "code",
   "execution_count": null,
   "id": "3a2893e2-71d8-47a9-a5fc-01370da7deda",
   "metadata": {},
   "outputs": [],
   "source": []
  }
 ],
 "metadata": {
  "kernelspec": {
   "display_name": "Julia 1.6.0",
   "language": "julia",
   "name": "julia-1.6"
  },
  "language_info": {
   "file_extension": ".jl",
   "mimetype": "application/julia",
   "name": "julia",
   "version": "1.6.0"
  }
 },
 "nbformat": 4,
 "nbformat_minor": 5
}
