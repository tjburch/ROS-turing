{
 "cells": [
  {
   "cell_type": "markdown",
   "id": "42173f98-314d-4f1c-bee4-dd1115c8f5ee",
   "metadata": {},
   "source": [
    "# Regression and Other Stories: Earnings\n",
    "\n",
    "Predict respondents' yearly earnings using survey data from 1990. See Chapter 15 in Regression and Other Stories.\n",
    "\n",
    "---"
   ]
  },
  {
   "cell_type": "markdown",
   "id": "10c237c3-8b9f-4225-ab59-e6bb374501cc",
   "metadata": {},
   "source": [
    "### Load packages"
   ]
  },
  {
   "cell_type": "code",
   "execution_count": null,
   "id": "38dc88d9-f36e-4cb3-8b3b-5b6f5d0f474a",
   "metadata": {},
   "outputs": [],
   "source": [
    "using DataFrames, StatsPlots, CSV, HTTP, StatsBase\n",
    "using Distributions, Turing, MCMCChains\n",
    "using StatsFuns: logistic"
   ]
  },
  {
   "cell_type": "markdown",
   "id": "86e645a7-d979-4392-a89c-3dcb67f88cc5",
   "metadata": {},
   "source": [
    "### Load data"
   ]
  },
  {
   "cell_type": "code",
   "execution_count": null,
   "id": "c23f8b67-9917-48f9-a990-2a48f9860c48",
   "metadata": {},
   "outputs": [],
   "source": [
    "data = \"https://raw.githubusercontent.com/avehtari/ROS-Examples/master/Earnings/data/earnings.csv\"\n",
    "earnings  = CSV.File(HTTP.get(data).body, delim=\",\", missingstring=\"NA\") |> DataFrame\n",
    "first(earnings , 6)"
   ]
  },
  {
   "cell_type": "markdown",
   "id": "68e707a6-b831-466e-a4e6-73d3009eca4f",
   "metadata": {},
   "source": [
    "## Compound discrete-continuous model\n",
    "\n",
    "### Logistic regression on non-zero earnings"
   ]
  },
  {
   "cell_type": "code",
   "execution_count": null,
   "id": "5043e0d6-0cad-4fe0-894a-fd6cb590c2ea",
   "metadata": {},
   "outputs": [],
   "source": [
    "@model function m1(height, male, binary_earn)\n",
    "    \n",
    "    α ~ Normal(0, 10)\n",
    "    βₕ ~ Normal(0, 5) \n",
    "    βₘ ~ Normal(0, 5)\n",
    "    \n",
    "    for i in 1:length(binary_earn)\n",
    "        v = logistic(α + βₕ * height[i] + βₘ * male[i])\n",
    "        binary_earn[i] ~ Bernoulli(v)\n",
    "    end\n",
    "end;"
   ]
  },
  {
   "cell_type": "code",
   "execution_count": null,
   "id": "bf0494e0-6b0b-4ada-b8c9-1664d498bf25",
   "metadata": {},
   "outputs": [],
   "source": [
    "binary_earn = Vector(earnings.earn .>0)\n",
    "model_logistic = m1(earnings.height, earnings.male, binary_earn)\n",
    "fit_2a = sample(model_logistic, NUTS(0.50), 5000)\n",
    "summarystats(fit_2a)"
   ]
  },
  {
   "cell_type": "markdown",
   "id": "ccd47cf8-46c4-4b85-8f37-cbb3aa309e44",
   "metadata": {},
   "source": [
    "### Linear regression on log scale"
   ]
  },
  {
   "cell_type": "code",
   "execution_count": null,
   "id": "3b4df24a-14ab-45c4-ad42-297892184c49",
   "metadata": {},
   "outputs": [],
   "source": [
    "@model function m2(height, male, earn)\n",
    "    \n",
    "    σ ~ truncated(Normal(0,15), 0, Inf)\n",
    "    \n",
    "    α ~ Normal(0, 10)\n",
    "    βₕ ~ Normal(0, 5) \n",
    "    βₘ ~ Normal(0, 5)\n",
    "    \n",
    "    μ = α .+ βₕ * height .+ βₘ * male\n",
    "    log_earn = log.(earn)\n",
    "    log_earn ~ MvNormal(μ, σ)\n",
    "end;"
   ]
  },
  {
   "cell_type": "code",
   "execution_count": null,
   "id": "3e9cd2e2-3a77-4cdd-a484-74374df90ae6",
   "metadata": {},
   "outputs": [],
   "source": [
    "valid = earnings.earn .!= 0.0\n",
    "model_log = m2(earnings.height[valid], earnings.male[valid], earnings.earn[valid])\n",
    "fit_2b = sample(model_log, NUTS(0.50), 5000)\n",
    "summarystats(fit_2b)"
   ]
  },
  {
   "cell_type": "code",
   "execution_count": null,
   "id": "a64e1331-9dcd-493a-b5bc-aec060e44bce",
   "metadata": {},
   "outputs": [],
   "source": [
    "log_earn = log.(earnings.earn)\n"
   ]
  },
  {
   "cell_type": "code",
   "execution_count": null,
   "id": "5c03b012-01fb-4044-bc56-ee856b9ab0cb",
   "metadata": {},
   "outputs": [],
   "source": []
  }
 ],
 "metadata": {
  "kernelspec": {
   "display_name": "Julia 1.6.0",
   "language": "julia",
   "name": "julia-1.6"
  },
  "language_info": {
   "file_extension": ".jl",
   "mimetype": "application/julia",
   "name": "julia",
   "version": "1.6.0"
  }
 },
 "nbformat": 4,
 "nbformat_minor": 5
}
