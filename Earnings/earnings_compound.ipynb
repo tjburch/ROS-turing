{
 "cells": [
  {
   "cell_type": "markdown",
   "metadata": {},
   "source": [
    "# Regression and Other Stories: Earnings\n",
    "\n",
    "Predict respondents' yearly earnings using survey data from 1990. See Chapter 15 in Regression and Other Stories.\n",
    "\n",
    "---"
   ]
  },
  {
   "cell_type": "markdown",
   "metadata": {},
   "source": [
    "### Load packages"
   ]
  },
  {
   "cell_type": "code",
   "execution_count": 1,
   "metadata": {},
   "outputs": [],
   "source": [
    "using DataFrames, StatsPlots, CSV, HTTP, StatsBase\n",
    "using Distributions, Turing, MCMCChains\n",
    "using StatsFuns: logistic"
   ]
  },
  {
   "cell_type": "markdown",
   "metadata": {},
   "source": [
    "### Load data"
   ]
  },
  {
   "cell_type": "code",
   "execution_count": 2,
   "metadata": {},
   "outputs": [
    {
     "data": {
      "text/html": [
       "<table class=\"data-frame\"><thead><tr><th></th><th>height</th><th>weight</th><th>male</th><th>earn</th><th>earnk</th><th>ethnicity</th><th>education</th><th>mother_education</th></tr><tr><th></th><th>Int64</th><th>Int64?</th><th>Int64</th><th>Float64</th><th>Float64</th><th>String</th><th>Int64?</th><th>Int64?</th></tr></thead><tbody><p>6 rows × 15 columns (omitted printing of 7 columns)</p><tr><th>1</th><td>74</td><td>210</td><td>1</td><td>50000.0</td><td>50.0</td><td>White</td><td>16</td><td>16</td></tr><tr><th>2</th><td>66</td><td>125</td><td>0</td><td>60000.0</td><td>60.0</td><td>White</td><td>16</td><td>16</td></tr><tr><th>3</th><td>64</td><td>126</td><td>0</td><td>30000.0</td><td>30.0</td><td>White</td><td>16</td><td>16</td></tr><tr><th>4</th><td>65</td><td>200</td><td>0</td><td>25000.0</td><td>25.0</td><td>White</td><td>17</td><td>17</td></tr><tr><th>5</th><td>63</td><td>110</td><td>0</td><td>50000.0</td><td>50.0</td><td>Other</td><td>16</td><td>16</td></tr><tr><th>6</th><td>68</td><td>165</td><td>0</td><td>62000.0</td><td>62.0</td><td>Black</td><td>18</td><td>18</td></tr></tbody></table>"
      ],
      "text/latex": [
       "\\begin{tabular}{r|ccccccccc}\n",
       "\t& height & weight & male & earn & earnk & ethnicity & education & mother\\_education & \\\\\n",
       "\t\\hline\n",
       "\t& Int64 & Int64? & Int64 & Float64 & Float64 & String & Int64? & Int64? & \\\\\n",
       "\t\\hline\n",
       "\t1 & 74 & 210 & 1 & 50000.0 & 50.0 & White & 16 & 16 & $\\dots$ \\\\\n",
       "\t2 & 66 & 125 & 0 & 60000.0 & 60.0 & White & 16 & 16 & $\\dots$ \\\\\n",
       "\t3 & 64 & 126 & 0 & 30000.0 & 30.0 & White & 16 & 16 & $\\dots$ \\\\\n",
       "\t4 & 65 & 200 & 0 & 25000.0 & 25.0 & White & 17 & 17 & $\\dots$ \\\\\n",
       "\t5 & 63 & 110 & 0 & 50000.0 & 50.0 & Other & 16 & 16 & $\\dots$ \\\\\n",
       "\t6 & 68 & 165 & 0 & 62000.0 & 62.0 & Black & 18 & 18 & $\\dots$ \\\\\n",
       "\\end{tabular}\n"
      ],
      "text/plain": [
       "\u001b[1m6×15 DataFrame\u001b[0m\n",
       "\u001b[1m Row \u001b[0m│\u001b[1m height \u001b[0m\u001b[1m weight \u001b[0m\u001b[1m male  \u001b[0m\u001b[1m earn    \u001b[0m\u001b[1m earnk   \u001b[0m\u001b[1m ethnicity \u001b[0m\u001b[1m education \u001b[0m\u001b[1m mother_e\u001b[0m ⋯\n",
       "\u001b[1m     \u001b[0m│\u001b[90m Int64  \u001b[0m\u001b[90m Int64? \u001b[0m\u001b[90m Int64 \u001b[0m\u001b[90m Float64 \u001b[0m\u001b[90m Float64 \u001b[0m\u001b[90m String    \u001b[0m\u001b[90m Int64?    \u001b[0m\u001b[90m Int64?  \u001b[0m ⋯\n",
       "─────┼──────────────────────────────────────────────────────────────────────────\n",
       "   1 │     74     210      1  50000.0     50.0  White             16           ⋯\n",
       "   2 │     66     125      0  60000.0     60.0  White             16\n",
       "   3 │     64     126      0  30000.0     30.0  White             16\n",
       "   4 │     65     200      0  25000.0     25.0  White             17\n",
       "   5 │     63     110      0  50000.0     50.0  Other             16           ⋯\n",
       "   6 │     68     165      0  62000.0     62.0  Black             18\n",
       "\u001b[36m                                                               8 columns omitted\u001b[0m"
      ]
     },
     "execution_count": 2,
     "metadata": {},
     "output_type": "execute_result"
    }
   ],
   "source": [
    "data = \"https://raw.githubusercontent.com/avehtari/ROS-Examples/master/Earnings/data/earnings.csv\"\n",
    "earnings  = CSV.File(HTTP.get(data).body, delim=\",\", missingstring=\"NA\") |> DataFrame\n",
    "first(earnings , 6)"
   ]
  },
  {
   "cell_type": "markdown",
   "metadata": {},
   "source": [
    "## Compound discrete-continuous model\n",
    "\n",
    "### Logistic regression on non-zero earnings"
   ]
  },
  {
   "cell_type": "code",
   "execution_count": 3,
   "metadata": {},
   "outputs": [],
   "source": [
    "@model function m1(n, height, male, binary_earn)\n",
    "    \n",
    "    α ~ Normal(0, 10)\n",
    "    βₕ ~ Normal(0, 5) \n",
    "    βₘ ~ Normal(0, 5)\n",
    "    \n",
    "    for i in 1:n\n",
    "        v = logistic(α + βₕ * height[i] + βₘ * male[i])\n",
    "        binary_earn[i] ~ Bernoulli(v)\n",
    "    end\n",
    "end;"
   ]
  },
  {
   "cell_type": "code",
   "execution_count": 4,
   "metadata": {},
   "outputs": [
    {
     "name": "stderr",
     "output_type": "stream",
     "text": [
      "┌ Warning: The current proposal will be rejected due to numerical error(s).\n",
      "│   isfinite.((θ, r, ℓπ, ℓκ)) = (true, false, false, false)\n",
      "└ @ AdvancedHMC /Users/tburch/.julia/packages/AdvancedHMC/MIxdK/src/hamiltonian.jl:47\n",
      "┌ Warning: The current proposal will be rejected due to numerical error(s).\n",
      "│   isfinite.((θ, r, ℓπ, ℓκ)) = (true, false, false, false)\n",
      "└ @ AdvancedHMC /Users/tburch/.julia/packages/AdvancedHMC/MIxdK/src/hamiltonian.jl:47\n",
      "┌ Warning: The current proposal will be rejected due to numerical error(s).\n",
      "│   isfinite.((θ, r, ℓπ, ℓκ)) = (true, false, false, false)\n",
      "└ @ AdvancedHMC /Users/tburch/.julia/packages/AdvancedHMC/MIxdK/src/hamiltonian.jl:47\n",
      "┌ Info: Found initial step size\n",
      "│   ϵ = 0.00625\n",
      "└ @ Turing.Inference /Users/tburch/.julia/packages/Turing/uAz5c/src/inference/hmc.jl:195\n",
      "┌ Warning: The current proposal will be rejected due to numerical error(s).\n",
      "│   isfinite.((θ, r, ℓπ, ℓκ)) = (true, false, false, false)\n",
      "└ @ AdvancedHMC /Users/tburch/.julia/packages/AdvancedHMC/MIxdK/src/hamiltonian.jl:47\n",
      "\u001b[32mSampling: 100%|█████████████████████████████████████████| Time: 0:00:58\u001b[39m\n"
     ]
    },
    {
     "data": {
      "text/plain": [
       "Summary Statistics\n",
       " \u001b[1m parameters \u001b[0m \u001b[1m    mean \u001b[0m \u001b[1m     std \u001b[0m \u001b[1m naive_se \u001b[0m \u001b[1m    mcse \u001b[0m \u001b[1m       ess \u001b[0m \u001b[1m    rhat \u001b[0m\n",
       " \u001b[90m     Symbol \u001b[0m \u001b[90m Float64 \u001b[0m \u001b[90m Float64 \u001b[0m \u001b[90m  Float64 \u001b[0m \u001b[90m Float64 \u001b[0m \u001b[90m   Float64 \u001b[0m \u001b[90m Float64 \u001b[0m\n",
       "\n",
       "           α   -2.6501    1.9725     0.0279    0.0540   1233.0273    0.9999\n",
       "          βₕ    0.0681    0.0307     0.0004    0.0008   1216.9332    0.9998\n",
       "          βₘ    1.7071    0.3262     0.0046    0.0086   1285.6211    1.0003\n"
      ]
     },
     "execution_count": 4,
     "metadata": {},
     "output_type": "execute_result"
    }
   ],
   "source": [
    "binary_earn = Vector(earnings.earn .>0)\n",
    "model_logistic = m1(nrow(earnings), earnings.height, earnings.male, binary_earn)\n",
    "fit_2a = sample(model_logistic, NUTS(), 5000)\n",
    "summarystats(fit_2a)"
   ]
  },
  {
   "cell_type": "markdown",
   "metadata": {},
   "source": [
    "### Linear regression on log scale"
   ]
  },
  {
   "cell_type": "code",
   "execution_count": 5,
   "metadata": {},
   "outputs": [],
   "source": [
    "@model function m2(height, male, log_earn)\n",
    "    \n",
    "    σ ~ Exponential(5)\n",
    "    \n",
    "    α ~ Normal(0, 10)\n",
    "    βₕ ~ Normal(0, 5) \n",
    "    βₘ ~ Normal(0, 5)\n",
    "    \n",
    "    μ = α .+ βₕ * height .+ βₘ * male\n",
    "    log_earn ~ MvNormal(μ, σ)\n",
    "end;\n"
   ]
  },
  {
   "cell_type": "code",
   "execution_count": 6,
   "metadata": {},
   "outputs": [
    {
     "name": "stderr",
     "output_type": "stream",
     "text": [
      "┌ Info: Found initial step size\n",
      "│   ϵ = 0.003125\n",
      "└ @ Turing.Inference /Users/tburch/.julia/packages/Turing/uAz5c/src/inference/hmc.jl:195\n",
      "\u001b[32mSampling: 100%|█████████████████████████████████████████| Time: 0:02:35\u001b[39m\n"
     ]
    },
    {
     "data": {
      "text/plain": [
       "Summary Statistics\n",
       " \u001b[1m parameters \u001b[0m \u001b[1m    mean \u001b[0m \u001b[1m     std \u001b[0m \u001b[1m naive_se \u001b[0m \u001b[1m    mcse \u001b[0m \u001b[1m       ess \u001b[0m \u001b[1m    rhat \u001b[0m\n",
       " \u001b[90m     Symbol \u001b[0m \u001b[90m Float64 \u001b[0m \u001b[90m Float64 \u001b[0m \u001b[90m  Float64 \u001b[0m \u001b[90m Float64 \u001b[0m \u001b[90m   Float64 \u001b[0m \u001b[90m Float64 \u001b[0m\n",
       "\n",
       "           α    7.9498    0.5152     0.0073    0.0107   1655.7744    1.0001\n",
       "          βₕ    0.0242    0.0080     0.0001    0.0002   1629.9706    1.0001\n",
       "          βₘ    0.3690    0.0632     0.0009    0.0013   1795.0865    1.0000\n",
       "           σ    0.8688    0.0153     0.0002    0.0003   2313.6295    0.9999\n"
      ]
     },
     "execution_count": 6,
     "metadata": {},
     "output_type": "execute_result"
    }
   ],
   "source": [
    "valid = earnings.earn .!= 0.0\n",
    "log_earn = log.(earnings.earn[valid])\n",
    "model_log = m2(\n",
    "    earnings.height[valid], \n",
    "    earnings.male[valid], \n",
    "    log_earn\n",
    ")\n",
    "fit_2b = sample(model_log, NUTS(), 5000)\n",
    "summarystats(fit_2b)"
   ]
  },
  {
   "cell_type": "markdown",
   "metadata": {},
   "source": [
    "### Predictions for a new person"
   ]
  },
  {
   "cell_type": "code",
   "execution_count": 7,
   "metadata": {},
   "outputs": [],
   "source": [
    "new = DataFrame(Dict(\n",
    "        \"height\"=>[68],\n",
    "        \"male\"=>[0],\n",
    "        \n",
    "        ))\n",
    "m1_pred = m1(nrow(new), new.height, new.male, fill(missing, nrow(new)))\n",
    "pred_2a=predict(m1_pred, fit_2a)\n",
    "\n",
    "m2_pred = m2(new.height, new.male, missing)\n",
    "pred_2b=predict(m2_pred, fit_2b)\n",
    "pred = ifelse.(\n",
    "    pred_2a[\"binary_earn[1]\"].data .== 1, \n",
    "    exp.(pred_2b[\"log_earn[1]\"].data),\n",
    "    0\n",
    ");"
   ]
  }
 ],
 "metadata": {
  "kernelspec": {
   "display_name": "Julia 1.6.0",
   "language": "julia",
   "name": "julia-1.6"
  },
  "language_info": {
   "file_extension": ".jl",
   "mimetype": "application/julia",
   "name": "julia",
   "version": "1.6.0"
  }
 },
 "nbformat": 4,
 "nbformat_minor": 5
}
