{
 "cells": [
  {
   "cell_type": "markdown",
   "id": "e6fbf290-5b67-406e-93a3-2ec63c1123e4",
   "metadata": {},
   "source": [
    "# Regression and Other Stories: Height and weight\n",
    "\n",
    "Predict weight from height. See Chapters 3, 9 and 10 in Regression and Other Stories.\n",
    "\n",
    "----"
   ]
  },
  {
   "cell_type": "markdown",
   "id": "advance-fruit",
   "metadata": {},
   "source": [
    "### Load Packages"
   ]
  },
  {
   "cell_type": "code",
   "execution_count": 1,
   "id": "decimal-fraud",
   "metadata": {},
   "outputs": [],
   "source": [
    "using DataFrames, StatsPlots, CSV, HTTP, StatsBase\n",
    "using Distributions, Turing, MCMCChains, CategoricalArrays"
   ]
  },
  {
   "cell_type": "markdown",
   "id": "utility-september",
   "metadata": {},
   "source": [
    "### Load Data"
   ]
  },
  {
   "cell_type": "code",
   "execution_count": 2,
   "id": "binding-candle",
   "metadata": {},
   "outputs": [
    {
     "data": {
      "text/html": [
       "<table class=\"data-frame\"><thead><tr><th></th><th>height</th><th>weight</th><th>male</th><th>earn</th><th>earnk</th><th>ethnicity</th><th>education</th><th>mother_education</th></tr><tr><th></th><th>Int64</th><th>Int64?</th><th>Int64</th><th>Float64</th><th>Float64</th><th>String</th><th>Int64?</th><th>Int64?</th></tr></thead><tbody><p>6 rows × 15 columns (omitted printing of 7 columns)</p><tr><th>1</th><td>74</td><td>210</td><td>1</td><td>50000.0</td><td>50.0</td><td>White</td><td>16</td><td>16</td></tr><tr><th>2</th><td>66</td><td>125</td><td>0</td><td>60000.0</td><td>60.0</td><td>White</td><td>16</td><td>16</td></tr><tr><th>3</th><td>64</td><td>126</td><td>0</td><td>30000.0</td><td>30.0</td><td>White</td><td>16</td><td>16</td></tr><tr><th>4</th><td>65</td><td>200</td><td>0</td><td>25000.0</td><td>25.0</td><td>White</td><td>17</td><td>17</td></tr><tr><th>5</th><td>63</td><td>110</td><td>0</td><td>50000.0</td><td>50.0</td><td>Other</td><td>16</td><td>16</td></tr><tr><th>6</th><td>68</td><td>165</td><td>0</td><td>62000.0</td><td>62.0</td><td>Black</td><td>18</td><td>18</td></tr></tbody></table>"
      ],
      "text/latex": [
       "\\begin{tabular}{r|ccccccccc}\n",
       "\t& height & weight & male & earn & earnk & ethnicity & education & mother\\_education & \\\\\n",
       "\t\\hline\n",
       "\t& Int64 & Int64? & Int64 & Float64 & Float64 & String & Int64? & Int64? & \\\\\n",
       "\t\\hline\n",
       "\t1 & 74 & 210 & 1 & 50000.0 & 50.0 & White & 16 & 16 & $\\dots$ \\\\\n",
       "\t2 & 66 & 125 & 0 & 60000.0 & 60.0 & White & 16 & 16 & $\\dots$ \\\\\n",
       "\t3 & 64 & 126 & 0 & 30000.0 & 30.0 & White & 16 & 16 & $\\dots$ \\\\\n",
       "\t4 & 65 & 200 & 0 & 25000.0 & 25.0 & White & 17 & 17 & $\\dots$ \\\\\n",
       "\t5 & 63 & 110 & 0 & 50000.0 & 50.0 & Other & 16 & 16 & $\\dots$ \\\\\n",
       "\t6 & 68 & 165 & 0 & 62000.0 & 62.0 & Black & 18 & 18 & $\\dots$ \\\\\n",
       "\\end{tabular}\n"
      ],
      "text/plain": [
       "\u001b[1m6×15 DataFrame\u001b[0m\n",
       "\u001b[1m Row \u001b[0m│\u001b[1m height \u001b[0m\u001b[1m weight \u001b[0m\u001b[1m male  \u001b[0m\u001b[1m earn    \u001b[0m\u001b[1m earnk   \u001b[0m\u001b[1m ethnicity \u001b[0m\u001b[1m education \u001b[0m\u001b[1m mother_e\u001b[0m ⋯\n",
       "\u001b[1m     \u001b[0m│\u001b[90m Int64  \u001b[0m\u001b[90m Int64? \u001b[0m\u001b[90m Int64 \u001b[0m\u001b[90m Float64 \u001b[0m\u001b[90m Float64 \u001b[0m\u001b[90m String    \u001b[0m\u001b[90m Int64?    \u001b[0m\u001b[90m Int64?  \u001b[0m ⋯\n",
       "─────┼──────────────────────────────────────────────────────────────────────────\n",
       "   1 │     74     210      1  50000.0     50.0  White             16           ⋯\n",
       "   2 │     66     125      0  60000.0     60.0  White             16\n",
       "   3 │     64     126      0  30000.0     30.0  White             16\n",
       "   4 │     65     200      0  25000.0     25.0  White             17\n",
       "   5 │     63     110      0  50000.0     50.0  Other             16           ⋯\n",
       "   6 │     68     165      0  62000.0     62.0  Black             18\n",
       "\u001b[36m                                                               8 columns omitted\u001b[0m"
      ]
     },
     "execution_count": 2,
     "metadata": {},
     "output_type": "execute_result"
    }
   ],
   "source": [
    "data = \"https://raw.githubusercontent.com/avehtari/ROS-Examples/master/Earnings/data/earnings.csv\"\n",
    "earnings  = CSV.File(HTTP.get(data).body, delim=\",\", missingstring=\"NA\") |> DataFrame\n",
    "first(earnings , 6)"
   ]
  },
  {
   "cell_type": "markdown",
   "id": "essential-constant",
   "metadata": {},
   "source": [
    "The original notebook doesn't address missing values, `stan_glm` appears to drop them. Turing's fitting method requires complete cases, so we have to manually drop missing values."
   ]
  },
  {
   "cell_type": "code",
   "execution_count": 3,
   "id": "unique-employment",
   "metadata": {},
   "outputs": [
    {
     "name": "stdout",
     "output_type": "stream",
     "text": [
      "Entries lost: 27\n"
     ]
    }
   ],
   "source": [
    "height_weight = earnings[!,[:height, :weight]]\n",
    "hw_complete= dropmissing(height_weight);\n",
    "println(\"Entries lost: \", size(earnings)[1] - size(hw_complete)[1])"
   ]
  },
  {
   "cell_type": "markdown",
   "id": "coastal-silver",
   "metadata": {},
   "source": [
    "## Simulating uncertainty for linear predictors and predicted values\n",
    "\n",
    "### Predict weight (in pounds) from height (in inches)"
   ]
  },
  {
   "cell_type": "code",
   "execution_count": 4,
   "id": "lyric-looking",
   "metadata": {},
   "outputs": [],
   "source": [
    "@model function m1(h, w)\n",
    "    \n",
    "    # Variance\n",
    "    σ ~ truncated(Normal(0,100), 0, Inf)\n",
    "    \n",
    "    # Linear\n",
    "    α ~ Normal(0, 500)\n",
    "    β ~ Normal(0, 10)\n",
    "    \n",
    "    μ = α .+ h * β\n",
    "    w ~ MvNormal(μ, σ)\n",
    "end;"
   ]
  },
  {
   "cell_type": "code",
   "execution_count": 5,
   "id": "valuable-enzyme",
   "metadata": {},
   "outputs": [
    {
     "name": "stderr",
     "output_type": "stream",
     "text": [
      "┌ Warning: The current proposal will be rejected due to numerical error(s).\n",
      "│   isfinite.((θ, r, ℓπ, ℓκ)) = (true, false, false, false)\n",
      "└ @ AdvancedHMC C:\\Users\\tburch\\.julia\\packages\\AdvancedHMC\\MIxdK\\src\\hamiltonian.jl:47\n",
      "┌ Warning: The current proposal will be rejected due to numerical error(s).\n",
      "│   isfinite.((θ, r, ℓπ, ℓκ)) = (true, false, false, false)\n",
      "└ @ AdvancedHMC C:\\Users\\tburch\\.julia\\packages\\AdvancedHMC\\MIxdK\\src\\hamiltonian.jl:47\n",
      "┌ Warning: The current proposal will be rejected due to numerical error(s).\n",
      "│   isfinite.((θ, r, ℓπ, ℓκ)) = (true, false, false, false)\n",
      "└ @ AdvancedHMC C:\\Users\\tburch\\.julia\\packages\\AdvancedHMC\\MIxdK\\src\\hamiltonian.jl:47\n",
      "┌ Warning: The current proposal will be rejected due to numerical error(s).\n",
      "│   isfinite.((θ, r, ℓπ, ℓκ)) = (true, true, true, false)\n",
      "└ @ AdvancedHMC C:\\Users\\tburch\\.julia\\packages\\AdvancedHMC\\MIxdK\\src\\hamiltonian.jl:47\n",
      "┌ Info: Found initial step size\n",
      "│   ϵ = 0.0015625\n",
      "└ @ Turing.Inference C:\\Users\\tburch\\.julia\\packages\\Turing\\pwMQO\\src\\inference\\hmc.jl:188\n",
      "\u001b[32mSampling: 100%|█████████████████████████████████████████| Time: 0:00:19\u001b[39m\n"
     ]
    },
    {
     "data": {
      "text/plain": [
       "Summary Statistics\n",
       " \u001b[1m parameters \u001b[0m \u001b[1m      mean \u001b[0m \u001b[1m     std \u001b[0m \u001b[1m naive_se \u001b[0m \u001b[1m    mcse \u001b[0m \u001b[1m       ess \u001b[0m \u001b[1m    rhat \u001b[0m ⋯\n",
       " \u001b[90m     Symbol \u001b[0m \u001b[90m   Float64 \u001b[0m \u001b[90m Float64 \u001b[0m \u001b[90m  Float64 \u001b[0m \u001b[90m Float64 \u001b[0m \u001b[90m   Float64 \u001b[0m \u001b[90m Float64 \u001b[0m ⋯\n",
       "\n",
       "           α   -173.6926   12.3091     0.1946    0.3491   1236.3591    1.0023  ⋯\n",
       "           β      4.9557    0.1844     0.0029    0.0052   1239.8420    1.0023  ⋯\n",
       "           σ     28.9893    0.4760     0.0075    0.0100   1774.5284    0.9998  ⋯\n",
       "\u001b[36m                                                                1 column omitted\u001b[0m\n"
      ]
     },
     "execution_count": 5,
     "metadata": {},
     "output_type": "execute_result"
    }
   ],
   "source": [
    "model1 = m1(hw_complete.height, hw_complete.weight)\n",
    "chain1 = sample(model1, NUTS(), 4000)\n",
    "summarystats(chain1)"
   ]
  },
  {
   "cell_type": "markdown",
   "id": "suitable-landing",
   "metadata": {},
   "source": [
    "**Predict weight for a 66 inch person"
   ]
  },
  {
   "cell_type": "code",
   "execution_count": 6,
   "id": "medical-montana",
   "metadata": {},
   "outputs": [
    {
     "name": "stdout",
     "output_type": "stream",
     "text": [
      "Predicted weight for a 66-inch-tall person is 153.4 pounds with a sd of 29.0\n"
     ]
    }
   ],
   "source": [
    "coefs_1 = get(chain1, [:α, :β, :σ])\n",
    "predicted_1 = mean(coefs_1.α) + mean(coefs_1.β) * 66\n",
    "\n",
    "println(\n",
    "    string(\"Predicted weight for a 66-inch-tall person is \", predicted_1 |> x->round(x, digits=1), \n",
    "        \" pounds with a sd of \", coefs_1.σ |> mean |> round \n",
    "        )\n",
    ")"
   ]
  },
  {
   "cell_type": "markdown",
   "id": "powerful-windows",
   "metadata": {},
   "source": [
    "### Center Heights"
   ]
  },
  {
   "cell_type": "code",
   "execution_count": 7,
   "id": "herbal-gathering",
   "metadata": {},
   "outputs": [
    {
     "name": "stderr",
     "output_type": "stream",
     "text": [
      "┌ Warning: The current proposal will be rejected due to numerical error(s).\n",
      "│   isfinite.((θ, r, ℓπ, ℓκ)) = (true, false, false, false)\n",
      "└ @ AdvancedHMC C:\\Users\\tburch\\.julia\\packages\\AdvancedHMC\\MIxdK\\src\\hamiltonian.jl:47\n",
      "┌ Warning: The current proposal will be rejected due to numerical error(s).\n",
      "│   isfinite.((θ, r, ℓπ, ℓκ)) = (true, false, false, false)\n",
      "└ @ AdvancedHMC C:\\Users\\tburch\\.julia\\packages\\AdvancedHMC\\MIxdK\\src\\hamiltonian.jl:47\n",
      "┌ Warning: The current proposal will be rejected due to numerical error(s).\n",
      "│   isfinite.((θ, r, ℓπ, ℓκ)) = (true, false, false, false)\n",
      "└ @ AdvancedHMC C:\\Users\\tburch\\.julia\\packages\\AdvancedHMC\\MIxdK\\src\\hamiltonian.jl:47\n",
      "┌ Warning: The current proposal will be rejected due to numerical error(s).\n",
      "│   isfinite.((θ, r, ℓπ, ℓκ)) = (true, false, false, false)\n",
      "└ @ AdvancedHMC C:\\Users\\tburch\\.julia\\packages\\AdvancedHMC\\MIxdK\\src\\hamiltonian.jl:47\n",
      "┌ Warning: The current proposal will be rejected due to numerical error(s).\n",
      "│   isfinite.((θ, r, ℓπ, ℓκ)) = (true, false, false, false)\n",
      "└ @ AdvancedHMC C:\\Users\\tburch\\.julia\\packages\\AdvancedHMC\\MIxdK\\src\\hamiltonian.jl:47\n",
      "┌ Warning: The current proposal will be rejected due to numerical error(s).\n",
      "│   isfinite.((θ, r, ℓπ, ℓκ)) = (true, false, false, false)\n",
      "└ @ AdvancedHMC C:\\Users\\tburch\\.julia\\packages\\AdvancedHMC\\MIxdK\\src\\hamiltonian.jl:47\n",
      "┌ Warning: The current proposal will be rejected due to numerical error(s).\n",
      "│   isfinite.((θ, r, ℓπ, ℓκ)) = (true, false, false, false)\n",
      "└ @ AdvancedHMC C:\\Users\\tburch\\.julia\\packages\\AdvancedHMC\\MIxdK\\src\\hamiltonian.jl:47\n",
      "┌ Info: Found initial step size\n",
      "│   ϵ = 0.0001953125\n",
      "└ @ Turing.Inference C:\\Users\\tburch\\.julia\\packages\\Turing\\pwMQO\\src\\inference\\hmc.jl:188\n",
      "\u001b[32mSampling: 100%|█████████████████████████████████████████| Time: 0:00:01\u001b[39m\n"
     ]
    },
    {
     "data": {
      "text/plain": [
       "Summary Statistics\n",
       " \u001b[1m parameters \u001b[0m \u001b[1m     mean \u001b[0m \u001b[1m     std \u001b[0m \u001b[1m naive_se \u001b[0m \u001b[1m    mcse \u001b[0m \u001b[1m       ess \u001b[0m \u001b[1m    rhat \u001b[0m \u001b[1m\u001b[0m ⋯\n",
       " \u001b[90m     Symbol \u001b[0m \u001b[90m  Float64 \u001b[0m \u001b[90m Float64 \u001b[0m \u001b[90m  Float64 \u001b[0m \u001b[90m Float64 \u001b[0m \u001b[90m   Float64 \u001b[0m \u001b[90m Float64 \u001b[0m \u001b[90m\u001b[0m ⋯\n",
       "\n",
       "           α   153.3743    0.6779     0.0107    0.0100   4997.6470    0.9999   ⋯\n",
       "           β     4.9456    0.1748     0.0028    0.0021   5045.2248    0.9998   ⋯\n",
       "           σ    28.9800    0.4809     0.0076    0.0052   4868.1201    0.9998   ⋯\n",
       "\u001b[36m                                                                1 column omitted\u001b[0m\n"
      ]
     },
     "execution_count": 7,
     "metadata": {},
     "output_type": "execute_result"
    }
   ],
   "source": [
    "hw_complete[!,\"c_height\"] = hw_complete.height .- 66\n",
    "model2 = m1(hw_complete.c_height, hw_complete.weight)\n",
    "chain2 = sample(model2, NUTS(0.50), 4000)\n",
    "summarystats(chain2)"
   ]
  },
  {
   "cell_type": "markdown",
   "id": "sensitive-progress",
   "metadata": {},
   "source": [
    "### Point Prediction"
   ]
  },
  {
   "cell_type": "code",
   "execution_count": 8,
   "id": "several-nation",
   "metadata": {},
   "outputs": [
    {
     "data": {
      "text/plain": [
       "173.3"
      ]
     },
     "execution_count": 8,
     "metadata": {},
     "output_type": "execute_result"
    }
   ],
   "source": [
    "point_pred_val = [4.0]\n",
    "mpred = m1(point_pred_val, missing);\n",
    "p=predict(mpred, chain2)\n",
    "p[\"w[1]\"].data |> mean |> x->round(x,digits=1)"
   ]
  },
  {
   "cell_type": "markdown",
   "id": "scheduled-myrtle",
   "metadata": {},
   "source": [
    "### Posterior simulations"
   ]
  },
  {
   "cell_type": "code",
   "execution_count": 9,
   "id": "middle-heaven",
   "metadata": {},
   "outputs": [
    {
     "data": {
      "image/svg+xml": [
       "<?xml version=\"1.0\" encoding=\"utf-8\"?>\n",
       "<svg xmlns=\"http://www.w3.org/2000/svg\" xmlns:xlink=\"http://www.w3.org/1999/xlink\" width=\"600\" height=\"400\" viewBox=\"0 0 2400 1600\">\n",
       "<defs>\n",
       "  <clipPath id=\"clip820\">\n",
       "    <rect x=\"0\" y=\"0\" width=\"2400\" height=\"1600\"/>\n",
       "  </clipPath>\n",
       "</defs>\n",
       "<path clip-path=\"url(#clip820)\" d=\"\n",
       "M0 1600 L2400 1600 L2400 0 L0 0  Z\n",
       "  \" fill=\"#ffffff\" fill-rule=\"evenodd\" fill-opacity=\"1\"/>\n",
       "<defs>\n",
       "  <clipPath id=\"clip821\">\n",
       "    <rect x=\"480\" y=\"0\" width=\"1681\" height=\"1600\"/>\n",
       "  </clipPath>\n",
       "</defs>\n",
       "<path clip-path=\"url(#clip820)\" d=\"\n",
       "M262.551 1423.18 L2352.76 1423.18 L2352.76 123.472 L262.551 123.472  Z\n",
       "  \" fill=\"#ffffff\" fill-rule=\"evenodd\" fill-opacity=\"1\"/>\n",
       "<defs>\n",
       "  <clipPath id=\"clip822\">\n",
       "    <rect x=\"262\" y=\"123\" width=\"2091\" height=\"1301\"/>\n",
       "  </clipPath>\n",
       "</defs>\n",
       "<polyline clip-path=\"url(#clip820)\" style=\"stroke:#000000; stroke-linecap:butt; stroke-linejoin:round; stroke-width:4; stroke-opacity:1; fill:none\" points=\"\n",
       "  262.551,1423.18 2352.76,1423.18 \n",
       "  \"/>\n",
       "<polyline clip-path=\"url(#clip820)\" style=\"stroke:#000000; stroke-linecap:butt; stroke-linejoin:round; stroke-width:4; stroke-opacity:1; fill:none\" points=\"\n",
       "  520.614,1423.18 520.614,1407.58 \n",
       "  \"/>\n",
       "<polyline clip-path=\"url(#clip820)\" style=\"stroke:#000000; stroke-linecap:butt; stroke-linejoin:round; stroke-width:4; stroke-opacity:1; fill:none\" points=\"\n",
       "  806.81,1423.18 806.81,1407.58 \n",
       "  \"/>\n",
       "<polyline clip-path=\"url(#clip820)\" style=\"stroke:#000000; stroke-linecap:butt; stroke-linejoin:round; stroke-width:4; stroke-opacity:1; fill:none\" points=\"\n",
       "  1093.01,1423.18 1093.01,1407.58 \n",
       "  \"/>\n",
       "<polyline clip-path=\"url(#clip820)\" style=\"stroke:#000000; stroke-linecap:butt; stroke-linejoin:round; stroke-width:4; stroke-opacity:1; fill:none\" points=\"\n",
       "  1379.2,1423.18 1379.2,1407.58 \n",
       "  \"/>\n",
       "<polyline clip-path=\"url(#clip820)\" style=\"stroke:#000000; stroke-linecap:butt; stroke-linejoin:round; stroke-width:4; stroke-opacity:1; fill:none\" points=\"\n",
       "  1665.4,1423.18 1665.4,1407.58 \n",
       "  \"/>\n",
       "<polyline clip-path=\"url(#clip820)\" style=\"stroke:#000000; stroke-linecap:butt; stroke-linejoin:round; stroke-width:4; stroke-opacity:1; fill:none\" points=\"\n",
       "  1951.59,1423.18 1951.59,1407.58 \n",
       "  \"/>\n",
       "<polyline clip-path=\"url(#clip820)\" style=\"stroke:#000000; stroke-linecap:butt; stroke-linejoin:round; stroke-width:4; stroke-opacity:1; fill:none\" points=\"\n",
       "  2237.79,1423.18 2237.79,1407.58 \n",
       "  \"/>\n",
       "<path clip-path=\"url(#clip820)\" d=\"M480.834 1479.92 L488.473 1479.92 L488.473 1453.55 L480.163 1455.22 L480.163 1450.96 L488.427 1449.29 L493.103 1449.29 L493.103 1479.92 L500.742 1479.92 L500.742 1483.85 L480.834 1483.85 L480.834 1479.92 Z\" fill=\"#000000\" fill-rule=\"evenodd\" fill-opacity=\"1\" /><path clip-path=\"url(#clip820)\" d=\"M510.232 1449.29 L528.589 1449.29 L528.589 1453.23 L514.515 1453.23 L514.515 1461.7 Q515.533 1461.35 516.552 1461.19 Q517.57 1461 518.589 1461 Q524.376 1461 527.755 1464.18 Q531.135 1467.35 531.135 1472.76 Q531.135 1478.34 527.663 1481.44 Q524.191 1484.52 517.871 1484.52 Q515.695 1484.52 513.427 1484.15 Q511.181 1483.78 508.774 1483.04 L508.774 1478.34 Q510.857 1479.48 513.08 1480.03 Q515.302 1480.59 517.779 1480.59 Q521.783 1480.59 524.121 1478.48 Q526.459 1476.38 526.459 1472.76 Q526.459 1469.15 524.121 1467.05 Q521.783 1464.94 517.779 1464.94 Q515.904 1464.94 514.029 1465.36 Q512.177 1465.77 510.232 1466.65 L510.232 1449.29 Z\" fill=\"#000000\" fill-rule=\"evenodd\" fill-opacity=\"1\" /><path clip-path=\"url(#clip820)\" d=\"M541.158 1479.92 L548.797 1479.92 L548.797 1453.55 L540.487 1455.22 L540.487 1450.96 L548.751 1449.29 L553.427 1449.29 L553.427 1479.92 L561.065 1479.92 L561.065 1483.85 L541.158 1483.85 L541.158 1479.92 Z\" fill=\"#000000\" fill-rule=\"evenodd\" fill-opacity=\"1\" /><path clip-path=\"url(#clip820)\" d=\"M767.216 1479.92 L774.855 1479.92 L774.855 1453.55 L766.544 1455.22 L766.544 1450.96 L774.808 1449.29 L779.484 1449.29 L779.484 1479.92 L787.123 1479.92 L787.123 1483.85 L767.216 1483.85 L767.216 1479.92 Z\" fill=\"#000000\" fill-rule=\"evenodd\" fill-opacity=\"1\" /><path clip-path=\"url(#clip820)\" d=\"M796.614 1449.29 L814.97 1449.29 L814.97 1453.23 L800.896 1453.23 L800.896 1461.7 Q801.915 1461.35 802.933 1461.19 Q803.952 1461 804.97 1461 Q810.757 1461 814.137 1464.18 Q817.516 1467.35 817.516 1472.76 Q817.516 1478.34 814.044 1481.44 Q810.572 1484.52 804.253 1484.52 Q802.077 1484.52 799.808 1484.15 Q797.563 1483.78 795.155 1483.04 L795.155 1478.34 Q797.239 1479.48 799.461 1480.03 Q801.683 1480.59 804.16 1480.59 Q808.165 1480.59 810.502 1478.48 Q812.84 1476.38 812.84 1472.76 Q812.84 1469.15 810.502 1467.05 Q808.165 1464.94 804.16 1464.94 Q802.285 1464.94 800.41 1465.36 Q798.558 1465.77 796.614 1466.65 L796.614 1449.29 Z\" fill=\"#000000\" fill-rule=\"evenodd\" fill-opacity=\"1\" /><path clip-path=\"url(#clip820)\" d=\"M830.757 1479.92 L847.076 1479.92 L847.076 1483.85 L825.132 1483.85 L825.132 1479.92 Q827.794 1477.16 832.377 1472.53 Q836.984 1467.88 838.164 1466.54 Q840.41 1464.01 841.289 1462.28 Q842.192 1460.52 842.192 1458.83 Q842.192 1456.07 840.248 1454.34 Q838.326 1452.6 835.225 1452.6 Q833.026 1452.6 830.572 1453.37 Q828.141 1454.13 825.364 1455.68 L825.364 1450.96 Q828.188 1449.82 830.641 1449.25 Q833.095 1448.67 835.132 1448.67 Q840.502 1448.67 843.697 1451.35 Q846.891 1454.04 846.891 1458.53 Q846.891 1460.66 846.081 1462.58 Q845.294 1464.48 843.187 1467.07 Q842.609 1467.74 839.507 1470.96 Q836.405 1474.15 830.757 1479.92 Z\" fill=\"#000000\" fill-rule=\"evenodd\" fill-opacity=\"1\" /><path clip-path=\"url(#clip820)\" d=\"M1052.94 1479.92 L1060.58 1479.92 L1060.58 1453.55 L1052.27 1455.22 L1052.27 1450.96 L1060.53 1449.29 L1065.21 1449.29 L1065.21 1479.92 L1072.84 1479.92 L1072.84 1483.85 L1052.94 1483.85 L1052.94 1479.92 Z\" fill=\"#000000\" fill-rule=\"evenodd\" fill-opacity=\"1\" /><path clip-path=\"url(#clip820)\" d=\"M1082.34 1449.29 L1100.69 1449.29 L1100.69 1453.23 L1086.62 1453.23 L1086.62 1461.7 Q1087.64 1461.35 1088.65 1461.19 Q1089.67 1461 1090.69 1461 Q1096.48 1461 1099.86 1464.18 Q1103.24 1467.35 1103.24 1472.76 Q1103.24 1478.34 1099.77 1481.44 Q1096.29 1484.52 1089.97 1484.52 Q1087.8 1484.52 1085.53 1484.15 Q1083.28 1483.78 1080.88 1483.04 L1080.88 1478.34 Q1082.96 1479.48 1085.18 1480.03 Q1087.4 1480.59 1089.88 1480.59 Q1093.89 1480.59 1096.22 1478.48 Q1098.56 1476.38 1098.56 1472.76 Q1098.56 1469.15 1096.22 1467.05 Q1093.89 1464.94 1089.88 1464.94 Q1088.01 1464.94 1086.13 1465.36 Q1084.28 1465.77 1082.34 1466.65 L1082.34 1449.29 Z\" fill=\"#000000\" fill-rule=\"evenodd\" fill-opacity=\"1\" /><path clip-path=\"url(#clip820)\" d=\"M1126.62 1465.22 Q1129.97 1465.94 1131.85 1468.2 Q1133.75 1470.47 1133.75 1473.81 Q1133.75 1478.92 1130.23 1481.72 Q1126.71 1484.52 1120.23 1484.52 Q1118.05 1484.52 1115.74 1484.08 Q1113.45 1483.67 1110.99 1482.81 L1110.99 1478.3 Q1112.94 1479.43 1115.25 1480.01 Q1117.57 1480.59 1120.09 1480.59 Q1124.49 1480.59 1126.78 1478.85 Q1129.09 1477.12 1129.09 1473.81 Q1129.09 1470.75 1126.94 1469.04 Q1124.81 1467.3 1120.99 1467.3 L1116.96 1467.3 L1116.96 1463.46 L1121.18 1463.46 Q1124.63 1463.46 1126.46 1462.09 Q1128.28 1460.7 1128.28 1458.11 Q1128.28 1455.45 1126.39 1454.04 Q1124.51 1452.6 1120.99 1452.6 Q1119.07 1452.6 1116.87 1453.02 Q1114.67 1453.44 1112.03 1454.31 L1112.03 1450.15 Q1114.7 1449.41 1117.01 1449.04 Q1119.35 1448.67 1121.41 1448.67 Q1126.73 1448.67 1129.83 1451.1 Q1132.94 1453.5 1132.94 1457.63 Q1132.94 1460.5 1131.29 1462.49 Q1129.65 1464.45 1126.62 1465.22 Z\" fill=\"#000000\" fill-rule=\"evenodd\" fill-opacity=\"1\" /><path clip-path=\"url(#clip820)\" d=\"M1338.57 1479.92 L1346.21 1479.92 L1346.21 1453.55 L1337.89 1455.22 L1337.89 1450.96 L1346.16 1449.29 L1350.83 1449.29 L1350.83 1479.92 L1358.47 1479.92 L1358.47 1483.85 L1338.57 1483.85 L1338.57 1479.92 Z\" fill=\"#000000\" fill-rule=\"evenodd\" fill-opacity=\"1\" /><path clip-path=\"url(#clip820)\" d=\"M1367.96 1449.29 L1386.32 1449.29 L1386.32 1453.23 L1372.25 1453.23 L1372.25 1461.7 Q1373.27 1461.35 1374.28 1461.19 Q1375.3 1461 1376.32 1461 Q1382.11 1461 1385.49 1464.18 Q1388.87 1467.35 1388.87 1472.76 Q1388.87 1478.34 1385.39 1481.44 Q1381.92 1484.52 1375.6 1484.52 Q1373.43 1484.52 1371.16 1484.15 Q1368.91 1483.78 1366.51 1483.04 L1366.51 1478.34 Q1368.59 1479.48 1370.81 1480.03 Q1373.03 1480.59 1375.51 1480.59 Q1379.52 1480.59 1381.85 1478.48 Q1384.19 1476.38 1384.19 1472.76 Q1384.19 1469.15 1381.85 1467.05 Q1379.52 1464.94 1375.51 1464.94 Q1373.64 1464.94 1371.76 1465.36 Q1369.91 1465.77 1367.96 1466.65 L1367.96 1449.29 Z\" fill=\"#000000\" fill-rule=\"evenodd\" fill-opacity=\"1\" /><path clip-path=\"url(#clip820)\" d=\"M1410.93 1453.37 L1399.12 1471.81 L1410.93 1471.81 L1410.93 1453.37 M1409.7 1449.29 L1415.58 1449.29 L1415.58 1471.81 L1420.51 1471.81 L1420.51 1475.7 L1415.58 1475.7 L1415.58 1483.85 L1410.93 1483.85 L1410.93 1475.7 L1395.33 1475.7 L1395.33 1471.19 L1409.7 1449.29 Z\" fill=\"#000000\" fill-rule=\"evenodd\" fill-opacity=\"1\" /><path clip-path=\"url(#clip820)\" d=\"M1625.5 1479.92 L1633.14 1479.92 L1633.14 1453.55 L1624.83 1455.22 L1624.83 1450.96 L1633.1 1449.29 L1637.77 1449.29 L1637.77 1479.92 L1645.41 1479.92 L1645.41 1483.85 L1625.5 1483.85 L1625.5 1479.92 Z\" fill=\"#000000\" fill-rule=\"evenodd\" fill-opacity=\"1\" /><path clip-path=\"url(#clip820)\" d=\"M1654.9 1449.29 L1673.26 1449.29 L1673.26 1453.23 L1659.18 1453.23 L1659.18 1461.7 Q1660.2 1461.35 1661.22 1461.19 Q1662.24 1461 1663.26 1461 Q1669.04 1461 1672.42 1464.18 Q1675.8 1467.35 1675.8 1472.76 Q1675.8 1478.34 1672.33 1481.44 Q1668.86 1484.52 1662.54 1484.52 Q1660.36 1484.52 1658.1 1484.15 Q1655.85 1483.78 1653.44 1483.04 L1653.44 1478.34 Q1655.53 1479.48 1657.75 1480.03 Q1659.97 1480.59 1662.45 1480.59 Q1666.45 1480.59 1668.79 1478.48 Q1671.13 1476.38 1671.13 1472.76 Q1671.13 1469.15 1668.79 1467.05 Q1666.45 1464.94 1662.45 1464.94 Q1660.57 1464.94 1658.7 1465.36 Q1656.85 1465.77 1654.9 1466.65 L1654.9 1449.29 Z\" fill=\"#000000\" fill-rule=\"evenodd\" fill-opacity=\"1\" /><path clip-path=\"url(#clip820)\" d=\"M1685.06 1449.29 L1703.42 1449.29 L1703.42 1453.23 L1689.35 1453.23 L1689.35 1461.7 Q1690.36 1461.35 1691.38 1461.19 Q1692.4 1461 1693.42 1461 Q1699.21 1461 1702.59 1464.18 Q1705.97 1467.35 1705.97 1472.76 Q1705.97 1478.34 1702.49 1481.44 Q1699.02 1484.52 1692.7 1484.52 Q1690.53 1484.52 1688.26 1484.15 Q1686.01 1483.78 1683.6 1483.04 L1683.6 1478.34 Q1685.69 1479.48 1687.91 1480.03 Q1690.13 1480.59 1692.61 1480.59 Q1696.61 1480.59 1698.95 1478.48 Q1701.29 1476.38 1701.29 1472.76 Q1701.29 1469.15 1698.95 1467.05 Q1696.61 1464.94 1692.61 1464.94 Q1690.73 1464.94 1688.86 1465.36 Q1687.01 1465.77 1685.06 1466.65 L1685.06 1449.29 Z\" fill=\"#000000\" fill-rule=\"evenodd\" fill-opacity=\"1\" /><path clip-path=\"url(#clip820)\" d=\"M1911.12 1479.92 L1918.76 1479.92 L1918.76 1453.55 L1910.45 1455.22 L1910.45 1450.96 L1918.71 1449.29 L1923.39 1449.29 L1923.39 1479.92 L1931.03 1479.92 L1931.03 1483.85 L1911.12 1483.85 L1911.12 1479.92 Z\" fill=\"#000000\" fill-rule=\"evenodd\" fill-opacity=\"1\" /><path clip-path=\"url(#clip820)\" d=\"M1940.52 1449.29 L1958.87 1449.29 L1958.87 1453.23 L1944.8 1453.23 L1944.8 1461.7 Q1945.82 1461.35 1946.84 1461.19 Q1947.86 1461 1948.87 1461 Q1954.66 1461 1958.04 1464.18 Q1961.42 1467.35 1961.42 1472.76 Q1961.42 1478.34 1957.95 1481.44 Q1954.48 1484.52 1948.16 1484.52 Q1945.98 1484.52 1943.71 1484.15 Q1941.47 1483.78 1939.06 1483.04 L1939.06 1478.34 Q1941.14 1479.48 1943.37 1480.03 Q1945.59 1480.59 1948.06 1480.59 Q1952.07 1480.59 1954.41 1478.48 Q1956.75 1476.38 1956.75 1472.76 Q1956.75 1469.15 1954.41 1467.05 Q1952.07 1464.94 1948.06 1464.94 Q1946.19 1464.94 1944.31 1465.36 Q1942.46 1465.77 1940.52 1466.65 L1940.52 1449.29 Z\" fill=\"#000000\" fill-rule=\"evenodd\" fill-opacity=\"1\" /><path clip-path=\"url(#clip820)\" d=\"M1981.21 1464.71 Q1978.06 1464.71 1976.21 1466.86 Q1974.38 1469.01 1974.38 1472.76 Q1974.38 1476.49 1976.21 1478.67 Q1978.06 1480.82 1981.21 1480.82 Q1984.36 1480.82 1986.19 1478.67 Q1988.04 1476.49 1988.04 1472.76 Q1988.04 1469.01 1986.19 1466.86 Q1984.36 1464.71 1981.21 1464.71 M1990.5 1450.06 L1990.5 1454.31 Q1988.74 1453.48 1986.93 1453.04 Q1985.15 1452.6 1983.39 1452.6 Q1978.76 1452.6 1976.31 1455.73 Q1973.87 1458.85 1973.53 1465.17 Q1974.89 1463.16 1976.95 1462.09 Q1979.01 1461 1981.49 1461 Q1986.7 1461 1989.71 1464.18 Q1992.74 1467.32 1992.74 1472.76 Q1992.74 1478.09 1989.59 1481.31 Q1986.44 1484.52 1981.21 1484.52 Q1975.22 1484.52 1972.05 1479.94 Q1968.87 1475.33 1968.87 1466.61 Q1968.87 1458.41 1972.76 1453.55 Q1976.65 1448.67 1983.2 1448.67 Q1984.96 1448.67 1986.75 1449.01 Q1988.55 1449.36 1990.5 1450.06 Z\" fill=\"#000000\" fill-rule=\"evenodd\" fill-opacity=\"1\" /><path clip-path=\"url(#clip820)\" d=\"M2197.85 1479.92 L2205.49 1479.92 L2205.49 1453.55 L2197.18 1455.22 L2197.18 1450.96 L2205.44 1449.29 L2210.12 1449.29 L2210.12 1479.92 L2217.76 1479.92 L2217.76 1483.85 L2197.85 1483.85 L2197.85 1479.92 Z\" fill=\"#000000\" fill-rule=\"evenodd\" fill-opacity=\"1\" /><path clip-path=\"url(#clip820)\" d=\"M2227.25 1449.29 L2245.6 1449.29 L2245.6 1453.23 L2231.53 1453.23 L2231.53 1461.7 Q2232.55 1461.35 2233.57 1461.19 Q2234.58 1461 2235.6 1461 Q2241.39 1461 2244.77 1464.18 Q2248.15 1467.35 2248.15 1472.76 Q2248.15 1478.34 2244.68 1481.44 Q2241.21 1484.52 2234.89 1484.52 Q2232.71 1484.52 2230.44 1484.15 Q2228.2 1483.78 2225.79 1483.04 L2225.79 1478.34 Q2227.87 1479.48 2230.09 1480.03 Q2232.32 1480.59 2234.79 1480.59 Q2238.8 1480.59 2241.14 1478.48 Q2243.47 1476.38 2243.47 1472.76 Q2243.47 1469.15 2241.14 1467.05 Q2238.8 1464.94 2234.79 1464.94 Q2232.92 1464.94 2231.04 1465.36 Q2229.19 1465.77 2227.25 1466.65 L2227.25 1449.29 Z\" fill=\"#000000\" fill-rule=\"evenodd\" fill-opacity=\"1\" /><path clip-path=\"url(#clip820)\" d=\"M2256.18 1449.29 L2278.4 1449.29 L2278.4 1451.28 L2265.86 1483.85 L2260.97 1483.85 L2272.78 1453.23 L2256.18 1453.23 L2256.18 1449.29 Z\" fill=\"#000000\" fill-rule=\"evenodd\" fill-opacity=\"1\" /><path clip-path=\"url(#clip820)\" d=\"M1122.63 1518.52 L1128.49 1518.52 L1128.49 1568.04 L1122.63 1568.04 L1122.63 1518.52 Z\" fill=\"#000000\" fill-rule=\"evenodd\" fill-opacity=\"1\" /><path clip-path=\"url(#clip820)\" d=\"M1140.74 1532.4 L1146.6 1532.4 L1146.6 1568.04 L1140.74 1568.04 L1140.74 1532.4 M1140.74 1518.52 L1146.6 1518.52 L1146.6 1525.93 L1140.74 1525.93 L1140.74 1518.52 Z\" fill=\"#000000\" fill-rule=\"evenodd\" fill-opacity=\"1\" /><path clip-path=\"url(#clip820)\" d=\"M1188.49 1546.53 L1188.49 1568.04 L1182.63 1568.04 L1182.63 1546.72 Q1182.63 1541.66 1180.66 1539.14 Q1178.68 1536.63 1174.74 1536.63 Q1170 1536.63 1167.26 1539.65 Q1164.52 1542.68 1164.52 1547.9 L1164.52 1568.04 L1158.63 1568.04 L1158.63 1532.4 L1164.52 1532.4 L1164.52 1537.93 Q1166.62 1534.72 1169.45 1533.13 Q1172.32 1531.54 1176.04 1531.54 Q1182.19 1531.54 1185.34 1535.36 Q1188.49 1539.14 1188.49 1546.53 Z\" fill=\"#000000\" fill-rule=\"evenodd\" fill-opacity=\"1\" /><path clip-path=\"url(#clip820)\" d=\"M1205.83 1562.7 L1205.83 1581.6 L1199.95 1581.6 L1199.95 1532.4 L1205.83 1532.4 L1205.83 1537.81 Q1207.68 1534.62 1210.48 1533.1 Q1213.31 1531.54 1217.23 1531.54 Q1223.72 1531.54 1227.76 1536.69 Q1231.84 1541.85 1231.84 1550.25 Q1231.84 1558.65 1227.76 1563.81 Q1223.72 1568.97 1217.23 1568.97 Q1213.31 1568.97 1210.48 1567.44 Q1207.68 1565.88 1205.83 1562.7 M1225.76 1550.25 Q1225.76 1543.79 1223.09 1540.13 Q1220.44 1536.44 1215.8 1536.44 Q1211.15 1536.44 1208.48 1540.13 Q1205.83 1543.79 1205.83 1550.25 Q1205.83 1556.71 1208.48 1560.4 Q1211.15 1564.07 1215.8 1564.07 Q1220.44 1564.07 1223.09 1560.4 Q1225.76 1556.71 1225.76 1550.25 Z\" fill=\"#000000\" fill-rule=\"evenodd\" fill-opacity=\"1\" /><path clip-path=\"url(#clip820)\" d=\"M1262.2 1537.87 Q1261.22 1537.3 1260.04 1537.04 Q1258.89 1536.76 1257.49 1536.76 Q1252.53 1536.76 1249.85 1540 Q1247.21 1543.22 1247.21 1549.27 L1247.21 1568.04 L1241.32 1568.04 L1241.32 1532.4 L1247.21 1532.4 L1247.21 1537.93 Q1249.06 1534.69 1252.02 1533.13 Q1254.98 1531.54 1259.21 1531.54 Q1259.82 1531.54 1260.55 1531.63 Q1261.28 1531.7 1262.17 1531.85 L1262.2 1537.87 Z\" fill=\"#000000\" fill-rule=\"evenodd\" fill-opacity=\"1\" /><path clip-path=\"url(#clip820)\" d=\"M1297.4 1548.76 L1297.4 1551.62 L1270.48 1551.62 Q1270.86 1557.67 1274.11 1560.85 Q1277.38 1564 1283.21 1564 Q1286.58 1564 1289.73 1563.17 Q1292.92 1562.35 1296.04 1560.69 L1296.04 1566.23 Q1292.89 1567.57 1289.57 1568.27 Q1286.26 1568.97 1282.86 1568.97 Q1274.33 1568.97 1269.33 1564 Q1264.37 1559.04 1264.37 1550.57 Q1264.37 1541.82 1269.08 1536.69 Q1273.82 1531.54 1281.84 1531.54 Q1289.03 1531.54 1293.2 1536.18 Q1297.4 1540.8 1297.4 1548.76 M1291.55 1547.04 Q1291.48 1542.23 1288.84 1539.37 Q1286.23 1536.5 1281.9 1536.5 Q1277 1536.5 1274.04 1539.27 Q1271.11 1542.04 1270.67 1547.07 L1291.55 1547.04 Z\" fill=\"#000000\" fill-rule=\"evenodd\" fill-opacity=\"1\" /><path clip-path=\"url(#clip820)\" d=\"M1330.47 1537.81 L1330.47 1518.52 L1336.33 1518.52 L1336.33 1568.04 L1330.47 1568.04 L1330.47 1562.7 Q1328.63 1565.88 1325.8 1567.44 Q1322.99 1568.97 1319.05 1568.97 Q1312.59 1568.97 1308.51 1563.81 Q1304.47 1558.65 1304.47 1550.25 Q1304.47 1541.85 1308.51 1536.69 Q1312.59 1531.54 1319.05 1531.54 Q1322.99 1531.54 1325.8 1533.1 Q1328.63 1534.62 1330.47 1537.81 M1310.52 1550.25 Q1310.52 1556.71 1313.16 1560.4 Q1315.83 1564.07 1320.48 1564.07 Q1325.13 1564.07 1327.8 1560.4 Q1330.47 1556.71 1330.47 1550.25 Q1330.47 1543.79 1327.8 1540.13 Q1325.13 1536.44 1320.48 1536.44 Q1315.83 1536.44 1313.16 1540.13 Q1310.52 1543.79 1310.52 1550.25 Z\" fill=\"#000000\" fill-rule=\"evenodd\" fill-opacity=\"1\" /><path clip-path=\"url(#clip820)\" d=\"M1354.76 1562.63 L1377.2 1562.63 L1377.2 1568.04 L1347.03 1568.04 L1347.03 1562.63 Q1350.69 1558.85 1356.99 1552.48 Q1363.32 1546.08 1364.94 1544.24 Q1368.03 1540.77 1369.24 1538.38 Q1370.48 1535.96 1370.48 1533.64 Q1370.48 1529.85 1367.81 1527.46 Q1365.17 1525.08 1360.9 1525.08 Q1357.88 1525.08 1354.51 1526.13 Q1351.16 1527.18 1347.34 1529.31 L1347.34 1522.82 Q1351.23 1521.26 1354.6 1520.46 Q1357.97 1519.66 1360.78 1519.66 Q1368.16 1519.66 1372.55 1523.36 Q1376.94 1527.05 1376.94 1533.22 Q1376.94 1536.15 1375.83 1538.79 Q1374.75 1541.4 1371.85 1544.97 Q1371.06 1545.89 1366.79 1550.32 Q1362.53 1554.71 1354.76 1562.63 Z\" fill=\"#000000\" fill-rule=\"evenodd\" fill-opacity=\"1\" /><path clip-path=\"url(#clip820)\" d=\"M1424.66 1518.58 Q1420.39 1525.9 1418.32 1533.06 Q1416.25 1540.23 1416.25 1547.58 Q1416.25 1554.93 1418.32 1562.16 Q1420.42 1569.35 1424.66 1576.64 L1419.56 1576.64 Q1414.79 1569.16 1412.4 1561.93 Q1410.05 1554.71 1410.05 1547.58 Q1410.05 1540.48 1412.4 1533.29 Q1414.76 1526.09 1419.56 1518.58 L1424.66 1518.58 Z\" fill=\"#000000\" fill-rule=\"evenodd\" fill-opacity=\"1\" /><path clip-path=\"url(#clip820)\" d=\"M1456.8 1551.46 L1455.4 1544.11 Q1453.97 1536.57 1448.3 1536.57 Q1444.04 1536.57 1442.1 1540.07 Q1439.65 1544.46 1439.65 1550.25 Q1439.65 1557.25 1442.03 1560.6 Q1444.45 1564 1448.3 1564 Q1452.57 1564 1454.86 1557.22 L1456.8 1551.46 M1460.08 1541.72 L1463.23 1532.4 L1468.45 1532.4 L1461.93 1551.72 L1463.2 1558.69 Q1463.49 1560.25 1464.6 1561.55 Q1465.91 1563.08 1466.92 1563.08 L1469.72 1563.08 L1469.72 1568.04 L1466.22 1568.04 Q1463.23 1568.04 1460.56 1565.37 Q1459.25 1564.03 1458.71 1561.23 Q1457.25 1564.77 1454.26 1567.53 Q1452.86 1568.84 1448.3 1568.84 Q1440.82 1568.84 1437.2 1564 Q1433.47 1559 1433.47 1550.25 Q1433.47 1540.89 1437.51 1536.5 Q1442 1531.6 1448.3 1531.6 Q1458.2 1531.6 1460.08 1541.72 Z\" fill=\"#000000\" fill-rule=\"evenodd\" fill-opacity=\"1\" /><path clip-path=\"url(#clip820)\" d=\"M1478.06 1518.58 L1483.16 1518.58 Q1487.93 1526.09 1490.29 1533.29 Q1492.67 1540.48 1492.67 1547.58 Q1492.67 1554.71 1490.29 1561.93 Q1487.93 1569.16 1483.16 1576.64 L1478.06 1576.64 Q1482.3 1569.35 1484.37 1562.16 Q1486.47 1554.93 1486.47 1547.58 Q1486.47 1540.23 1484.37 1533.06 Q1482.3 1525.9 1478.06 1518.58 Z\" fill=\"#000000\" fill-rule=\"evenodd\" fill-opacity=\"1\" /><polyline clip-path=\"url(#clip820)\" style=\"stroke:#000000; stroke-linecap:butt; stroke-linejoin:round; stroke-width:4; stroke-opacity:1; fill:none\" points=\"\n",
       "  262.551,1423.18 262.551,123.472 \n",
       "  \"/>\n",
       "<polyline clip-path=\"url(#clip820)\" style=\"stroke:#000000; stroke-linecap:butt; stroke-linejoin:round; stroke-width:4; stroke-opacity:1; fill:none\" points=\"\n",
       "  262.551,1386.4 287.634,1386.4 \n",
       "  \"/>\n",
       "<polyline clip-path=\"url(#clip820)\" style=\"stroke:#000000; stroke-linecap:butt; stroke-linejoin:round; stroke-width:4; stroke-opacity:1; fill:none\" points=\"\n",
       "  262.551,1124.18 287.634,1124.18 \n",
       "  \"/>\n",
       "<polyline clip-path=\"url(#clip820)\" style=\"stroke:#000000; stroke-linecap:butt; stroke-linejoin:round; stroke-width:4; stroke-opacity:1; fill:none\" points=\"\n",
       "  262.551,861.956 287.634,861.956 \n",
       "  \"/>\n",
       "<polyline clip-path=\"url(#clip820)\" style=\"stroke:#000000; stroke-linecap:butt; stroke-linejoin:round; stroke-width:4; stroke-opacity:1; fill:none\" points=\"\n",
       "  262.551,599.737 287.634,599.737 \n",
       "  \"/>\n",
       "<polyline clip-path=\"url(#clip820)\" style=\"stroke:#000000; stroke-linecap:butt; stroke-linejoin:round; stroke-width:4; stroke-opacity:1; fill:none\" points=\"\n",
       "  262.551,337.517 287.634,337.517 \n",
       "  \"/>\n",
       "<path clip-path=\"url(#clip820)\" d=\"M214.607 1372.19 Q210.996 1372.19 209.167 1375.76 Q207.362 1379.3 207.362 1386.43 Q207.362 1393.54 209.167 1397.1 Q210.996 1400.64 214.607 1400.64 Q218.241 1400.64 220.047 1397.1 Q221.875 1393.54 221.875 1386.43 Q221.875 1379.3 220.047 1375.76 Q218.241 1372.19 214.607 1372.19 M214.607 1368.49 Q220.417 1368.49 223.473 1373.1 Q226.551 1377.68 226.551 1386.43 Q226.551 1395.16 223.473 1399.76 Q220.417 1404.35 214.607 1404.35 Q208.797 1404.35 205.718 1399.76 Q202.662 1395.16 202.662 1386.43 Q202.662 1377.68 205.718 1373.1 Q208.797 1368.49 214.607 1368.49 Z\" fill=\"#000000\" fill-rule=\"evenodd\" fill-opacity=\"1\" /><path clip-path=\"url(#clip820)\" d=\"M148.311 1137.52 L164.63 1137.52 L164.63 1141.46 L142.686 1141.46 L142.686 1137.52 Q145.348 1134.77 149.931 1130.14 Q154.538 1125.48 155.718 1124.14 Q157.964 1121.62 158.843 1119.88 Q159.746 1118.12 159.746 1116.43 Q159.746 1113.68 157.802 1111.94 Q155.88 1110.21 152.778 1110.21 Q150.579 1110.21 148.126 1110.97 Q145.695 1111.73 142.917 1113.28 L142.917 1108.56 Q145.741 1107.43 148.195 1106.85 Q150.649 1106.27 152.686 1106.27 Q158.056 1106.27 161.251 1108.96 Q164.445 1111.64 164.445 1116.13 Q164.445 1118.26 163.635 1120.18 Q162.848 1122.08 160.741 1124.67 Q160.163 1125.34 157.061 1128.56 Q153.959 1131.76 148.311 1137.52 Z\" fill=\"#000000\" fill-rule=\"evenodd\" fill-opacity=\"1\" /><path clip-path=\"url(#clip820)\" d=\"M174.491 1106.9 L192.848 1106.9 L192.848 1110.83 L178.774 1110.83 L178.774 1119.3 Q179.792 1118.96 180.811 1118.79 Q181.829 1118.61 182.848 1118.61 Q188.635 1118.61 192.014 1121.78 Q195.394 1124.95 195.394 1130.37 Q195.394 1135.95 191.922 1139.05 Q188.45 1142.13 182.13 1142.13 Q179.954 1142.13 177.686 1141.76 Q175.44 1141.39 173.033 1140.65 L173.033 1135.95 Q175.116 1137.08 177.339 1137.64 Q179.561 1138.19 182.038 1138.19 Q186.042 1138.19 188.38 1136.09 Q190.718 1133.98 190.718 1130.37 Q190.718 1126.76 188.38 1124.65 Q186.042 1122.54 182.038 1122.54 Q180.163 1122.54 178.288 1122.96 Q176.436 1123.38 174.491 1124.26 L174.491 1106.9 Z\" fill=\"#000000\" fill-rule=\"evenodd\" fill-opacity=\"1\" /><path clip-path=\"url(#clip820)\" d=\"M214.607 1109.97 Q210.996 1109.97 209.167 1113.54 Q207.362 1117.08 207.362 1124.21 Q207.362 1131.32 209.167 1134.88 Q210.996 1138.42 214.607 1138.42 Q218.241 1138.42 220.047 1134.88 Q221.875 1131.32 221.875 1124.21 Q221.875 1117.08 220.047 1113.54 Q218.241 1109.97 214.607 1109.97 M214.607 1106.27 Q220.417 1106.27 223.473 1110.88 Q226.551 1115.46 226.551 1124.21 Q226.551 1132.94 223.473 1137.54 Q220.417 1142.13 214.607 1142.13 Q208.797 1142.13 205.718 1137.54 Q202.662 1132.94 202.662 1124.21 Q202.662 1115.46 205.718 1110.88 Q208.797 1106.27 214.607 1106.27 Z\" fill=\"#000000\" fill-rule=\"evenodd\" fill-opacity=\"1\" /><path clip-path=\"url(#clip820)\" d=\"M144.329 844.676 L162.686 844.676 L162.686 848.611 L148.612 848.611 L148.612 857.084 Q149.63 856.736 150.649 856.574 Q151.667 856.389 152.686 856.389 Q158.473 856.389 161.852 859.56 Q165.232 862.732 165.232 868.148 Q165.232 873.727 161.76 876.829 Q158.288 879.908 151.968 879.908 Q149.792 879.908 147.524 879.537 Q145.279 879.167 142.871 878.426 L142.871 873.727 Q144.954 874.861 147.177 875.417 Q149.399 875.972 151.876 875.972 Q155.88 875.972 158.218 873.866 Q160.556 871.759 160.556 868.148 Q160.556 864.537 158.218 862.431 Q155.88 860.324 151.876 860.324 Q150.001 860.324 148.126 860.741 Q146.274 861.158 144.329 862.037 L144.329 844.676 Z\" fill=\"#000000\" fill-rule=\"evenodd\" fill-opacity=\"1\" /><path clip-path=\"url(#clip820)\" d=\"M184.445 847.755 Q180.834 847.755 179.005 851.32 Q177.2 854.861 177.2 861.991 Q177.2 869.097 179.005 872.662 Q180.834 876.204 184.445 876.204 Q188.079 876.204 189.885 872.662 Q191.713 869.097 191.713 861.991 Q191.713 854.861 189.885 851.32 Q188.079 847.755 184.445 847.755 M184.445 844.051 Q190.255 844.051 193.311 848.658 Q196.389 853.241 196.389 861.991 Q196.389 870.718 193.311 875.324 Q190.255 879.908 184.445 879.908 Q178.635 879.908 175.556 875.324 Q172.501 870.718 172.501 861.991 Q172.501 853.241 175.556 848.658 Q178.635 844.051 184.445 844.051 Z\" fill=\"#000000\" fill-rule=\"evenodd\" fill-opacity=\"1\" /><path clip-path=\"url(#clip820)\" d=\"M214.607 847.755 Q210.996 847.755 209.167 851.32 Q207.362 854.861 207.362 861.991 Q207.362 869.097 209.167 872.662 Q210.996 876.204 214.607 876.204 Q218.241 876.204 220.047 872.662 Q221.875 869.097 221.875 861.991 Q221.875 854.861 220.047 851.32 Q218.241 847.755 214.607 847.755 M214.607 844.051 Q220.417 844.051 223.473 848.658 Q226.551 853.241 226.551 861.991 Q226.551 870.718 223.473 875.324 Q220.417 879.908 214.607 879.908 Q208.797 879.908 205.718 875.324 Q202.662 870.718 202.662 861.991 Q202.662 853.241 205.718 848.658 Q208.797 844.051 214.607 844.051 Z\" fill=\"#000000\" fill-rule=\"evenodd\" fill-opacity=\"1\" /><path clip-path=\"url(#clip820)\" d=\"M143.103 582.457 L165.325 582.457 L165.325 584.447 L152.778 617.017 L147.894 617.017 L159.7 586.392 L143.103 586.392 L143.103 582.457 Z\" fill=\"#000000\" fill-rule=\"evenodd\" fill-opacity=\"1\" /><path clip-path=\"url(#clip820)\" d=\"M174.491 582.457 L192.848 582.457 L192.848 586.392 L178.774 586.392 L178.774 594.864 Q179.792 594.517 180.811 594.355 Q181.829 594.169 182.848 594.169 Q188.635 594.169 192.014 597.341 Q195.394 600.512 195.394 605.929 Q195.394 611.507 191.922 614.609 Q188.45 617.688 182.13 617.688 Q179.954 617.688 177.686 617.317 Q175.44 616.947 173.033 616.206 L173.033 611.507 Q175.116 612.642 177.339 613.197 Q179.561 613.753 182.038 613.753 Q186.042 613.753 188.38 611.646 Q190.718 609.54 190.718 605.929 Q190.718 602.318 188.38 600.211 Q186.042 598.105 182.038 598.105 Q180.163 598.105 178.288 598.521 Q176.436 598.938 174.491 599.818 L174.491 582.457 Z\" fill=\"#000000\" fill-rule=\"evenodd\" fill-opacity=\"1\" /><path clip-path=\"url(#clip820)\" d=\"M214.607 585.535 Q210.996 585.535 209.167 589.1 Q207.362 592.642 207.362 599.771 Q207.362 606.878 209.167 610.442 Q210.996 613.984 214.607 613.984 Q218.241 613.984 220.047 610.442 Q221.875 606.878 221.875 599.771 Q221.875 592.642 220.047 589.1 Q218.241 585.535 214.607 585.535 M214.607 581.832 Q220.417 581.832 223.473 586.438 Q226.551 591.021 226.551 599.771 Q226.551 608.498 223.473 613.105 Q220.417 617.688 214.607 617.688 Q208.797 617.688 205.718 613.105 Q202.662 608.498 202.662 599.771 Q202.662 591.021 205.718 586.438 Q208.797 581.832 214.607 581.832 Z\" fill=\"#000000\" fill-rule=\"evenodd\" fill-opacity=\"1\" /><path clip-path=\"url(#clip820)\" d=\"M114.931 350.862 L122.57 350.862 L122.57 324.496 L114.26 326.163 L114.26 321.903 L122.524 320.237 L127.2 320.237 L127.2 350.862 L134.839 350.862 L134.839 354.797 L114.931 354.797 L114.931 350.862 Z\" fill=\"#000000\" fill-rule=\"evenodd\" fill-opacity=\"1\" /><path clip-path=\"url(#clip820)\" d=\"M154.283 323.316 Q150.672 323.316 148.843 326.88 Q147.038 330.422 147.038 337.552 Q147.038 344.658 148.843 348.223 Q150.672 351.764 154.283 351.764 Q157.917 351.764 159.723 348.223 Q161.552 344.658 161.552 337.552 Q161.552 330.422 159.723 326.88 Q157.917 323.316 154.283 323.316 M154.283 319.612 Q160.093 319.612 163.149 324.218 Q166.227 328.802 166.227 337.552 Q166.227 346.278 163.149 350.885 Q160.093 355.468 154.283 355.468 Q148.473 355.468 145.394 350.885 Q142.339 346.278 142.339 337.552 Q142.339 328.802 145.394 324.218 Q148.473 319.612 154.283 319.612 Z\" fill=\"#000000\" fill-rule=\"evenodd\" fill-opacity=\"1\" /><path clip-path=\"url(#clip820)\" d=\"M184.445 323.316 Q180.834 323.316 179.005 326.88 Q177.2 330.422 177.2 337.552 Q177.2 344.658 179.005 348.223 Q180.834 351.764 184.445 351.764 Q188.079 351.764 189.885 348.223 Q191.713 344.658 191.713 337.552 Q191.713 330.422 189.885 326.88 Q188.079 323.316 184.445 323.316 M184.445 319.612 Q190.255 319.612 193.311 324.218 Q196.389 328.802 196.389 337.552 Q196.389 346.278 193.311 350.885 Q190.255 355.468 184.445 355.468 Q178.635 355.468 175.556 350.885 Q172.501 346.278 172.501 337.552 Q172.501 328.802 175.556 324.218 Q178.635 319.612 184.445 319.612 Z\" fill=\"#000000\" fill-rule=\"evenodd\" fill-opacity=\"1\" /><path clip-path=\"url(#clip820)\" d=\"M214.607 323.316 Q210.996 323.316 209.167 326.88 Q207.362 330.422 207.362 337.552 Q207.362 344.658 209.167 348.223 Q210.996 351.764 214.607 351.764 Q218.241 351.764 220.047 348.223 Q221.875 344.658 221.875 337.552 Q221.875 330.422 220.047 326.88 Q218.241 323.316 214.607 323.316 M214.607 319.612 Q220.417 319.612 223.473 324.218 Q226.551 328.802 226.551 337.552 Q226.551 346.278 223.473 350.885 Q220.417 355.468 214.607 355.468 Q208.797 355.468 205.718 350.885 Q202.662 346.278 202.662 337.552 Q202.662 328.802 205.718 324.218 Q208.797 319.612 214.607 319.612 Z\" fill=\"#000000\" fill-rule=\"evenodd\" fill-opacity=\"1\" /><path clip-path=\"url(#clip820)\" d=\"M16.4842 937.529 L16.4842 910.221 L21.895 910.221 L21.895 931.1 L35.8996 931.1 L35.8996 912.258 L41.3104 912.258 L41.3104 931.1 L64.0042 931.1 L64.0042 937.529 L16.4842 937.529 Z\" fill=\"#000000\" fill-rule=\"evenodd\" fill-opacity=\"1\" /><path clip-path=\"url(#clip820)\" d=\"M33.8307 884.376 Q33.2578 885.362 33.0032 886.54 Q32.7167 887.686 32.7167 889.086 Q32.7167 894.052 35.9632 896.725 Q39.1779 899.367 45.2253 899.367 L64.0042 899.367 L64.0042 905.255 L28.3562 905.255 L28.3562 899.367 L33.8944 899.367 Q30.6479 897.521 29.0883 894.561 Q27.4968 891.601 27.4968 887.368 Q27.4968 886.763 27.5923 886.031 Q27.656 885.299 27.8151 884.408 L33.8307 884.376 Z\" fill=\"#000000\" fill-rule=\"evenodd\" fill-opacity=\"1\" /><path clip-path=\"url(#clip820)\" d=\"M44.7161 849.173 L47.5806 849.173 L47.5806 876.1 Q53.6281 875.718 56.8109 872.472 Q59.9619 869.194 59.9619 863.369 Q59.9619 859.995 59.1344 856.844 Q58.3069 853.661 56.6518 850.542 L62.1899 850.542 Q63.5267 853.693 64.227 857.003 Q64.9272 860.313 64.9272 863.719 Q64.9272 872.249 59.9619 877.246 Q54.9967 882.211 46.5303 882.211 Q37.7774 882.211 32.6531 877.501 Q27.4968 872.758 27.4968 864.738 Q27.4968 857.544 32.1438 853.375 Q36.7589 849.173 44.7161 849.173 M42.9973 855.03 Q38.1912 855.093 35.3266 857.735 Q32.4621 860.345 32.4621 864.674 Q32.4621 869.575 35.2312 872.536 Q38.0002 875.464 43.0292 875.909 L42.9973 855.03 Z\" fill=\"#000000\" fill-rule=\"evenodd\" fill-opacity=\"1\" /><path clip-path=\"url(#clip820)\" d=\"M46.212 836.06 Q52.6732 836.06 56.3653 833.418 Q60.0256 830.745 60.0256 826.098 Q60.0256 821.451 56.3653 818.777 Q52.6732 816.104 46.212 816.104 Q39.7508 816.104 36.0905 818.777 Q32.3984 821.451 32.3984 826.098 Q32.3984 830.745 36.0905 833.418 Q39.7508 836.06 46.212 836.06 M58.657 816.104 Q61.8398 817.95 63.3994 820.782 Q64.9272 823.583 64.9272 827.53 Q64.9272 833.991 59.771 838.065 Q54.6147 842.107 46.212 842.107 Q37.8093 842.107 32.6531 838.065 Q27.4968 833.991 27.4968 827.53 Q27.4968 823.583 29.0564 820.782 Q30.5842 817.95 33.7671 816.104 L28.3562 816.104 L28.3562 810.247 L77.5631 810.247 L77.5631 816.104 L58.657 816.104 Z\" fill=\"#000000\" fill-rule=\"evenodd\" fill-opacity=\"1\" /><path clip-path=\"url(#clip820)\" d=\"M49.9359 798.789 L28.3562 798.789 L28.3562 792.932 L49.7131 792.932 Q54.7739 792.932 57.3202 790.959 Q59.8346 788.986 59.8346 785.039 Q59.8346 780.296 56.8109 777.559 Q53.7872 774.79 48.5673 774.79 L28.3562 774.79 L28.3562 768.934 L64.0042 768.934 L64.0042 774.79 L58.5296 774.79 Q61.7762 776.923 63.3676 779.755 Q64.9272 782.556 64.9272 786.28 Q64.9272 792.423 61.1078 795.606 Q57.2883 798.789 49.9359 798.789 M27.4968 784.052 L27.4968 784.052 Z\" fill=\"#000000\" fill-rule=\"evenodd\" fill-opacity=\"1\" /><path clip-path=\"url(#clip820)\" d=\"M44.7161 726.379 L47.5806 726.379 L47.5806 753.306 Q53.6281 752.924 56.8109 749.677 Q59.9619 746.399 59.9619 740.574 Q59.9619 737.201 59.1344 734.05 Q58.3069 730.867 56.6518 727.748 L62.1899 727.748 Q63.5267 730.899 64.227 734.209 Q64.9272 737.519 64.9272 740.925 Q64.9272 749.455 59.9619 754.452 Q54.9967 759.417 46.5303 759.417 Q37.7774 759.417 32.6531 754.706 Q27.4968 749.964 27.4968 741.943 Q27.4968 734.75 32.1438 730.58 Q36.7589 726.379 44.7161 726.379 M42.9973 732.235 Q38.1912 732.299 35.3266 734.941 Q32.4621 737.551 32.4621 741.879 Q32.4621 746.781 35.2312 749.741 Q38.0002 752.669 43.0292 753.115 L42.9973 732.235 Z\" fill=\"#000000\" fill-rule=\"evenodd\" fill-opacity=\"1\" /><path clip-path=\"url(#clip820)\" d=\"M42.4881 687.134 L64.0042 687.134 L64.0042 692.991 L42.679 692.991 Q37.6183 692.991 35.1038 694.964 Q32.5894 696.938 32.5894 700.884 Q32.5894 705.627 35.6131 708.364 Q38.6368 711.101 43.8567 711.101 L64.0042 711.101 L64.0042 716.989 L28.3562 716.989 L28.3562 711.101 L33.8944 711.101 Q30.6797 709.001 29.0883 706.168 Q27.4968 703.303 27.4968 699.579 Q27.4968 693.436 31.3163 690.285 Q35.1038 687.134 42.4881 687.134 Z\" fill=\"#000000\" fill-rule=\"evenodd\" fill-opacity=\"1\" /><path clip-path=\"url(#clip820)\" d=\"M29.7248 649.799 L35.1993 649.799 Q33.8307 652.282 33.1623 654.797 Q32.4621 657.279 32.4621 659.825 Q32.4621 665.523 36.0905 668.674 Q39.6872 671.825 46.212 671.825 Q52.7369 671.825 56.3653 668.674 Q59.9619 665.523 59.9619 659.825 Q59.9619 657.279 59.2935 654.797 Q58.5933 652.282 57.2247 649.799 L62.6355 649.799 Q63.7814 652.25 64.3543 654.892 Q64.9272 657.502 64.9272 660.462 Q64.9272 668.515 59.8664 673.257 Q54.8057 678 46.212 678 Q37.491 678 32.4939 673.225 Q27.4968 668.419 27.4968 660.08 Q27.4968 657.375 28.0697 654.797 Q28.6108 652.218 29.7248 649.799 Z\" fill=\"#000000\" fill-rule=\"evenodd\" fill-opacity=\"1\" /><path clip-path=\"url(#clip820)\" d=\"M67.3143 624.782 Q73.68 627.265 75.6216 629.62 Q77.5631 631.975 77.5631 635.922 L77.5631 640.601 L72.6615 640.601 L72.6615 637.164 Q72.6615 634.745 71.5157 633.408 Q70.3699 632.071 66.1048 630.448 L63.4312 629.397 L28.3562 643.816 L28.3562 637.609 L56.238 626.469 L28.3562 615.329 L28.3562 609.123 L67.3143 624.782 Z\" fill=\"#000000\" fill-rule=\"evenodd\" fill-opacity=\"1\" /><path clip-path=\"url(#clip820)\" d=\"M790.799 12.096 L798.982 12.096 L798.982 36.8875 L828.715 36.8875 L828.715 12.096 L836.898 12.096 L836.898 72.576 L828.715 72.576 L828.715 43.7741 L798.982 43.7741 L798.982 72.576 L790.799 72.576 L790.799 12.096 Z\" fill=\"#000000\" fill-rule=\"evenodd\" fill-opacity=\"1\" /><path clip-path=\"url(#clip820)\" d=\"M852.859 27.2059 L860.312 27.2059 L860.312 72.576 L852.859 72.576 L852.859 27.2059 M852.859 9.54393 L860.312 9.54393 L860.312 18.9825 L852.859 18.9825 L852.859 9.54393 Z\" fill=\"#000000\" fill-rule=\"evenodd\" fill-opacity=\"1\" /><path clip-path=\"url(#clip820)\" d=\"M904.832 28.5427 L904.832 35.5912 Q901.672 33.9709 898.269 33.1607 Q894.866 32.3505 891.221 32.3505 Q885.671 32.3505 882.876 34.0519 Q880.121 35.7533 880.121 39.156 Q880.121 41.7486 882.106 43.2475 Q884.091 44.7058 890.086 46.0426 L892.638 46.6097 Q900.578 48.3111 903.9 51.4303 Q907.262 54.509 907.262 60.0587 Q907.262 66.3781 902.239 70.0644 Q897.256 73.7508 888.507 73.7508 Q884.861 73.7508 880.891 73.0216 Q876.961 72.3329 872.586 70.9151 L872.586 63.2184 Q876.718 65.3654 880.729 66.4591 Q884.739 67.5124 888.669 67.5124 Q893.935 67.5124 896.77 65.73 Q899.606 63.9071 899.606 60.6258 Q899.606 57.5877 897.54 55.9673 Q895.515 54.3469 888.588 52.8481 L885.995 52.2405 Q879.068 50.7821 875.989 47.7845 Q872.911 44.7463 872.911 39.4801 Q872.911 33.0797 877.448 29.5959 Q881.985 26.1121 890.329 26.1121 Q894.461 26.1121 898.107 26.7198 Q901.753 27.3274 904.832 28.5427 Z\" fill=\"#000000\" fill-rule=\"evenodd\" fill-opacity=\"1\" /><path clip-path=\"url(#clip820)\" d=\"M926.504 14.324 L926.504 27.2059 L941.857 27.2059 L941.857 32.9987 L926.504 32.9987 L926.504 57.6282 Q926.504 63.1779 928.003 64.7578 Q929.542 66.3376 934.201 66.3376 L941.857 66.3376 L941.857 72.576 L934.201 72.576 Q925.572 72.576 922.291 69.3758 Q919.01 66.1351 919.01 57.6282 L919.01 32.9987 L913.541 32.9987 L913.541 27.2059 L919.01 27.2059 L919.01 14.324 L926.504 14.324 Z\" fill=\"#000000\" fill-rule=\"evenodd\" fill-opacity=\"1\" /><path clip-path=\"url(#clip820)\" d=\"M969.241 32.4315 Q963.246 32.4315 959.762 37.1306 Q956.278 41.7891 956.278 49.9314 Q956.278 58.0738 959.721 62.7728 Q963.205 67.4314 969.241 67.4314 Q975.196 67.4314 978.68 62.7323 Q982.163 58.0333 982.163 49.9314 Q982.163 41.8701 978.68 37.1711 Q975.196 32.4315 969.241 32.4315 M969.241 26.1121 Q978.963 26.1121 984.513 32.4315 Q990.063 38.7509 990.063 49.9314 Q990.063 61.0714 984.513 67.4314 Q978.963 73.7508 969.241 73.7508 Q959.478 73.7508 953.929 67.4314 Q948.419 61.0714 948.419 49.9314 Q948.419 38.7509 953.929 32.4315 Q959.478 26.1121 969.241 26.1121 Z\" fill=\"#000000\" fill-rule=\"evenodd\" fill-opacity=\"1\" /><path clip-path=\"url(#clip820)\" d=\"M1032.27 49.3643 Q1032.27 41.2625 1028.91 36.8065 Q1025.59 32.3505 1019.55 32.3505 Q1013.56 32.3505 1010.2 36.8065 Q1006.87 41.2625 1006.87 49.3643 Q1006.87 57.4256 1010.2 61.8816 Q1013.56 66.3376 1019.55 66.3376 Q1025.59 66.3376 1028.91 61.8816 Q1032.27 57.4256 1032.27 49.3643 M1039.73 66.9452 Q1039.73 78.5308 1034.58 84.1616 Q1029.44 89.8329 1018.82 89.8329 Q1014.89 89.8329 1011.41 89.2252 Q1007.93 88.6581 1004.65 87.4428 L1004.65 80.1917 Q1007.93 81.9741 1011.13 82.8248 Q1014.33 83.6755 1017.65 83.6755 Q1024.98 83.6755 1028.63 79.8271 Q1032.27 76.0193 1032.27 68.282 L1032.27 64.5957 Q1029.96 68.6061 1026.36 70.5911 Q1022.75 72.576 1017.73 72.576 Q1009.39 72.576 1004.28 66.2161 Q999.177 59.8562 999.177 49.3643 Q999.177 38.832 1004.28 32.472 Q1009.39 26.1121 1017.73 26.1121 Q1022.75 26.1121 1026.36 28.0971 Q1029.96 30.082 1032.27 34.0924 L1032.27 27.2059 L1039.73 27.2059 L1039.73 66.9452 Z\" fill=\"#000000\" fill-rule=\"evenodd\" fill-opacity=\"1\" /><path clip-path=\"url(#clip820)\" d=\"M1081.37 34.1734 Q1080.11 33.4443 1078.62 33.1202 Q1077.16 32.7556 1075.37 32.7556 Q1069.06 32.7556 1065.65 36.8875 Q1062.29 40.9789 1062.29 48.6757 L1062.29 72.576 L1054.8 72.576 L1054.8 27.2059 L1062.29 27.2059 L1062.29 34.2544 Q1064.64 30.1225 1068.41 28.1376 Q1072.17 26.1121 1077.56 26.1121 Q1078.33 26.1121 1079.26 26.2337 Q1080.2 26.3147 1081.33 26.5172 L1081.37 34.1734 Z\" fill=\"#000000\" fill-rule=\"evenodd\" fill-opacity=\"1\" /><path clip-path=\"url(#clip820)\" d=\"M1109.81 49.7694 Q1100.77 49.7694 1097.29 51.8354 Q1093.81 53.9013 1093.81 58.8839 Q1093.81 62.8538 1096.4 65.2034 Q1099.03 67.5124 1103.53 67.5124 Q1109.73 67.5124 1113.45 63.1374 Q1117.22 58.7219 1117.22 51.4303 L1117.22 49.7694 L1109.81 49.7694 M1124.67 46.6907 L1124.67 72.576 L1117.22 72.576 L1117.22 65.6895 Q1114.67 69.8214 1110.86 71.8063 Q1107.05 73.7508 1101.54 73.7508 Q1094.58 73.7508 1090.44 69.8619 Q1086.35 65.9325 1086.35 59.3701 Q1086.35 51.7138 1091.46 47.825 Q1096.6 43.9361 1106.77 43.9361 L1117.22 43.9361 L1117.22 43.2069 Q1117.22 38.0623 1113.82 35.2672 Q1110.46 32.4315 1104.34 32.4315 Q1100.45 32.4315 1096.76 33.3632 Q1093.08 34.295 1089.67 36.1584 L1089.67 29.2718 Q1093.77 27.692 1097.61 26.9223 Q1101.46 26.1121 1105.11 26.1121 Q1114.95 26.1121 1119.81 31.2163 Q1124.67 36.3204 1124.67 46.6907 Z\" fill=\"#000000\" fill-rule=\"evenodd\" fill-opacity=\"1\" /><path clip-path=\"url(#clip820)\" d=\"M1175.35 35.9153 Q1178.15 30.8922 1182.04 28.5022 Q1185.92 26.1121 1191.19 26.1121 Q1198.28 26.1121 1202.13 31.0947 Q1205.98 36.0368 1205.98 45.1919 L1205.98 72.576 L1198.48 72.576 L1198.48 45.4349 Q1198.48 38.913 1196.17 35.7533 Q1193.86 32.5936 1189.12 32.5936 Q1183.33 32.5936 1179.97 36.4419 Q1176.61 40.2903 1176.61 46.9338 L1176.61 72.576 L1169.11 72.576 L1169.11 45.4349 Q1169.11 38.8725 1166.8 35.7533 Q1164.49 32.5936 1159.67 32.5936 Q1153.96 32.5936 1150.6 36.4824 Q1147.24 40.3308 1147.24 46.9338 L1147.24 72.576 L1139.74 72.576 L1139.74 27.2059 L1147.24 27.2059 L1147.24 34.2544 Q1149.79 30.082 1153.35 28.0971 Q1156.92 26.1121 1161.82 26.1121 Q1166.76 26.1121 1170.21 28.6237 Q1173.69 31.1352 1175.35 35.9153 Z\" fill=\"#000000\" fill-rule=\"evenodd\" fill-opacity=\"1\" /><path clip-path=\"url(#clip820)\" d=\"M1264.79 32.4315 Q1258.8 32.4315 1255.32 37.1306 Q1251.83 41.7891 1251.83 49.9314 Q1251.83 58.0738 1255.28 62.7728 Q1258.76 67.4314 1264.79 67.4314 Q1270.75 67.4314 1274.23 62.7323 Q1277.72 58.0333 1277.72 49.9314 Q1277.72 41.8701 1274.23 37.1711 Q1270.75 32.4315 1264.79 32.4315 M1264.79 26.1121 Q1274.52 26.1121 1280.07 32.4315 Q1285.62 38.7509 1285.62 49.9314 Q1285.62 61.0714 1280.07 67.4314 Q1274.52 73.7508 1264.79 73.7508 Q1255.03 73.7508 1249.48 67.4314 Q1243.97 61.0714 1243.97 49.9314 Q1243.97 38.7509 1249.48 32.4315 Q1255.03 26.1121 1264.79 26.1121 Z\" fill=\"#000000\" fill-rule=\"evenodd\" fill-opacity=\"1\" /><path clip-path=\"url(#clip820)\" d=\"M1320.94 9.54393 L1320.94 15.7418 L1313.81 15.7418 Q1309.8 15.7418 1308.22 17.3622 Q1306.68 18.9825 1306.68 23.1955 L1306.68 27.2059 L1318.96 27.2059 L1318.96 32.9987 L1306.68 32.9987 L1306.68 72.576 L1299.19 72.576 L1299.19 32.9987 L1292.06 32.9987 L1292.06 27.2059 L1299.19 27.2059 L1299.19 24.0462 Q1299.19 16.471 1302.71 13.0277 Q1306.24 9.54393 1313.89 9.54393 L1320.94 9.54393 Z\" fill=\"#000000\" fill-rule=\"evenodd\" fill-opacity=\"1\" /><path clip-path=\"url(#clip820)\" d=\"M1353.55 9.54393 L1361 9.54393 L1361 72.576 L1353.55 72.576 L1353.55 9.54393 Z\" fill=\"#000000\" fill-rule=\"evenodd\" fill-opacity=\"1\" /><path clip-path=\"url(#clip820)\" d=\"M1376.6 27.2059 L1384.05 27.2059 L1384.05 72.576 L1376.6 72.576 L1376.6 27.2059 M1376.6 9.54393 L1384.05 9.54393 L1384.05 18.9825 L1376.6 18.9825 L1376.6 9.54393 Z\" fill=\"#000000\" fill-rule=\"evenodd\" fill-opacity=\"1\" /><path clip-path=\"url(#clip820)\" d=\"M1437.36 45.1919 L1437.36 72.576 L1429.91 72.576 L1429.91 45.4349 Q1429.91 38.994 1427.4 35.7938 Q1424.89 32.5936 1419.86 32.5936 Q1413.83 32.5936 1410.34 36.4419 Q1406.86 40.2903 1406.86 46.9338 L1406.86 72.576 L1399.37 72.576 L1399.37 27.2059 L1406.86 27.2059 L1406.86 34.2544 Q1409.53 30.163 1413.14 28.1376 Q1416.78 26.1121 1421.52 26.1121 Q1429.34 26.1121 1433.35 30.9732 Q1437.36 35.7938 1437.36 45.1919 Z\" fill=\"#000000\" fill-rule=\"evenodd\" fill-opacity=\"1\" /><path clip-path=\"url(#clip820)\" d=\"M1459.44 65.7705 L1459.44 89.8329 L1451.95 89.8329 L1451.95 27.2059 L1459.44 27.2059 L1459.44 34.0924 Q1461.79 30.0415 1465.36 28.0971 Q1468.96 26.1121 1473.94 26.1121 Q1482.21 26.1121 1487.35 32.6746 Q1492.54 39.2371 1492.54 49.9314 Q1492.54 60.6258 1487.35 67.1883 Q1482.21 73.7508 1473.94 73.7508 Q1468.96 73.7508 1465.36 71.8063 Q1461.79 69.8214 1459.44 65.7705 M1484.8 49.9314 Q1484.8 41.7081 1481.4 37.0496 Q1478.03 32.3505 1472.12 32.3505 Q1466.21 32.3505 1462.8 37.0496 Q1459.44 41.7081 1459.44 49.9314 Q1459.44 58.1548 1462.8 62.8538 Q1466.21 67.5124 1472.12 67.5124 Q1478.03 67.5124 1481.4 62.8538 Q1484.8 58.1548 1484.8 49.9314 Z\" fill=\"#000000\" fill-rule=\"evenodd\" fill-opacity=\"1\" /><path clip-path=\"url(#clip820)\" d=\"M1531.18 34.1734 Q1529.93 33.4443 1528.43 33.1202 Q1526.97 32.7556 1525.19 32.7556 Q1518.87 32.7556 1515.46 36.8875 Q1512.1 40.9789 1512.1 48.6757 L1512.1 72.576 L1504.61 72.576 L1504.61 27.2059 L1512.1 27.2059 L1512.1 34.2544 Q1514.45 30.1225 1518.22 28.1376 Q1521.99 26.1121 1527.37 26.1121 Q1528.14 26.1121 1529.08 26.2337 Q1530.01 26.3147 1531.14 26.5172 L1531.18 34.1734 Z\" fill=\"#000000\" fill-rule=\"evenodd\" fill-opacity=\"1\" /><path clip-path=\"url(#clip820)\" d=\"M1575.99 48.0275 L1575.99 51.6733 L1541.71 51.6733 Q1542.2 59.3701 1546.33 63.421 Q1550.51 67.4314 1557.92 67.4314 Q1562.21 67.4314 1566.22 66.3781 Q1570.27 65.3249 1574.24 63.2184 L1574.24 70.267 Q1570.23 71.9684 1566.02 72.8596 Q1561.81 73.7508 1557.47 73.7508 Q1546.62 73.7508 1540.26 67.4314 Q1533.94 61.1119 1533.94 50.3365 Q1533.94 39.1965 1539.93 32.6746 Q1545.97 26.1121 1556.18 26.1121 Q1565.33 26.1121 1570.64 32.0264 Q1575.99 37.9003 1575.99 48.0275 M1568.53 45.84 Q1568.45 39.7232 1565.09 36.0774 Q1561.77 32.4315 1556.26 32.4315 Q1550.02 32.4315 1546.25 35.9558 Q1542.52 39.4801 1541.96 45.8805 L1568.53 45.84 Z\" fill=\"#000000\" fill-rule=\"evenodd\" fill-opacity=\"1\" /><path clip-path=\"url(#clip820)\" d=\"M1618.07 34.0924 L1618.07 9.54393 L1625.53 9.54393 L1625.53 72.576 L1618.07 72.576 L1618.07 65.7705 Q1615.72 69.8214 1612.12 71.8063 Q1608.55 73.7508 1603.53 73.7508 Q1595.31 73.7508 1590.12 67.1883 Q1584.98 60.6258 1584.98 49.9314 Q1584.98 39.2371 1590.12 32.6746 Q1595.31 26.1121 1603.53 26.1121 Q1608.55 26.1121 1612.12 28.0971 Q1615.72 30.0415 1618.07 34.0924 M1592.68 49.9314 Q1592.68 58.1548 1596.04 62.8538 Q1599.44 67.5124 1605.35 67.5124 Q1611.27 67.5124 1614.67 62.8538 Q1618.07 58.1548 1618.07 49.9314 Q1618.07 41.7081 1614.67 37.0496 Q1611.27 32.3505 1605.35 32.3505 Q1599.44 32.3505 1596.04 37.0496 Q1592.68 41.7081 1592.68 49.9314 Z\" fill=\"#000000\" fill-rule=\"evenodd\" fill-opacity=\"1\" /><path clip-path=\"url(#clip820)\" d=\"M1648.98 65.6895 L1677.54 65.6895 L1677.54 72.576 L1639.14 72.576 L1639.14 65.6895 Q1643.8 60.8689 1651.82 52.7671 Q1659.88 44.6248 1661.95 42.2752 Q1665.88 37.8598 1667.41 34.8216 Q1668.99 31.7429 1668.99 28.7857 Q1668.99 23.9651 1665.59 20.927 Q1662.23 17.8888 1656.8 17.8888 Q1652.95 17.8888 1648.66 19.2256 Q1644.41 20.5624 1639.54 23.2765 L1639.54 15.0127 Q1644.49 13.0277 1648.78 12.015 Q1653.07 11.0023 1656.64 11.0023 Q1666.04 11.0023 1671.63 15.7013 Q1677.22 20.4004 1677.22 28.2591 Q1677.22 31.9859 1675.8 35.3482 Q1674.42 38.6699 1670.74 43.2069 Q1669.72 44.3817 1664.3 50.0125 Q1658.87 55.6027 1648.98 65.6895 Z\" fill=\"#000000\" fill-rule=\"evenodd\" fill-opacity=\"1\" /><path clip-path=\"url(#clip820)\" d=\"M1737.94 9.62495 Q1732.51 18.942 1729.88 28.0566 Q1727.25 37.1711 1727.25 46.5287 Q1727.25 55.8863 1729.88 65.0818 Q1732.55 74.2369 1737.94 83.5134 L1731.46 83.5134 Q1725.38 73.9938 1722.34 64.7983 Q1719.35 55.6027 1719.35 46.5287 Q1719.35 37.4952 1722.34 28.3401 Q1725.34 19.1851 1731.46 9.62495 L1737.94 9.62495 Z\" fill=\"#000000\" fill-rule=\"evenodd\" fill-opacity=\"1\" /><path clip-path=\"url(#clip820)\" d=\"M1778.85 51.4708 L1777.07 42.1132 Q1775.25 32.5126 1768.04 32.5126 Q1762.61 32.5126 1760.14 36.9686 Q1757.02 42.5588 1757.02 49.9314 Q1757.02 58.8434 1760.06 63.0969 Q1763.14 67.4314 1768.04 67.4314 Q1773.47 67.4314 1776.38 58.8029 L1778.85 51.4708 M1783.03 39.075 L1787.04 27.2059 L1793.68 27.2059 L1785.38 51.7949 L1787 60.6663 Q1787.36 62.6513 1788.78 64.3122 Q1790.44 66.2566 1791.74 66.2566 L1795.3 66.2566 L1795.3 72.576 L1790.85 72.576 Q1787.04 72.576 1783.63 69.1732 Q1781.97 67.4719 1781.29 63.9071 Q1779.42 68.4036 1775.61 71.9279 Q1773.83 73.5887 1768.04 73.5887 Q1758.52 73.5887 1753.9 67.4314 Q1749.16 61.0714 1749.16 49.9314 Q1749.16 38.0218 1754.31 32.4315 Q1760.02 26.1931 1768.04 26.1931 Q1780.64 26.1931 1783.03 39.075 Z\" fill=\"#000000\" fill-rule=\"evenodd\" fill-opacity=\"1\" /><path clip-path=\"url(#clip820)\" d=\"M1805.91 9.62495 L1812.4 9.62495 Q1818.47 19.1851 1821.47 28.3401 Q1824.51 37.4952 1824.51 46.5287 Q1824.51 55.6027 1821.47 64.7983 Q1818.47 73.9938 1812.4 83.5134 L1805.91 83.5134 Q1811.3 74.2369 1813.94 65.0818 Q1816.61 55.8863 1816.61 46.5287 Q1816.61 37.1711 1813.94 28.0566 Q1811.3 18.942 1805.91 9.62495 Z\" fill=\"#000000\" fill-rule=\"evenodd\" fill-opacity=\"1\" /><path clip-path=\"url(#clip822)\" d=\"\n",
       "M377.516 1383.25 L377.516 1386.4 L520.614 1386.4 L520.614 1383.25 L377.516 1383.25 L377.516 1383.25  Z\n",
       "  \" fill=\"#ffffff\" fill-rule=\"evenodd\" fill-opacity=\"1\"/>\n",
       "<polyline clip-path=\"url(#clip822)\" style=\"stroke:#000000; stroke-linecap:butt; stroke-linejoin:round; stroke-width:4; stroke-opacity:1; fill:none\" points=\"\n",
       "  377.516,1383.25 377.516,1386.4 520.614,1386.4 520.614,1383.25 377.516,1383.25 \n",
       "  \"/>\n",
       "<path clip-path=\"url(#clip822)\" d=\"\n",
       "M520.614 1375.91 L520.614 1386.4 L663.712 1386.4 L663.712 1375.91 L520.614 1375.91 L520.614 1375.91  Z\n",
       "  \" fill=\"#ffffff\" fill-rule=\"evenodd\" fill-opacity=\"1\"/>\n",
       "<polyline clip-path=\"url(#clip822)\" style=\"stroke:#000000; stroke-linecap:butt; stroke-linejoin:round; stroke-width:4; stroke-opacity:1; fill:none\" points=\"\n",
       "  520.614,1375.91 520.614,1386.4 663.712,1386.4 663.712,1375.91 520.614,1375.91 \n",
       "  \"/>\n",
       "<path clip-path=\"url(#clip822)\" d=\"\n",
       "M663.712 1311.93 L663.712 1386.4 L806.81 1386.4 L806.81 1311.93 L663.712 1311.93 L663.712 1311.93  Z\n",
       "  \" fill=\"#ffffff\" fill-rule=\"evenodd\" fill-opacity=\"1\"/>\n",
       "<polyline clip-path=\"url(#clip822)\" style=\"stroke:#000000; stroke-linecap:butt; stroke-linejoin:round; stroke-width:4; stroke-opacity:1; fill:none\" points=\"\n",
       "  663.712,1311.93 663.712,1386.4 806.81,1386.4 806.81,1311.93 663.712,1311.93 \n",
       "  \"/>\n",
       "<path clip-path=\"url(#clip822)\" d=\"\n",
       "M806.81 1073.83 L806.81 1386.4 L949.908 1386.4 L949.908 1073.83 L806.81 1073.83 L806.81 1073.83  Z\n",
       "  \" fill=\"#ffffff\" fill-rule=\"evenodd\" fill-opacity=\"1\"/>\n",
       "<polyline clip-path=\"url(#clip822)\" style=\"stroke:#000000; stroke-linecap:butt; stroke-linejoin:round; stroke-width:4; stroke-opacity:1; fill:none\" points=\"\n",
       "  806.81,1073.83 806.81,1386.4 949.908,1386.4 949.908,1073.83 806.81,1073.83 \n",
       "  \"/>\n",
       "<path clip-path=\"url(#clip822)\" d=\"\n",
       "M949.908 576.661 L949.908 1386.4 L1093.01 1386.4 L1093.01 576.661 L949.908 576.661 L949.908 576.661  Z\n",
       "  \" fill=\"#ffffff\" fill-rule=\"evenodd\" fill-opacity=\"1\"/>\n",
       "<polyline clip-path=\"url(#clip822)\" style=\"stroke:#000000; stroke-linecap:butt; stroke-linejoin:round; stroke-width:4; stroke-opacity:1; fill:none\" points=\"\n",
       "  949.908,576.661 949.908,1386.4 1093.01,1386.4 1093.01,576.661 949.908,576.661 \n",
       "  \"/>\n",
       "<path clip-path=\"url(#clip822)\" d=\"\n",
       "M1093.01 160.256 L1093.01 1386.4 L1236.1 1386.4 L1236.1 160.256 L1093.01 160.256 L1093.01 160.256  Z\n",
       "  \" fill=\"#ffffff\" fill-rule=\"evenodd\" fill-opacity=\"1\"/>\n",
       "<polyline clip-path=\"url(#clip822)\" style=\"stroke:#000000; stroke-linecap:butt; stroke-linejoin:round; stroke-width:4; stroke-opacity:1; fill:none\" points=\"\n",
       "  1093.01,160.256 1093.01,1386.4 1236.1,1386.4 1236.1,160.256 1093.01,160.256 \n",
       "  \"/>\n",
       "<path clip-path=\"url(#clip822)\" d=\"\n",
       "M1236.1 382.619 L1236.1 1386.4 L1379.2 1386.4 L1379.2 382.619 L1236.1 382.619 L1236.1 382.619  Z\n",
       "  \" fill=\"#ffffff\" fill-rule=\"evenodd\" fill-opacity=\"1\"/>\n",
       "<polyline clip-path=\"url(#clip822)\" style=\"stroke:#000000; stroke-linecap:butt; stroke-linejoin:round; stroke-width:4; stroke-opacity:1; fill:none\" points=\"\n",
       "  1236.1,382.619 1236.1,1386.4 1379.2,1386.4 1379.2,382.619 1236.1,382.619 \n",
       "  \"/>\n",
       "<path clip-path=\"url(#clip822)\" d=\"\n",
       "M1379.2 843.076 L1379.2 1386.4 L1522.3 1386.4 L1522.3 843.076 L1379.2 843.076 L1379.2 843.076  Z\n",
       "  \" fill=\"#ffffff\" fill-rule=\"evenodd\" fill-opacity=\"1\"/>\n",
       "<polyline clip-path=\"url(#clip822)\" style=\"stroke:#000000; stroke-linecap:butt; stroke-linejoin:round; stroke-width:4; stroke-opacity:1; fill:none\" points=\"\n",
       "  1379.2,843.076 1379.2,1386.4 1522.3,1386.4 1522.3,843.076 1379.2,843.076 \n",
       "  \"/>\n",
       "<path clip-path=\"url(#clip822)\" d=\"\n",
       "M1522.3 1215.43 L1522.3 1386.4 L1665.4 1386.4 L1665.4 1215.43 L1522.3 1215.43 L1522.3 1215.43  Z\n",
       "  \" fill=\"#ffffff\" fill-rule=\"evenodd\" fill-opacity=\"1\"/>\n",
       "<polyline clip-path=\"url(#clip822)\" style=\"stroke:#000000; stroke-linecap:butt; stroke-linejoin:round; stroke-width:4; stroke-opacity:1; fill:none\" points=\"\n",
       "  1522.3,1215.43 1522.3,1386.4 1665.4,1386.4 1665.4,1215.43 1522.3,1215.43 \n",
       "  \"/>\n",
       "<path clip-path=\"url(#clip822)\" d=\"\n",
       "M1665.4 1348.64 L1665.4 1386.4 L1808.5 1386.4 L1808.5 1348.64 L1665.4 1348.64 L1665.4 1348.64  Z\n",
       "  \" fill=\"#ffffff\" fill-rule=\"evenodd\" fill-opacity=\"1\"/>\n",
       "<polyline clip-path=\"url(#clip822)\" style=\"stroke:#000000; stroke-linecap:butt; stroke-linejoin:round; stroke-width:4; stroke-opacity:1; fill:none\" points=\"\n",
       "  1665.4,1348.64 1665.4,1386.4 1808.5,1386.4 1808.5,1348.64 1665.4,1348.64 \n",
       "  \"/>\n",
       "<path clip-path=\"url(#clip822)\" d=\"\n",
       "M1808.5 1384.3 L1808.5 1386.4 L1951.59 1386.4 L1951.59 1384.3 L1808.5 1384.3 L1808.5 1384.3  Z\n",
       "  \" fill=\"#ffffff\" fill-rule=\"evenodd\" fill-opacity=\"1\"/>\n",
       "<polyline clip-path=\"url(#clip822)\" style=\"stroke:#000000; stroke-linecap:butt; stroke-linejoin:round; stroke-width:4; stroke-opacity:1; fill:none\" points=\"\n",
       "  1808.5,1384.3 1808.5,1386.4 1951.59,1386.4 1951.59,1384.3 1808.5,1384.3 \n",
       "  \"/>\n",
       "<path clip-path=\"url(#clip822)\" d=\"\n",
       "M1951.59 1386.4 L1951.59 1386.4 L2094.69 1386.4 L2094.69 1386.4 L1951.59 1386.4 L1951.59 1386.4  Z\n",
       "  \" fill=\"#ffffff\" fill-rule=\"evenodd\" fill-opacity=\"1\"/>\n",
       "<polyline clip-path=\"url(#clip822)\" style=\"stroke:#000000; stroke-linecap:butt; stroke-linejoin:round; stroke-width:4; stroke-opacity:1; fill:none\" points=\"\n",
       "  1951.59,1386.4 1951.59,1386.4 2094.69,1386.4 1951.59,1386.4 \n",
       "  \"/>\n",
       "<path clip-path=\"url(#clip822)\" d=\"\n",
       "M2094.69 1385.35 L2094.69 1386.4 L2237.79 1386.4 L2237.79 1385.35 L2094.69 1385.35 L2094.69 1385.35  Z\n",
       "  \" fill=\"#ffffff\" fill-rule=\"evenodd\" fill-opacity=\"1\"/>\n",
       "<polyline clip-path=\"url(#clip822)\" style=\"stroke:#000000; stroke-linecap:butt; stroke-linejoin:round; stroke-width:4; stroke-opacity:1; fill:none\" points=\"\n",
       "  2094.69,1385.35 2094.69,1386.4 2237.79,1386.4 2237.79,1385.35 2094.69,1385.35 \n",
       "  \"/>\n",
       "</svg>\n"
      ]
     },
     "execution_count": 9,
     "metadata": {},
     "output_type": "execute_result"
    }
   ],
   "source": [
    "histogram(\n",
    "    get(chain2, [:α]).α.data, \n",
    "    xlabel=\"linpred2 (α)\",\n",
    "    ylabel=\"Frequency\",\n",
    "    title=\"Histogram of linpred2 (α)\",\n",
    "    legend=false,\n",
    "    bins=15,\n",
    "    color=:white,\n",
    "    grid=false\n",
    ")"
   ]
  },
  {
   "cell_type": "markdown",
   "id": "chronic-booking",
   "metadata": {},
   "source": [
    "### Posterior predictive simulations\n",
    "\n",
    "variation coming from posterior uncertainty in the coefficients"
   ]
  },
  {
   "cell_type": "code",
   "execution_count": 10,
   "id": "capable-translation",
   "metadata": {},
   "outputs": [
    {
     "data": {
      "image/svg+xml": [
       "<?xml version=\"1.0\" encoding=\"utf-8\"?>\n",
       "<svg xmlns=\"http://www.w3.org/2000/svg\" xmlns:xlink=\"http://www.w3.org/1999/xlink\" width=\"600\" height=\"400\" viewBox=\"0 0 2400 1600\">\n",
       "<defs>\n",
       "  <clipPath id=\"clip860\">\n",
       "    <rect x=\"0\" y=\"0\" width=\"2400\" height=\"1600\"/>\n",
       "  </clipPath>\n",
       "</defs>\n",
       "<path clip-path=\"url(#clip860)\" d=\"\n",
       "M0 1600 L2400 1600 L2400 0 L0 0  Z\n",
       "  \" fill=\"#ffffff\" fill-rule=\"evenodd\" fill-opacity=\"1\"/>\n",
       "<defs>\n",
       "  <clipPath id=\"clip861\">\n",
       "    <rect x=\"480\" y=\"0\" width=\"1681\" height=\"1600\"/>\n",
       "  </clipPath>\n",
       "</defs>\n",
       "<path clip-path=\"url(#clip860)\" d=\"\n",
       "M262.551 1423.18 L2352.76 1423.18 L2352.76 123.472 L262.551 123.472  Z\n",
       "  \" fill=\"#ffffff\" fill-rule=\"evenodd\" fill-opacity=\"1\"/>\n",
       "<defs>\n",
       "  <clipPath id=\"clip862\">\n",
       "    <rect x=\"262\" y=\"123\" width=\"2091\" height=\"1301\"/>\n",
       "  </clipPath>\n",
       "</defs>\n",
       "<polyline clip-path=\"url(#clip860)\" style=\"stroke:#000000; stroke-linecap:butt; stroke-linejoin:round; stroke-width:4; stroke-opacity:1; fill:none\" points=\"\n",
       "  262.551,1423.18 2352.76,1423.18 \n",
       "  \"/>\n",
       "<polyline clip-path=\"url(#clip860)\" style=\"stroke:#000000; stroke-linecap:butt; stroke-linejoin:round; stroke-width:4; stroke-opacity:1; fill:none\" points=\"\n",
       "  292.958,1423.18 292.958,1407.58 \n",
       "  \"/>\n",
       "<polyline clip-path=\"url(#clip860)\" style=\"stroke:#000000; stroke-linecap:butt; stroke-linejoin:round; stroke-width:4; stroke-opacity:1; fill:none\" points=\"\n",
       "  715.748,1423.18 715.748,1407.58 \n",
       "  \"/>\n",
       "<polyline clip-path=\"url(#clip860)\" style=\"stroke:#000000; stroke-linecap:butt; stroke-linejoin:round; stroke-width:4; stroke-opacity:1; fill:none\" points=\"\n",
       "  1138.54,1423.18 1138.54,1407.58 \n",
       "  \"/>\n",
       "<polyline clip-path=\"url(#clip860)\" style=\"stroke:#000000; stroke-linecap:butt; stroke-linejoin:round; stroke-width:4; stroke-opacity:1; fill:none\" points=\"\n",
       "  1561.33,1423.18 1561.33,1407.58 \n",
       "  \"/>\n",
       "<polyline clip-path=\"url(#clip860)\" style=\"stroke:#000000; stroke-linecap:butt; stroke-linejoin:round; stroke-width:4; stroke-opacity:1; fill:none\" points=\"\n",
       "  1984.12,1423.18 1984.12,1407.58 \n",
       "  \"/>\n",
       "<path clip-path=\"url(#clip860)\" d=\"M267.657 1449.29 L286.014 1449.29 L286.014 1453.23 L271.94 1453.23 L271.94 1461.7 Q272.958 1461.35 273.977 1461.19 Q274.995 1461 276.014 1461 Q281.801 1461 285.181 1464.18 Q288.56 1467.35 288.56 1472.76 Q288.56 1478.34 285.088 1481.44 Q281.616 1484.52 275.296 1484.52 Q273.12 1484.52 270.852 1484.15 Q268.607 1483.78 266.199 1483.04 L266.199 1478.34 Q268.282 1479.48 270.505 1480.03 Q272.727 1480.59 275.204 1480.59 Q279.208 1480.59 281.546 1478.48 Q283.884 1476.38 283.884 1472.76 Q283.884 1469.15 281.546 1467.05 Q279.208 1464.94 275.204 1464.94 Q273.329 1464.94 271.454 1465.36 Q269.602 1465.77 267.657 1466.65 L267.657 1449.29 Z\" fill=\"#000000\" fill-rule=\"evenodd\" fill-opacity=\"1\" /><path clip-path=\"url(#clip860)\" d=\"M307.773 1452.37 Q304.162 1452.37 302.333 1455.94 Q300.528 1459.48 300.528 1466.61 Q300.528 1473.71 302.333 1477.28 Q304.162 1480.82 307.773 1480.82 Q311.407 1480.82 313.213 1477.28 Q315.041 1473.71 315.041 1466.61 Q315.041 1459.48 313.213 1455.94 Q311.407 1452.37 307.773 1452.37 M307.773 1448.67 Q313.583 1448.67 316.639 1453.27 Q319.717 1457.86 319.717 1466.61 Q319.717 1475.33 316.639 1479.94 Q313.583 1484.52 307.773 1484.52 Q301.963 1484.52 298.884 1479.94 Q295.829 1475.33 295.829 1466.61 Q295.829 1457.86 298.884 1453.27 Q301.963 1448.67 307.773 1448.67 Z\" fill=\"#000000\" fill-rule=\"evenodd\" fill-opacity=\"1\" /><path clip-path=\"url(#clip860)\" d=\"M675.355 1479.92 L682.994 1479.92 L682.994 1453.55 L674.683 1455.22 L674.683 1450.96 L682.947 1449.29 L687.623 1449.29 L687.623 1479.92 L695.262 1479.92 L695.262 1483.85 L675.355 1483.85 L675.355 1479.92 Z\" fill=\"#000000\" fill-rule=\"evenodd\" fill-opacity=\"1\" /><path clip-path=\"url(#clip860)\" d=\"M714.706 1452.37 Q711.095 1452.37 709.267 1455.94 Q707.461 1459.48 707.461 1466.61 Q707.461 1473.71 709.267 1477.28 Q711.095 1480.82 714.706 1480.82 Q718.341 1480.82 720.146 1477.28 Q721.975 1473.71 721.975 1466.61 Q721.975 1459.48 720.146 1455.94 Q718.341 1452.37 714.706 1452.37 M714.706 1448.67 Q720.516 1448.67 723.572 1453.27 Q726.651 1457.86 726.651 1466.61 Q726.651 1475.33 723.572 1479.94 Q720.516 1484.52 714.706 1484.52 Q708.896 1484.52 705.817 1479.94 Q702.762 1475.33 702.762 1466.61 Q702.762 1457.86 705.817 1453.27 Q708.896 1448.67 714.706 1448.67 Z\" fill=\"#000000\" fill-rule=\"evenodd\" fill-opacity=\"1\" /><path clip-path=\"url(#clip860)\" d=\"M744.868 1452.37 Q741.257 1452.37 739.428 1455.94 Q737.623 1459.48 737.623 1466.61 Q737.623 1473.71 739.428 1477.28 Q741.257 1480.82 744.868 1480.82 Q748.502 1480.82 750.308 1477.28 Q752.137 1473.71 752.137 1466.61 Q752.137 1459.48 750.308 1455.94 Q748.502 1452.37 744.868 1452.37 M744.868 1448.67 Q750.678 1448.67 753.734 1453.27 Q756.813 1457.86 756.813 1466.61 Q756.813 1475.33 753.734 1479.94 Q750.678 1484.52 744.868 1484.52 Q739.058 1484.52 735.979 1479.94 Q732.924 1475.33 732.924 1466.61 Q732.924 1457.86 735.979 1453.27 Q739.058 1448.67 744.868 1448.67 Z\" fill=\"#000000\" fill-rule=\"evenodd\" fill-opacity=\"1\" /><path clip-path=\"url(#clip860)\" d=\"M1098.14 1479.92 L1105.78 1479.92 L1105.78 1453.55 L1097.47 1455.22 L1097.47 1450.96 L1105.74 1449.29 L1110.41 1449.29 L1110.41 1479.92 L1118.05 1479.92 L1118.05 1483.85 L1098.14 1483.85 L1098.14 1479.92 Z\" fill=\"#000000\" fill-rule=\"evenodd\" fill-opacity=\"1\" /><path clip-path=\"url(#clip860)\" d=\"M1127.54 1449.29 L1145.9 1449.29 L1145.9 1453.23 L1131.82 1453.23 L1131.82 1461.7 Q1132.84 1461.35 1133.86 1461.19 Q1134.88 1461 1135.9 1461 Q1141.69 1461 1145.07 1464.18 Q1148.45 1467.35 1148.45 1472.76 Q1148.45 1478.34 1144.97 1481.44 Q1141.5 1484.52 1135.18 1484.52 Q1133.01 1484.52 1130.74 1484.15 Q1128.49 1483.78 1126.08 1483.04 L1126.08 1478.34 Q1128.17 1479.48 1130.39 1480.03 Q1132.61 1480.59 1135.09 1480.59 Q1139.09 1480.59 1141.43 1478.48 Q1143.77 1476.38 1143.77 1472.76 Q1143.77 1469.15 1141.43 1467.05 Q1139.09 1464.94 1135.09 1464.94 Q1133.21 1464.94 1131.34 1465.36 Q1129.49 1465.77 1127.54 1466.65 L1127.54 1449.29 Z\" fill=\"#000000\" fill-rule=\"evenodd\" fill-opacity=\"1\" /><path clip-path=\"url(#clip860)\" d=\"M1167.66 1452.37 Q1164.05 1452.37 1162.22 1455.94 Q1160.41 1459.48 1160.41 1466.61 Q1160.41 1473.71 1162.22 1477.28 Q1164.05 1480.82 1167.66 1480.82 Q1171.29 1480.82 1173.1 1477.28 Q1174.93 1473.71 1174.93 1466.61 Q1174.93 1459.48 1173.1 1455.94 Q1171.29 1452.37 1167.66 1452.37 M1167.66 1448.67 Q1173.47 1448.67 1176.52 1453.27 Q1179.6 1457.86 1179.6 1466.61 Q1179.6 1475.33 1176.52 1479.94 Q1173.47 1484.52 1167.66 1484.52 Q1161.85 1484.52 1158.77 1479.94 Q1155.71 1475.33 1155.71 1466.61 Q1155.71 1457.86 1158.77 1453.27 Q1161.85 1448.67 1167.66 1448.67 Z\" fill=\"#000000\" fill-rule=\"evenodd\" fill-opacity=\"1\" /><path clip-path=\"url(#clip860)\" d=\"M1525.02 1479.92 L1541.34 1479.92 L1541.34 1483.85 L1519.39 1483.85 L1519.39 1479.92 Q1522.06 1477.16 1526.64 1472.53 Q1531.25 1467.88 1532.43 1466.54 Q1534.67 1464.01 1535.55 1462.28 Q1536.45 1460.52 1536.45 1458.83 Q1536.45 1456.07 1534.51 1454.34 Q1532.59 1452.6 1529.49 1452.6 Q1527.29 1452.6 1524.83 1453.37 Q1522.4 1454.13 1519.63 1455.68 L1519.63 1450.96 Q1522.45 1449.82 1524.9 1449.25 Q1527.36 1448.67 1529.39 1448.67 Q1534.77 1448.67 1537.96 1451.35 Q1541.15 1454.04 1541.15 1458.53 Q1541.15 1460.66 1540.34 1462.58 Q1539.56 1464.48 1537.45 1467.07 Q1536.87 1467.74 1533.77 1470.96 Q1530.67 1474.15 1525.02 1479.92 Z\" fill=\"#000000\" fill-rule=\"evenodd\" fill-opacity=\"1\" /><path clip-path=\"url(#clip860)\" d=\"M1561.15 1452.37 Q1557.54 1452.37 1555.71 1455.94 Q1553.91 1459.48 1553.91 1466.61 Q1553.91 1473.71 1555.71 1477.28 Q1557.54 1480.82 1561.15 1480.82 Q1564.79 1480.82 1566.59 1477.28 Q1568.42 1473.71 1568.42 1466.61 Q1568.42 1459.48 1566.59 1455.94 Q1564.79 1452.37 1561.15 1452.37 M1561.15 1448.67 Q1566.96 1448.67 1570.02 1453.27 Q1573.1 1457.86 1573.1 1466.61 Q1573.1 1475.33 1570.02 1479.94 Q1566.96 1484.52 1561.15 1484.52 Q1555.34 1484.52 1552.26 1479.94 Q1549.21 1475.33 1549.21 1466.61 Q1549.21 1457.86 1552.26 1453.27 Q1555.34 1448.67 1561.15 1448.67 Z\" fill=\"#000000\" fill-rule=\"evenodd\" fill-opacity=\"1\" /><path clip-path=\"url(#clip860)\" d=\"M1591.32 1452.37 Q1587.7 1452.37 1585.88 1455.94 Q1584.07 1459.48 1584.07 1466.61 Q1584.07 1473.71 1585.88 1477.28 Q1587.7 1480.82 1591.32 1480.82 Q1594.95 1480.82 1596.76 1477.28 Q1598.58 1473.71 1598.58 1466.61 Q1598.58 1459.48 1596.76 1455.94 Q1594.95 1452.37 1591.32 1452.37 M1591.32 1448.67 Q1597.13 1448.67 1600.18 1453.27 Q1603.26 1457.86 1603.26 1466.61 Q1603.26 1475.33 1600.18 1479.94 Q1597.13 1484.52 1591.32 1484.52 Q1585.51 1484.52 1582.43 1479.94 Q1579.37 1475.33 1579.37 1466.61 Q1579.37 1457.86 1582.43 1453.27 Q1585.51 1448.67 1591.32 1448.67 Z\" fill=\"#000000\" fill-rule=\"evenodd\" fill-opacity=\"1\" /><path clip-path=\"url(#clip860)\" d=\"M1947.81 1479.92 L1964.13 1479.92 L1964.13 1483.85 L1942.18 1483.85 L1942.18 1479.92 Q1944.85 1477.16 1949.43 1472.53 Q1954.04 1467.88 1955.22 1466.54 Q1957.46 1464.01 1958.34 1462.28 Q1959.24 1460.52 1959.24 1458.83 Q1959.24 1456.07 1957.3 1454.34 Q1955.38 1452.6 1952.28 1452.6 Q1950.08 1452.6 1947.62 1453.37 Q1945.19 1454.13 1942.42 1455.68 L1942.42 1450.96 Q1945.24 1449.82 1947.69 1449.25 Q1950.15 1448.67 1952.18 1448.67 Q1957.55 1448.67 1960.75 1451.35 Q1963.94 1454.04 1963.94 1458.53 Q1963.94 1460.66 1963.13 1462.58 Q1962.35 1464.48 1960.24 1467.07 Q1959.66 1467.74 1956.56 1470.96 Q1953.46 1474.15 1947.81 1479.92 Z\" fill=\"#000000\" fill-rule=\"evenodd\" fill-opacity=\"1\" /><path clip-path=\"url(#clip860)\" d=\"M1973.99 1449.29 L1992.35 1449.29 L1992.35 1453.23 L1978.27 1453.23 L1978.27 1461.7 Q1979.29 1461.35 1980.31 1461.19 Q1981.33 1461 1982.35 1461 Q1988.13 1461 1991.51 1464.18 Q1994.89 1467.35 1994.89 1472.76 Q1994.89 1478.34 1991.42 1481.44 Q1987.95 1484.52 1981.63 1484.52 Q1979.45 1484.52 1977.18 1484.15 Q1974.94 1483.78 1972.53 1483.04 L1972.53 1478.34 Q1974.61 1479.48 1976.84 1480.03 Q1979.06 1480.59 1981.54 1480.59 Q1985.54 1480.59 1987.88 1478.48 Q1990.22 1476.38 1990.22 1472.76 Q1990.22 1469.15 1987.88 1467.05 Q1985.54 1464.94 1981.54 1464.94 Q1979.66 1464.94 1977.79 1465.36 Q1975.93 1465.77 1973.99 1466.65 L1973.99 1449.29 Z\" fill=\"#000000\" fill-rule=\"evenodd\" fill-opacity=\"1\" /><path clip-path=\"url(#clip860)\" d=\"M2014.11 1452.37 Q2010.49 1452.37 2008.67 1455.94 Q2006.86 1459.48 2006.86 1466.61 Q2006.86 1473.71 2008.67 1477.28 Q2010.49 1480.82 2014.11 1480.82 Q2017.74 1480.82 2019.55 1477.28 Q2021.37 1473.71 2021.37 1466.61 Q2021.37 1459.48 2019.55 1455.94 Q2017.74 1452.37 2014.11 1452.37 M2014.11 1448.67 Q2019.92 1448.67 2022.97 1453.27 Q2026.05 1457.86 2026.05 1466.61 Q2026.05 1475.33 2022.97 1479.94 Q2019.92 1484.52 2014.11 1484.52 Q2008.3 1484.52 2005.22 1479.94 Q2002.16 1475.33 2002.16 1466.61 Q2002.16 1457.86 2005.22 1453.27 Q2008.3 1448.67 2014.11 1448.67 Z\" fill=\"#000000\" fill-rule=\"evenodd\" fill-opacity=\"1\" /><path clip-path=\"url(#clip860)\" d=\"M1138.23 1562.7 L1138.23 1581.6 L1132.34 1581.6 L1132.34 1532.4 L1138.23 1532.4 L1138.23 1537.81 Q1140.08 1534.62 1142.88 1533.1 Q1145.71 1531.54 1149.62 1531.54 Q1156.12 1531.54 1160.16 1536.69 Q1164.23 1541.85 1164.23 1550.25 Q1164.23 1558.65 1160.16 1563.81 Q1156.12 1568.97 1149.62 1568.97 Q1145.71 1568.97 1142.88 1567.44 Q1140.08 1565.88 1138.23 1562.7 M1158.15 1550.25 Q1158.15 1543.79 1155.48 1540.13 Q1152.84 1536.44 1148.19 1536.44 Q1143.55 1536.44 1140.87 1540.13 Q1138.23 1543.79 1138.23 1550.25 Q1138.23 1556.71 1140.87 1560.4 Q1143.55 1564.07 1148.19 1564.07 Q1152.84 1564.07 1155.48 1560.4 Q1158.15 1556.71 1158.15 1550.25 Z\" fill=\"#000000\" fill-rule=\"evenodd\" fill-opacity=\"1\" /><path clip-path=\"url(#clip860)\" d=\"M1187.76 1536.5 Q1183.04 1536.5 1180.31 1540.19 Q1177.57 1543.85 1177.57 1550.25 Q1177.57 1556.65 1180.28 1560.34 Q1183.01 1564 1187.76 1564 Q1192.43 1564 1195.17 1560.31 Q1197.91 1556.62 1197.91 1550.25 Q1197.91 1543.92 1195.17 1540.23 Q1192.43 1536.5 1187.76 1536.5 M1187.76 1531.54 Q1195.39 1531.54 1199.75 1536.5 Q1204.12 1541.47 1204.12 1550.25 Q1204.12 1559 1199.75 1564 Q1195.39 1568.97 1187.76 1568.97 Q1180.08 1568.97 1175.72 1564 Q1171.4 1559 1171.4 1550.25 Q1171.4 1541.47 1175.72 1536.5 Q1180.08 1531.54 1187.76 1531.54 Z\" fill=\"#000000\" fill-rule=\"evenodd\" fill-opacity=\"1\" /><path clip-path=\"url(#clip860)\" d=\"M1236.55 1533.45 L1236.55 1538.98 Q1234.07 1537.71 1231.39 1537.07 Q1228.72 1536.44 1225.85 1536.44 Q1221.49 1536.44 1219.3 1537.77 Q1217.13 1539.11 1217.13 1541.79 Q1217.13 1543.82 1218.69 1545 Q1220.25 1546.15 1224.96 1547.2 L1226.97 1547.64 Q1233.21 1548.98 1235.82 1551.43 Q1238.46 1553.85 1238.46 1558.21 Q1238.46 1563.17 1234.51 1566.07 Q1230.6 1568.97 1223.72 1568.97 Q1220.86 1568.97 1217.74 1568.39 Q1214.65 1567.85 1211.21 1566.74 L1211.21 1560.69 Q1214.46 1562.38 1217.61 1563.24 Q1220.76 1564.07 1223.85 1564.07 Q1227.99 1564.07 1230.21 1562.66 Q1232.44 1561.23 1232.44 1558.65 Q1232.44 1556.27 1230.82 1554.99 Q1229.23 1553.72 1223.79 1552.54 L1221.75 1552.07 Q1216.31 1550.92 1213.89 1548.56 Q1211.47 1546.18 1211.47 1542.04 Q1211.47 1537.01 1215.03 1534.27 Q1218.6 1531.54 1225.15 1531.54 Q1228.4 1531.54 1231.27 1532.01 Q1234.13 1532.49 1236.55 1533.45 Z\" fill=\"#000000\" fill-rule=\"evenodd\" fill-opacity=\"1\" /><path clip-path=\"url(#clip860)\" d=\"M1253.58 1522.27 L1253.58 1532.4 L1265.64 1532.4 L1265.64 1536.95 L1253.58 1536.95 L1253.58 1556.3 Q1253.58 1560.66 1254.75 1561.9 Q1255.96 1563.14 1259.62 1563.14 L1265.64 1563.14 L1265.64 1568.04 L1259.62 1568.04 Q1252.84 1568.04 1250.27 1565.53 Q1247.69 1562.98 1247.69 1556.3 L1247.69 1536.95 L1243.39 1536.95 L1243.39 1532.4 L1247.69 1532.4 L1247.69 1522.27 L1253.58 1522.27 Z\" fill=\"#000000\" fill-rule=\"evenodd\" fill-opacity=\"1\" /><path clip-path=\"url(#clip860)\" d=\"M1279.01 1562.7 L1279.01 1581.6 L1273.12 1581.6 L1273.12 1532.4 L1279.01 1532.4 L1279.01 1537.81 Q1280.85 1534.62 1283.65 1533.1 Q1286.49 1531.54 1290.4 1531.54 Q1296.9 1531.54 1300.94 1536.69 Q1305.01 1541.85 1305.01 1550.25 Q1305.01 1558.65 1300.94 1563.81 Q1296.9 1568.97 1290.4 1568.97 Q1286.49 1568.97 1283.65 1567.44 Q1280.85 1565.88 1279.01 1562.7 M1298.93 1550.25 Q1298.93 1543.79 1296.26 1540.13 Q1293.62 1536.44 1288.97 1536.44 Q1284.32 1536.44 1281.65 1540.13 Q1279.01 1543.79 1279.01 1550.25 Q1279.01 1556.71 1281.65 1560.4 Q1284.32 1564.07 1288.97 1564.07 Q1293.62 1564.07 1296.26 1560.4 Q1298.93 1556.71 1298.93 1550.25 Z\" fill=\"#000000\" fill-rule=\"evenodd\" fill-opacity=\"1\" /><path clip-path=\"url(#clip860)\" d=\"M1335.38 1537.87 Q1334.39 1537.3 1333.21 1537.04 Q1332.07 1536.76 1330.67 1536.76 Q1325.7 1536.76 1323.03 1540 Q1320.38 1543.22 1320.38 1549.27 L1320.38 1568.04 L1314.5 1568.04 L1314.5 1532.4 L1320.38 1532.4 L1320.38 1537.93 Q1322.23 1534.69 1325.19 1533.13 Q1328.15 1531.54 1332.38 1531.54 Q1332.99 1531.54 1333.72 1531.63 Q1334.45 1531.7 1335.34 1531.85 L1335.38 1537.87 Z\" fill=\"#000000\" fill-rule=\"evenodd\" fill-opacity=\"1\" /><path clip-path=\"url(#clip860)\" d=\"M1370.58 1548.76 L1370.58 1551.62 L1343.65 1551.62 Q1344.03 1557.67 1347.28 1560.85 Q1350.56 1564 1356.38 1564 Q1359.76 1564 1362.91 1563.17 Q1366.09 1562.35 1369.21 1560.69 L1369.21 1566.23 Q1366.06 1567.57 1362.75 1568.27 Q1359.44 1568.97 1356.03 1568.97 Q1347.5 1568.97 1342.51 1564 Q1337.54 1559.04 1337.54 1550.57 Q1337.54 1541.82 1342.25 1536.69 Q1346.99 1531.54 1355.01 1531.54 Q1362.21 1531.54 1366.38 1536.18 Q1370.58 1540.8 1370.58 1548.76 M1364.72 1547.04 Q1364.66 1542.23 1362.02 1539.37 Q1359.41 1536.5 1355.08 1536.5 Q1350.18 1536.5 1347.22 1539.27 Q1344.29 1542.04 1343.84 1547.07 L1364.72 1547.04 Z\" fill=\"#000000\" fill-rule=\"evenodd\" fill-opacity=\"1\" /><path clip-path=\"url(#clip860)\" d=\"M1403.65 1537.81 L1403.65 1518.52 L1409.5 1518.52 L1409.5 1568.04 L1403.65 1568.04 L1403.65 1562.7 Q1401.8 1565.88 1398.97 1567.44 Q1396.17 1568.97 1392.22 1568.97 Q1385.76 1568.97 1381.69 1563.81 Q1377.64 1558.65 1377.64 1550.25 Q1377.64 1541.85 1381.69 1536.69 Q1385.76 1531.54 1392.22 1531.54 Q1396.17 1531.54 1398.97 1533.1 Q1401.8 1534.62 1403.65 1537.81 M1383.69 1550.25 Q1383.69 1556.71 1386.33 1560.4 Q1389.01 1564.07 1393.65 1564.07 Q1398.3 1564.07 1400.97 1560.4 Q1403.65 1556.71 1403.65 1550.25 Q1403.65 1543.79 1400.97 1540.13 Q1398.3 1536.44 1393.65 1536.44 Q1389.01 1536.44 1386.33 1540.13 Q1383.69 1543.79 1383.69 1550.25 Z\" fill=\"#000000\" fill-rule=\"evenodd\" fill-opacity=\"1\" /><path clip-path=\"url(#clip860)\" d=\"M1448.65 1578.87 L1448.65 1583.42 L1414.79 1583.42 L1414.79 1578.87 L1448.65 1578.87 Z\" fill=\"#000000\" fill-rule=\"evenodd\" fill-opacity=\"1\" /><path clip-path=\"url(#clip860)\" d=\"M1460.53 1562.63 L1482.97 1562.63 L1482.97 1568.04 L1452.79 1568.04 L1452.79 1562.63 Q1456.45 1558.85 1462.75 1552.48 Q1469.09 1546.08 1470.71 1544.24 Q1473.8 1540.77 1475.01 1538.38 Q1476.25 1535.96 1476.25 1533.64 Q1476.25 1529.85 1473.58 1527.46 Q1470.93 1525.08 1466.67 1525.08 Q1463.65 1525.08 1460.27 1526.13 Q1456.93 1527.18 1453.11 1529.31 L1453.11 1522.82 Q1456.99 1521.26 1460.37 1520.46 Q1463.74 1519.66 1466.54 1519.66 Q1473.93 1519.66 1478.32 1523.36 Q1482.71 1527.05 1482.71 1533.22 Q1482.71 1536.15 1481.6 1538.79 Q1480.51 1541.4 1477.62 1544.97 Q1476.82 1545.89 1472.56 1550.32 Q1468.29 1554.71 1460.53 1562.63 Z\" fill=\"#000000\" fill-rule=\"evenodd\" fill-opacity=\"1\" /><polyline clip-path=\"url(#clip860)\" style=\"stroke:#000000; stroke-linecap:butt; stroke-linejoin:round; stroke-width:4; stroke-opacity:1; fill:none\" points=\"\n",
       "  262.551,1423.18 262.551,123.472 \n",
       "  \"/>\n",
       "<polyline clip-path=\"url(#clip860)\" style=\"stroke:#000000; stroke-linecap:butt; stroke-linejoin:round; stroke-width:4; stroke-opacity:1; fill:none\" points=\"\n",
       "  262.551,1386.4 287.634,1386.4 \n",
       "  \"/>\n",
       "<polyline clip-path=\"url(#clip860)\" style=\"stroke:#000000; stroke-linecap:butt; stroke-linejoin:round; stroke-width:4; stroke-opacity:1; fill:none\" points=\"\n",
       "  262.551,1104.91 287.634,1104.91 \n",
       "  \"/>\n",
       "<polyline clip-path=\"url(#clip860)\" style=\"stroke:#000000; stroke-linecap:butt; stroke-linejoin:round; stroke-width:4; stroke-opacity:1; fill:none\" points=\"\n",
       "  262.551,823.43 287.634,823.43 \n",
       "  \"/>\n",
       "<polyline clip-path=\"url(#clip860)\" style=\"stroke:#000000; stroke-linecap:butt; stroke-linejoin:round; stroke-width:4; stroke-opacity:1; fill:none\" points=\"\n",
       "  262.551,541.947 287.634,541.947 \n",
       "  \"/>\n",
       "<polyline clip-path=\"url(#clip860)\" style=\"stroke:#000000; stroke-linecap:butt; stroke-linejoin:round; stroke-width:4; stroke-opacity:1; fill:none\" points=\"\n",
       "  262.551,260.464 287.634,260.464 \n",
       "  \"/>\n",
       "<path clip-path=\"url(#clip860)\" d=\"M214.607 1372.19 Q210.996 1372.19 209.167 1375.76 Q207.362 1379.3 207.362 1386.43 Q207.362 1393.54 209.167 1397.1 Q210.996 1400.64 214.607 1400.64 Q218.241 1400.64 220.047 1397.1 Q221.875 1393.54 221.875 1386.43 Q221.875 1379.3 220.047 1375.76 Q218.241 1372.19 214.607 1372.19 M214.607 1368.49 Q220.417 1368.49 223.473 1373.1 Q226.551 1377.68 226.551 1386.43 Q226.551 1395.16 223.473 1399.76 Q220.417 1404.35 214.607 1404.35 Q208.797 1404.35 205.718 1399.76 Q202.662 1395.16 202.662 1386.43 Q202.662 1377.68 205.718 1373.1 Q208.797 1368.49 214.607 1368.49 Z\" fill=\"#000000\" fill-rule=\"evenodd\" fill-opacity=\"1\" /><path clip-path=\"url(#clip860)\" d=\"M148.311 1118.26 L164.63 1118.26 L164.63 1122.19 L142.686 1122.19 L142.686 1118.26 Q145.348 1115.5 149.931 1110.87 Q154.538 1106.22 155.718 1104.88 Q157.964 1102.35 158.843 1100.62 Q159.746 1098.86 159.746 1097.17 Q159.746 1094.42 157.802 1092.68 Q155.88 1090.94 152.778 1090.94 Q150.579 1090.94 148.126 1091.71 Q145.695 1092.47 142.917 1094.02 L142.917 1089.3 Q145.741 1088.17 148.195 1087.59 Q150.649 1087.01 152.686 1087.01 Q158.056 1087.01 161.251 1089.69 Q164.445 1092.38 164.445 1096.87 Q164.445 1099 163.635 1100.92 Q162.848 1102.82 160.741 1105.41 Q160.163 1106.08 157.061 1109.3 Q153.959 1112.49 148.311 1118.26 Z\" fill=\"#000000\" fill-rule=\"evenodd\" fill-opacity=\"1\" /><path clip-path=\"url(#clip860)\" d=\"M174.491 1087.63 L192.848 1087.63 L192.848 1091.57 L178.774 1091.57 L178.774 1100.04 Q179.792 1099.69 180.811 1099.53 Q181.829 1099.35 182.848 1099.35 Q188.635 1099.35 192.014 1102.52 Q195.394 1105.69 195.394 1111.1 Q195.394 1116.68 191.922 1119.79 Q188.45 1122.86 182.13 1122.86 Q179.954 1122.86 177.686 1122.49 Q175.44 1122.12 173.033 1121.38 L173.033 1116.68 Q175.116 1117.82 177.339 1118.37 Q179.561 1118.93 182.038 1118.93 Q186.042 1118.93 188.38 1116.82 Q190.718 1114.72 190.718 1111.1 Q190.718 1107.49 188.38 1105.39 Q186.042 1103.28 182.038 1103.28 Q180.163 1103.28 178.288 1103.7 Q176.436 1104.11 174.491 1104.99 L174.491 1087.63 Z\" fill=\"#000000\" fill-rule=\"evenodd\" fill-opacity=\"1\" /><path clip-path=\"url(#clip860)\" d=\"M214.607 1090.71 Q210.996 1090.71 209.167 1094.28 Q207.362 1097.82 207.362 1104.95 Q207.362 1112.05 209.167 1115.62 Q210.996 1119.16 214.607 1119.16 Q218.241 1119.16 220.047 1115.62 Q221.875 1112.05 221.875 1104.95 Q221.875 1097.82 220.047 1094.28 Q218.241 1090.71 214.607 1090.71 M214.607 1087.01 Q220.417 1087.01 223.473 1091.61 Q226.551 1096.2 226.551 1104.95 Q226.551 1113.67 223.473 1118.28 Q220.417 1122.86 214.607 1122.86 Q208.797 1122.86 205.718 1118.28 Q202.662 1113.67 202.662 1104.95 Q202.662 1096.2 205.718 1091.61 Q208.797 1087.01 214.607 1087.01 Z\" fill=\"#000000\" fill-rule=\"evenodd\" fill-opacity=\"1\" /><path clip-path=\"url(#clip860)\" d=\"M144.329 806.15 L162.686 806.15 L162.686 810.085 L148.612 810.085 L148.612 818.557 Q149.63 818.21 150.649 818.048 Q151.667 817.863 152.686 817.863 Q158.473 817.863 161.852 821.034 Q165.232 824.205 165.232 829.622 Q165.232 835.201 161.76 838.303 Q158.288 841.381 151.968 841.381 Q149.792 841.381 147.524 841.011 Q145.279 840.64 142.871 839.9 L142.871 835.201 Q144.954 836.335 147.177 836.891 Q149.399 837.446 151.876 837.446 Q155.88 837.446 158.218 835.34 Q160.556 833.233 160.556 829.622 Q160.556 826.011 158.218 823.904 Q155.88 821.798 151.876 821.798 Q150.001 821.798 148.126 822.215 Q146.274 822.631 144.329 823.511 L144.329 806.15 Z\" fill=\"#000000\" fill-rule=\"evenodd\" fill-opacity=\"1\" /><path clip-path=\"url(#clip860)\" d=\"M184.445 809.229 Q180.834 809.229 179.005 812.793 Q177.2 816.335 177.2 823.465 Q177.2 830.571 179.005 834.136 Q180.834 837.678 184.445 837.678 Q188.079 837.678 189.885 834.136 Q191.713 830.571 191.713 823.465 Q191.713 816.335 189.885 812.793 Q188.079 809.229 184.445 809.229 M184.445 805.525 Q190.255 805.525 193.311 810.131 Q196.389 814.715 196.389 823.465 Q196.389 832.191 193.311 836.798 Q190.255 841.381 184.445 841.381 Q178.635 841.381 175.556 836.798 Q172.501 832.191 172.501 823.465 Q172.501 814.715 175.556 810.131 Q178.635 805.525 184.445 805.525 Z\" fill=\"#000000\" fill-rule=\"evenodd\" fill-opacity=\"1\" /><path clip-path=\"url(#clip860)\" d=\"M214.607 809.229 Q210.996 809.229 209.167 812.793 Q207.362 816.335 207.362 823.465 Q207.362 830.571 209.167 834.136 Q210.996 837.678 214.607 837.678 Q218.241 837.678 220.047 834.136 Q221.875 830.571 221.875 823.465 Q221.875 816.335 220.047 812.793 Q218.241 809.229 214.607 809.229 M214.607 805.525 Q220.417 805.525 223.473 810.131 Q226.551 814.715 226.551 823.465 Q226.551 832.191 223.473 836.798 Q220.417 841.381 214.607 841.381 Q208.797 841.381 205.718 836.798 Q202.662 832.191 202.662 823.465 Q202.662 814.715 205.718 810.131 Q208.797 805.525 214.607 805.525 Z\" fill=\"#000000\" fill-rule=\"evenodd\" fill-opacity=\"1\" /><path clip-path=\"url(#clip860)\" d=\"M143.103 524.667 L165.325 524.667 L165.325 526.658 L152.778 559.227 L147.894 559.227 L159.7 528.602 L143.103 528.602 L143.103 524.667 Z\" fill=\"#000000\" fill-rule=\"evenodd\" fill-opacity=\"1\" /><path clip-path=\"url(#clip860)\" d=\"M174.491 524.667 L192.848 524.667 L192.848 528.602 L178.774 528.602 L178.774 537.074 Q179.792 536.727 180.811 536.565 Q181.829 536.38 182.848 536.38 Q188.635 536.38 192.014 539.551 Q195.394 542.723 195.394 548.139 Q195.394 553.718 191.922 556.82 Q188.45 559.898 182.13 559.898 Q179.954 559.898 177.686 559.528 Q175.44 559.158 173.033 558.417 L173.033 553.718 Q175.116 554.852 177.339 555.408 Q179.561 555.963 182.038 555.963 Q186.042 555.963 188.38 553.857 Q190.718 551.75 190.718 548.139 Q190.718 544.528 188.38 542.422 Q186.042 540.315 182.038 540.315 Q180.163 540.315 178.288 540.732 Q176.436 541.148 174.491 542.028 L174.491 524.667 Z\" fill=\"#000000\" fill-rule=\"evenodd\" fill-opacity=\"1\" /><path clip-path=\"url(#clip860)\" d=\"M214.607 527.746 Q210.996 527.746 209.167 531.311 Q207.362 534.852 207.362 541.982 Q207.362 549.088 209.167 552.653 Q210.996 556.195 214.607 556.195 Q218.241 556.195 220.047 552.653 Q221.875 549.088 221.875 541.982 Q221.875 534.852 220.047 531.311 Q218.241 527.746 214.607 527.746 M214.607 524.042 Q220.417 524.042 223.473 528.649 Q226.551 533.232 226.551 541.982 Q226.551 550.709 223.473 555.315 Q220.417 559.898 214.607 559.898 Q208.797 559.898 205.718 555.315 Q202.662 550.709 202.662 541.982 Q202.662 533.232 205.718 528.649 Q208.797 524.042 214.607 524.042 Z\" fill=\"#000000\" fill-rule=\"evenodd\" fill-opacity=\"1\" /><path clip-path=\"url(#clip860)\" d=\"M114.931 273.809 L122.57 273.809 L122.57 247.443 L114.26 249.11 L114.26 244.851 L122.524 243.184 L127.2 243.184 L127.2 273.809 L134.839 273.809 L134.839 277.744 L114.931 277.744 L114.931 273.809 Z\" fill=\"#000000\" fill-rule=\"evenodd\" fill-opacity=\"1\" /><path clip-path=\"url(#clip860)\" d=\"M154.283 246.263 Q150.672 246.263 148.843 249.828 Q147.038 253.369 147.038 260.499 Q147.038 267.605 148.843 271.17 Q150.672 274.712 154.283 274.712 Q157.917 274.712 159.723 271.17 Q161.552 267.605 161.552 260.499 Q161.552 253.369 159.723 249.828 Q157.917 246.263 154.283 246.263 M154.283 242.559 Q160.093 242.559 163.149 247.166 Q166.227 251.749 166.227 260.499 Q166.227 269.226 163.149 273.832 Q160.093 278.415 154.283 278.415 Q148.473 278.415 145.394 273.832 Q142.339 269.226 142.339 260.499 Q142.339 251.749 145.394 247.166 Q148.473 242.559 154.283 242.559 Z\" fill=\"#000000\" fill-rule=\"evenodd\" fill-opacity=\"1\" /><path clip-path=\"url(#clip860)\" d=\"M184.445 246.263 Q180.834 246.263 179.005 249.828 Q177.2 253.369 177.2 260.499 Q177.2 267.605 179.005 271.17 Q180.834 274.712 184.445 274.712 Q188.079 274.712 189.885 271.17 Q191.713 267.605 191.713 260.499 Q191.713 253.369 189.885 249.828 Q188.079 246.263 184.445 246.263 M184.445 242.559 Q190.255 242.559 193.311 247.166 Q196.389 251.749 196.389 260.499 Q196.389 269.226 193.311 273.832 Q190.255 278.415 184.445 278.415 Q178.635 278.415 175.556 273.832 Q172.501 269.226 172.501 260.499 Q172.501 251.749 175.556 247.166 Q178.635 242.559 184.445 242.559 Z\" fill=\"#000000\" fill-rule=\"evenodd\" fill-opacity=\"1\" /><path clip-path=\"url(#clip860)\" d=\"M214.607 246.263 Q210.996 246.263 209.167 249.828 Q207.362 253.369 207.362 260.499 Q207.362 267.605 209.167 271.17 Q210.996 274.712 214.607 274.712 Q218.241 274.712 220.047 271.17 Q221.875 267.605 221.875 260.499 Q221.875 253.369 220.047 249.828 Q218.241 246.263 214.607 246.263 M214.607 242.559 Q220.417 242.559 223.473 247.166 Q226.551 251.749 226.551 260.499 Q226.551 269.226 223.473 273.832 Q220.417 278.415 214.607 278.415 Q208.797 278.415 205.718 273.832 Q202.662 269.226 202.662 260.499 Q202.662 251.749 205.718 247.166 Q208.797 242.559 214.607 242.559 Z\" fill=\"#000000\" fill-rule=\"evenodd\" fill-opacity=\"1\" /><path clip-path=\"url(#clip860)\" d=\"M16.4842 937.529 L16.4842 910.221 L21.895 910.221 L21.895 931.1 L35.8996 931.1 L35.8996 912.258 L41.3104 912.258 L41.3104 931.1 L64.0042 931.1 L64.0042 937.529 L16.4842 937.529 Z\" fill=\"#000000\" fill-rule=\"evenodd\" fill-opacity=\"1\" /><path clip-path=\"url(#clip860)\" d=\"M33.8307 884.376 Q33.2578 885.362 33.0032 886.54 Q32.7167 887.686 32.7167 889.086 Q32.7167 894.052 35.9632 896.725 Q39.1779 899.367 45.2253 899.367 L64.0042 899.367 L64.0042 905.255 L28.3562 905.255 L28.3562 899.367 L33.8944 899.367 Q30.6479 897.521 29.0883 894.561 Q27.4968 891.601 27.4968 887.368 Q27.4968 886.763 27.5923 886.031 Q27.656 885.299 27.8151 884.408 L33.8307 884.376 Z\" fill=\"#000000\" fill-rule=\"evenodd\" fill-opacity=\"1\" /><path clip-path=\"url(#clip860)\" d=\"M44.7161 849.173 L47.5806 849.173 L47.5806 876.1 Q53.6281 875.718 56.8109 872.472 Q59.9619 869.194 59.9619 863.369 Q59.9619 859.995 59.1344 856.844 Q58.3069 853.661 56.6518 850.542 L62.1899 850.542 Q63.5267 853.693 64.227 857.003 Q64.9272 860.313 64.9272 863.719 Q64.9272 872.249 59.9619 877.246 Q54.9967 882.211 46.5303 882.211 Q37.7774 882.211 32.6531 877.501 Q27.4968 872.758 27.4968 864.738 Q27.4968 857.544 32.1438 853.375 Q36.7589 849.173 44.7161 849.173 M42.9973 855.03 Q38.1912 855.093 35.3266 857.735 Q32.4621 860.345 32.4621 864.674 Q32.4621 869.575 35.2312 872.536 Q38.0002 875.464 43.0292 875.909 L42.9973 855.03 Z\" fill=\"#000000\" fill-rule=\"evenodd\" fill-opacity=\"1\" /><path clip-path=\"url(#clip860)\" d=\"M46.212 836.06 Q52.6732 836.06 56.3653 833.418 Q60.0256 830.745 60.0256 826.098 Q60.0256 821.451 56.3653 818.777 Q52.6732 816.104 46.212 816.104 Q39.7508 816.104 36.0905 818.777 Q32.3984 821.451 32.3984 826.098 Q32.3984 830.745 36.0905 833.418 Q39.7508 836.06 46.212 836.06 M58.657 816.104 Q61.8398 817.95 63.3994 820.782 Q64.9272 823.583 64.9272 827.53 Q64.9272 833.991 59.771 838.065 Q54.6147 842.107 46.212 842.107 Q37.8093 842.107 32.6531 838.065 Q27.4968 833.991 27.4968 827.53 Q27.4968 823.583 29.0564 820.782 Q30.5842 817.95 33.7671 816.104 L28.3562 816.104 L28.3562 810.247 L77.5631 810.247 L77.5631 816.104 L58.657 816.104 Z\" fill=\"#000000\" fill-rule=\"evenodd\" fill-opacity=\"1\" /><path clip-path=\"url(#clip860)\" d=\"M49.9359 798.789 L28.3562 798.789 L28.3562 792.932 L49.7131 792.932 Q54.7739 792.932 57.3202 790.959 Q59.8346 788.986 59.8346 785.039 Q59.8346 780.296 56.8109 777.559 Q53.7872 774.79 48.5673 774.79 L28.3562 774.79 L28.3562 768.934 L64.0042 768.934 L64.0042 774.79 L58.5296 774.79 Q61.7762 776.923 63.3676 779.755 Q64.9272 782.556 64.9272 786.28 Q64.9272 792.423 61.1078 795.606 Q57.2883 798.789 49.9359 798.789 M27.4968 784.052 L27.4968 784.052 Z\" fill=\"#000000\" fill-rule=\"evenodd\" fill-opacity=\"1\" /><path clip-path=\"url(#clip860)\" d=\"M44.7161 726.379 L47.5806 726.379 L47.5806 753.306 Q53.6281 752.924 56.8109 749.677 Q59.9619 746.399 59.9619 740.574 Q59.9619 737.201 59.1344 734.05 Q58.3069 730.867 56.6518 727.748 L62.1899 727.748 Q63.5267 730.899 64.227 734.209 Q64.9272 737.519 64.9272 740.925 Q64.9272 749.455 59.9619 754.452 Q54.9967 759.417 46.5303 759.417 Q37.7774 759.417 32.6531 754.706 Q27.4968 749.964 27.4968 741.943 Q27.4968 734.75 32.1438 730.58 Q36.7589 726.379 44.7161 726.379 M42.9973 732.235 Q38.1912 732.299 35.3266 734.941 Q32.4621 737.551 32.4621 741.879 Q32.4621 746.781 35.2312 749.741 Q38.0002 752.669 43.0292 753.115 L42.9973 732.235 Z\" fill=\"#000000\" fill-rule=\"evenodd\" fill-opacity=\"1\" /><path clip-path=\"url(#clip860)\" d=\"M42.4881 687.134 L64.0042 687.134 L64.0042 692.991 L42.679 692.991 Q37.6183 692.991 35.1038 694.964 Q32.5894 696.938 32.5894 700.884 Q32.5894 705.627 35.6131 708.364 Q38.6368 711.101 43.8567 711.101 L64.0042 711.101 L64.0042 716.989 L28.3562 716.989 L28.3562 711.101 L33.8944 711.101 Q30.6797 709.001 29.0883 706.168 Q27.4968 703.303 27.4968 699.579 Q27.4968 693.436 31.3163 690.285 Q35.1038 687.134 42.4881 687.134 Z\" fill=\"#000000\" fill-rule=\"evenodd\" fill-opacity=\"1\" /><path clip-path=\"url(#clip860)\" d=\"M29.7248 649.799 L35.1993 649.799 Q33.8307 652.282 33.1623 654.797 Q32.4621 657.279 32.4621 659.825 Q32.4621 665.523 36.0905 668.674 Q39.6872 671.825 46.212 671.825 Q52.7369 671.825 56.3653 668.674 Q59.9619 665.523 59.9619 659.825 Q59.9619 657.279 59.2935 654.797 Q58.5933 652.282 57.2247 649.799 L62.6355 649.799 Q63.7814 652.25 64.3543 654.892 Q64.9272 657.502 64.9272 660.462 Q64.9272 668.515 59.8664 673.257 Q54.8057 678 46.212 678 Q37.491 678 32.4939 673.225 Q27.4968 668.419 27.4968 660.08 Q27.4968 657.375 28.0697 654.797 Q28.6108 652.218 29.7248 649.799 Z\" fill=\"#000000\" fill-rule=\"evenodd\" fill-opacity=\"1\" /><path clip-path=\"url(#clip860)\" d=\"M67.3143 624.782 Q73.68 627.265 75.6216 629.62 Q77.5631 631.975 77.5631 635.922 L77.5631 640.601 L72.6615 640.601 L72.6615 637.164 Q72.6615 634.745 71.5157 633.408 Q70.3699 632.071 66.1048 630.448 L63.4312 629.397 L28.3562 643.816 L28.3562 637.609 L56.238 626.469 L28.3562 615.329 L28.3562 609.123 L67.3143 624.782 Z\" fill=\"#000000\" fill-rule=\"evenodd\" fill-opacity=\"1\" /><path clip-path=\"url(#clip860)\" d=\"M803.296 12.096 L811.479 12.096 L811.479 36.8875 L841.212 36.8875 L841.212 12.096 L849.395 12.096 L849.395 72.576 L841.212 72.576 L841.212 43.7741 L811.479 43.7741 L811.479 72.576 L803.296 72.576 L803.296 12.096 Z\" fill=\"#000000\" fill-rule=\"evenodd\" fill-opacity=\"1\" /><path clip-path=\"url(#clip860)\" d=\"M865.356 27.2059 L872.809 27.2059 L872.809 72.576 L865.356 72.576 L865.356 27.2059 M865.356 9.54393 L872.809 9.54393 L872.809 18.9825 L865.356 18.9825 L865.356 9.54393 Z\" fill=\"#000000\" fill-rule=\"evenodd\" fill-opacity=\"1\" /><path clip-path=\"url(#clip860)\" d=\"M917.329 28.5427 L917.329 35.5912 Q914.169 33.9709 910.766 33.1607 Q907.363 32.3505 903.718 32.3505 Q898.168 32.3505 895.373 34.0519 Q892.618 35.7533 892.618 39.156 Q892.618 41.7486 894.603 43.2475 Q896.588 44.7058 902.583 46.0426 L905.135 46.6097 Q913.075 48.3111 916.397 51.4303 Q919.759 54.509 919.759 60.0587 Q919.759 66.3781 914.736 70.0644 Q909.753 73.7508 901.004 73.7508 Q897.358 73.7508 893.388 73.0216 Q889.458 72.3329 885.083 70.9151 L885.083 63.2184 Q889.215 65.3654 893.226 66.4591 Q897.236 67.5124 901.166 67.5124 Q906.432 67.5124 909.267 65.73 Q912.103 63.9071 912.103 60.6258 Q912.103 57.5877 910.037 55.9673 Q908.012 54.3469 901.085 52.8481 L898.492 52.2405 Q891.565 50.7821 888.486 47.7845 Q885.408 44.7463 885.408 39.4801 Q885.408 33.0797 889.945 29.5959 Q894.482 26.1121 902.826 26.1121 Q906.958 26.1121 910.604 26.7198 Q914.25 27.3274 917.329 28.5427 Z\" fill=\"#000000\" fill-rule=\"evenodd\" fill-opacity=\"1\" /><path clip-path=\"url(#clip860)\" d=\"M939.001 14.324 L939.001 27.2059 L954.354 27.2059 L954.354 32.9987 L939.001 32.9987 L939.001 57.6282 Q939.001 63.1779 940.5 64.7578 Q942.039 66.3376 946.698 66.3376 L954.354 66.3376 L954.354 72.576 L946.698 72.576 Q938.069 72.576 934.788 69.3758 Q931.507 66.1351 931.507 57.6282 L931.507 32.9987 L926.038 32.9987 L926.038 27.2059 L931.507 27.2059 L931.507 14.324 L939.001 14.324 Z\" fill=\"#000000\" fill-rule=\"evenodd\" fill-opacity=\"1\" /><path clip-path=\"url(#clip860)\" d=\"M981.738 32.4315 Q975.743 32.4315 972.259 37.1306 Q968.775 41.7891 968.775 49.9314 Q968.775 58.0738 972.218 62.7728 Q975.702 67.4314 981.738 67.4314 Q987.693 67.4314 991.177 62.7323 Q994.66 58.0333 994.66 49.9314 Q994.66 41.8701 991.177 37.1711 Q987.693 32.4315 981.738 32.4315 M981.738 26.1121 Q991.46 26.1121 997.01 32.4315 Q1002.56 38.7509 1002.56 49.9314 Q1002.56 61.0714 997.01 67.4314 Q991.46 73.7508 981.738 73.7508 Q971.975 73.7508 966.426 67.4314 Q960.916 61.0714 960.916 49.9314 Q960.916 38.7509 966.426 32.4315 Q971.975 26.1121 981.738 26.1121 Z\" fill=\"#000000\" fill-rule=\"evenodd\" fill-opacity=\"1\" /><path clip-path=\"url(#clip860)\" d=\"M1044.77 49.3643 Q1044.77 41.2625 1041.41 36.8065 Q1038.09 32.3505 1032.05 32.3505 Q1026.05 32.3505 1022.69 36.8065 Q1019.37 41.2625 1019.37 49.3643 Q1019.37 57.4256 1022.69 61.8816 Q1026.05 66.3376 1032.05 66.3376 Q1038.09 66.3376 1041.41 61.8816 Q1044.77 57.4256 1044.77 49.3643 M1052.22 66.9452 Q1052.22 78.5308 1047.08 84.1616 Q1041.93 89.8329 1031.32 89.8329 Q1027.39 89.8329 1023.91 89.2252 Q1020.42 88.6581 1017.14 87.4428 L1017.14 80.1917 Q1020.42 81.9741 1023.62 82.8248 Q1026.82 83.6755 1030.15 83.6755 Q1037.48 83.6755 1041.12 79.8271 Q1044.77 76.0193 1044.77 68.282 L1044.77 64.5957 Q1042.46 68.6061 1038.86 70.5911 Q1035.25 72.576 1030.23 72.576 Q1021.88 72.576 1016.78 66.2161 Q1011.67 59.8562 1011.67 49.3643 Q1011.67 38.832 1016.78 32.472 Q1021.88 26.1121 1030.23 26.1121 Q1035.25 26.1121 1038.86 28.0971 Q1042.46 30.082 1044.77 34.0924 L1044.77 27.2059 L1052.22 27.2059 L1052.22 66.9452 Z\" fill=\"#000000\" fill-rule=\"evenodd\" fill-opacity=\"1\" /><path clip-path=\"url(#clip860)\" d=\"M1093.87 34.1734 Q1092.61 33.4443 1091.11 33.1202 Q1089.65 32.7556 1087.87 32.7556 Q1081.55 32.7556 1078.15 36.8875 Q1074.79 40.9789 1074.79 48.6757 L1074.79 72.576 L1067.29 72.576 L1067.29 27.2059 L1074.79 27.2059 L1074.79 34.2544 Q1077.14 30.1225 1080.9 28.1376 Q1084.67 26.1121 1090.06 26.1121 Q1090.83 26.1121 1091.76 26.2337 Q1092.69 26.3147 1093.83 26.5172 L1093.87 34.1734 Z\" fill=\"#000000\" fill-rule=\"evenodd\" fill-opacity=\"1\" /><path clip-path=\"url(#clip860)\" d=\"M1122.3 49.7694 Q1113.27 49.7694 1109.79 51.8354 Q1106.3 53.9013 1106.3 58.8839 Q1106.3 62.8538 1108.9 65.2034 Q1111.53 67.5124 1116.03 67.5124 Q1122.22 67.5124 1125.95 63.1374 Q1129.72 58.7219 1129.72 51.4303 L1129.72 49.7694 L1122.3 49.7694 M1137.17 46.6907 L1137.17 72.576 L1129.72 72.576 L1129.72 65.6895 Q1127.17 69.8214 1123.36 71.8063 Q1119.55 73.7508 1114.04 73.7508 Q1107.07 73.7508 1102.94 69.8619 Q1098.85 65.9325 1098.85 59.3701 Q1098.85 51.7138 1103.95 47.825 Q1109.1 43.9361 1119.27 43.9361 L1129.72 43.9361 L1129.72 43.2069 Q1129.72 38.0623 1126.31 35.2672 Q1122.95 32.4315 1116.84 32.4315 Q1112.95 32.4315 1109.26 33.3632 Q1105.57 34.295 1102.17 36.1584 L1102.17 29.2718 Q1106.26 27.692 1110.11 26.9223 Q1113.96 26.1121 1117.61 26.1121 Q1127.45 26.1121 1132.31 31.2163 Q1137.17 36.3204 1137.17 46.6907 Z\" fill=\"#000000\" fill-rule=\"evenodd\" fill-opacity=\"1\" /><path clip-path=\"url(#clip860)\" d=\"M1187.85 35.9153 Q1190.64 30.8922 1194.53 28.5022 Q1198.42 26.1121 1203.69 26.1121 Q1210.78 26.1121 1214.62 31.0947 Q1218.47 36.0368 1218.47 45.1919 L1218.47 72.576 L1210.98 72.576 L1210.98 45.4349 Q1210.98 38.913 1208.67 35.7533 Q1206.36 32.5936 1201.62 32.5936 Q1195.83 32.5936 1192.47 36.4419 Q1189.1 40.2903 1189.1 46.9338 L1189.1 72.576 L1181.61 72.576 L1181.61 45.4349 Q1181.61 38.8725 1179.3 35.7533 Q1176.99 32.5936 1172.17 32.5936 Q1166.46 32.5936 1163.1 36.4824 Q1159.73 40.3308 1159.73 46.9338 L1159.73 72.576 L1152.24 72.576 L1152.24 27.2059 L1159.73 27.2059 L1159.73 34.2544 Q1162.29 30.082 1165.85 28.0971 Q1169.42 26.1121 1174.32 26.1121 Q1179.26 26.1121 1182.7 28.6237 Q1186.19 31.1352 1187.85 35.9153 Z\" fill=\"#000000\" fill-rule=\"evenodd\" fill-opacity=\"1\" /><path clip-path=\"url(#clip860)\" d=\"M1277.29 32.4315 Q1271.3 32.4315 1267.81 37.1306 Q1264.33 41.7891 1264.33 49.9314 Q1264.33 58.0738 1267.77 62.7728 Q1271.26 67.4314 1277.29 67.4314 Q1283.25 67.4314 1286.73 62.7323 Q1290.21 58.0333 1290.21 49.9314 Q1290.21 41.8701 1286.73 37.1711 Q1283.25 32.4315 1277.29 32.4315 M1277.29 26.1121 Q1287.01 26.1121 1292.56 32.4315 Q1298.11 38.7509 1298.11 49.9314 Q1298.11 61.0714 1292.56 67.4314 Q1287.01 73.7508 1277.29 73.7508 Q1267.53 73.7508 1261.98 67.4314 Q1256.47 61.0714 1256.47 49.9314 Q1256.47 38.7509 1261.98 32.4315 Q1267.53 26.1121 1277.29 26.1121 Z\" fill=\"#000000\" fill-rule=\"evenodd\" fill-opacity=\"1\" /><path clip-path=\"url(#clip860)\" d=\"M1333.44 9.54393 L1333.44 15.7418 L1326.31 15.7418 Q1322.3 15.7418 1320.72 17.3622 Q1319.18 18.9825 1319.18 23.1955 L1319.18 27.2059 L1331.45 27.2059 L1331.45 32.9987 L1319.18 32.9987 L1319.18 72.576 L1311.68 72.576 L1311.68 32.9987 L1304.55 32.9987 L1304.55 27.2059 L1311.68 27.2059 L1311.68 24.0462 Q1311.68 16.471 1315.21 13.0277 Q1318.73 9.54393 1326.39 9.54393 L1333.44 9.54393 Z\" fill=\"#000000\" fill-rule=\"evenodd\" fill-opacity=\"1\" /><path clip-path=\"url(#clip860)\" d=\"M1373.26 65.7705 L1373.26 89.8329 L1365.76 89.8329 L1365.76 27.2059 L1373.26 27.2059 L1373.26 34.0924 Q1375.61 30.0415 1379.17 28.0971 Q1382.78 26.1121 1387.76 26.1121 Q1396.02 26.1121 1401.17 32.6746 Q1406.35 39.2371 1406.35 49.9314 Q1406.35 60.6258 1401.17 67.1883 Q1396.02 73.7508 1387.76 73.7508 Q1382.78 73.7508 1379.17 71.8063 Q1375.61 69.8214 1373.26 65.7705 M1398.62 49.9314 Q1398.62 41.7081 1395.21 37.0496 Q1391.85 32.3505 1385.94 32.3505 Q1380.02 32.3505 1376.62 37.0496 Q1373.26 41.7081 1373.26 49.9314 Q1373.26 58.1548 1376.62 62.8538 Q1380.02 67.5124 1385.94 67.5124 Q1391.85 67.5124 1395.21 62.8538 Q1398.62 58.1548 1398.62 49.9314 Z\" fill=\"#000000\" fill-rule=\"evenodd\" fill-opacity=\"1\" /><path clip-path=\"url(#clip860)\" d=\"M1436.29 32.4315 Q1430.29 32.4315 1426.81 37.1306 Q1423.33 41.7891 1423.33 49.9314 Q1423.33 58.0738 1426.77 62.7728 Q1430.25 67.4314 1436.29 67.4314 Q1442.24 67.4314 1445.73 62.7323 Q1449.21 58.0333 1449.21 49.9314 Q1449.21 41.8701 1445.73 37.1711 Q1442.24 32.4315 1436.29 32.4315 M1436.29 26.1121 Q1446.01 26.1121 1451.56 32.4315 Q1457.11 38.7509 1457.11 49.9314 Q1457.11 61.0714 1451.56 67.4314 Q1446.01 73.7508 1436.29 73.7508 Q1426.53 73.7508 1420.98 67.4314 Q1415.47 61.0714 1415.47 49.9314 Q1415.47 38.7509 1420.98 32.4315 Q1426.53 26.1121 1436.29 26.1121 Z\" fill=\"#000000\" fill-rule=\"evenodd\" fill-opacity=\"1\" /><path clip-path=\"url(#clip860)\" d=\"M1498.39 28.5427 L1498.39 35.5912 Q1495.23 33.9709 1491.83 33.1607 Q1488.43 32.3505 1484.78 32.3505 Q1479.23 32.3505 1476.43 34.0519 Q1473.68 35.7533 1473.68 39.156 Q1473.68 41.7486 1475.66 43.2475 Q1477.65 44.7058 1483.65 46.0426 L1486.2 46.6097 Q1494.14 48.3111 1497.46 51.4303 Q1500.82 54.509 1500.82 60.0587 Q1500.82 66.3781 1495.8 70.0644 Q1490.82 73.7508 1482.07 73.7508 Q1478.42 73.7508 1474.45 73.0216 Q1470.52 72.3329 1466.15 70.9151 L1466.15 63.2184 Q1470.28 65.3654 1474.29 66.4591 Q1478.3 67.5124 1482.23 67.5124 Q1487.49 67.5124 1490.33 65.73 Q1493.16 63.9071 1493.16 60.6258 Q1493.16 57.5877 1491.1 55.9673 Q1489.07 54.3469 1482.15 52.8481 L1479.55 52.2405 Q1472.63 50.7821 1469.55 47.7845 Q1466.47 44.7463 1466.47 39.4801 Q1466.47 33.0797 1471.01 29.5959 Q1475.54 26.1121 1483.89 26.1121 Q1488.02 26.1121 1491.67 26.7198 Q1495.31 27.3274 1498.39 28.5427 Z\" fill=\"#000000\" fill-rule=\"evenodd\" fill-opacity=\"1\" /><path clip-path=\"url(#clip860)\" d=\"M1520.06 14.324 L1520.06 27.2059 L1535.42 27.2059 L1535.42 32.9987 L1520.06 32.9987 L1520.06 57.6282 Q1520.06 63.1779 1521.56 64.7578 Q1523.1 66.3376 1527.76 66.3376 L1535.42 66.3376 L1535.42 72.576 L1527.76 72.576 Q1519.13 72.576 1515.85 69.3758 Q1512.57 66.1351 1512.57 57.6282 L1512.57 32.9987 L1507.1 32.9987 L1507.1 27.2059 L1512.57 27.2059 L1512.57 14.324 L1520.06 14.324 Z\" fill=\"#000000\" fill-rule=\"evenodd\" fill-opacity=\"1\" /><path clip-path=\"url(#clip860)\" d=\"M1552.43 65.7705 L1552.43 89.8329 L1544.94 89.8329 L1544.94 27.2059 L1552.43 27.2059 L1552.43 34.0924 Q1554.78 30.0415 1558.34 28.0971 Q1561.95 26.1121 1566.93 26.1121 Q1575.2 26.1121 1580.34 32.6746 Q1585.53 39.2371 1585.53 49.9314 Q1585.53 60.6258 1580.34 67.1883 Q1575.2 73.7508 1566.93 73.7508 Q1561.95 73.7508 1558.34 71.8063 Q1554.78 69.8214 1552.43 65.7705 M1577.79 49.9314 Q1577.79 41.7081 1574.39 37.0496 Q1571.02 32.3505 1565.11 32.3505 Q1559.19 32.3505 1555.79 37.0496 Q1552.43 41.7081 1552.43 49.9314 Q1552.43 58.1548 1555.79 62.8538 Q1559.19 67.5124 1565.11 67.5124 Q1571.02 67.5124 1574.39 62.8538 Q1577.79 58.1548 1577.79 49.9314 Z\" fill=\"#000000\" fill-rule=\"evenodd\" fill-opacity=\"1\" /><path clip-path=\"url(#clip860)\" d=\"M1624.17 34.1734 Q1622.92 33.4443 1621.42 33.1202 Q1619.96 32.7556 1618.18 32.7556 Q1611.86 32.7556 1608.45 36.8875 Q1605.09 40.9789 1605.09 48.6757 L1605.09 72.576 L1597.6 72.576 L1597.6 27.2059 L1605.09 27.2059 L1605.09 34.2544 Q1607.44 30.1225 1611.21 28.1376 Q1614.98 26.1121 1620.36 26.1121 Q1621.13 26.1121 1622.06 26.2337 Q1623 26.3147 1624.13 26.5172 L1624.17 34.1734 Z\" fill=\"#000000\" fill-rule=\"evenodd\" fill-opacity=\"1\" /><path clip-path=\"url(#clip860)\" d=\"M1668.97 48.0275 L1668.97 51.6733 L1634.7 51.6733 Q1635.19 59.3701 1639.32 63.421 Q1643.49 67.4314 1650.91 67.4314 Q1655.2 67.4314 1659.21 66.3781 Q1663.26 65.3249 1667.23 63.2184 L1667.23 70.267 Q1663.22 71.9684 1659.01 72.8596 Q1654.8 73.7508 1650.46 73.7508 Q1639.6 73.7508 1633.24 67.4314 Q1626.93 61.1119 1626.93 50.3365 Q1626.93 39.1965 1632.92 32.6746 Q1638.96 26.1121 1649.17 26.1121 Q1658.32 26.1121 1663.63 32.0264 Q1668.97 37.9003 1668.97 48.0275 M1661.52 45.84 Q1661.44 39.7232 1658.08 36.0774 Q1654.76 32.4315 1649.25 32.4315 Q1643.01 32.4315 1639.24 35.9558 Q1635.51 39.4801 1634.95 45.8805 L1661.52 45.84 Z\" fill=\"#000000\" fill-rule=\"evenodd\" fill-opacity=\"1\" /><path clip-path=\"url(#clip860)\" d=\"M1711.06 34.0924 L1711.06 9.54393 L1718.52 9.54393 L1718.52 72.576 L1711.06 72.576 L1711.06 65.7705 Q1708.71 69.8214 1705.11 71.8063 Q1701.54 73.7508 1696.52 73.7508 Q1688.3 73.7508 1683.11 67.1883 Q1677.97 60.6258 1677.97 49.9314 Q1677.97 39.2371 1683.11 32.6746 Q1688.3 26.1121 1696.52 26.1121 Q1701.54 26.1121 1705.11 28.0971 Q1708.71 30.0415 1711.06 34.0924 M1685.66 49.9314 Q1685.66 58.1548 1689.03 62.8538 Q1692.43 67.5124 1698.34 67.5124 Q1704.26 67.5124 1707.66 62.8538 Q1711.06 58.1548 1711.06 49.9314 Q1711.06 41.7081 1707.66 37.0496 Q1704.26 32.3505 1698.34 32.3505 Q1692.43 32.3505 1689.03 37.0496 Q1685.66 41.7081 1685.66 49.9314 Z\" fill=\"#000000\" fill-rule=\"evenodd\" fill-opacity=\"1\" /><path clip-path=\"url(#clip860)\" d=\"M1768.34 86.3491 L1768.34 92.1419 L1725.24 92.1419 L1725.24 86.3491 L1768.34 86.3491 Z\" fill=\"#000000\" fill-rule=\"evenodd\" fill-opacity=\"1\" /><path clip-path=\"url(#clip860)\" d=\"M1783.45 65.6895 L1812.01 65.6895 L1812.01 72.576 L1773.61 72.576 L1773.61 65.6895 Q1778.27 60.8689 1786.29 52.7671 Q1794.35 44.6248 1796.42 42.2752 Q1800.34 37.8598 1801.88 34.8216 Q1803.46 31.7429 1803.46 28.7857 Q1803.46 23.9651 1800.06 20.927 Q1796.7 17.8888 1791.27 17.8888 Q1787.42 17.8888 1783.13 19.2256 Q1778.87 20.5624 1774.01 23.2765 L1774.01 15.0127 Q1778.96 13.0277 1783.25 12.015 Q1787.54 11.0023 1791.11 11.0023 Q1800.51 11.0023 1806.1 15.7013 Q1811.69 20.4004 1811.69 28.2591 Q1811.69 31.9859 1810.27 35.3482 Q1808.89 38.6699 1805.21 43.2069 Q1804.19 44.3817 1798.76 50.0125 Q1793.34 55.6027 1783.45 65.6895 Z\" fill=\"#000000\" fill-rule=\"evenodd\" fill-opacity=\"1\" /><path clip-path=\"url(#clip862)\" d=\"\n",
       "M377.516 1384.14 L377.516 1386.4 L546.632 1386.4 L546.632 1384.14 L377.516 1384.14 L377.516 1384.14  Z\n",
       "  \" fill=\"#ffffff\" fill-rule=\"evenodd\" fill-opacity=\"1\"/>\n",
       "<polyline clip-path=\"url(#clip862)\" style=\"stroke:#000000; stroke-linecap:butt; stroke-linejoin:round; stroke-width:4; stroke-opacity:1; fill:none\" points=\"\n",
       "  377.516,1384.14 377.516,1386.4 546.632,1386.4 546.632,1384.14 377.516,1384.14 \n",
       "  \"/>\n",
       "<path clip-path=\"url(#clip862)\" d=\"\n",
       "M546.632 1360.5 L546.632 1386.4 L715.748 1386.4 L715.748 1360.5 L546.632 1360.5 L546.632 1360.5  Z\n",
       "  \" fill=\"#ffffff\" fill-rule=\"evenodd\" fill-opacity=\"1\"/>\n",
       "<polyline clip-path=\"url(#clip862)\" style=\"stroke:#000000; stroke-linecap:butt; stroke-linejoin:round; stroke-width:4; stroke-opacity:1; fill:none\" points=\"\n",
       "  546.632,1360.5 546.632,1386.4 715.748,1386.4 715.748,1360.5 546.632,1360.5 \n",
       "  \"/>\n",
       "<path clip-path=\"url(#clip862)\" d=\"\n",
       "M715.748 1279.43 L715.748 1386.4 L884.864 1386.4 L884.864 1279.43 L715.748 1279.43 L715.748 1279.43  Z\n",
       "  \" fill=\"#ffffff\" fill-rule=\"evenodd\" fill-opacity=\"1\"/>\n",
       "<polyline clip-path=\"url(#clip862)\" style=\"stroke:#000000; stroke-linecap:butt; stroke-linejoin:round; stroke-width:4; stroke-opacity:1; fill:none\" points=\"\n",
       "  715.748,1279.43 715.748,1386.4 884.864,1386.4 884.864,1279.43 715.748,1279.43 \n",
       "  \"/>\n",
       "<path clip-path=\"url(#clip862)\" d=\"\n",
       "M884.864 995.697 L884.864 1386.4 L1053.98 1386.4 L1053.98 995.697 L884.864 995.697 L884.864 995.697  Z\n",
       "  \" fill=\"#ffffff\" fill-rule=\"evenodd\" fill-opacity=\"1\"/>\n",
       "<polyline clip-path=\"url(#clip862)\" style=\"stroke:#000000; stroke-linecap:butt; stroke-linejoin:round; stroke-width:4; stroke-opacity:1; fill:none\" points=\"\n",
       "  884.864,995.697 884.864,1386.4 1053.98,1386.4 1053.98,995.697 884.864,995.697 \n",
       "  \"/>\n",
       "<path clip-path=\"url(#clip862)\" d=\"\n",
       "M1053.98 468.762 L1053.98 1386.4 L1223.1 1386.4 L1223.1 468.762 L1053.98 468.762 L1053.98 468.762  Z\n",
       "  \" fill=\"#ffffff\" fill-rule=\"evenodd\" fill-opacity=\"1\"/>\n",
       "<polyline clip-path=\"url(#clip862)\" style=\"stroke:#000000; stroke-linecap:butt; stroke-linejoin:round; stroke-width:4; stroke-opacity:1; fill:none\" points=\"\n",
       "  1053.98,468.762 1053.98,1386.4 1223.1,1386.4 1223.1,468.762 1053.98,468.762 \n",
       "  \"/>\n",
       "<path clip-path=\"url(#clip862)\" d=\"\n",
       "M1223.1 160.256 L1223.1 1386.4 L1392.21 1386.4 L1392.21 160.256 L1223.1 160.256 L1223.1 160.256  Z\n",
       "  \" fill=\"#ffffff\" fill-rule=\"evenodd\" fill-opacity=\"1\"/>\n",
       "<polyline clip-path=\"url(#clip862)\" style=\"stroke:#000000; stroke-linecap:butt; stroke-linejoin:round; stroke-width:4; stroke-opacity:1; fill:none\" points=\"\n",
       "  1223.1,160.256 1223.1,1386.4 1392.21,1386.4 1392.21,160.256 1223.1,160.256 \n",
       "  \"/>\n",
       "<path clip-path=\"url(#clip862)\" d=\"\n",
       "M1392.21 344.909 L1392.21 1386.4 L1561.33 1386.4 L1561.33 344.909 L1392.21 344.909 L1392.21 344.909  Z\n",
       "  \" fill=\"#ffffff\" fill-rule=\"evenodd\" fill-opacity=\"1\"/>\n",
       "<polyline clip-path=\"url(#clip862)\" style=\"stroke:#000000; stroke-linecap:butt; stroke-linejoin:round; stroke-width:4; stroke-opacity:1; fill:none\" points=\"\n",
       "  1392.21,344.909 1392.21,1386.4 1561.33,1386.4 1561.33,344.909 1392.21,344.909 \n",
       "  \"/>\n",
       "<path clip-path=\"url(#clip862)\" d=\"\n",
       "M1561.33 822.304 L1561.33 1386.4 L1730.44 1386.4 L1730.44 822.304 L1561.33 822.304 L1561.33 822.304  Z\n",
       "  \" fill=\"#ffffff\" fill-rule=\"evenodd\" fill-opacity=\"1\"/>\n",
       "<polyline clip-path=\"url(#clip862)\" style=\"stroke:#000000; stroke-linecap:butt; stroke-linejoin:round; stroke-width:4; stroke-opacity:1; fill:none\" points=\"\n",
       "  1561.33,822.304 1561.33,1386.4 1730.44,1386.4 1730.44,822.304 1561.33,822.304 \n",
       "  \"/>\n",
       "<path clip-path=\"url(#clip862)\" d=\"\n",
       "M1730.44 1205.12 L1730.44 1386.4 L1899.56 1386.4 L1899.56 1205.12 L1730.44 1205.12 L1730.44 1205.12  Z\n",
       "  \" fill=\"#ffffff\" fill-rule=\"evenodd\" fill-opacity=\"1\"/>\n",
       "<polyline clip-path=\"url(#clip862)\" style=\"stroke:#000000; stroke-linecap:butt; stroke-linejoin:round; stroke-width:4; stroke-opacity:1; fill:none\" points=\"\n",
       "  1730.44,1205.12 1730.44,1386.4 1899.56,1386.4 1899.56,1205.12 1730.44,1205.12 \n",
       "  \"/>\n",
       "<path clip-path=\"url(#clip862)\" d=\"\n",
       "M1899.56 1343.61 L1899.56 1386.4 L2068.68 1386.4 L2068.68 1343.61 L1899.56 1343.61 L1899.56 1343.61  Z\n",
       "  \" fill=\"#ffffff\" fill-rule=\"evenodd\" fill-opacity=\"1\"/>\n",
       "<polyline clip-path=\"url(#clip862)\" style=\"stroke:#000000; stroke-linecap:butt; stroke-linejoin:round; stroke-width:4; stroke-opacity:1; fill:none\" points=\"\n",
       "  1899.56,1343.61 1899.56,1386.4 2068.68,1386.4 2068.68,1343.61 1899.56,1343.61 \n",
       "  \"/>\n",
       "<path clip-path=\"url(#clip862)\" d=\"\n",
       "M2068.68 1381.89 L2068.68 1386.4 L2237.79 1386.4 L2237.79 1381.89 L2068.68 1381.89 L2068.68 1381.89  Z\n",
       "  \" fill=\"#ffffff\" fill-rule=\"evenodd\" fill-opacity=\"1\"/>\n",
       "<polyline clip-path=\"url(#clip862)\" style=\"stroke:#000000; stroke-linecap:butt; stroke-linejoin:round; stroke-width:4; stroke-opacity:1; fill:none\" points=\"\n",
       "  2068.68,1381.89 2068.68,1386.4 2237.79,1386.4 2237.79,1381.89 2068.68,1381.89 \n",
       "  \"/>\n",
       "</svg>\n"
      ]
     },
     "execution_count": 10,
     "metadata": {},
     "output_type": "execute_result"
    }
   ],
   "source": [
    "histogram(\n",
    "    p[\"w[1]\"].data,\n",
    "    xlabel=\"postpred_2\",\n",
    "    ylabel=\"Frequency\",\n",
    "    title=\"Histogram of postpred_2\",\n",
    "    legend=false,\n",
    "    bins=15,\n",
    "    color=:white,\n",
    "    grid=false\n",
    ")"
   ]
  },
  {
   "cell_type": "markdown",
   "id": "grand-birthday",
   "metadata": {},
   "source": [
    "## Indicator Variables\n",
    "\n",
    "### Predict weight (in pounds) from height (in inches)\n"
   ]
  },
  {
   "cell_type": "code",
   "execution_count": 11,
   "id": "funky-information",
   "metadata": {},
   "outputs": [
    {
     "name": "stdout",
     "output_type": "stream",
     "text": [
      "Predicted weight for a 66-inch-tall person is 153.4 pounds with a sd of 29.0\n"
     ]
    }
   ],
   "source": [
    "println(\n",
    "    string(\"Predicted weight for a 66-inch-tall person is \", predicted_1 |> x->round(x, digits=1), \n",
    "        \" pounds with a sd of \", coefs_1.σ |> mean |> round \n",
    "        )\n",
    ")"
   ]
  },
  {
   "cell_type": "markdown",
   "id": "narrow-george",
   "metadata": {},
   "source": [
    "Again, take care of complete cases"
   ]
  },
  {
   "cell_type": "code",
   "execution_count": 12,
   "id": "retired-rogers",
   "metadata": {},
   "outputs": [
    {
     "name": "stdout",
     "output_type": "stream",
     "text": [
      "Entries lost: 27\n"
     ]
    }
   ],
   "source": [
    "height_weight_male = earnings[!,[:height, :weight, :male]]\n",
    "hwm_complete= dropmissing(height_weight_male);\n",
    "hwm_complete[!,\"c_height\"] = hwm_complete.height .- 66\n",
    "println(\"Entries lost: \", size(earnings)[1] - size(hwm_complete)[1])"
   ]
  },
  {
   "cell_type": "markdown",
   "id": "executed-bride",
   "metadata": {},
   "source": [
    "### Include a binary variable in a regression"
   ]
  },
  {
   "cell_type": "code",
   "execution_count": 13,
   "id": "tropical-supervisor",
   "metadata": {},
   "outputs": [],
   "source": [
    "@model function m2(h,m,w)\n",
    "    \n",
    "    # Variance\n",
    "    σ ~ truncated(Normal(0,100), 0, Inf)\n",
    "    \n",
    "    # Linear\n",
    "    α ~ Normal(0, 500)\n",
    "    β_c_height ~ Normal(0, 10)\n",
    "    β_male ~ Normal(0, 10)\n",
    "    \n",
    "    μ = α .+ h * β_c_height .+ m * β_male\n",
    "    w ~ MvNormal(μ, σ)\n",
    "end;"
   ]
  },
  {
   "cell_type": "code",
   "execution_count": 14,
   "id": "naval-european",
   "metadata": {},
   "outputs": [
    {
     "name": "stderr",
     "output_type": "stream",
     "text": [
      "┌ Warning: The current proposal will be rejected due to numerical error(s).\n",
      "│   isfinite.((θ, r, ℓπ, ℓκ)) = (true, false, false, false)\n",
      "└ @ AdvancedHMC C:\\Users\\tburch\\.julia\\packages\\AdvancedHMC\\MIxdK\\src\\hamiltonian.jl:47\n",
      "┌ Warning: The current proposal will be rejected due to numerical error(s).\n",
      "│   isfinite.((θ, r, ℓπ, ℓκ)) = (true, false, false, false)\n",
      "└ @ AdvancedHMC C:\\Users\\tburch\\.julia\\packages\\AdvancedHMC\\MIxdK\\src\\hamiltonian.jl:47\n",
      "┌ Warning: The current proposal will be rejected due to numerical error(s).\n",
      "│   isfinite.((θ, r, ℓπ, ℓκ)) = (true, false, false, false)\n",
      "└ @ AdvancedHMC C:\\Users\\tburch\\.julia\\packages\\AdvancedHMC\\MIxdK\\src\\hamiltonian.jl:47\n",
      "┌ Warning: The current proposal will be rejected due to numerical error(s).\n",
      "│   isfinite.((θ, r, ℓπ, ℓκ)) = (true, false, false, false)\n",
      "└ @ AdvancedHMC C:\\Users\\tburch\\.julia\\packages\\AdvancedHMC\\MIxdK\\src\\hamiltonian.jl:47\n",
      "┌ Warning: The current proposal will be rejected due to numerical error(s).\n",
      "│   isfinite.((θ, r, ℓπ, ℓκ)) = (true, false, false, false)\n",
      "└ @ AdvancedHMC C:\\Users\\tburch\\.julia\\packages\\AdvancedHMC\\MIxdK\\src\\hamiltonian.jl:47\n",
      "┌ Warning: The current proposal will be rejected due to numerical error(s).\n",
      "│   isfinite.((θ, r, ℓπ, ℓκ)) = (true, false, false, false)\n",
      "└ @ AdvancedHMC C:\\Users\\tburch\\.julia\\packages\\AdvancedHMC\\MIxdK\\src\\hamiltonian.jl:47\n",
      "┌ Warning: The current proposal will be rejected due to numerical error(s).\n",
      "│   isfinite.((θ, r, ℓπ, ℓκ)) = (true, false, false, false)\n",
      "└ @ AdvancedHMC C:\\Users\\tburch\\.julia\\packages\\AdvancedHMC\\MIxdK\\src\\hamiltonian.jl:47\n",
      "┌ Warning: The current proposal will be rejected due to numerical error(s).\n",
      "│   isfinite.((θ, r, ℓπ, ℓκ)) = (true, false, false, false)\n",
      "└ @ AdvancedHMC C:\\Users\\tburch\\.julia\\packages\\AdvancedHMC\\MIxdK\\src\\hamiltonian.jl:47\n",
      "┌ Info: Found initial step size\n",
      "│   ϵ = 4.8828125e-5\n",
      "└ @ Turing.Inference C:\\Users\\tburch\\.julia\\packages\\Turing\\pwMQO\\src\\inference\\hmc.jl:188\n",
      "\u001b[32mSampling: 100%|█████████████████████████████████████████| Time: 0:00:04\u001b[39m\n"
     ]
    },
    {
     "data": {
      "text/plain": [
       "Summary Statistics\n",
       " \u001b[1m parameters \u001b[0m \u001b[1m     mean \u001b[0m \u001b[1m     std \u001b[0m \u001b[1m naive_se \u001b[0m \u001b[1m    mcse \u001b[0m \u001b[1m       ess \u001b[0m \u001b[1m    rhat \u001b[0m \u001b[1m\u001b[0m ⋯\n",
       " \u001b[90m     Symbol \u001b[0m \u001b[90m  Float64 \u001b[0m \u001b[90m Float64 \u001b[0m \u001b[90m  Float64 \u001b[0m \u001b[90m Float64 \u001b[0m \u001b[90m   Float64 \u001b[0m \u001b[90m Float64 \u001b[0m \u001b[90m\u001b[0m ⋯\n",
       "\n",
       "           α   149.6313    0.9153     0.0145    0.0184   2404.0668    0.9998   ⋯\n",
       "  β_c_height     3.9207    0.2448     0.0039    0.0049   2373.6508    1.0002   ⋯\n",
       "      β_male    11.4866    1.8985     0.0300    0.0411   2173.9512    0.9998   ⋯\n",
       "           σ    28.6944    0.4802     0.0076    0.0088   2961.0024    0.9998   ⋯\n",
       "\u001b[36m                                                                1 column omitted\u001b[0m\n"
      ]
     },
     "execution_count": 14,
     "metadata": {},
     "output_type": "execute_result"
    }
   ],
   "source": [
    "model3 = m2(hwm_complete.c_height, hwm_complete.male, hwm_complete.weight)\n",
    "chain3 = sample(model3, NUTS(), 4000)\n",
    "summarystats(chain3)"
   ]
  },
  {
   "cell_type": "code",
   "execution_count": 15,
   "id": "angry-assist",
   "metadata": {},
   "outputs": [
    {
     "data": {
      "text/plain": [
       "Chains MCMC chain (4000×1×1 Array{Float64, 3}):\n",
       "\n",
       "Iterations        = 1:4000\n",
       "Thinning interval = 1\n",
       "Chains            = 1\n",
       "Samples per chain = 4000\n",
       "parameters        = w[1]\n",
       "internals         = \n",
       "\n",
       "Summary Statistics\n",
       " \u001b[1m parameters \u001b[0m \u001b[1m     mean \u001b[0m \u001b[1m     std \u001b[0m \u001b[1m naive_se \u001b[0m \u001b[1m    mcse \u001b[0m \u001b[1m       ess \u001b[0m \u001b[1m    rhat \u001b[0m\n",
       " \u001b[90m     Symbol \u001b[0m \u001b[90m  Float64 \u001b[0m \u001b[90m Float64 \u001b[0m \u001b[90m  Float64 \u001b[0m \u001b[90m Float64 \u001b[0m \u001b[90m   Float64 \u001b[0m \u001b[90m Float64 \u001b[0m\n",
       "\n",
       "        w[1]   165.5930   28.3295     0.4479    0.4343   4014.2655    0.9998\n",
       "\n",
       "Quantiles\n",
       " \u001b[1m parameters \u001b[0m \u001b[1m     2.5% \u001b[0m \u001b[1m    25.0% \u001b[0m \u001b[1m    50.0% \u001b[0m \u001b[1m    75.0% \u001b[0m \u001b[1m    97.5% \u001b[0m\n",
       " \u001b[90m     Symbol \u001b[0m \u001b[90m  Float64 \u001b[0m \u001b[90m  Float64 \u001b[0m \u001b[90m  Float64 \u001b[0m \u001b[90m  Float64 \u001b[0m \u001b[90m  Float64 \u001b[0m\n",
       "\n",
       "        w[1]   108.8485   146.7965   165.2019   183.6276   222.5793\n"
      ]
     },
     "execution_count": 15,
     "metadata": {},
     "output_type": "execute_result"
    }
   ],
   "source": [
    "mpred2 = m2([4], [0], missing);\n",
    "p2=predict(mpred2, chain3)"
   ]
  },
  {
   "cell_type": "code",
   "execution_count": 16,
   "id": "above-discretion",
   "metadata": {},
   "outputs": [
    {
     "name": "stdout",
     "output_type": "stream",
     "text": [
      "Predicted weight for a 70-inch-tall female is 166.0 pounds with a sd of 28.0\n"
     ]
    }
   ],
   "source": [
    "println(\n",
    "    string(\"Predicted weight for a 70-inch-tall female is \", p2[\"w[1]\"].data |> mean |> round, \n",
    "        \" pounds with a sd of \",  p2[\"w[1]\"].data |> std |> round\n",
    "        )\n",
    ")"
   ]
  },
  {
   "cell_type": "markdown",
   "id": "sixth-bride",
   "metadata": {},
   "source": [
    "### Using indicator variables for multiple levels of a categorical predictor\n",
    "\n",
    "Include ethnicity in the regression as a factor. The original notebook goes through 3 examples of encoding a factor variable in R. Below, one method is demonstrated in Julia, employing `StatsBase.indicatormat` to one-hot-encode, and directly input the indicators into the model."
   ]
  },
  {
   "cell_type": "code",
   "execution_count": 17,
   "id": "partial-rochester",
   "metadata": {},
   "outputs": [],
   "source": [
    "@model function m3(h, m, eth_black, eth_hispanic, eth_other, w)\n",
    "    \n",
    "    # Variance\n",
    "    σ ~ truncated(Normal(0,500), 0, Inf)\n",
    "    \n",
    "    # Linear\n",
    "    α ~ Normal(0, 500)\n",
    "    β_c_height ~ Normal(0, 50)\n",
    "    β_male ~ Normal(0, 50)\n",
    "    β_eth_black ~ Normal(0,50)\n",
    "    β_eth_hispanic ~ Normal(0,50)\n",
    "    β_eth_other ~ Normal(0,50)\n",
    "    \n",
    "    μ = α .+ h * β_c_height .+ m * β_male .+ eth_black * β_eth_black  .+ eth_hispanic * β_eth_hispanic .+ eth_other * β_eth_other \n",
    "    w ~ MvNormal(μ, σ)\n",
    "end;"
   ]
  },
  {
   "cell_type": "code",
   "execution_count": 18,
   "id": "surgical-uruguay",
   "metadata": {},
   "outputs": [
    {
     "name": "stdout",
     "output_type": "stream",
     "text": [
      "Entries lost: 0\n"
     ]
    }
   ],
   "source": [
    "height_weight_male_eth = earnings[!,[:height, :weight, :male, :ethnicity]]\n",
    "hwme_complete= dropmissing(height_weight_male_eth);\n",
    "hwme_complete[!,\"c_height\"] = hwme_complete.height .- 66\n",
    "println(\"Entries lost: \", size(earnings)[1] - size(height_weight_male_eth)[1])"
   ]
  },
  {
   "cell_type": "code",
   "execution_count": 19,
   "id": "trained-greeting",
   "metadata": {},
   "outputs": [],
   "source": [
    "ethnicity_ohe = DataFrame(\n",
    "    Tables.table(\n",
    "        indicatormat(hwme_complete.ethnicity) |> transpose, \n",
    "        header=[\"Black\",\"Hispanic\",\"Other\",\"White\"]\n",
    "    )\n",
    ")\n",
    "hwme_encoded = hcat(hwme_complete, ethnicity_ohe);"
   ]
  },
  {
   "cell_type": "code",
   "execution_count": 20,
   "id": "universal-customer",
   "metadata": {
    "tags": []
   },
   "outputs": [
    {
     "name": "stderr",
     "output_type": "stream",
     "text": [
      "┌ Warning: The current proposal will be rejected due to numerical error(s).\n",
      "│   isfinite.((θ, r, ℓπ, ℓκ)) = (true, false, false, false)\n",
      "└ @ AdvancedHMC C:\\Users\\tburch\\.julia\\packages\\AdvancedHMC\\MIxdK\\src\\hamiltonian.jl:47\n",
      "┌ Warning: The current proposal will be rejected due to numerical error(s).\n",
      "│   isfinite.((θ, r, ℓπ, ℓκ)) = (true, false, false, false)\n",
      "└ @ AdvancedHMC C:\\Users\\tburch\\.julia\\packages\\AdvancedHMC\\MIxdK\\src\\hamiltonian.jl:47\n",
      "┌ Warning: The current proposal will be rejected due to numerical error(s).\n",
      "│   isfinite.((θ, r, ℓπ, ℓκ)) = (true, false, false, false)\n",
      "└ @ AdvancedHMC C:\\Users\\tburch\\.julia\\packages\\AdvancedHMC\\MIxdK\\src\\hamiltonian.jl:47\n",
      "┌ Warning: The current proposal will be rejected due to numerical error(s).\n",
      "│   isfinite.((θ, r, ℓπ, ℓκ)) = (true, false, false, false)\n",
      "└ @ AdvancedHMC C:\\Users\\tburch\\.julia\\packages\\AdvancedHMC\\MIxdK\\src\\hamiltonian.jl:47\n",
      "┌ Warning: The current proposal will be rejected due to numerical error(s).\n",
      "│   isfinite.((θ, r, ℓπ, ℓκ)) = (true, false, false, false)\n",
      "└ @ AdvancedHMC C:\\Users\\tburch\\.julia\\packages\\AdvancedHMC\\MIxdK\\src\\hamiltonian.jl:47\n",
      "┌ Warning: The current proposal will be rejected due to numerical error(s).\n",
      "│   isfinite.((θ, r, ℓπ, ℓκ)) = (true, false, false, false)\n",
      "└ @ AdvancedHMC C:\\Users\\tburch\\.julia\\packages\\AdvancedHMC\\MIxdK\\src\\hamiltonian.jl:47\n",
      "┌ Info: Found initial step size\n",
      "│   ϵ = 0.0001953125\n",
      "└ @ Turing.Inference C:\\Users\\tburch\\.julia\\packages\\Turing\\pwMQO\\src\\inference\\hmc.jl:188\n",
      "\u001b[32mSampling: 100%|█████████████████████████████████████████| Time: 0:01:19\u001b[39m\n"
     ]
    },
    {
     "data": {
      "text/plain": [
       "Summary Statistics\n",
       " \u001b[1m     parameters \u001b[0m \u001b[1m      mean \u001b[0m \u001b[1m     std \u001b[0m \u001b[1m naive_se \u001b[0m \u001b[1m    mcse \u001b[0m \u001b[1m       ess \u001b[0m \u001b[1m    r\u001b[0m ⋯\n",
       " \u001b[90m         Symbol \u001b[0m \u001b[90m   Float64 \u001b[0m \u001b[90m Float64 \u001b[0m \u001b[90m  Float64 \u001b[0m \u001b[90m Float64 \u001b[0m \u001b[90m   Float64 \u001b[0m \u001b[90m Floa\u001b[0m ⋯\n",
       "\n",
       "               α   -104.9421   16.6678     0.2635    0.4770   1347.3347    0.9 ⋯\n",
       "      β_c_height      3.8497    0.2573     0.0041    0.0074   1337.0441    0.9 ⋯\n",
       "     β_eth_black      5.1675    2.3009     0.0364    0.0413   3289.6328    0.9 ⋯\n",
       "  β_eth_hispanic     -0.9021    2.9127     0.0461    0.0488   2755.9280    0.9 ⋯\n",
       "     β_eth_other     -7.1096    4.6403     0.0734    0.0795   3191.2245    1.0 ⋯\n",
       "          β_male     12.1158    2.0309     0.0321    0.0498   1708.7745    0.9 ⋯\n",
       "               σ     28.6593    0.4844     0.0077    0.0085   2872.6503    0.9 ⋯\n",
       "\u001b[36m                                                               2 columns omitted\u001b[0m\n"
      ]
     },
     "execution_count": 20,
     "metadata": {},
     "output_type": "execute_result"
    }
   ],
   "source": [
    "model4 = m3(\n",
    "    hwme_encoded.height,\n",
    "    hwme_encoded.male,\n",
    "    hwme_encoded.Black,\n",
    "    hwme_encoded.Hispanic,\n",
    "    hwme_encoded.Other,\n",
    "    hwme_encoded.weight\n",
    ")\n",
    "chain4 = sample(model4, NUTS(), 4000)\n",
    "summarystats(chain4)"
   ]
  },
  {
   "cell_type": "markdown",
   "id": "543cde9a-3b8b-463c-98fb-6d4fa77204e3",
   "metadata": {},
   "source": [
    "Note - intercept value does not match the original notebook (149.1), to revisit. Other coefficients do match."
   ]
  }
 ],
 "metadata": {
  "kernelspec": {
   "display_name": "Julia 1.6.0",
   "language": "julia",
   "name": "julia-1.6"
  },
  "language_info": {
   "file_extension": ".jl",
   "mimetype": "application/julia",
   "name": "julia",
   "version": "1.6.0"
  }
 },
 "nbformat": 4,
 "nbformat_minor": 5
}
