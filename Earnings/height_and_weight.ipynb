{
 "cells": [
  {
   "cell_type": "markdown",
   "id": "advance-fruit",
   "metadata": {},
   "source": [
    "## Load Packages"
   ]
  },
  {
   "cell_type": "code",
   "execution_count": 8,
   "id": "decimal-fraud",
   "metadata": {},
   "outputs": [],
   "source": [
    "using DataFrames, StatsPlots, CSV, HTTP\n",
    "using Distributions, Turing, MCMCChains"
   ]
  },
  {
   "cell_type": "markdown",
   "id": "utility-september",
   "metadata": {},
   "source": [
    "## Load Data"
   ]
  },
  {
   "cell_type": "code",
   "execution_count": 9,
   "id": "binding-candle",
   "metadata": {},
   "outputs": [
    {
     "data": {
      "text/html": [
       "<table class=\"data-frame\"><thead><tr><th></th><th>height</th><th>weight</th><th>male</th><th>earn</th><th>earnk</th><th>ethnicity</th><th>education</th><th>mother_education</th></tr><tr><th></th><th>Int64</th><th>Int64?</th><th>Int64</th><th>Float64</th><th>Float64</th><th>String</th><th>Int64?</th><th>Int64?</th></tr></thead><tbody><p>6 rows × 15 columns (omitted printing of 7 columns)</p><tr><th>1</th><td>74</td><td>210</td><td>1</td><td>50000.0</td><td>50.0</td><td>White</td><td>16</td><td>16</td></tr><tr><th>2</th><td>66</td><td>125</td><td>0</td><td>60000.0</td><td>60.0</td><td>White</td><td>16</td><td>16</td></tr><tr><th>3</th><td>64</td><td>126</td><td>0</td><td>30000.0</td><td>30.0</td><td>White</td><td>16</td><td>16</td></tr><tr><th>4</th><td>65</td><td>200</td><td>0</td><td>25000.0</td><td>25.0</td><td>White</td><td>17</td><td>17</td></tr><tr><th>5</th><td>63</td><td>110</td><td>0</td><td>50000.0</td><td>50.0</td><td>Other</td><td>16</td><td>16</td></tr><tr><th>6</th><td>68</td><td>165</td><td>0</td><td>62000.0</td><td>62.0</td><td>Black</td><td>18</td><td>18</td></tr></tbody></table>"
      ],
      "text/latex": [
       "\\begin{tabular}{r|ccccccccc}\n",
       "\t& height & weight & male & earn & earnk & ethnicity & education & mother\\_education & \\\\\n",
       "\t\\hline\n",
       "\t& Int64 & Int64? & Int64 & Float64 & Float64 & String & Int64? & Int64? & \\\\\n",
       "\t\\hline\n",
       "\t1 & 74 & 210 & 1 & 50000.0 & 50.0 & White & 16 & 16 & $\\dots$ \\\\\n",
       "\t2 & 66 & 125 & 0 & 60000.0 & 60.0 & White & 16 & 16 & $\\dots$ \\\\\n",
       "\t3 & 64 & 126 & 0 & 30000.0 & 30.0 & White & 16 & 16 & $\\dots$ \\\\\n",
       "\t4 & 65 & 200 & 0 & 25000.0 & 25.0 & White & 17 & 17 & $\\dots$ \\\\\n",
       "\t5 & 63 & 110 & 0 & 50000.0 & 50.0 & Other & 16 & 16 & $\\dots$ \\\\\n",
       "\t6 & 68 & 165 & 0 & 62000.0 & 62.0 & Black & 18 & 18 & $\\dots$ \\\\\n",
       "\\end{tabular}\n"
      ],
      "text/plain": [
       "\u001b[1m6×15 DataFrame\u001b[0m\n",
       "\u001b[1m Row \u001b[0m│\u001b[1m height \u001b[0m\u001b[1m weight \u001b[0m\u001b[1m male  \u001b[0m\u001b[1m earn    \u001b[0m\u001b[1m earnk   \u001b[0m\u001b[1m ethnicity \u001b[0m\u001b[1m education \u001b[0m\u001b[1m mother_e\u001b[0m ⋯\n",
       "\u001b[1m     \u001b[0m│\u001b[90m Int64  \u001b[0m\u001b[90m Int64? \u001b[0m\u001b[90m Int64 \u001b[0m\u001b[90m Float64 \u001b[0m\u001b[90m Float64 \u001b[0m\u001b[90m String    \u001b[0m\u001b[90m Int64?    \u001b[0m\u001b[90m Int64?  \u001b[0m ⋯\n",
       "─────┼──────────────────────────────────────────────────────────────────────────\n",
       "   1 │     74     210      1  50000.0     50.0  White             16           ⋯\n",
       "   2 │     66     125      0  60000.0     60.0  White             16\n",
       "   3 │     64     126      0  30000.0     30.0  White             16\n",
       "   4 │     65     200      0  25000.0     25.0  White             17\n",
       "   5 │     63     110      0  50000.0     50.0  Other             16           ⋯\n",
       "   6 │     68     165      0  62000.0     62.0  Black             18\n",
       "\u001b[36m                                                               8 columns omitted\u001b[0m"
      ]
     },
     "execution_count": 9,
     "metadata": {},
     "output_type": "execute_result"
    }
   ],
   "source": [
    "data = \"https://raw.githubusercontent.com/avehtari/ROS-Examples/master/Earnings/data/earnings.csv\"\n",
    "earnings  = CSV.File(HTTP.get(data).body, delim=\",\", missingstring=\"NA\") |> DataFrame\n",
    "first(earnings , 6)"
   ]
  },
  {
   "cell_type": "code",
   "execution_count": 36,
   "id": "unique-employment",
   "metadata": {},
   "outputs": [
    {
     "name": "stdout",
     "output_type": "stream",
     "text": [
      "Entries lost: 27\n"
     ]
    }
   ],
   "source": [
    "height_weight = earnings[!,[:height, :weight]]\n",
    "hw_complete= dropmissing(height_weight);\n",
    "println(\"Entries lost: \", size(earnings)[1] - size(hw_complete)[1])"
   ]
  },
  {
   "cell_type": "code",
   "execution_count": 10,
   "id": "pregnant-honduras",
   "metadata": {},
   "outputs": [
    {
     "name": "stdout",
     "output_type": "stream",
     "text": [
      "(1816, 15)\n",
      "(1440, 15)\n"
     ]
    }
   ],
   "source": [
    "println(size(earnings))\n",
    "earnings_filt = dropmissing(earnings);\n",
    "println(size(earnings_filt))"
   ]
  },
  {
   "cell_type": "markdown",
   "id": "coastal-silver",
   "metadata": {},
   "source": [
    "## Simulating uncertainty for linear predictors and predicted values\n",
    "\n",
    "### Predict weight (in pounds) from height (in inches)"
   ]
  },
  {
   "cell_type": "code",
   "execution_count": 79,
   "id": "lyric-looking",
   "metadata": {},
   "outputs": [],
   "source": [
    "@model function m1(h, w)\n",
    "    \n",
    "    # Variance\n",
    "    σ ~ truncated(Normal(0,100), 0, Inf)\n",
    "    \n",
    "    # Linear\n",
    "    α ~ Normal(0, 500)\n",
    "    β ~ Normal(0, 10)\n",
    "    \n",
    "    μ = α .+ h * β\n",
    "    w ~ MvNormal(μ, σ)\n",
    "end;"
   ]
  },
  {
   "cell_type": "code",
   "execution_count": 80,
   "id": "valuable-enzyme",
   "metadata": {},
   "outputs": [
    {
     "name": "stderr",
     "output_type": "stream",
     "text": [
      "┌ Warning: The current proposal will be rejected due to numerical error(s).\n",
      "│   isfinite.((θ, r, ℓπ, ℓκ)) = (true, false, false, false)\n",
      "└ @ AdvancedHMC C:\\Users\\tburch\\.julia\\packages\\AdvancedHMC\\MIxdK\\src\\hamiltonian.jl:47\n",
      "┌ Warning: The current proposal will be rejected due to numerical error(s).\n",
      "│   isfinite.((θ, r, ℓπ, ℓκ)) = (true, false, false, false)\n",
      "└ @ AdvancedHMC C:\\Users\\tburch\\.julia\\packages\\AdvancedHMC\\MIxdK\\src\\hamiltonian.jl:47\n",
      "┌ Warning: The current proposal will be rejected due to numerical error(s).\n",
      "│   isfinite.((θ, r, ℓπ, ℓκ)) = (true, false, false, false)\n",
      "└ @ AdvancedHMC C:\\Users\\tburch\\.julia\\packages\\AdvancedHMC\\MIxdK\\src\\hamiltonian.jl:47\n",
      "┌ Warning: The current proposal will be rejected due to numerical error(s).\n",
      "│   isfinite.((θ, r, ℓπ, ℓκ)) = (true, false, false, false)\n",
      "└ @ AdvancedHMC C:\\Users\\tburch\\.julia\\packages\\AdvancedHMC\\MIxdK\\src\\hamiltonian.jl:47\n",
      "┌ Warning: The current proposal will be rejected due to numerical error(s).\n",
      "│   isfinite.((θ, r, ℓπ, ℓκ)) = (true, false, false, false)\n",
      "└ @ AdvancedHMC C:\\Users\\tburch\\.julia\\packages\\AdvancedHMC\\MIxdK\\src\\hamiltonian.jl:47\n",
      "┌ Info: Found initial step size\n",
      "│   ϵ = 0.000390625\n",
      "└ @ Turing.Inference C:\\Users\\tburch\\.julia\\packages\\Turing\\rHLGJ\\src\\inference\\hmc.jl:188\n",
      "\u001b[32mSampling: 100%|█████████████████████████████████████████| Time: 0:00:02\u001b[39m\n"
     ]
    },
    {
     "data": {
      "text/plain": [
       "Chains MCMC chain (1000×15×1 Array{Float64, 3}):\n",
       "\n",
       "Iterations        = 1:1000\n",
       "Thinning interval = 1\n",
       "Chains            = 1\n",
       "Samples per chain = 1000\n",
       "parameters        = α, β, σ\n",
       "internals         = acceptance_rate, hamiltonian_energy, hamiltonian_energy_error, is_accept, log_density, lp, max_hamiltonian_energy_error, n_steps, nom_step_size, numerical_error, step_size, tree_depth\n",
       "\n",
       "Summary Statistics\n",
       " \u001b[1m parameters \u001b[0m \u001b[1m      mean \u001b[0m \u001b[1m     std \u001b[0m \u001b[1m naive_se \u001b[0m \u001b[1m    mcse \u001b[0m \u001b[1m     ess \u001b[0m \u001b[1m    rhat \u001b[0m\n",
       " \u001b[90m     Symbol \u001b[0m \u001b[90m   Float64 \u001b[0m \u001b[90m Float64 \u001b[0m \u001b[90m  Float64 \u001b[0m \u001b[90m Float64 \u001b[0m \u001b[90m Float64 \u001b[0m \u001b[90m Float64 \u001b[0m\n",
       "\n",
       "           α   -171.9821    9.9712     0.3153    2.0017   24.4233    1.0190\n",
       "           β      4.9296    0.1497     0.0047    0.0301   24.3272    1.0191\n",
       "           σ     29.2319    0.4826     0.0153    0.0899   18.5949    1.0467\n",
       "\n",
       "Quantiles\n",
       " \u001b[1m parameters \u001b[0m \u001b[1m      2.5% \u001b[0m \u001b[1m     25.0% \u001b[0m \u001b[1m     50.0% \u001b[0m \u001b[1m     75.0% \u001b[0m \u001b[1m     97.5% \u001b[0m\n",
       " \u001b[90m     Symbol \u001b[0m \u001b[90m   Float64 \u001b[0m \u001b[90m   Float64 \u001b[0m \u001b[90m   Float64 \u001b[0m \u001b[90m   Float64 \u001b[0m \u001b[90m   Float64 \u001b[0m\n",
       "\n",
       "           α   -194.4899   -177.3650   -171.5875   -166.7504   -153.6220\n",
       "           β      4.6566      4.8520      4.9236      5.0049      5.2633\n",
       "           σ     28.1729     28.9762     29.2242     29.5414     30.1512\n"
      ]
     },
     "execution_count": 80,
     "metadata": {},
     "output_type": "execute_result"
    }
   ],
   "source": [
    "model = m1(hw_complete.height, hw_complete.weight)\n",
    "chain1 = sample(model, NUTS(0.50), 1000)"
   ]
  },
  {
   "cell_type": "markdown",
   "id": "suitable-landing",
   "metadata": {},
   "source": [
    "Predict weight for a 66 inch person"
   ]
  },
  {
   "cell_type": "code",
   "execution_count": 81,
   "id": "medical-montana",
   "metadata": {},
   "outputs": [
    {
     "name": "stdout",
     "output_type": "stream",
     "text": [
      "Predicted weight for a 66-inch-tall person is 153.4 pounds with a sd of 29.0\n"
     ]
    }
   ],
   "source": [
    "coefs_1 = get(chain1, [:α, :β, :σ])\n",
    "predicted_1 = mean(coefs_1.α) + mean(coefs_1.β) * 66\n",
    "\n",
    "println(\n",
    "    string(\"Predicted weight for a 66-inch-tall person is \", predicted_1 |> x->round(x, digits=1), \n",
    "        \" pounds with a sd of \", coefs_1.σ |> mean |> round \n",
    "        )\n",
    ")"
   ]
  },
  {
   "cell_type": "markdown",
   "id": "powerful-windows",
   "metadata": {},
   "source": [
    "### Center Heights"
   ]
  },
  {
   "cell_type": "code",
   "execution_count": 82,
   "id": "nutritional-meter",
   "metadata": {},
   "outputs": [
    {
     "data": {
      "text/plain": [
       "66.59250978200112"
      ]
     },
     "execution_count": 82,
     "metadata": {},
     "output_type": "execute_result"
    }
   ],
   "source": [
    "mean(hw_complete.height)"
   ]
  },
  {
   "cell_type": "code",
   "execution_count": 83,
   "id": "herbal-gathering",
   "metadata": {},
   "outputs": [
    {
     "name": "stderr",
     "output_type": "stream",
     "text": [
      "┌ Warning: The current proposal will be rejected due to numerical error(s).\n",
      "│   isfinite.((θ, r, ℓπ, ℓκ)) = (true, false, false, false)\n",
      "└ @ AdvancedHMC C:\\Users\\tburch\\.julia\\packages\\AdvancedHMC\\MIxdK\\src\\hamiltonian.jl:47\n",
      "┌ Warning: The current proposal will be rejected due to numerical error(s).\n",
      "│   isfinite.((θ, r, ℓπ, ℓκ)) = (true, false, false, false)\n",
      "└ @ AdvancedHMC C:\\Users\\tburch\\.julia\\packages\\AdvancedHMC\\MIxdK\\src\\hamiltonian.jl:47\n",
      "┌ Warning: The current proposal will be rejected due to numerical error(s).\n",
      "│   isfinite.((θ, r, ℓπ, ℓκ)) = (true, false, false, false)\n",
      "└ @ AdvancedHMC C:\\Users\\tburch\\.julia\\packages\\AdvancedHMC\\MIxdK\\src\\hamiltonian.jl:47\n",
      "┌ Warning: The current proposal will be rejected due to numerical error(s).\n",
      "│   isfinite.((θ, r, ℓπ, ℓκ)) = (true, false, false, false)\n",
      "└ @ AdvancedHMC C:\\Users\\tburch\\.julia\\packages\\AdvancedHMC\\MIxdK\\src\\hamiltonian.jl:47\n",
      "┌ Warning: The current proposal will be rejected due to numerical error(s).\n",
      "│   isfinite.((θ, r, ℓπ, ℓκ)) = (true, false, false, false)\n",
      "└ @ AdvancedHMC C:\\Users\\tburch\\.julia\\packages\\AdvancedHMC\\MIxdK\\src\\hamiltonian.jl:47\n",
      "┌ Warning: The current proposal will be rejected due to numerical error(s).\n",
      "│   isfinite.((θ, r, ℓπ, ℓκ)) = (true, false, false, false)\n",
      "└ @ AdvancedHMC C:\\Users\\tburch\\.julia\\packages\\AdvancedHMC\\MIxdK\\src\\hamiltonian.jl:47\n",
      "┌ Warning: The current proposal will be rejected due to numerical error(s).\n",
      "│   isfinite.((θ, r, ℓπ, ℓκ)) = (true, false, false, false)\n",
      "└ @ AdvancedHMC C:\\Users\\tburch\\.julia\\packages\\AdvancedHMC\\MIxdK\\src\\hamiltonian.jl:47\n",
      "┌ Warning: The current proposal will be rejected due to numerical error(s).\n",
      "│   isfinite.((θ, r, ℓπ, ℓκ)) = (true, true, true, false)\n",
      "└ @ AdvancedHMC C:\\Users\\tburch\\.julia\\packages\\AdvancedHMC\\MIxdK\\src\\hamiltonian.jl:47\n",
      "┌ Info: Found initial step size\n",
      "│   ϵ = 9.765625e-5\n",
      "└ @ Turing.Inference C:\\Users\\tburch\\.julia\\packages\\Turing\\rHLGJ\\src\\inference\\hmc.jl:188\n",
      "\u001b[32mSampling: 100%|█████████████████████████████████████████| Time: 0:00:00\u001b[39m\n"
     ]
    },
    {
     "data": {
      "text/plain": [
       "Chains MCMC chain (1000×15×1 Array{Float64, 3}):\n",
       "\n",
       "Iterations        = 1:1000\n",
       "Thinning interval = 1\n",
       "Chains            = 1\n",
       "Samples per chain = 1000\n",
       "parameters        = α, β, σ\n",
       "internals         = acceptance_rate, hamiltonian_energy, hamiltonian_energy_error, is_accept, log_density, lp, max_hamiltonian_energy_error, n_steps, nom_step_size, numerical_error, step_size, tree_depth\n",
       "\n",
       "Summary Statistics\n",
       " \u001b[1m parameters \u001b[0m \u001b[1m     mean \u001b[0m \u001b[1m     std \u001b[0m \u001b[1m naive_se \u001b[0m \u001b[1m    mcse \u001b[0m \u001b[1m       ess \u001b[0m \u001b[1m    rhat \u001b[0m\n",
       " \u001b[90m     Symbol \u001b[0m \u001b[90m  Float64 \u001b[0m \u001b[90m Float64 \u001b[0m \u001b[90m  Float64 \u001b[0m \u001b[90m Float64 \u001b[0m \u001b[90m   Float64 \u001b[0m \u001b[90m Float64 \u001b[0m\n",
       "\n",
       "           α   153.3820    0.6872     0.0217    0.0131   1359.1109    0.9992\n",
       "           β     4.9541    0.1742     0.0055    0.0040   1138.6641    0.9992\n",
       "           σ    29.0181    0.4725     0.0149    0.0136   1098.9807    1.0002\n",
       "\n",
       "Quantiles\n",
       " \u001b[1m parameters \u001b[0m \u001b[1m     2.5% \u001b[0m \u001b[1m    25.0% \u001b[0m \u001b[1m    50.0% \u001b[0m \u001b[1m    75.0% \u001b[0m \u001b[1m    97.5% \u001b[0m\n",
       " \u001b[90m     Symbol \u001b[0m \u001b[90m  Float64 \u001b[0m \u001b[90m  Float64 \u001b[0m \u001b[90m  Float64 \u001b[0m \u001b[90m  Float64 \u001b[0m \u001b[90m  Float64 \u001b[0m\n",
       "\n",
       "           α   152.0439   152.9182   153.3606   153.8460   154.7253\n",
       "           β     4.6092     4.8410     4.9591     5.0696     5.2850\n",
       "           σ    28.1116    28.7252    29.0119    29.3142    29.9952\n"
      ]
     },
     "execution_count": 83,
     "metadata": {},
     "output_type": "execute_result"
    }
   ],
   "source": [
    "MEAN_HEIGHT = 66 # following original notebook approach of explicitly writing the mean rather than calculating\n",
    "\n",
    "hw_complete[!,\"c_height\"] = hw_complete.height .- MEAN_HEIGHT\n",
    "model2 = model1(hw_complete.c_height, hw_complete.weight)\n",
    "chain2 = sample(model2, NUTS(0.50), 1000)"
   ]
  },
  {
   "cell_type": "markdown",
   "id": "sensitive-progress",
   "metadata": {},
   "source": [
    "### Point Prediction"
   ]
  },
  {
   "cell_type": "code",
   "execution_count": 86,
   "id": "several-nation",
   "metadata": {},
   "outputs": [
    {
     "data": {
      "text/plain": [
       "174.4"
      ]
     },
     "execution_count": 86,
     "metadata": {},
     "output_type": "execute_result"
    }
   ],
   "source": [
    "point_pred_val = [4.0]\n",
    "mpred = m1(point_pred_val, missing);\n",
    "p=predict(mpred, chain2)\n",
    "p[\"w[1]\"].data |> mean |> x->round(x,digits=1)"
   ]
  },
  {
   "cell_type": "markdown",
   "id": "scheduled-myrtle",
   "metadata": {},
   "source": [
    "### Posterior simulations"
   ]
  },
  {
   "cell_type": "code",
   "execution_count": 104,
   "id": "middle-heaven",
   "metadata": {},
   "outputs": [
    {
     "data": {
      "image/svg+xml": [
       "<?xml version=\"1.0\" encoding=\"utf-8\"?>\n",
       "<svg xmlns=\"http://www.w3.org/2000/svg\" xmlns:xlink=\"http://www.w3.org/1999/xlink\" width=\"600\" height=\"400\" viewBox=\"0 0 2400 1600\">\n",
       "<defs>\n",
       "  <clipPath id=\"clip660\">\n",
       "    <rect x=\"0\" y=\"0\" width=\"2400\" height=\"1600\"/>\n",
       "  </clipPath>\n",
       "</defs>\n",
       "<path clip-path=\"url(#clip660)\" d=\"\n",
       "M0 1600 L2400 1600 L2400 0 L0 0  Z\n",
       "  \" fill=\"#ffffff\" fill-rule=\"evenodd\" fill-opacity=\"1\"/>\n",
       "<defs>\n",
       "  <clipPath id=\"clip661\">\n",
       "    <rect x=\"480\" y=\"0\" width=\"1681\" height=\"1600\"/>\n",
       "  </clipPath>\n",
       "</defs>\n",
       "<path clip-path=\"url(#clip660)\" d=\"\n",
       "M232.389 1423.18 L2352.76 1423.18 L2352.76 123.472 L232.389 123.472  Z\n",
       "  \" fill=\"#ffffff\" fill-rule=\"evenodd\" fill-opacity=\"1\"/>\n",
       "<defs>\n",
       "  <clipPath id=\"clip662\">\n",
       "    <rect x=\"232\" y=\"123\" width=\"2121\" height=\"1301\"/>\n",
       "  </clipPath>\n",
       "</defs>\n",
       "<polyline clip-path=\"url(#clip662)\" style=\"stroke:#000000; stroke-width:2; stroke-opacity:0.1; fill:none\" points=\"\n",
       "  349.013,1423.18 349.013,123.472 \n",
       "  \"/>\n",
       "<polyline clip-path=\"url(#clip662)\" style=\"stroke:#000000; stroke-width:2; stroke-opacity:0.1; fill:none\" points=\"\n",
       "  759.256,1423.18 759.256,123.472 \n",
       "  \"/>\n",
       "<polyline clip-path=\"url(#clip662)\" style=\"stroke:#000000; stroke-width:2; stroke-opacity:0.1; fill:none\" points=\"\n",
       "  1169.5,1423.18 1169.5,123.472 \n",
       "  \"/>\n",
       "<polyline clip-path=\"url(#clip662)\" style=\"stroke:#000000; stroke-width:2; stroke-opacity:0.1; fill:none\" points=\"\n",
       "  1579.74,1423.18 1579.74,123.472 \n",
       "  \"/>\n",
       "<polyline clip-path=\"url(#clip662)\" style=\"stroke:#000000; stroke-width:2; stroke-opacity:0.1; fill:none\" points=\"\n",
       "  1989.99,1423.18 1989.99,123.472 \n",
       "  \"/>\n",
       "<polyline clip-path=\"url(#clip660)\" style=\"stroke:#000000; stroke-width:4; stroke-opacity:1; fill:none\" points=\"\n",
       "  232.389,1423.18 2352.76,1423.18 \n",
       "  \"/>\n",
       "<polyline clip-path=\"url(#clip660)\" style=\"stroke:#000000; stroke-width:4; stroke-opacity:1; fill:none\" points=\"\n",
       "  349.013,1423.18 349.013,1407.58 \n",
       "  \"/>\n",
       "<polyline clip-path=\"url(#clip660)\" style=\"stroke:#000000; stroke-width:4; stroke-opacity:1; fill:none\" points=\"\n",
       "  759.256,1423.18 759.256,1407.58 \n",
       "  \"/>\n",
       "<polyline clip-path=\"url(#clip660)\" style=\"stroke:#000000; stroke-width:4; stroke-opacity:1; fill:none\" points=\"\n",
       "  1169.5,1423.18 1169.5,1407.58 \n",
       "  \"/>\n",
       "<polyline clip-path=\"url(#clip660)\" style=\"stroke:#000000; stroke-width:4; stroke-opacity:1; fill:none\" points=\"\n",
       "  1579.74,1423.18 1579.74,1407.58 \n",
       "  \"/>\n",
       "<polyline clip-path=\"url(#clip660)\" style=\"stroke:#000000; stroke-width:4; stroke-opacity:1; fill:none\" points=\"\n",
       "  1989.99,1423.18 1989.99,1407.58 \n",
       "  \"/>\n",
       "<path clip-path=\"url(#clip660)\" d=\"M 0 0 M309.233 1479.92 L316.872 1479.92 L316.872 1453.55 L308.562 1455.22 L308.562 1450.96 L316.826 1449.29 L321.502 1449.29 L321.502 1479.92 L329.141 1479.92 L329.141 1483.85 L309.233 1483.85 L309.233 1479.92 Z\" fill=\"#000000\" fill-rule=\"evenodd\" fill-opacity=\"1\" /><path clip-path=\"url(#clip660)\" d=\"M 0 0 M338.631 1449.29 L356.988 1449.29 L356.988 1453.23 L342.914 1453.23 L342.914 1461.7 Q343.932 1461.35 344.951 1461.19 Q345.969 1461 346.988 1461 Q352.775 1461 356.154 1464.18 Q359.534 1467.35 359.534 1472.76 Q359.534 1478.34 356.062 1481.44 Q352.59 1484.52 346.27 1484.52 Q344.094 1484.52 341.826 1484.15 Q339.58 1483.78 337.173 1483.04 L337.173 1478.34 Q339.256 1479.48 341.479 1480.03 Q343.701 1480.59 346.178 1480.59 Q350.182 1480.59 352.52 1478.48 Q354.858 1476.38 354.858 1472.76 Q354.858 1469.15 352.52 1467.05 Q350.182 1464.94 346.178 1464.94 Q344.303 1464.94 342.428 1465.36 Q340.576 1465.77 338.631 1466.65 L338.631 1449.29 Z\" fill=\"#000000\" fill-rule=\"evenodd\" fill-opacity=\"1\" /><path clip-path=\"url(#clip660)\" d=\"M 0 0 M369.557 1479.92 L377.196 1479.92 L377.196 1453.55 L368.886 1455.22 L368.886 1450.96 L377.15 1449.29 L381.826 1449.29 L381.826 1479.92 L389.464 1479.92 L389.464 1483.85 L369.557 1483.85 L369.557 1479.92 Z\" fill=\"#000000\" fill-rule=\"evenodd\" fill-opacity=\"1\" /><path clip-path=\"url(#clip660)\" d=\"M 0 0 M719.662 1479.92 L727.301 1479.92 L727.301 1453.55 L718.99 1455.22 L718.99 1450.96 L727.254 1449.29 L731.93 1449.29 L731.93 1479.92 L739.569 1479.92 L739.569 1483.85 L719.662 1483.85 L719.662 1479.92 Z\" fill=\"#000000\" fill-rule=\"evenodd\" fill-opacity=\"1\" /><path clip-path=\"url(#clip660)\" d=\"M 0 0 M749.06 1449.29 L767.416 1449.29 L767.416 1453.23 L753.342 1453.23 L753.342 1461.7 Q754.361 1461.35 755.379 1461.19 Q756.398 1461 757.416 1461 Q763.203 1461 766.583 1464.18 Q769.962 1467.35 769.962 1472.76 Q769.962 1478.34 766.49 1481.44 Q763.018 1484.52 756.699 1484.52 Q754.523 1484.52 752.254 1484.15 Q750.009 1483.78 747.601 1483.04 L747.601 1478.34 Q749.685 1479.48 751.907 1480.03 Q754.129 1480.59 756.606 1480.59 Q760.611 1480.59 762.949 1478.48 Q765.287 1476.38 765.287 1472.76 Q765.287 1469.15 762.949 1467.05 Q760.611 1464.94 756.606 1464.94 Q754.731 1464.94 752.856 1465.36 Q751.004 1465.77 749.06 1466.65 L749.06 1449.29 Z\" fill=\"#000000\" fill-rule=\"evenodd\" fill-opacity=\"1\" /><path clip-path=\"url(#clip660)\" d=\"M 0 0 M783.203 1479.92 L799.522 1479.92 L799.522 1483.85 L777.578 1483.85 L777.578 1479.92 Q780.24 1477.16 784.823 1472.53 Q789.43 1467.88 790.61 1466.54 Q792.856 1464.01 793.735 1462.28 Q794.638 1460.52 794.638 1458.83 Q794.638 1456.07 792.694 1454.34 Q790.773 1452.6 787.671 1452.6 Q785.472 1452.6 783.018 1453.37 Q780.587 1454.13 777.81 1455.68 L777.81 1450.96 Q780.634 1449.82 783.087 1449.25 Q785.541 1448.67 787.578 1448.67 Q792.948 1448.67 796.143 1451.35 Q799.337 1454.04 799.337 1458.53 Q799.337 1460.66 798.527 1462.58 Q797.74 1464.48 795.634 1467.07 Q795.055 1467.74 791.953 1470.96 Q788.851 1474.15 783.203 1479.92 Z\" fill=\"#000000\" fill-rule=\"evenodd\" fill-opacity=\"1\" /><path clip-path=\"url(#clip660)\" d=\"M 0 0 M1129.43 1479.92 L1137.07 1479.92 L1137.07 1453.55 L1128.76 1455.22 L1128.76 1450.96 L1137.02 1449.29 L1141.7 1449.29 L1141.7 1479.92 L1149.34 1479.92 L1149.34 1483.85 L1129.43 1483.85 L1129.43 1479.92 Z\" fill=\"#000000\" fill-rule=\"evenodd\" fill-opacity=\"1\" /><path clip-path=\"url(#clip660)\" d=\"M 0 0 M1158.83 1449.29 L1177.18 1449.29 L1177.18 1453.23 L1163.11 1453.23 L1163.11 1461.7 Q1164.13 1461.35 1165.15 1461.19 Q1166.17 1461 1167.18 1461 Q1172.97 1461 1176.35 1464.18 Q1179.73 1467.35 1179.73 1472.76 Q1179.73 1478.34 1176.26 1481.44 Q1172.79 1484.52 1166.47 1484.52 Q1164.29 1484.52 1162.02 1484.15 Q1159.78 1483.78 1157.37 1483.04 L1157.37 1478.34 Q1159.45 1479.48 1161.68 1480.03 Q1163.9 1480.59 1166.37 1480.59 Q1170.38 1480.59 1172.72 1478.48 Q1175.06 1476.38 1175.06 1472.76 Q1175.06 1469.15 1172.72 1467.05 Q1170.38 1464.94 1166.37 1464.94 Q1164.5 1464.94 1162.62 1465.36 Q1160.77 1465.77 1158.83 1466.65 L1158.83 1449.29 Z\" fill=\"#000000\" fill-rule=\"evenodd\" fill-opacity=\"1\" /><path clip-path=\"url(#clip660)\" d=\"M 0 0 M1203.11 1465.22 Q1206.47 1465.94 1208.34 1468.2 Q1210.24 1470.47 1210.24 1473.81 Q1210.24 1478.92 1206.72 1481.72 Q1203.2 1484.52 1196.72 1484.52 Q1194.55 1484.52 1192.23 1484.08 Q1189.94 1483.67 1187.49 1482.81 L1187.49 1478.3 Q1189.43 1479.43 1191.74 1480.01 Q1194.06 1480.59 1196.58 1480.59 Q1200.98 1480.59 1203.27 1478.85 Q1205.59 1477.12 1205.59 1473.81 Q1205.59 1470.75 1203.43 1469.04 Q1201.31 1467.3 1197.49 1467.3 L1193.46 1467.3 L1193.46 1463.46 L1197.67 1463.46 Q1201.12 1463.46 1202.95 1462.09 Q1204.78 1460.7 1204.78 1458.11 Q1204.78 1455.45 1202.88 1454.04 Q1201 1452.6 1197.49 1452.6 Q1195.56 1452.6 1193.37 1453.02 Q1191.17 1453.44 1188.53 1454.31 L1188.53 1450.15 Q1191.19 1449.41 1193.5 1449.04 Q1195.84 1448.67 1197.9 1448.67 Q1203.23 1448.67 1206.33 1451.1 Q1209.43 1453.5 1209.43 1457.63 Q1209.43 1460.5 1207.79 1462.49 Q1206.14 1464.45 1203.11 1465.22 Z\" fill=\"#000000\" fill-rule=\"evenodd\" fill-opacity=\"1\" /><path clip-path=\"url(#clip660)\" d=\"M 0 0 M1539.11 1479.92 L1546.75 1479.92 L1546.75 1453.55 L1538.44 1455.22 L1538.44 1450.96 L1546.7 1449.29 L1551.37 1449.29 L1551.37 1479.92 L1559.01 1479.92 L1559.01 1483.85 L1539.11 1483.85 L1539.11 1479.92 Z\" fill=\"#000000\" fill-rule=\"evenodd\" fill-opacity=\"1\" /><path clip-path=\"url(#clip660)\" d=\"M 0 0 M1568.5 1449.29 L1586.86 1449.29 L1586.86 1453.23 L1572.79 1453.23 L1572.79 1461.7 Q1573.81 1461.35 1574.82 1461.19 Q1575.84 1461 1576.86 1461 Q1582.65 1461 1586.03 1464.18 Q1589.41 1467.35 1589.41 1472.76 Q1589.41 1478.34 1585.93 1481.44 Q1582.46 1484.52 1576.14 1484.52 Q1573.97 1484.52 1571.7 1484.15 Q1569.45 1483.78 1567.05 1483.04 L1567.05 1478.34 Q1569.13 1479.48 1571.35 1480.03 Q1573.57 1480.59 1576.05 1480.59 Q1580.06 1480.59 1582.39 1478.48 Q1584.73 1476.38 1584.73 1472.76 Q1584.73 1469.15 1582.39 1467.05 Q1580.06 1464.94 1576.05 1464.94 Q1574.18 1464.94 1572.3 1465.36 Q1570.45 1465.77 1568.5 1466.65 L1568.5 1449.29 Z\" fill=\"#000000\" fill-rule=\"evenodd\" fill-opacity=\"1\" /><path clip-path=\"url(#clip660)\" d=\"M 0 0 M1611.47 1453.37 L1599.66 1471.81 L1611.47 1471.81 L1611.47 1453.37 M1610.24 1449.29 L1616.12 1449.29 L1616.12 1471.81 L1621.05 1471.81 L1621.05 1475.7 L1616.12 1475.7 L1616.12 1483.85 L1611.47 1483.85 L1611.47 1475.7 L1595.87 1475.7 L1595.87 1471.19 L1610.24 1449.29 Z\" fill=\"#000000\" fill-rule=\"evenodd\" fill-opacity=\"1\" /><path clip-path=\"url(#clip660)\" d=\"M 0 0 M1950.09 1479.92 L1957.73 1479.92 L1957.73 1453.55 L1949.42 1455.22 L1949.42 1450.96 L1957.68 1449.29 L1962.36 1449.29 L1962.36 1479.92 L1970 1479.92 L1970 1483.85 L1950.09 1483.85 L1950.09 1479.92 Z\" fill=\"#000000\" fill-rule=\"evenodd\" fill-opacity=\"1\" /><path clip-path=\"url(#clip660)\" d=\"M 0 0 M1979.49 1449.29 L1997.84 1449.29 L1997.84 1453.23 L1983.77 1453.23 L1983.77 1461.7 Q1984.79 1461.35 1985.81 1461.19 Q1986.83 1461 1987.84 1461 Q1993.63 1461 1997.01 1464.18 Q2000.39 1467.35 2000.39 1472.76 Q2000.39 1478.34 1996.92 1481.44 Q1993.45 1484.52 1987.13 1484.52 Q1984.95 1484.52 1982.68 1484.15 Q1980.44 1483.78 1978.03 1483.04 L1978.03 1478.34 Q1980.11 1479.48 1982.34 1480.03 Q1984.56 1480.59 1987.03 1480.59 Q1991.04 1480.59 1993.38 1478.48 Q1995.72 1476.38 1995.72 1472.76 Q1995.72 1469.15 1993.38 1467.05 Q1991.04 1464.94 1987.03 1464.94 Q1985.16 1464.94 1983.28 1465.36 Q1981.43 1465.77 1979.49 1466.65 L1979.49 1449.29 Z\" fill=\"#000000\" fill-rule=\"evenodd\" fill-opacity=\"1\" /><path clip-path=\"url(#clip660)\" d=\"M 0 0 M2009.65 1449.29 L2028.01 1449.29 L2028.01 1453.23 L2013.93 1453.23 L2013.93 1461.7 Q2014.95 1461.35 2015.97 1461.19 Q2016.99 1461 2018.01 1461 Q2023.79 1461 2027.17 1464.18 Q2030.55 1467.35 2030.55 1472.76 Q2030.55 1478.34 2027.08 1481.44 Q2023.61 1484.52 2017.29 1484.52 Q2015.11 1484.52 2012.84 1484.15 Q2010.6 1483.78 2008.19 1483.04 L2008.19 1478.34 Q2010.28 1479.48 2012.5 1480.03 Q2014.72 1480.59 2017.2 1480.59 Q2021.2 1480.59 2023.54 1478.48 Q2025.88 1476.38 2025.88 1472.76 Q2025.88 1469.15 2023.54 1467.05 Q2021.2 1464.94 2017.2 1464.94 Q2015.32 1464.94 2013.45 1465.36 Q2011.59 1465.77 2009.65 1466.65 L2009.65 1449.29 Z\" fill=\"#000000\" fill-rule=\"evenodd\" fill-opacity=\"1\" /><path clip-path=\"url(#clip660)\" d=\"M 0 0 M1107.55 1518.52 L1113.41 1518.52 L1113.41 1568.04 L1107.55 1568.04 L1107.55 1518.52 Z\" fill=\"#000000\" fill-rule=\"evenodd\" fill-opacity=\"1\" /><path clip-path=\"url(#clip660)\" d=\"M 0 0 M1125.66 1532.4 L1131.52 1532.4 L1131.52 1568.04 L1125.66 1568.04 L1125.66 1532.4 M1125.66 1518.52 L1131.52 1518.52 L1131.52 1525.93 L1125.66 1525.93 L1125.66 1518.52 Z\" fill=\"#000000\" fill-rule=\"evenodd\" fill-opacity=\"1\" /><path clip-path=\"url(#clip660)\" d=\"M 0 0 M1173.41 1546.53 L1173.41 1568.04 L1167.55 1568.04 L1167.55 1546.72 Q1167.55 1541.66 1165.58 1539.14 Q1163.6 1536.63 1159.66 1536.63 Q1154.91 1536.63 1152.18 1539.65 Q1149.44 1542.68 1149.44 1547.9 L1149.44 1568.04 L1143.55 1568.04 L1143.55 1532.4 L1149.44 1532.4 L1149.44 1537.93 Q1151.54 1534.72 1154.37 1533.13 Q1157.24 1531.54 1160.96 1531.54 Q1167.1 1531.54 1170.26 1535.36 Q1173.41 1539.14 1173.41 1546.53 Z\" fill=\"#000000\" fill-rule=\"evenodd\" fill-opacity=\"1\" /><path clip-path=\"url(#clip660)\" d=\"M 0 0 M1190.75 1562.7 L1190.75 1581.6 L1184.86 1581.6 L1184.86 1532.4 L1190.75 1532.4 L1190.75 1537.81 Q1192.6 1534.62 1195.4 1533.1 Q1198.23 1531.54 1202.15 1531.54 Q1208.64 1531.54 1212.68 1536.69 Q1216.76 1541.85 1216.76 1550.25 Q1216.76 1558.65 1212.68 1563.81 Q1208.64 1568.97 1202.15 1568.97 Q1198.23 1568.97 1195.4 1567.44 Q1192.6 1565.88 1190.75 1562.7 M1210.68 1550.25 Q1210.68 1543.79 1208 1540.13 Q1205.36 1536.44 1200.72 1536.44 Q1196.07 1536.44 1193.39 1540.13 Q1190.75 1543.79 1190.75 1550.25 Q1190.75 1556.71 1193.39 1560.4 Q1196.07 1564.07 1200.72 1564.07 Q1205.36 1564.07 1208 1560.4 Q1210.68 1556.71 1210.68 1550.25 Z\" fill=\"#000000\" fill-rule=\"evenodd\" fill-opacity=\"1\" /><path clip-path=\"url(#clip660)\" d=\"M 0 0 M1247.12 1537.87 Q1246.13 1537.3 1244.96 1537.04 Q1243.81 1536.76 1242.41 1536.76 Q1237.45 1536.76 1234.77 1540 Q1232.13 1543.22 1232.13 1549.27 L1232.13 1568.04 L1226.24 1568.04 L1226.24 1532.4 L1232.13 1532.4 L1232.13 1537.93 Q1233.98 1534.69 1236.94 1533.13 Q1239.9 1531.54 1244.13 1531.54 Q1244.73 1531.54 1245.47 1531.63 Q1246.2 1531.7 1247.09 1531.85 L1247.12 1537.87 Z\" fill=\"#000000\" fill-rule=\"evenodd\" fill-opacity=\"1\" /><path clip-path=\"url(#clip660)\" d=\"M 0 0 M1282.32 1548.76 L1282.32 1551.62 L1255.4 1551.62 Q1255.78 1557.67 1259.03 1560.85 Q1262.3 1564 1268.13 1564 Q1271.5 1564 1274.65 1563.17 Q1277.84 1562.35 1280.96 1560.69 L1280.96 1566.23 Q1277.8 1567.57 1274.49 1568.27 Q1271.18 1568.97 1267.78 1568.97 Q1259.25 1568.97 1254.25 1564 Q1249.29 1559.04 1249.29 1550.57 Q1249.29 1541.82 1254 1536.69 Q1258.74 1531.54 1266.76 1531.54 Q1273.95 1531.54 1278.12 1536.18 Q1282.32 1540.8 1282.32 1548.76 M1276.47 1547.04 Q1276.4 1542.23 1273.76 1539.37 Q1271.15 1536.5 1266.82 1536.5 Q1261.92 1536.5 1258.96 1539.27 Q1256.03 1542.04 1255.59 1547.07 L1276.47 1547.04 Z\" fill=\"#000000\" fill-rule=\"evenodd\" fill-opacity=\"1\" /><path clip-path=\"url(#clip660)\" d=\"M 0 0 M1315.39 1537.81 L1315.39 1518.52 L1321.25 1518.52 L1321.25 1568.04 L1315.39 1568.04 L1315.39 1562.7 Q1313.55 1565.88 1310.71 1567.44 Q1307.91 1568.97 1303.97 1568.97 Q1297.51 1568.97 1293.43 1563.81 Q1289.39 1558.65 1289.39 1550.25 Q1289.39 1541.85 1293.43 1536.69 Q1297.51 1531.54 1303.97 1531.54 Q1307.91 1531.54 1310.71 1533.1 Q1313.55 1534.62 1315.39 1537.81 M1295.44 1550.25 Q1295.44 1556.71 1298.08 1560.4 Q1300.75 1564.07 1305.4 1564.07 Q1310.05 1564.07 1312.72 1560.4 Q1315.39 1556.71 1315.39 1550.25 Q1315.39 1543.79 1312.72 1540.13 Q1310.05 1536.44 1305.4 1536.44 Q1300.75 1536.44 1298.08 1540.13 Q1295.44 1543.79 1295.44 1550.25 Z\" fill=\"#000000\" fill-rule=\"evenodd\" fill-opacity=\"1\" /><path clip-path=\"url(#clip660)\" d=\"M 0 0 M1339.68 1562.63 L1362.12 1562.63 L1362.12 1568.04 L1331.94 1568.04 L1331.94 1562.63 Q1335.6 1558.85 1341.91 1552.48 Q1348.24 1546.08 1349.86 1544.24 Q1352.95 1540.77 1354.16 1538.38 Q1355.4 1535.96 1355.4 1533.64 Q1355.4 1529.85 1352.73 1527.46 Q1350.09 1525.08 1345.82 1525.08 Q1342.8 1525.08 1339.42 1526.13 Q1336.08 1527.18 1332.26 1529.31 L1332.26 1522.82 Q1336.15 1521.26 1339.52 1520.46 Q1342.89 1519.66 1345.69 1519.66 Q1353.08 1519.66 1357.47 1523.36 Q1361.86 1527.05 1361.86 1533.22 Q1361.86 1536.15 1360.75 1538.79 Q1359.67 1541.4 1356.77 1544.97 Q1355.98 1545.89 1351.71 1550.32 Q1347.45 1554.71 1339.68 1562.63 Z\" fill=\"#000000\" fill-rule=\"evenodd\" fill-opacity=\"1\" /><path clip-path=\"url(#clip660)\" d=\"M 0 0 M1409.57 1518.58 Q1405.31 1525.9 1403.24 1533.06 Q1401.17 1540.23 1401.17 1547.58 Q1401.17 1554.93 1403.24 1562.16 Q1405.34 1569.35 1409.57 1576.64 L1404.48 1576.64 Q1399.71 1569.16 1397.32 1561.93 Q1394.97 1554.71 1394.97 1547.58 Q1394.97 1540.48 1397.32 1533.29 Q1399.68 1526.09 1404.48 1518.58 L1409.57 1518.58 Z\" fill=\"#000000\" fill-rule=\"evenodd\" fill-opacity=\"1\" /><path clip-path=\"url(#clip660)\" d=\"M 0 0 M1441.72 1551.46 L1440.32 1544.11 Q1438.89 1536.57 1433.22 1536.57 Q1428.96 1536.57 1427.02 1540.07 Q1424.57 1544.46 1424.57 1550.25 Q1424.57 1557.25 1426.95 1560.6 Q1429.37 1564 1433.22 1564 Q1437.49 1564 1439.78 1557.22 L1441.72 1551.46 M1445 1541.72 L1448.15 1532.4 L1453.37 1532.4 L1446.85 1551.72 L1448.12 1558.69 Q1448.41 1560.25 1449.52 1561.55 Q1450.82 1563.08 1451.84 1563.08 L1454.64 1563.08 L1454.64 1568.04 L1451.14 1568.04 Q1448.15 1568.04 1445.48 1565.37 Q1444.17 1564.03 1443.63 1561.23 Q1442.17 1564.77 1439.17 1567.53 Q1437.77 1568.84 1433.22 1568.84 Q1425.74 1568.84 1422.11 1564 Q1418.39 1559 1418.39 1550.25 Q1418.39 1540.89 1422.43 1536.5 Q1426.92 1531.6 1433.22 1531.6 Q1443.12 1531.6 1445 1541.72 Z\" fill=\"#000000\" fill-rule=\"evenodd\" fill-opacity=\"1\" /><path clip-path=\"url(#clip660)\" d=\"M 0 0 M1462.98 1518.58 L1468.08 1518.58 Q1472.85 1526.09 1475.2 1533.29 Q1477.59 1540.48 1477.59 1547.58 Q1477.59 1554.71 1475.2 1561.93 Q1472.85 1569.16 1468.08 1576.64 L1462.98 1576.64 Q1467.22 1569.35 1469.28 1562.16 Q1471.39 1554.93 1471.39 1547.58 Q1471.39 1540.23 1469.28 1533.06 Q1467.22 1525.9 1462.98 1518.58 Z\" fill=\"#000000\" fill-rule=\"evenodd\" fill-opacity=\"1\" /><polyline clip-path=\"url(#clip662)\" style=\"stroke:#000000; stroke-width:2; stroke-opacity:0.1; fill:none\" points=\"\n",
       "  232.389,1386.4 2352.76,1386.4 \n",
       "  \"/>\n",
       "<polyline clip-path=\"url(#clip662)\" style=\"stroke:#000000; stroke-width:2; stroke-opacity:0.1; fill:none\" points=\"\n",
       "  232.389,1190.21 2352.76,1190.21 \n",
       "  \"/>\n",
       "<polyline clip-path=\"url(#clip662)\" style=\"stroke:#000000; stroke-width:2; stroke-opacity:0.1; fill:none\" points=\"\n",
       "  232.389,994.031 2352.76,994.031 \n",
       "  \"/>\n",
       "<polyline clip-path=\"url(#clip662)\" style=\"stroke:#000000; stroke-width:2; stroke-opacity:0.1; fill:none\" points=\"\n",
       "  232.389,797.849 2352.76,797.849 \n",
       "  \"/>\n",
       "<polyline clip-path=\"url(#clip662)\" style=\"stroke:#000000; stroke-width:2; stroke-opacity:0.1; fill:none\" points=\"\n",
       "  232.389,601.666 2352.76,601.666 \n",
       "  \"/>\n",
       "<polyline clip-path=\"url(#clip662)\" style=\"stroke:#000000; stroke-width:2; stroke-opacity:0.1; fill:none\" points=\"\n",
       "  232.389,405.484 2352.76,405.484 \n",
       "  \"/>\n",
       "<polyline clip-path=\"url(#clip662)\" style=\"stroke:#000000; stroke-width:2; stroke-opacity:0.1; fill:none\" points=\"\n",
       "  232.389,209.302 2352.76,209.302 \n",
       "  \"/>\n",
       "<polyline clip-path=\"url(#clip660)\" style=\"stroke:#000000; stroke-width:4; stroke-opacity:1; fill:none\" points=\"\n",
       "  232.389,1423.18 232.389,123.472 \n",
       "  \"/>\n",
       "<polyline clip-path=\"url(#clip660)\" style=\"stroke:#000000; stroke-width:4; stroke-opacity:1; fill:none\" points=\"\n",
       "  232.389,1386.4 257.834,1386.4 \n",
       "  \"/>\n",
       "<polyline clip-path=\"url(#clip660)\" style=\"stroke:#000000; stroke-width:4; stroke-opacity:1; fill:none\" points=\"\n",
       "  232.389,1190.21 257.834,1190.21 \n",
       "  \"/>\n",
       "<polyline clip-path=\"url(#clip660)\" style=\"stroke:#000000; stroke-width:4; stroke-opacity:1; fill:none\" points=\"\n",
       "  232.389,994.031 257.834,994.031 \n",
       "  \"/>\n",
       "<polyline clip-path=\"url(#clip660)\" style=\"stroke:#000000; stroke-width:4; stroke-opacity:1; fill:none\" points=\"\n",
       "  232.389,797.849 257.834,797.849 \n",
       "  \"/>\n",
       "<polyline clip-path=\"url(#clip660)\" style=\"stroke:#000000; stroke-width:4; stroke-opacity:1; fill:none\" points=\"\n",
       "  232.389,601.666 257.834,601.666 \n",
       "  \"/>\n",
       "<polyline clip-path=\"url(#clip660)\" style=\"stroke:#000000; stroke-width:4; stroke-opacity:1; fill:none\" points=\"\n",
       "  232.389,405.484 257.834,405.484 \n",
       "  \"/>\n",
       "<polyline clip-path=\"url(#clip660)\" style=\"stroke:#000000; stroke-width:4; stroke-opacity:1; fill:none\" points=\"\n",
       "  232.389,209.302 257.834,209.302 \n",
       "  \"/>\n",
       "<path clip-path=\"url(#clip660)\" d=\"M 0 0 M184.445 1372.19 Q180.834 1372.19 179.005 1375.76 Q177.2 1379.3 177.2 1386.43 Q177.2 1393.54 179.005 1397.1 Q180.834 1400.64 184.445 1400.64 Q188.079 1400.64 189.885 1397.1 Q191.713 1393.54 191.713 1386.43 Q191.713 1379.3 189.885 1375.76 Q188.079 1372.19 184.445 1372.19 M184.445 1368.49 Q190.255 1368.49 193.311 1373.1 Q196.389 1377.68 196.389 1386.43 Q196.389 1395.16 193.311 1399.76 Q190.255 1404.35 184.445 1404.35 Q178.635 1404.35 175.556 1399.76 Q172.501 1395.16 172.501 1386.43 Q172.501 1377.68 175.556 1373.1 Q178.635 1368.49 184.445 1368.49 Z\" fill=\"#000000\" fill-rule=\"evenodd\" fill-opacity=\"1\" /><path clip-path=\"url(#clip660)\" d=\"M 0 0 M148.311 1203.56 L164.63 1203.56 L164.63 1207.49 L142.686 1207.49 L142.686 1203.56 Q145.348 1200.8 149.931 1196.17 Q154.538 1191.52 155.718 1190.18 Q157.964 1187.66 158.843 1185.92 Q159.746 1184.16 159.746 1182.47 Q159.746 1179.72 157.802 1177.98 Q155.88 1176.24 152.778 1176.24 Q150.579 1176.24 148.126 1177.01 Q145.695 1177.77 142.917 1179.32 L142.917 1174.6 Q145.741 1173.47 148.195 1172.89 Q150.649 1172.31 152.686 1172.31 Q158.056 1172.31 161.251 1174.99 Q164.445 1177.68 164.445 1182.17 Q164.445 1184.3 163.635 1186.22 Q162.848 1188.12 160.741 1190.71 Q160.163 1191.38 157.061 1194.6 Q153.959 1197.79 148.311 1203.56 Z\" fill=\"#000000\" fill-rule=\"evenodd\" fill-opacity=\"1\" /><path clip-path=\"url(#clip660)\" d=\"M 0 0 M184.445 1176.01 Q180.834 1176.01 179.005 1179.58 Q177.2 1183.12 177.2 1190.25 Q177.2 1197.35 179.005 1200.92 Q180.834 1204.46 184.445 1204.46 Q188.079 1204.46 189.885 1200.92 Q191.713 1197.35 191.713 1190.25 Q191.713 1183.12 189.885 1179.58 Q188.079 1176.01 184.445 1176.01 M184.445 1172.31 Q190.255 1172.31 193.311 1176.91 Q196.389 1181.5 196.389 1190.25 Q196.389 1198.97 193.311 1203.58 Q190.255 1208.16 184.445 1208.16 Q178.635 1208.16 175.556 1203.58 Q172.501 1198.97 172.501 1190.25 Q172.501 1181.5 175.556 1176.91 Q178.635 1172.31 184.445 1172.31 Z\" fill=\"#000000\" fill-rule=\"evenodd\" fill-opacity=\"1\" /><path clip-path=\"url(#clip660)\" d=\"M 0 0 M157.13 980.825 L145.325 999.274 L157.13 999.274 L157.13 980.825 M155.903 976.751 L161.783 976.751 L161.783 999.274 L166.714 999.274 L166.714 1003.16 L161.783 1003.16 L161.783 1011.31 L157.13 1011.31 L157.13 1003.16 L141.529 1003.16 L141.529 998.649 L155.903 976.751 Z\" fill=\"#000000\" fill-rule=\"evenodd\" fill-opacity=\"1\" /><path clip-path=\"url(#clip660)\" d=\"M 0 0 M184.445 979.83 Q180.834 979.83 179.005 983.395 Q177.2 986.936 177.2 994.066 Q177.2 1001.17 179.005 1004.74 Q180.834 1008.28 184.445 1008.28 Q188.079 1008.28 189.885 1004.74 Q191.713 1001.17 191.713 994.066 Q191.713 986.936 189.885 983.395 Q188.079 979.83 184.445 979.83 M184.445 976.126 Q190.255 976.126 193.311 980.733 Q196.389 985.316 196.389 994.066 Q196.389 1002.79 193.311 1007.4 Q190.255 1011.98 184.445 1011.98 Q178.635 1011.98 175.556 1007.4 Q172.501 1002.79 172.501 994.066 Q172.501 985.316 175.556 980.733 Q178.635 976.126 184.445 976.126 Z\" fill=\"#000000\" fill-rule=\"evenodd\" fill-opacity=\"1\" /><path clip-path=\"url(#clip660)\" d=\"M 0 0 M154.862 795.985 Q151.714 795.985 149.862 798.138 Q148.033 800.291 148.033 804.041 Q148.033 807.768 149.862 809.944 Q151.714 812.096 154.862 812.096 Q158.01 812.096 159.839 809.944 Q161.69 807.768 161.69 804.041 Q161.69 800.291 159.839 798.138 Q158.01 795.985 154.862 795.985 M164.144 781.333 L164.144 785.592 Q162.385 784.759 160.579 784.319 Q158.797 783.879 157.038 783.879 Q152.408 783.879 149.954 787.004 Q147.524 790.129 147.177 796.448 Q148.542 794.434 150.603 793.37 Q152.663 792.282 155.14 792.282 Q160.348 792.282 163.357 795.453 Q166.39 798.601 166.39 804.041 Q166.39 809.365 163.241 812.582 Q160.093 815.8 154.862 815.8 Q148.866 815.8 145.695 811.217 Q142.524 806.61 142.524 797.883 Q142.524 789.689 146.413 784.828 Q150.302 779.944 156.853 779.944 Q158.612 779.944 160.394 780.291 Q162.2 780.638 164.144 781.333 Z\" fill=\"#000000\" fill-rule=\"evenodd\" fill-opacity=\"1\" /><path clip-path=\"url(#clip660)\" d=\"M 0 0 M184.445 783.647 Q180.834 783.647 179.005 787.212 Q177.2 790.754 177.2 797.883 Q177.2 804.99 179.005 808.555 Q180.834 812.096 184.445 812.096 Q188.079 812.096 189.885 808.555 Q191.713 804.99 191.713 797.883 Q191.713 790.754 189.885 787.212 Q188.079 783.647 184.445 783.647 M184.445 779.944 Q190.255 779.944 193.311 784.55 Q196.389 789.134 196.389 797.883 Q196.389 806.61 193.311 811.217 Q190.255 815.8 184.445 815.8 Q178.635 815.8 175.556 811.217 Q172.501 806.61 172.501 797.883 Q172.501 789.134 175.556 784.55 Q178.635 779.944 184.445 779.944 Z\" fill=\"#000000\" fill-rule=\"evenodd\" fill-opacity=\"1\" /><path clip-path=\"url(#clip660)\" d=\"M 0 0 M154.283 602.535 Q150.95 602.535 149.028 604.317 Q147.13 606.099 147.13 609.224 Q147.13 612.349 149.028 614.132 Q150.95 615.914 154.283 615.914 Q157.616 615.914 159.538 614.132 Q161.459 612.326 161.459 609.224 Q161.459 606.099 159.538 604.317 Q157.64 602.535 154.283 602.535 M149.607 600.544 Q146.598 599.803 144.908 597.743 Q143.241 595.683 143.241 592.72 Q143.241 588.576 146.181 586.169 Q149.144 583.761 154.283 583.761 Q159.445 583.761 162.385 586.169 Q165.325 588.576 165.325 592.72 Q165.325 595.683 163.635 597.743 Q161.968 599.803 158.982 600.544 Q162.362 601.331 164.237 603.622 Q166.135 605.914 166.135 609.224 Q166.135 614.247 163.056 616.933 Q160.001 619.618 154.283 619.618 Q148.566 619.618 145.487 616.933 Q142.431 614.247 142.431 609.224 Q142.431 605.914 144.329 603.622 Q146.228 601.331 149.607 600.544 M147.894 593.16 Q147.894 595.845 149.561 597.349 Q151.251 598.854 154.283 598.854 Q157.292 598.854 158.982 597.349 Q160.695 595.845 160.695 593.16 Q160.695 590.474 158.982 588.97 Q157.292 587.465 154.283 587.465 Q151.251 587.465 149.561 588.97 Q147.894 590.474 147.894 593.16 Z\" fill=\"#000000\" fill-rule=\"evenodd\" fill-opacity=\"1\" /><path clip-path=\"url(#clip660)\" d=\"M 0 0 M184.445 587.465 Q180.834 587.465 179.005 591.03 Q177.2 594.572 177.2 601.701 Q177.2 608.808 179.005 612.372 Q180.834 615.914 184.445 615.914 Q188.079 615.914 189.885 612.372 Q191.713 608.808 191.713 601.701 Q191.713 594.572 189.885 591.03 Q188.079 587.465 184.445 587.465 M184.445 583.761 Q190.255 583.761 193.311 588.368 Q196.389 592.951 196.389 601.701 Q196.389 610.428 193.311 615.034 Q190.255 619.618 184.445 619.618 Q178.635 619.618 175.556 615.034 Q172.501 610.428 172.501 601.701 Q172.501 592.951 175.556 588.368 Q178.635 583.761 184.445 583.761 Z\" fill=\"#000000\" fill-rule=\"evenodd\" fill-opacity=\"1\" /><path clip-path=\"url(#clip660)\" d=\"M 0 0 M114.931 418.829 L122.57 418.829 L122.57 392.463 L114.26 394.13 L114.26 389.871 L122.524 388.204 L127.2 388.204 L127.2 418.829 L134.839 418.829 L134.839 422.764 L114.931 422.764 L114.931 418.829 Z\" fill=\"#000000\" fill-rule=\"evenodd\" fill-opacity=\"1\" /><path clip-path=\"url(#clip660)\" d=\"M 0 0 M154.283 391.283 Q150.672 391.283 148.843 394.848 Q147.038 398.389 147.038 405.519 Q147.038 412.625 148.843 416.19 Q150.672 419.732 154.283 419.732 Q157.917 419.732 159.723 416.19 Q161.552 412.625 161.552 405.519 Q161.552 398.389 159.723 394.848 Q157.917 391.283 154.283 391.283 M154.283 387.579 Q160.093 387.579 163.149 392.186 Q166.227 396.769 166.227 405.519 Q166.227 414.246 163.149 418.852 Q160.093 423.435 154.283 423.435 Q148.473 423.435 145.394 418.852 Q142.339 414.246 142.339 405.519 Q142.339 396.769 145.394 392.186 Q148.473 387.579 154.283 387.579 Z\" fill=\"#000000\" fill-rule=\"evenodd\" fill-opacity=\"1\" /><path clip-path=\"url(#clip660)\" d=\"M 0 0 M184.445 391.283 Q180.834 391.283 179.005 394.848 Q177.2 398.389 177.2 405.519 Q177.2 412.625 179.005 416.19 Q180.834 419.732 184.445 419.732 Q188.079 419.732 189.885 416.19 Q191.713 412.625 191.713 405.519 Q191.713 398.389 189.885 394.848 Q188.079 391.283 184.445 391.283 M184.445 387.579 Q190.255 387.579 193.311 392.186 Q196.389 396.769 196.389 405.519 Q196.389 414.246 193.311 418.852 Q190.255 423.435 184.445 423.435 Q178.635 423.435 175.556 418.852 Q172.501 414.246 172.501 405.519 Q172.501 396.769 175.556 392.186 Q178.635 387.579 184.445 387.579 Z\" fill=\"#000000\" fill-rule=\"evenodd\" fill-opacity=\"1\" /><path clip-path=\"url(#clip660)\" d=\"M 0 0 M114.931 222.647 L122.57 222.647 L122.57 196.281 L114.26 197.948 L114.26 193.689 L122.524 192.022 L127.2 192.022 L127.2 222.647 L134.839 222.647 L134.839 226.582 L114.931 226.582 L114.931 222.647 Z\" fill=\"#000000\" fill-rule=\"evenodd\" fill-opacity=\"1\" /><path clip-path=\"url(#clip660)\" d=\"M 0 0 M148.311 222.647 L164.63 222.647 L164.63 226.582 L142.686 226.582 L142.686 222.647 Q145.348 219.892 149.931 215.262 Q154.538 210.61 155.718 209.267 Q157.964 206.744 158.843 205.008 Q159.746 203.249 159.746 201.559 Q159.746 198.804 157.802 197.068 Q155.88 195.332 152.778 195.332 Q150.579 195.332 148.126 196.096 Q145.695 196.86 142.917 198.411 L142.917 193.689 Q145.741 192.554 148.195 191.976 Q150.649 191.397 152.686 191.397 Q158.056 191.397 161.251 194.082 Q164.445 196.767 164.445 201.258 Q164.445 203.388 163.635 205.309 Q162.848 207.207 160.741 209.8 Q160.163 210.471 157.061 213.688 Q153.959 216.883 148.311 222.647 Z\" fill=\"#000000\" fill-rule=\"evenodd\" fill-opacity=\"1\" /><path clip-path=\"url(#clip660)\" d=\"M 0 0 M184.445 195.101 Q180.834 195.101 179.005 198.665 Q177.2 202.207 177.2 209.337 Q177.2 216.443 179.005 220.008 Q180.834 223.549 184.445 223.549 Q188.079 223.549 189.885 220.008 Q191.713 216.443 191.713 209.337 Q191.713 202.207 189.885 198.665 Q188.079 195.101 184.445 195.101 M184.445 191.397 Q190.255 191.397 193.311 196.003 Q196.389 200.587 196.389 209.337 Q196.389 218.063 193.311 222.67 Q190.255 227.253 184.445 227.253 Q178.635 227.253 175.556 222.67 Q172.501 218.063 172.501 209.337 Q172.501 200.587 175.556 196.003 Q178.635 191.397 184.445 191.397 Z\" fill=\"#000000\" fill-rule=\"evenodd\" fill-opacity=\"1\" /><path clip-path=\"url(#clip660)\" d=\"M 0 0 M16.4842 937.529 L16.4842 910.221 L21.895 910.221 L21.895 931.1 L35.8996 931.1 L35.8996 912.258 L41.3104 912.258 L41.3104 931.1 L64.0042 931.1 L64.0042 937.529 L16.4842 937.529 Z\" fill=\"#000000\" fill-rule=\"evenodd\" fill-opacity=\"1\" /><path clip-path=\"url(#clip660)\" d=\"M 0 0 M33.8307 884.376 Q33.2578 885.362 33.0032 886.54 Q32.7167 887.686 32.7167 889.086 Q32.7167 894.052 35.9632 896.725 Q39.1779 899.367 45.2253 899.367 L64.0042 899.367 L64.0042 905.255 L28.3562 905.255 L28.3562 899.367 L33.8944 899.367 Q30.6479 897.521 29.0883 894.561 Q27.4968 891.601 27.4968 887.368 Q27.4968 886.763 27.5923 886.031 Q27.656 885.299 27.8151 884.408 L33.8307 884.376 Z\" fill=\"#000000\" fill-rule=\"evenodd\" fill-opacity=\"1\" /><path clip-path=\"url(#clip660)\" d=\"M 0 0 M44.7161 849.173 L47.5806 849.173 L47.5806 876.1 Q53.6281 875.718 56.8109 872.472 Q59.9619 869.194 59.9619 863.369 Q59.9619 859.995 59.1344 856.844 Q58.3069 853.661 56.6518 850.542 L62.1899 850.542 Q63.5267 853.693 64.227 857.003 Q64.9272 860.313 64.9272 863.719 Q64.9272 872.249 59.9619 877.246 Q54.9967 882.211 46.5303 882.211 Q37.7774 882.211 32.6531 877.501 Q27.4968 872.758 27.4968 864.738 Q27.4968 857.544 32.1438 853.375 Q36.7589 849.173 44.7161 849.173 M42.9973 855.03 Q38.1912 855.093 35.3266 857.735 Q32.4621 860.345 32.4621 864.674 Q32.4621 869.575 35.2312 872.536 Q38.0002 875.464 43.0292 875.909 L42.9973 855.03 Z\" fill=\"#000000\" fill-rule=\"evenodd\" fill-opacity=\"1\" /><path clip-path=\"url(#clip660)\" d=\"M 0 0 M46.212 836.06 Q52.6732 836.06 56.3653 833.418 Q60.0256 830.745 60.0256 826.098 Q60.0256 821.451 56.3653 818.777 Q52.6732 816.104 46.212 816.104 Q39.7508 816.104 36.0905 818.777 Q32.3984 821.451 32.3984 826.098 Q32.3984 830.745 36.0905 833.418 Q39.7508 836.06 46.212 836.06 M58.657 816.104 Q61.8398 817.95 63.3994 820.782 Q64.9272 823.583 64.9272 827.53 Q64.9272 833.991 59.771 838.065 Q54.6147 842.107 46.212 842.107 Q37.8093 842.107 32.6531 838.065 Q27.4968 833.991 27.4968 827.53 Q27.4968 823.583 29.0564 820.782 Q30.5842 817.95 33.7671 816.104 L28.3562 816.104 L28.3562 810.247 L77.5631 810.247 L77.5631 816.104 L58.657 816.104 Z\" fill=\"#000000\" fill-rule=\"evenodd\" fill-opacity=\"1\" /><path clip-path=\"url(#clip660)\" d=\"M 0 0 M49.9359 798.789 L28.3562 798.789 L28.3562 792.932 L49.7131 792.932 Q54.7739 792.932 57.3202 790.959 Q59.8346 788.986 59.8346 785.039 Q59.8346 780.296 56.8109 777.559 Q53.7872 774.79 48.5673 774.79 L28.3562 774.79 L28.3562 768.934 L64.0042 768.934 L64.0042 774.79 L58.5296 774.79 Q61.7762 776.923 63.3676 779.755 Q64.9272 782.556 64.9272 786.28 Q64.9272 792.423 61.1078 795.606 Q57.2883 798.789 49.9359 798.789 M27.4968 784.052 L27.4968 784.052 Z\" fill=\"#000000\" fill-rule=\"evenodd\" fill-opacity=\"1\" /><path clip-path=\"url(#clip660)\" d=\"M 0 0 M44.7161 726.379 L47.5806 726.379 L47.5806 753.306 Q53.6281 752.924 56.8109 749.677 Q59.9619 746.399 59.9619 740.574 Q59.9619 737.201 59.1344 734.05 Q58.3069 730.867 56.6518 727.748 L62.1899 727.748 Q63.5267 730.899 64.227 734.209 Q64.9272 737.519 64.9272 740.925 Q64.9272 749.455 59.9619 754.452 Q54.9967 759.417 46.5303 759.417 Q37.7774 759.417 32.6531 754.706 Q27.4968 749.964 27.4968 741.943 Q27.4968 734.75 32.1438 730.58 Q36.7589 726.379 44.7161 726.379 M42.9973 732.235 Q38.1912 732.299 35.3266 734.941 Q32.4621 737.551 32.4621 741.879 Q32.4621 746.781 35.2312 749.741 Q38.0002 752.669 43.0292 753.115 L42.9973 732.235 Z\" fill=\"#000000\" fill-rule=\"evenodd\" fill-opacity=\"1\" /><path clip-path=\"url(#clip660)\" d=\"M 0 0 M42.4881 687.134 L64.0042 687.134 L64.0042 692.991 L42.679 692.991 Q37.6183 692.991 35.1038 694.964 Q32.5894 696.938 32.5894 700.884 Q32.5894 705.627 35.6131 708.364 Q38.6368 711.101 43.8567 711.101 L64.0042 711.101 L64.0042 716.989 L28.3562 716.989 L28.3562 711.101 L33.8944 711.101 Q30.6797 709.001 29.0883 706.168 Q27.4968 703.303 27.4968 699.579 Q27.4968 693.436 31.3163 690.285 Q35.1038 687.134 42.4881 687.134 Z\" fill=\"#000000\" fill-rule=\"evenodd\" fill-opacity=\"1\" /><path clip-path=\"url(#clip660)\" d=\"M 0 0 M29.7248 649.799 L35.1993 649.799 Q33.8307 652.282 33.1623 654.797 Q32.4621 657.279 32.4621 659.825 Q32.4621 665.523 36.0905 668.674 Q39.6872 671.825 46.212 671.825 Q52.7369 671.825 56.3653 668.674 Q59.9619 665.523 59.9619 659.825 Q59.9619 657.279 59.2935 654.797 Q58.5933 652.282 57.2247 649.799 L62.6355 649.799 Q63.7814 652.25 64.3543 654.892 Q64.9272 657.502 64.9272 660.462 Q64.9272 668.515 59.8664 673.257 Q54.8057 678 46.212 678 Q37.491 678 32.4939 673.225 Q27.4968 668.419 27.4968 660.08 Q27.4968 657.375 28.0697 654.797 Q28.6108 652.218 29.7248 649.799 Z\" fill=\"#000000\" fill-rule=\"evenodd\" fill-opacity=\"1\" /><path clip-path=\"url(#clip660)\" d=\"M 0 0 M67.3143 624.782 Q73.68 627.265 75.6216 629.62 Q77.5631 631.975 77.5631 635.922 L77.5631 640.601 L72.6615 640.601 L72.6615 637.164 Q72.6615 634.745 71.5157 633.408 Q70.3699 632.071 66.1048 630.448 L63.4312 629.397 L28.3562 643.816 L28.3562 637.609 L56.238 626.469 L28.3562 615.329 L28.3562 609.123 L67.3143 624.782 Z\" fill=\"#000000\" fill-rule=\"evenodd\" fill-opacity=\"1\" /><path clip-path=\"url(#clip660)\" d=\"M 0 0 M775.718 12.096 L783.901 12.096 L783.901 36.8875 L813.634 36.8875 L813.634 12.096 L821.817 12.096 L821.817 72.576 L813.634 72.576 L813.634 43.7741 L783.901 43.7741 L783.901 72.576 L775.718 72.576 L775.718 12.096 Z\" fill=\"#000000\" fill-rule=\"evenodd\" fill-opacity=\"1\" /><path clip-path=\"url(#clip660)\" d=\"M 0 0 M837.778 27.2059 L845.231 27.2059 L845.231 72.576 L837.778 72.576 L837.778 27.2059 M837.778 9.54393 L845.231 9.54393 L845.231 18.9825 L837.778 18.9825 L837.778 9.54393 Z\" fill=\"#000000\" fill-rule=\"evenodd\" fill-opacity=\"1\" /><path clip-path=\"url(#clip660)\" d=\"M 0 0 M889.751 28.5427 L889.751 35.5912 Q886.591 33.9709 883.188 33.1607 Q879.785 32.3505 876.14 32.3505 Q870.59 32.3505 867.795 34.0519 Q865.04 35.7533 865.04 39.156 Q865.04 41.7486 867.025 43.2475 Q869.01 44.7058 875.005 46.0426 L877.557 46.6097 Q885.497 48.3111 888.819 51.4303 Q892.181 54.509 892.181 60.0587 Q892.181 66.3781 887.158 70.0644 Q882.176 73.7508 873.426 73.7508 Q869.78 73.7508 865.81 73.0216 Q861.88 72.3329 857.506 70.9151 L857.506 63.2184 Q861.637 65.3654 865.648 66.4591 Q869.658 67.5124 873.588 67.5124 Q878.854 67.5124 881.689 65.73 Q884.525 63.9071 884.525 60.6258 Q884.525 57.5877 882.459 55.9673 Q880.434 54.3469 873.507 52.8481 L870.914 52.2405 Q863.987 50.7821 860.908 47.7845 Q857.83 44.7463 857.83 39.4801 Q857.83 33.0797 862.367 29.5959 Q866.904 26.1121 875.248 26.1121 Q879.38 26.1121 883.026 26.7198 Q886.672 27.3274 889.751 28.5427 Z\" fill=\"#000000\" fill-rule=\"evenodd\" fill-opacity=\"1\" /><path clip-path=\"url(#clip660)\" d=\"M 0 0 M911.423 14.324 L911.423 27.2059 L926.776 27.2059 L926.776 32.9987 L911.423 32.9987 L911.423 57.6282 Q911.423 63.1779 912.922 64.7578 Q914.461 66.3376 919.12 66.3376 L926.776 66.3376 L926.776 72.576 L919.12 72.576 Q910.491 72.576 907.21 69.3758 Q903.929 66.1351 903.929 57.6282 L903.929 32.9987 L898.46 32.9987 L898.46 27.2059 L903.929 27.2059 L903.929 14.324 L911.423 14.324 Z\" fill=\"#000000\" fill-rule=\"evenodd\" fill-opacity=\"1\" /><path clip-path=\"url(#clip660)\" d=\"M 0 0 M954.16 32.4315 Q948.165 32.4315 944.681 37.1306 Q941.197 41.7891 941.197 49.9314 Q941.197 58.0738 944.64 62.7728 Q948.124 67.4314 954.16 67.4314 Q960.115 67.4314 963.599 62.7323 Q967.082 58.0333 967.082 49.9314 Q967.082 41.8701 963.599 37.1711 Q960.115 32.4315 954.16 32.4315 M954.16 26.1121 Q963.882 26.1121 969.432 32.4315 Q974.982 38.7509 974.982 49.9314 Q974.982 61.0714 969.432 67.4314 Q963.882 73.7508 954.16 73.7508 Q944.397 73.7508 938.848 67.4314 Q933.338 61.0714 933.338 49.9314 Q933.338 38.7509 938.848 32.4315 Q944.397 26.1121 954.16 26.1121 Z\" fill=\"#000000\" fill-rule=\"evenodd\" fill-opacity=\"1\" /><path clip-path=\"url(#clip660)\" d=\"M 0 0 M1017.19 49.3643 Q1017.19 41.2625 1013.83 36.8065 Q1010.51 32.3505 1004.47 32.3505 Q998.477 32.3505 995.115 36.8065 Q991.793 41.2625 991.793 49.3643 Q991.793 57.4256 995.115 61.8816 Q998.477 66.3376 1004.47 66.3376 Q1010.51 66.3376 1013.83 61.8816 Q1017.19 57.4256 1017.19 49.3643 M1024.65 66.9452 Q1024.65 78.5308 1019.5 84.1616 Q1014.36 89.8329 1003.74 89.8329 Q999.814 89.8329 996.33 89.2252 Q992.846 88.6581 989.565 87.4428 L989.565 80.1917 Q992.846 81.9741 996.046 82.8248 Q999.247 83.6755 1002.57 83.6755 Q1009.9 83.6755 1013.55 79.8271 Q1017.19 76.0193 1017.19 68.282 L1017.19 64.5957 Q1014.88 68.6061 1011.28 70.5911 Q1007.67 72.576 1002.65 72.576 Q994.305 72.576 989.2 66.2161 Q984.096 59.8562 984.096 49.3643 Q984.096 38.832 989.2 32.472 Q994.305 26.1121 1002.65 26.1121 Q1007.67 26.1121 1011.28 28.0971 Q1014.88 30.082 1017.19 34.0924 L1017.19 27.2059 L1024.65 27.2059 L1024.65 66.9452 Z\" fill=\"#000000\" fill-rule=\"evenodd\" fill-opacity=\"1\" /><path clip-path=\"url(#clip660)\" d=\"M 0 0 M1066.29 34.1734 Q1065.03 33.4443 1063.53 33.1202 Q1062.08 32.7556 1060.29 32.7556 Q1053.97 32.7556 1050.57 36.8875 Q1047.21 40.9789 1047.21 48.6757 L1047.21 72.576 L1039.72 72.576 L1039.72 27.2059 L1047.21 27.2059 L1047.21 34.2544 Q1049.56 30.1225 1053.33 28.1376 Q1057.09 26.1121 1062.48 26.1121 Q1063.25 26.1121 1064.18 26.2337 Q1065.11 26.3147 1066.25 26.5172 L1066.29 34.1734 Z\" fill=\"#000000\" fill-rule=\"evenodd\" fill-opacity=\"1\" /><path clip-path=\"url(#clip660)\" d=\"M 0 0 M1094.73 49.7694 Q1085.69 49.7694 1082.21 51.8354 Q1078.73 53.9013 1078.73 58.8839 Q1078.73 62.8538 1081.32 65.2034 Q1083.95 67.5124 1088.45 67.5124 Q1094.65 67.5124 1098.37 63.1374 Q1102.14 58.7219 1102.14 51.4303 L1102.14 49.7694 L1094.73 49.7694 M1109.59 46.6907 L1109.59 72.576 L1102.14 72.576 L1102.14 65.6895 Q1099.59 69.8214 1095.78 71.8063 Q1091.97 73.7508 1086.46 73.7508 Q1079.5 73.7508 1075.36 69.8619 Q1071.27 65.9325 1071.27 59.3701 Q1071.27 51.7138 1076.38 47.825 Q1081.52 43.9361 1091.69 43.9361 L1102.14 43.9361 L1102.14 43.2069 Q1102.14 38.0623 1098.74 35.2672 Q1095.37 32.4315 1089.26 32.4315 Q1085.37 32.4315 1081.68 33.3632 Q1078 34.295 1074.59 36.1584 L1074.59 29.2718 Q1078.68 27.692 1082.53 26.9223 Q1086.38 26.1121 1090.03 26.1121 Q1099.87 26.1121 1104.73 31.2163 Q1109.59 36.3204 1109.59 46.6907 Z\" fill=\"#000000\" fill-rule=\"evenodd\" fill-opacity=\"1\" /><path clip-path=\"url(#clip660)\" d=\"M 0 0 M1160.27 35.9153 Q1163.07 30.8922 1166.95 28.5022 Q1170.84 26.1121 1176.11 26.1121 Q1183.2 26.1121 1187.05 31.0947 Q1190.89 36.0368 1190.89 45.1919 L1190.89 72.576 L1183.4 72.576 L1183.4 45.4349 Q1183.4 38.913 1181.09 35.7533 Q1178.78 32.5936 1174.04 32.5936 Q1168.25 32.5936 1164.89 36.4419 Q1161.53 40.2903 1161.53 46.9338 L1161.53 72.576 L1154.03 72.576 L1154.03 45.4349 Q1154.03 38.8725 1151.72 35.7533 Q1149.41 32.5936 1144.59 32.5936 Q1138.88 32.5936 1135.52 36.4824 Q1132.16 40.3308 1132.16 46.9338 L1132.16 72.576 L1124.66 72.576 L1124.66 27.2059 L1132.16 27.2059 L1132.16 34.2544 Q1134.71 30.082 1138.27 28.0971 Q1141.84 26.1121 1146.74 26.1121 Q1151.68 26.1121 1155.13 28.6237 Q1158.61 31.1352 1160.27 35.9153 Z\" fill=\"#000000\" fill-rule=\"evenodd\" fill-opacity=\"1\" /><path clip-path=\"url(#clip660)\" d=\"M 0 0 M1249.71 32.4315 Q1243.72 32.4315 1240.23 37.1306 Q1236.75 41.7891 1236.75 49.9314 Q1236.75 58.0738 1240.19 62.7728 Q1243.68 67.4314 1249.71 67.4314 Q1255.67 67.4314 1259.15 62.7323 Q1262.64 58.0333 1262.64 49.9314 Q1262.64 41.8701 1259.15 37.1711 Q1255.67 32.4315 1249.71 32.4315 M1249.71 26.1121 Q1259.44 26.1121 1264.99 32.4315 Q1270.54 38.7509 1270.54 49.9314 Q1270.54 61.0714 1264.99 67.4314 Q1259.44 73.7508 1249.71 73.7508 Q1239.95 73.7508 1234.4 67.4314 Q1228.89 61.0714 1228.89 49.9314 Q1228.89 38.7509 1234.4 32.4315 Q1239.95 26.1121 1249.71 26.1121 Z\" fill=\"#000000\" fill-rule=\"evenodd\" fill-opacity=\"1\" /><path clip-path=\"url(#clip660)\" d=\"M 0 0 M1305.86 9.54393 L1305.86 15.7418 L1298.73 15.7418 Q1294.72 15.7418 1293.14 17.3622 Q1291.6 18.9825 1291.6 23.1955 L1291.6 27.2059 L1303.87 27.2059 L1303.87 32.9987 L1291.6 32.9987 L1291.6 72.576 L1284.11 72.576 L1284.11 32.9987 L1276.98 32.9987 L1276.98 27.2059 L1284.11 27.2059 L1284.11 24.0462 Q1284.11 16.471 1287.63 13.0277 Q1291.15 9.54393 1298.81 9.54393 L1305.86 9.54393 Z\" fill=\"#000000\" fill-rule=\"evenodd\" fill-opacity=\"1\" /><path clip-path=\"url(#clip660)\" d=\"M 0 0 M1338.47 9.54393 L1345.92 9.54393 L1345.92 72.576 L1338.47 72.576 L1338.47 9.54393 Z\" fill=\"#000000\" fill-rule=\"evenodd\" fill-opacity=\"1\" /><path clip-path=\"url(#clip660)\" d=\"M 0 0 M1361.52 27.2059 L1368.97 27.2059 L1368.97 72.576 L1361.52 72.576 L1361.52 27.2059 M1361.52 9.54393 L1368.97 9.54393 L1368.97 18.9825 L1361.52 18.9825 L1361.52 9.54393 Z\" fill=\"#000000\" fill-rule=\"evenodd\" fill-opacity=\"1\" /><path clip-path=\"url(#clip660)\" d=\"M 0 0 M1422.28 45.1919 L1422.28 72.576 L1414.83 72.576 L1414.83 45.4349 Q1414.83 38.994 1412.32 35.7938 Q1409.81 32.5936 1404.78 32.5936 Q1398.75 32.5936 1395.26 36.4419 Q1391.78 40.2903 1391.78 46.9338 L1391.78 72.576 L1384.29 72.576 L1384.29 27.2059 L1391.78 27.2059 L1391.78 34.2544 Q1394.45 30.163 1398.06 28.1376 Q1401.7 26.1121 1406.44 26.1121 Q1414.26 26.1121 1418.27 30.9732 Q1422.28 35.7938 1422.28 45.1919 Z\" fill=\"#000000\" fill-rule=\"evenodd\" fill-opacity=\"1\" /><path clip-path=\"url(#clip660)\" d=\"M 0 0 M1444.36 65.7705 L1444.36 89.8329 L1436.87 89.8329 L1436.87 27.2059 L1444.36 27.2059 L1444.36 34.0924 Q1446.71 30.0415 1450.27 28.0971 Q1453.88 26.1121 1458.86 26.1121 Q1467.13 26.1121 1472.27 32.6746 Q1477.46 39.2371 1477.46 49.9314 Q1477.46 60.6258 1472.27 67.1883 Q1467.13 73.7508 1458.86 73.7508 Q1453.88 73.7508 1450.27 71.8063 Q1446.71 69.8214 1444.36 65.7705 M1469.72 49.9314 Q1469.72 41.7081 1466.32 37.0496 Q1462.95 32.3505 1457.04 32.3505 Q1451.13 32.3505 1447.72 37.0496 Q1444.36 41.7081 1444.36 49.9314 Q1444.36 58.1548 1447.72 62.8538 Q1451.13 67.5124 1457.04 67.5124 Q1462.95 67.5124 1466.32 62.8538 Q1469.72 58.1548 1469.72 49.9314 Z\" fill=\"#000000\" fill-rule=\"evenodd\" fill-opacity=\"1\" /><path clip-path=\"url(#clip660)\" d=\"M 0 0 M1516.1 34.1734 Q1514.85 33.4443 1513.35 33.1202 Q1511.89 32.7556 1510.11 32.7556 Q1503.79 32.7556 1500.38 36.8875 Q1497.02 40.9789 1497.02 48.6757 L1497.02 72.576 L1489.53 72.576 L1489.53 27.2059 L1497.02 27.2059 L1497.02 34.2544 Q1499.37 30.1225 1503.14 28.1376 Q1506.91 26.1121 1512.29 26.1121 Q1513.06 26.1121 1514 26.2337 Q1514.93 26.3147 1516.06 26.5172 L1516.1 34.1734 Z\" fill=\"#000000\" fill-rule=\"evenodd\" fill-opacity=\"1\" /><path clip-path=\"url(#clip660)\" d=\"M 0 0 M1560.9 48.0275 L1560.9 51.6733 L1526.63 51.6733 Q1527.12 59.3701 1531.25 63.421 Q1535.42 67.4314 1542.84 67.4314 Q1547.13 67.4314 1551.14 66.3781 Q1555.19 65.3249 1559.16 63.2184 L1559.16 70.267 Q1555.15 71.9684 1550.94 72.8596 Q1546.73 73.7508 1542.39 73.7508 Q1531.54 73.7508 1525.18 67.4314 Q1518.86 61.1119 1518.86 50.3365 Q1518.86 39.1965 1524.85 32.6746 Q1530.89 26.1121 1541.1 26.1121 Q1550.25 26.1121 1555.56 32.0264 Q1560.9 37.9003 1560.9 48.0275 M1553.45 45.84 Q1553.37 39.7232 1550.01 36.0774 Q1546.69 32.4315 1541.18 32.4315 Q1534.94 32.4315 1531.17 35.9558 Q1527.44 39.4801 1526.88 45.8805 L1553.45 45.84 Z\" fill=\"#000000\" fill-rule=\"evenodd\" fill-opacity=\"1\" /><path clip-path=\"url(#clip660)\" d=\"M 0 0 M1602.99 34.0924 L1602.99 9.54393 L1610.45 9.54393 L1610.45 72.576 L1602.99 72.576 L1602.99 65.7705 Q1600.64 69.8214 1597.04 71.8063 Q1593.47 73.7508 1588.45 73.7508 Q1580.23 73.7508 1575.04 67.1883 Q1569.9 60.6258 1569.9 49.9314 Q1569.9 39.2371 1575.04 32.6746 Q1580.23 26.1121 1588.45 26.1121 Q1593.47 26.1121 1597.04 28.0971 Q1600.64 30.0415 1602.99 34.0924 M1577.59 49.9314 Q1577.59 58.1548 1580.96 62.8538 Q1584.36 67.5124 1590.27 67.5124 Q1596.19 67.5124 1599.59 62.8538 Q1602.99 58.1548 1602.99 49.9314 Q1602.99 41.7081 1599.59 37.0496 Q1596.19 32.3505 1590.27 32.3505 Q1584.36 32.3505 1580.96 37.0496 Q1577.59 41.7081 1577.59 49.9314 Z\" fill=\"#000000\" fill-rule=\"evenodd\" fill-opacity=\"1\" /><path clip-path=\"url(#clip660)\" d=\"M 0 0 M1633.9 65.6895 L1662.46 65.6895 L1662.46 72.576 L1624.06 72.576 L1624.06 65.6895 Q1628.72 60.8689 1636.74 52.7671 Q1644.8 44.6248 1646.86 42.2752 Q1650.79 37.8598 1652.33 34.8216 Q1653.91 31.7429 1653.91 28.7857 Q1653.91 23.9651 1650.51 20.927 Q1647.15 17.8888 1641.72 17.8888 Q1637.87 17.8888 1633.58 19.2256 Q1629.32 20.5624 1624.46 23.2765 L1624.46 15.0127 Q1629.41 13.0277 1633.7 12.015 Q1637.99 11.0023 1641.56 11.0023 Q1650.96 11.0023 1656.55 15.7013 Q1662.14 20.4004 1662.14 28.2591 Q1662.14 31.9859 1660.72 35.3482 Q1659.34 38.6699 1655.66 43.2069 Q1654.64 44.3817 1649.21 50.0125 Q1643.79 55.6027 1633.9 65.6895 Z\" fill=\"#000000\" fill-rule=\"evenodd\" fill-opacity=\"1\" /><path clip-path=\"url(#clip660)\" d=\"M 0 0 M1722.86 9.62495 Q1717.43 18.942 1714.8 28.0566 Q1712.17 37.1711 1712.17 46.5287 Q1712.17 55.8863 1714.8 65.0818 Q1717.47 74.2369 1722.86 83.5134 L1716.38 83.5134 Q1710.3 73.9938 1707.26 64.7983 Q1704.27 55.6027 1704.27 46.5287 Q1704.27 37.4952 1707.26 28.3401 Q1710.26 19.1851 1716.38 9.62495 L1722.86 9.62495 Z\" fill=\"#000000\" fill-rule=\"evenodd\" fill-opacity=\"1\" /><path clip-path=\"url(#clip660)\" d=\"M 0 0 M1763.77 51.4708 L1761.99 42.1132 Q1760.17 32.5126 1752.96 32.5126 Q1747.53 32.5126 1745.06 36.9686 Q1741.94 42.5588 1741.94 49.9314 Q1741.94 58.8434 1744.98 63.0969 Q1748.06 67.4314 1752.96 67.4314 Q1758.39 67.4314 1761.3 58.8029 L1763.77 51.4708 M1767.95 39.075 L1771.96 27.2059 L1778.6 27.2059 L1770.3 51.7949 L1771.92 60.6663 Q1772.28 62.6513 1773.7 64.3122 Q1775.36 66.2566 1776.66 66.2566 L1780.22 66.2566 L1780.22 72.576 L1775.76 72.576 Q1771.96 72.576 1768.55 69.1732 Q1766.89 67.4719 1766.2 63.9071 Q1764.34 68.4036 1760.53 71.9279 Q1758.75 73.5887 1752.96 73.5887 Q1743.44 73.5887 1738.82 67.4314 Q1734.08 61.0714 1734.08 49.9314 Q1734.08 38.0218 1739.23 32.4315 Q1744.94 26.1931 1752.96 26.1931 Q1765.56 26.1931 1767.95 39.075 Z\" fill=\"#000000\" fill-rule=\"evenodd\" fill-opacity=\"1\" /><path clip-path=\"url(#clip660)\" d=\"M 0 0 M1790.83 9.62495 L1797.32 9.62495 Q1803.39 19.1851 1806.39 28.3401 Q1809.43 37.4952 1809.43 46.5287 Q1809.43 55.6027 1806.39 64.7983 Q1803.39 73.9938 1797.32 83.5134 L1790.83 83.5134 Q1796.22 74.2369 1798.85 65.0818 Q1801.53 55.8863 1801.53 46.5287 Q1801.53 37.1711 1798.85 28.0566 Q1796.22 18.942 1790.83 9.62495 Z\" fill=\"#000000\" fill-rule=\"evenodd\" fill-opacity=\"1\" /><path clip-path=\"url(#clip662)\" d=\"\n",
       "M349.013 1376.59 L349.013 1386.4 L431.062 1386.4 L431.062 1376.59 L349.013 1376.59 L349.013 1376.59  Z\n",
       "  \" fill=\"#009af9\" fill-rule=\"evenodd\" fill-opacity=\"1\"/>\n",
       "<polyline clip-path=\"url(#clip662)\" style=\"stroke:#000000; stroke-width:4; stroke-opacity:1; fill:none\" points=\"\n",
       "  349.013,1376.59 349.013,1386.4 431.062,1386.4 431.062,1376.59 349.013,1376.59 \n",
       "  \"/>\n",
       "<path clip-path=\"url(#clip662)\" d=\"\n",
       "M431.062 1376.59 L431.062 1386.4 L513.111 1386.4 L513.111 1376.59 L431.062 1376.59 L431.062 1376.59  Z\n",
       "  \" fill=\"#009af9\" fill-rule=\"evenodd\" fill-opacity=\"1\"/>\n",
       "<polyline clip-path=\"url(#clip662)\" style=\"stroke:#000000; stroke-width:4; stroke-opacity:1; fill:none\" points=\"\n",
       "  431.062,1376.59 431.062,1386.4 513.111,1386.4 513.111,1376.59 431.062,1376.59 \n",
       "  \"/>\n",
       "<path clip-path=\"url(#clip662)\" d=\"\n",
       "M513.111 1366.78 L513.111 1386.4 L595.159 1386.4 L595.159 1366.78 L513.111 1366.78 L513.111 1366.78  Z\n",
       "  \" fill=\"#009af9\" fill-rule=\"evenodd\" fill-opacity=\"1\"/>\n",
       "<polyline clip-path=\"url(#clip662)\" style=\"stroke:#000000; stroke-width:4; stroke-opacity:1; fill:none\" points=\"\n",
       "  513.111,1366.78 513.111,1386.4 595.159,1386.4 595.159,1366.78 513.111,1366.78 \n",
       "  \"/>\n",
       "<path clip-path=\"url(#clip662)\" d=\"\n",
       "M595.159 1327.54 L595.159 1386.4 L677.208 1386.4 L677.208 1327.54 L595.159 1327.54 L595.159 1327.54  Z\n",
       "  \" fill=\"#009af9\" fill-rule=\"evenodd\" fill-opacity=\"1\"/>\n",
       "<polyline clip-path=\"url(#clip662)\" style=\"stroke:#000000; stroke-width:4; stroke-opacity:1; fill:none\" points=\"\n",
       "  595.159,1327.54 595.159,1386.4 677.208,1386.4 677.208,1327.54 595.159,1327.54 \n",
       "  \"/>\n",
       "<path clip-path=\"url(#clip662)\" d=\"\n",
       "M677.208 1258.88 L677.208 1386.4 L759.256 1386.4 L759.256 1258.88 L677.208 1258.88 L677.208 1258.88  Z\n",
       "  \" fill=\"#009af9\" fill-rule=\"evenodd\" fill-opacity=\"1\"/>\n",
       "<polyline clip-path=\"url(#clip662)\" style=\"stroke:#000000; stroke-width:4; stroke-opacity:1; fill:none\" points=\"\n",
       "  677.208,1258.88 677.208,1386.4 759.256,1386.4 759.256,1258.88 677.208,1258.88 \n",
       "  \"/>\n",
       "<path clip-path=\"url(#clip662)\" d=\"\n",
       "M759.256 1268.69 L759.256 1386.4 L841.305 1386.4 L841.305 1268.69 L759.256 1268.69 L759.256 1268.69  Z\n",
       "  \" fill=\"#009af9\" fill-rule=\"evenodd\" fill-opacity=\"1\"/>\n",
       "<polyline clip-path=\"url(#clip662)\" style=\"stroke:#000000; stroke-width:4; stroke-opacity:1; fill:none\" points=\"\n",
       "  759.256,1268.69 759.256,1386.4 841.305,1386.4 841.305,1268.69 759.256,1268.69 \n",
       "  \"/>\n",
       "<path clip-path=\"url(#clip662)\" d=\"\n",
       "M841.305 984.222 L841.305 1386.4 L923.354 1386.4 L923.354 984.222 L841.305 984.222 L841.305 984.222  Z\n",
       "  \" fill=\"#009af9\" fill-rule=\"evenodd\" fill-opacity=\"1\"/>\n",
       "<polyline clip-path=\"url(#clip662)\" style=\"stroke:#000000; stroke-width:4; stroke-opacity:1; fill:none\" points=\"\n",
       "  841.305,984.222 841.305,1386.4 923.354,1386.4 923.354,984.222 841.305,984.222 \n",
       "  \"/>\n",
       "<path clip-path=\"url(#clip662)\" d=\"\n",
       "M923.354 846.894 L923.354 1386.4 L1005.4 1386.4 L1005.4 846.894 L923.354 846.894 L923.354 846.894  Z\n",
       "  \" fill=\"#009af9\" fill-rule=\"evenodd\" fill-opacity=\"1\"/>\n",
       "<polyline clip-path=\"url(#clip662)\" style=\"stroke:#000000; stroke-width:4; stroke-opacity:1; fill:none\" points=\"\n",
       "  923.354,846.894 923.354,1386.4 1005.4,1386.4 1005.4,846.894 923.354,846.894 \n",
       "  \"/>\n",
       "<path clip-path=\"url(#clip662)\" d=\"\n",
       "M1005.4 670.33 L1005.4 1386.4 L1087.45 1386.4 L1087.45 670.33 L1005.4 670.33 L1005.4 670.33  Z\n",
       "  \" fill=\"#009af9\" fill-rule=\"evenodd\" fill-opacity=\"1\"/>\n",
       "<polyline clip-path=\"url(#clip662)\" style=\"stroke:#000000; stroke-width:4; stroke-opacity:1; fill:none\" points=\"\n",
       "  1005.4,670.33 1005.4,1386.4 1087.45,1386.4 1087.45,670.33 1005.4,670.33 \n",
       "  \"/>\n",
       "<path clip-path=\"url(#clip662)\" d=\"\n",
       "M1087.45 562.43 L1087.45 1386.4 L1169.5 1386.4 L1169.5 562.43 L1087.45 562.43 L1087.45 562.43  Z\n",
       "  \" fill=\"#009af9\" fill-rule=\"evenodd\" fill-opacity=\"1\"/>\n",
       "<polyline clip-path=\"url(#clip662)\" style=\"stroke:#000000; stroke-width:4; stroke-opacity:1; fill:none\" points=\"\n",
       "  1087.45,562.43 1087.45,1386.4 1169.5,1386.4 1169.5,562.43 1087.45,562.43 \n",
       "  \"/>\n",
       "<path clip-path=\"url(#clip662)\" d=\"\n",
       "M1169.5 366.248 L1169.5 1386.4 L1251.55 1386.4 L1251.55 366.248 L1169.5 366.248 L1169.5 366.248  Z\n",
       "  \" fill=\"#009af9\" fill-rule=\"evenodd\" fill-opacity=\"1\"/>\n",
       "<polyline clip-path=\"url(#clip662)\" style=\"stroke:#000000; stroke-width:4; stroke-opacity:1; fill:none\" points=\"\n",
       "  1169.5,366.248 1169.5,1386.4 1251.55,1386.4 1251.55,366.248 1169.5,366.248 \n",
       "  \"/>\n",
       "<path clip-path=\"url(#clip662)\" d=\"\n",
       "M1251.55 170.065 L1251.55 1386.4 L1333.6 1386.4 L1333.6 170.065 L1251.55 170.065 L1251.55 170.065  Z\n",
       "  \" fill=\"#009af9\" fill-rule=\"evenodd\" fill-opacity=\"1\"/>\n",
       "<polyline clip-path=\"url(#clip662)\" style=\"stroke:#000000; stroke-width:4; stroke-opacity:1; fill:none\" points=\"\n",
       "  1251.55,170.065 1251.55,1386.4 1333.6,1386.4 1333.6,170.065 1251.55,170.065 \n",
       "  \"/>\n",
       "<path clip-path=\"url(#clip662)\" d=\"\n",
       "M1333.6 160.256 L1333.6 1386.4 L1415.65 1386.4 L1415.65 160.256 L1333.6 160.256 L1333.6 160.256  Z\n",
       "  \" fill=\"#009af9\" fill-rule=\"evenodd\" fill-opacity=\"1\"/>\n",
       "<polyline clip-path=\"url(#clip662)\" style=\"stroke:#000000; stroke-width:4; stroke-opacity:1; fill:none\" points=\"\n",
       "  1333.6,160.256 1333.6,1386.4 1415.65,1386.4 1415.65,160.256 1333.6,160.256 \n",
       "  \"/>\n",
       "<path clip-path=\"url(#clip662)\" d=\"\n",
       "M1415.65 513.384 L1415.65 1386.4 L1497.69 1386.4 L1497.69 513.384 L1415.65 513.384 L1415.65 513.384  Z\n",
       "  \" fill=\"#009af9\" fill-rule=\"evenodd\" fill-opacity=\"1\"/>\n",
       "<polyline clip-path=\"url(#clip662)\" style=\"stroke:#000000; stroke-width:4; stroke-opacity:1; fill:none\" points=\"\n",
       "  1415.65,513.384 1415.65,1386.4 1497.69,1386.4 1497.69,513.384 1415.65,513.384 \n",
       "  \"/>\n",
       "<path clip-path=\"url(#clip662)\" d=\"\n",
       "M1497.69 542.812 L1497.69 1386.4 L1579.74 1386.4 L1579.74 542.812 L1497.69 542.812 L1497.69 542.812  Z\n",
       "  \" fill=\"#009af9\" fill-rule=\"evenodd\" fill-opacity=\"1\"/>\n",
       "<polyline clip-path=\"url(#clip662)\" style=\"stroke:#000000; stroke-width:4; stroke-opacity:1; fill:none\" points=\"\n",
       "  1497.69,542.812 1497.69,1386.4 1579.74,1386.4 1579.74,542.812 1497.69,542.812 \n",
       "  \"/>\n",
       "<path clip-path=\"url(#clip662)\" d=\"\n",
       "M1579.74 807.658 L1579.74 1386.4 L1661.79 1386.4 L1661.79 807.658 L1579.74 807.658 L1579.74 807.658  Z\n",
       "  \" fill=\"#009af9\" fill-rule=\"evenodd\" fill-opacity=\"1\"/>\n",
       "<polyline clip-path=\"url(#clip662)\" style=\"stroke:#000000; stroke-width:4; stroke-opacity:1; fill:none\" points=\"\n",
       "  1579.74,807.658 1579.74,1386.4 1661.79,1386.4 1661.79,807.658 1579.74,807.658 \n",
       "  \"/>\n",
       "<path clip-path=\"url(#clip662)\" d=\"\n",
       "M1661.79 886.131 L1661.79 1386.4 L1743.84 1386.4 L1743.84 886.131 L1661.79 886.131 L1661.79 886.131  Z\n",
       "  \" fill=\"#009af9\" fill-rule=\"evenodd\" fill-opacity=\"1\"/>\n",
       "<polyline clip-path=\"url(#clip662)\" style=\"stroke:#000000; stroke-width:4; stroke-opacity:1; fill:none\" points=\"\n",
       "  1661.79,886.131 1661.79,1386.4 1743.84,1386.4 1743.84,886.131 1661.79,886.131 \n",
       "  \"/>\n",
       "<path clip-path=\"url(#clip662)\" d=\"\n",
       "M1743.84 1052.89 L1743.84 1386.4 L1825.89 1386.4 L1825.89 1052.89 L1743.84 1052.89 L1743.84 1052.89  Z\n",
       "  \" fill=\"#009af9\" fill-rule=\"evenodd\" fill-opacity=\"1\"/>\n",
       "<polyline clip-path=\"url(#clip662)\" style=\"stroke:#000000; stroke-width:4; stroke-opacity:1; fill:none\" points=\"\n",
       "  1743.84,1052.89 1743.84,1386.4 1825.89,1386.4 1825.89,1052.89 1743.84,1052.89 \n",
       "  \"/>\n",
       "<path clip-path=\"url(#clip662)\" d=\"\n",
       "M1825.89 1180.4 L1825.89 1386.4 L1907.94 1386.4 L1907.94 1180.4 L1825.89 1180.4 L1825.89 1180.4  Z\n",
       "  \" fill=\"#009af9\" fill-rule=\"evenodd\" fill-opacity=\"1\"/>\n",
       "<polyline clip-path=\"url(#clip662)\" style=\"stroke:#000000; stroke-width:4; stroke-opacity:1; fill:none\" points=\"\n",
       "  1825.89,1180.4 1825.89,1386.4 1907.94,1386.4 1907.94,1180.4 1825.89,1180.4 \n",
       "  \"/>\n",
       "<path clip-path=\"url(#clip662)\" d=\"\n",
       "M1907.94 1258.88 L1907.94 1386.4 L1989.99 1386.4 L1989.99 1258.88 L1907.94 1258.88 L1907.94 1258.88  Z\n",
       "  \" fill=\"#009af9\" fill-rule=\"evenodd\" fill-opacity=\"1\"/>\n",
       "<polyline clip-path=\"url(#clip662)\" style=\"stroke:#000000; stroke-width:4; stroke-opacity:1; fill:none\" points=\"\n",
       "  1907.94,1258.88 1907.94,1386.4 1989.99,1386.4 1989.99,1258.88 1907.94,1258.88 \n",
       "  \"/>\n",
       "<path clip-path=\"url(#clip662)\" d=\"\n",
       "M1989.99 1356.97 L1989.99 1386.4 L2072.03 1386.4 L2072.03 1356.97 L1989.99 1356.97 L1989.99 1356.97  Z\n",
       "  \" fill=\"#009af9\" fill-rule=\"evenodd\" fill-opacity=\"1\"/>\n",
       "<polyline clip-path=\"url(#clip662)\" style=\"stroke:#000000; stroke-width:4; stroke-opacity:1; fill:none\" points=\"\n",
       "  1989.99,1356.97 1989.99,1386.4 2072.03,1386.4 2072.03,1356.97 1989.99,1356.97 \n",
       "  \"/>\n",
       "<path clip-path=\"url(#clip662)\" d=\"\n",
       "M2072.03 1366.78 L2072.03 1386.4 L2154.08 1386.4 L2154.08 1366.78 L2072.03 1366.78 L2072.03 1366.78  Z\n",
       "  \" fill=\"#009af9\" fill-rule=\"evenodd\" fill-opacity=\"1\"/>\n",
       "<polyline clip-path=\"url(#clip662)\" style=\"stroke:#000000; stroke-width:4; stroke-opacity:1; fill:none\" points=\"\n",
       "  2072.03,1366.78 2072.03,1386.4 2154.08,1386.4 2154.08,1366.78 2072.03,1366.78 \n",
       "  \"/>\n",
       "<path clip-path=\"url(#clip662)\" d=\"\n",
       "M2154.08 1376.59 L2154.08 1386.4 L2236.13 1386.4 L2236.13 1376.59 L2154.08 1376.59 L2154.08 1376.59  Z\n",
       "  \" fill=\"#009af9\" fill-rule=\"evenodd\" fill-opacity=\"1\"/>\n",
       "<polyline clip-path=\"url(#clip662)\" style=\"stroke:#000000; stroke-width:4; stroke-opacity:1; fill:none\" points=\"\n",
       "  2154.08,1376.59 2154.08,1386.4 2236.13,1386.4 2236.13,1376.59 2154.08,1376.59 \n",
       "  \"/>\n",
       "</svg>\n"
      ]
     },
     "execution_count": 104,
     "metadata": {},
     "output_type": "execute_result"
    }
   ],
   "source": [
    "histogram(\n",
    "    get(chain2, [:α]).α.data, \n",
    "    xlabel=\"linpred2 (α)\",\n",
    "    ylabel=\"Frequency\",\n",
    "    title=\"Histogram of linpred2 (α)\",\n",
    "    legend=false\n",
    ")"
   ]
  },
  {
   "cell_type": "markdown",
   "id": "chronic-booking",
   "metadata": {},
   "source": [
    "### Posterior predictive simulations\n",
    "\n",
    "variation coming from posterior uncertainty in the coefficients"
   ]
  },
  {
   "cell_type": "code",
   "execution_count": 105,
   "id": "capable-translation",
   "metadata": {},
   "outputs": [
    {
     "data": {
      "image/svg+xml": [
       "<?xml version=\"1.0\" encoding=\"utf-8\"?>\n",
       "<svg xmlns=\"http://www.w3.org/2000/svg\" xmlns:xlink=\"http://www.w3.org/1999/xlink\" width=\"600\" height=\"400\" viewBox=\"0 0 2400 1600\">\n",
       "<defs>\n",
       "  <clipPath id=\"clip700\">\n",
       "    <rect x=\"0\" y=\"0\" width=\"2400\" height=\"1600\"/>\n",
       "  </clipPath>\n",
       "</defs>\n",
       "<path clip-path=\"url(#clip700)\" d=\"\n",
       "M0 1600 L2400 1600 L2400 0 L0 0  Z\n",
       "  \" fill=\"#ffffff\" fill-rule=\"evenodd\" fill-opacity=\"1\"/>\n",
       "<defs>\n",
       "  <clipPath id=\"clip701\">\n",
       "    <rect x=\"480\" y=\"0\" width=\"1681\" height=\"1600\"/>\n",
       "  </clipPath>\n",
       "</defs>\n",
       "<path clip-path=\"url(#clip700)\" d=\"\n",
       "M232.389 1423.18 L2352.76 1423.18 L2352.76 123.472 L232.389 123.472  Z\n",
       "  \" fill=\"#ffffff\" fill-rule=\"evenodd\" fill-opacity=\"1\"/>\n",
       "<defs>\n",
       "  <clipPath id=\"clip702\">\n",
       "    <rect x=\"232\" y=\"123\" width=\"2121\" height=\"1301\"/>\n",
       "  </clipPath>\n",
       "</defs>\n",
       "<polyline clip-path=\"url(#clip702)\" style=\"stroke:#000000; stroke-width:2; stroke-opacity:0.1; fill:none\" points=\"\n",
       "  254.657,1423.18 254.657,123.472 \n",
       "  \"/>\n",
       "<polyline clip-path=\"url(#clip702)\" style=\"stroke:#000000; stroke-width:2; stroke-opacity:0.1; fill:none\" points=\"\n",
       "  726.437,1423.18 726.437,123.472 \n",
       "  \"/>\n",
       "<polyline clip-path=\"url(#clip702)\" style=\"stroke:#000000; stroke-width:2; stroke-opacity:0.1; fill:none\" points=\"\n",
       "  1198.22,1423.18 1198.22,123.472 \n",
       "  \"/>\n",
       "<polyline clip-path=\"url(#clip702)\" style=\"stroke:#000000; stroke-width:2; stroke-opacity:0.1; fill:none\" points=\"\n",
       "  1670,1423.18 1670,123.472 \n",
       "  \"/>\n",
       "<polyline clip-path=\"url(#clip702)\" style=\"stroke:#000000; stroke-width:2; stroke-opacity:0.1; fill:none\" points=\"\n",
       "  2141.78,1423.18 2141.78,123.472 \n",
       "  \"/>\n",
       "<polyline clip-path=\"url(#clip700)\" style=\"stroke:#000000; stroke-width:4; stroke-opacity:1; fill:none\" points=\"\n",
       "  232.389,1423.18 2352.76,1423.18 \n",
       "  \"/>\n",
       "<polyline clip-path=\"url(#clip700)\" style=\"stroke:#000000; stroke-width:4; stroke-opacity:1; fill:none\" points=\"\n",
       "  254.657,1423.18 254.657,1407.58 \n",
       "  \"/>\n",
       "<polyline clip-path=\"url(#clip700)\" style=\"stroke:#000000; stroke-width:4; stroke-opacity:1; fill:none\" points=\"\n",
       "  726.437,1423.18 726.437,1407.58 \n",
       "  \"/>\n",
       "<polyline clip-path=\"url(#clip700)\" style=\"stroke:#000000; stroke-width:4; stroke-opacity:1; fill:none\" points=\"\n",
       "  1198.22,1423.18 1198.22,1407.58 \n",
       "  \"/>\n",
       "<polyline clip-path=\"url(#clip700)\" style=\"stroke:#000000; stroke-width:4; stroke-opacity:1; fill:none\" points=\"\n",
       "  1670,1423.18 1670,1407.58 \n",
       "  \"/>\n",
       "<polyline clip-path=\"url(#clip700)\" style=\"stroke:#000000; stroke-width:4; stroke-opacity:1; fill:none\" points=\"\n",
       "  2141.78,1423.18 2141.78,1407.58 \n",
       "  \"/>\n",
       "<path clip-path=\"url(#clip700)\" d=\"M 0 0 M229.357 1449.29 L247.713 1449.29 L247.713 1453.23 L233.639 1453.23 L233.639 1461.7 Q234.657 1461.35 235.676 1461.19 Q236.694 1461 237.713 1461 Q243.5 1461 246.88 1464.18 Q250.259 1467.35 250.259 1472.76 Q250.259 1478.34 246.787 1481.44 Q243.315 1484.52 236.995 1484.52 Q234.819 1484.52 232.551 1484.15 Q230.306 1483.78 227.898 1483.04 L227.898 1478.34 Q229.982 1479.48 232.204 1480.03 Q234.426 1480.59 236.903 1480.59 Q240.907 1480.59 243.245 1478.48 Q245.583 1476.38 245.583 1472.76 Q245.583 1469.15 243.245 1467.05 Q240.907 1464.94 236.903 1464.94 Q235.028 1464.94 233.153 1465.36 Q231.301 1465.77 229.357 1466.65 L229.357 1449.29 Z\" fill=\"#000000\" fill-rule=\"evenodd\" fill-opacity=\"1\" /><path clip-path=\"url(#clip700)\" d=\"M 0 0 M269.472 1452.37 Q265.861 1452.37 264.032 1455.94 Q262.227 1459.48 262.227 1466.61 Q262.227 1473.71 264.032 1477.28 Q265.861 1480.82 269.472 1480.82 Q273.106 1480.82 274.912 1477.28 Q276.741 1473.71 276.741 1466.61 Q276.741 1459.48 274.912 1455.94 Q273.106 1452.37 269.472 1452.37 M269.472 1448.67 Q275.282 1448.67 278.338 1453.27 Q281.416 1457.86 281.416 1466.61 Q281.416 1475.33 278.338 1479.94 Q275.282 1484.52 269.472 1484.52 Q263.662 1484.52 260.583 1479.94 Q257.528 1475.33 257.528 1466.61 Q257.528 1457.86 260.583 1453.27 Q263.662 1448.67 269.472 1448.67 Z\" fill=\"#000000\" fill-rule=\"evenodd\" fill-opacity=\"1\" /><path clip-path=\"url(#clip700)\" d=\"M 0 0 M686.044 1479.92 L693.683 1479.92 L693.683 1453.55 L685.372 1455.22 L685.372 1450.96 L693.636 1449.29 L698.312 1449.29 L698.312 1479.92 L705.951 1479.92 L705.951 1483.85 L686.044 1483.85 L686.044 1479.92 Z\" fill=\"#000000\" fill-rule=\"evenodd\" fill-opacity=\"1\" /><path clip-path=\"url(#clip700)\" d=\"M 0 0 M725.395 1452.37 Q721.784 1452.37 719.956 1455.94 Q718.15 1459.48 718.15 1466.61 Q718.15 1473.71 719.956 1477.28 Q721.784 1480.82 725.395 1480.82 Q729.03 1480.82 730.835 1477.28 Q732.664 1473.71 732.664 1466.61 Q732.664 1459.48 730.835 1455.94 Q729.03 1452.37 725.395 1452.37 M725.395 1448.67 Q731.206 1448.67 734.261 1453.27 Q737.34 1457.86 737.34 1466.61 Q737.34 1475.33 734.261 1479.94 Q731.206 1484.52 725.395 1484.52 Q719.585 1484.52 716.507 1479.94 Q713.451 1475.33 713.451 1466.61 Q713.451 1457.86 716.507 1453.27 Q719.585 1448.67 725.395 1448.67 Z\" fill=\"#000000\" fill-rule=\"evenodd\" fill-opacity=\"1\" /><path clip-path=\"url(#clip700)\" d=\"M 0 0 M755.557 1452.37 Q751.946 1452.37 750.117 1455.94 Q748.312 1459.48 748.312 1466.61 Q748.312 1473.71 750.117 1477.28 Q751.946 1480.82 755.557 1480.82 Q759.191 1480.82 760.997 1477.28 Q762.826 1473.71 762.826 1466.61 Q762.826 1459.48 760.997 1455.94 Q759.191 1452.37 755.557 1452.37 M755.557 1448.67 Q761.367 1448.67 764.423 1453.27 Q767.502 1457.86 767.502 1466.61 Q767.502 1475.33 764.423 1479.94 Q761.367 1484.52 755.557 1484.52 Q749.747 1484.52 746.668 1479.94 Q743.613 1475.33 743.613 1466.61 Q743.613 1457.86 746.668 1453.27 Q749.747 1448.67 755.557 1448.67 Z\" fill=\"#000000\" fill-rule=\"evenodd\" fill-opacity=\"1\" /><path clip-path=\"url(#clip700)\" d=\"M 0 0 M1157.82 1479.92 L1165.46 1479.92 L1165.46 1453.55 L1157.15 1455.22 L1157.15 1450.96 L1165.42 1449.29 L1170.09 1449.29 L1170.09 1479.92 L1177.73 1479.92 L1177.73 1483.85 L1157.82 1483.85 L1157.82 1479.92 Z\" fill=\"#000000\" fill-rule=\"evenodd\" fill-opacity=\"1\" /><path clip-path=\"url(#clip700)\" d=\"M 0 0 M1187.22 1449.29 L1205.58 1449.29 L1205.58 1453.23 L1191.5 1453.23 L1191.5 1461.7 Q1192.52 1461.35 1193.54 1461.19 Q1194.56 1461 1195.58 1461 Q1201.36 1461 1204.74 1464.18 Q1208.12 1467.35 1208.12 1472.76 Q1208.12 1478.34 1204.65 1481.44 Q1201.18 1484.52 1194.86 1484.52 Q1192.68 1484.52 1190.42 1484.15 Q1188.17 1483.78 1185.76 1483.04 L1185.76 1478.34 Q1187.85 1479.48 1190.07 1480.03 Q1192.29 1480.59 1194.77 1480.59 Q1198.77 1480.59 1201.11 1478.48 Q1203.45 1476.38 1203.45 1472.76 Q1203.45 1469.15 1201.11 1467.05 Q1198.77 1464.94 1194.77 1464.94 Q1192.89 1464.94 1191.02 1465.36 Q1189.17 1465.77 1187.22 1466.65 L1187.22 1449.29 Z\" fill=\"#000000\" fill-rule=\"evenodd\" fill-opacity=\"1\" /><path clip-path=\"url(#clip700)\" d=\"M 0 0 M1227.34 1452.37 Q1223.73 1452.37 1221.9 1455.94 Q1220.09 1459.48 1220.09 1466.61 Q1220.09 1473.71 1221.9 1477.28 Q1223.73 1480.82 1227.34 1480.82 Q1230.97 1480.82 1232.78 1477.28 Q1234.61 1473.71 1234.61 1466.61 Q1234.61 1459.48 1232.78 1455.94 Q1230.97 1452.37 1227.34 1452.37 M1227.34 1448.67 Q1233.15 1448.67 1236.2 1453.27 Q1239.28 1457.86 1239.28 1466.61 Q1239.28 1475.33 1236.2 1479.94 Q1233.15 1484.52 1227.34 1484.52 Q1221.53 1484.52 1218.45 1479.94 Q1215.39 1475.33 1215.39 1466.61 Q1215.39 1457.86 1218.45 1453.27 Q1221.53 1448.67 1227.34 1448.67 Z\" fill=\"#000000\" fill-rule=\"evenodd\" fill-opacity=\"1\" /><path clip-path=\"url(#clip700)\" d=\"M 0 0 M1633.69 1479.92 L1650.01 1479.92 L1650.01 1483.85 L1628.06 1483.85 L1628.06 1479.92 Q1630.73 1477.16 1635.31 1472.53 Q1639.92 1467.88 1641.1 1466.54 Q1643.34 1464.01 1644.22 1462.28 Q1645.12 1460.52 1645.12 1458.83 Q1645.12 1456.07 1643.18 1454.34 Q1641.26 1452.6 1638.16 1452.6 Q1635.96 1452.6 1633.5 1453.37 Q1631.07 1454.13 1628.3 1455.68 L1628.3 1450.96 Q1631.12 1449.82 1633.57 1449.25 Q1636.03 1448.67 1638.06 1448.67 Q1643.43 1448.67 1646.63 1451.35 Q1649.82 1454.04 1649.82 1458.53 Q1649.82 1460.66 1649.01 1462.58 Q1648.23 1464.48 1646.12 1467.07 Q1645.54 1467.74 1642.44 1470.96 Q1639.34 1474.15 1633.69 1479.92 Z\" fill=\"#000000\" fill-rule=\"evenodd\" fill-opacity=\"1\" /><path clip-path=\"url(#clip700)\" d=\"M 0 0 M1669.82 1452.37 Q1666.21 1452.37 1664.38 1455.94 Q1662.58 1459.48 1662.58 1466.61 Q1662.58 1473.71 1664.38 1477.28 Q1666.21 1480.82 1669.82 1480.82 Q1673.46 1480.82 1675.26 1477.28 Q1677.09 1473.71 1677.09 1466.61 Q1677.09 1459.48 1675.26 1455.94 Q1673.46 1452.37 1669.82 1452.37 M1669.82 1448.67 Q1675.63 1448.67 1678.69 1453.27 Q1681.77 1457.86 1681.77 1466.61 Q1681.77 1475.33 1678.69 1479.94 Q1675.63 1484.52 1669.82 1484.52 Q1664.01 1484.52 1660.93 1479.94 Q1657.88 1475.33 1657.88 1466.61 Q1657.88 1457.86 1660.93 1453.27 Q1664.01 1448.67 1669.82 1448.67 Z\" fill=\"#000000\" fill-rule=\"evenodd\" fill-opacity=\"1\" /><path clip-path=\"url(#clip700)\" d=\"M 0 0 M1699.98 1452.37 Q1696.37 1452.37 1694.54 1455.94 Q1692.74 1459.48 1692.74 1466.61 Q1692.74 1473.71 1694.54 1477.28 Q1696.37 1480.82 1699.98 1480.82 Q1703.62 1480.82 1705.42 1477.28 Q1707.25 1473.71 1707.25 1466.61 Q1707.25 1459.48 1705.42 1455.94 Q1703.62 1452.37 1699.98 1452.37 M1699.98 1448.67 Q1705.79 1448.67 1708.85 1453.27 Q1711.93 1457.86 1711.93 1466.61 Q1711.93 1475.33 1708.85 1479.94 Q1705.79 1484.52 1699.98 1484.52 Q1694.17 1484.52 1691.1 1479.94 Q1688.04 1475.33 1688.04 1466.61 Q1688.04 1457.86 1691.1 1453.27 Q1694.17 1448.67 1699.98 1448.67 Z\" fill=\"#000000\" fill-rule=\"evenodd\" fill-opacity=\"1\" /><path clip-path=\"url(#clip700)\" d=\"M 0 0 M2105.47 1479.92 L2121.79 1479.92 L2121.79 1483.85 L2099.84 1483.85 L2099.84 1479.92 Q2102.51 1477.16 2107.09 1472.53 Q2111.7 1467.88 2112.88 1466.54 Q2115.12 1464.01 2116 1462.28 Q2116.9 1460.52 2116.9 1458.83 Q2116.9 1456.07 2114.96 1454.34 Q2113.04 1452.6 2109.94 1452.6 Q2107.74 1452.6 2105.28 1453.37 Q2102.85 1454.13 2100.07 1455.68 L2100.07 1450.96 Q2102.9 1449.82 2105.35 1449.25 Q2107.81 1448.67 2109.84 1448.67 Q2115.21 1448.67 2118.41 1451.35 Q2121.6 1454.04 2121.6 1458.53 Q2121.6 1460.66 2120.79 1462.58 Q2120.01 1464.48 2117.9 1467.07 Q2117.32 1467.74 2114.22 1470.96 Q2111.12 1474.15 2105.47 1479.92 Z\" fill=\"#000000\" fill-rule=\"evenodd\" fill-opacity=\"1\" /><path clip-path=\"url(#clip700)\" d=\"M 0 0 M2131.65 1449.29 L2150.01 1449.29 L2150.01 1453.23 L2135.93 1453.23 L2135.93 1461.7 Q2136.95 1461.35 2137.97 1461.19 Q2138.99 1461 2140.01 1461 Q2145.79 1461 2149.17 1464.18 Q2152.55 1467.35 2152.55 1472.76 Q2152.55 1478.34 2149.08 1481.44 Q2145.61 1484.52 2139.29 1484.52 Q2137.11 1484.52 2134.84 1484.15 Q2132.6 1483.78 2130.19 1483.04 L2130.19 1478.34 Q2132.27 1479.48 2134.5 1480.03 Q2136.72 1480.59 2139.2 1480.59 Q2143.2 1480.59 2145.54 1478.48 Q2147.88 1476.38 2147.88 1472.76 Q2147.88 1469.15 2145.54 1467.05 Q2143.2 1464.94 2139.2 1464.94 Q2137.32 1464.94 2135.45 1465.36 Q2133.59 1465.77 2131.65 1466.65 L2131.65 1449.29 Z\" fill=\"#000000\" fill-rule=\"evenodd\" fill-opacity=\"1\" /><path clip-path=\"url(#clip700)\" d=\"M 0 0 M2171.76 1452.37 Q2168.15 1452.37 2166.32 1455.94 Q2164.52 1459.48 2164.52 1466.61 Q2164.52 1473.71 2166.32 1477.28 Q2168.15 1480.82 2171.76 1480.82 Q2175.4 1480.82 2177.2 1477.28 Q2179.03 1473.71 2179.03 1466.61 Q2179.03 1459.48 2177.2 1455.94 Q2175.4 1452.37 2171.76 1452.37 M2171.76 1448.67 Q2177.57 1448.67 2180.63 1453.27 Q2183.71 1457.86 2183.71 1466.61 Q2183.71 1475.33 2180.63 1479.94 Q2177.57 1484.52 2171.76 1484.52 Q2165.95 1484.52 2162.88 1479.94 Q2159.82 1475.33 2159.82 1466.61 Q2159.82 1457.86 2162.88 1453.27 Q2165.95 1448.67 2171.76 1448.67 Z\" fill=\"#000000\" fill-rule=\"evenodd\" fill-opacity=\"1\" /><path clip-path=\"url(#clip700)\" d=\"M 0 0 M1123.15 1562.7 L1123.15 1581.6 L1117.26 1581.6 L1117.26 1532.4 L1123.15 1532.4 L1123.15 1537.81 Q1125 1534.62 1127.8 1533.1 Q1130.63 1531.54 1134.54 1531.54 Q1141.04 1531.54 1145.08 1536.69 Q1149.15 1541.85 1149.15 1550.25 Q1149.15 1558.65 1145.08 1563.81 Q1141.04 1568.97 1134.54 1568.97 Q1130.63 1568.97 1127.8 1567.44 Q1125 1565.88 1123.15 1562.7 M1143.07 1550.25 Q1143.07 1543.79 1140.4 1540.13 Q1137.76 1536.44 1133.11 1536.44 Q1128.46 1536.44 1125.79 1540.13 Q1123.15 1543.79 1123.15 1550.25 Q1123.15 1556.71 1125.79 1560.4 Q1128.46 1564.07 1133.11 1564.07 Q1137.76 1564.07 1140.4 1560.4 Q1143.07 1556.71 1143.07 1550.25 Z\" fill=\"#000000\" fill-rule=\"evenodd\" fill-opacity=\"1\" /><path clip-path=\"url(#clip700)\" d=\"M 0 0 M1172.67 1536.5 Q1167.96 1536.5 1165.23 1540.19 Q1162.49 1543.85 1162.49 1550.25 Q1162.49 1556.65 1165.19 1560.34 Q1167.93 1564 1172.67 1564 Q1177.35 1564 1180.09 1560.31 Q1182.83 1556.62 1182.83 1550.25 Q1182.83 1543.92 1180.09 1540.23 Q1177.35 1536.5 1172.67 1536.5 M1172.67 1531.54 Q1180.31 1531.54 1184.67 1536.5 Q1189.03 1541.47 1189.03 1550.25 Q1189.03 1559 1184.67 1564 Q1180.31 1568.97 1172.67 1568.97 Q1165 1568.97 1160.64 1564 Q1156.31 1559 1156.31 1550.25 Q1156.31 1541.47 1160.64 1536.5 Q1165 1531.54 1172.67 1531.54 Z\" fill=\"#000000\" fill-rule=\"evenodd\" fill-opacity=\"1\" /><path clip-path=\"url(#clip700)\" d=\"M 0 0 M1221.47 1533.45 L1221.47 1538.98 Q1218.99 1537.71 1216.31 1537.07 Q1213.64 1536.44 1210.77 1536.44 Q1206.41 1536.44 1204.22 1537.77 Q1202.05 1539.11 1202.05 1541.79 Q1202.05 1543.82 1203.61 1545 Q1205.17 1546.15 1209.88 1547.2 L1211.89 1547.64 Q1218.13 1548.98 1220.74 1551.43 Q1223.38 1553.85 1223.38 1558.21 Q1223.38 1563.17 1219.43 1566.07 Q1215.52 1568.97 1208.64 1568.97 Q1205.78 1568.97 1202.66 1568.39 Q1199.57 1567.85 1196.13 1566.74 L1196.13 1560.69 Q1199.38 1562.38 1202.53 1563.24 Q1205.68 1564.07 1208.77 1564.07 Q1212.91 1564.07 1215.13 1562.66 Q1217.36 1561.23 1217.36 1558.65 Q1217.36 1556.27 1215.74 1554.99 Q1214.15 1553.72 1208.7 1552.54 L1206.67 1552.07 Q1201.22 1550.92 1198.81 1548.56 Q1196.39 1546.18 1196.39 1542.04 Q1196.39 1537.01 1199.95 1534.27 Q1203.52 1531.54 1210.07 1531.54 Q1213.32 1531.54 1216.18 1532.01 Q1219.05 1532.49 1221.47 1533.45 Z\" fill=\"#000000\" fill-rule=\"evenodd\" fill-opacity=\"1\" /><path clip-path=\"url(#clip700)\" d=\"M 0 0 M1238.5 1522.27 L1238.5 1532.4 L1250.56 1532.4 L1250.56 1536.95 L1238.5 1536.95 L1238.5 1556.3 Q1238.5 1560.66 1239.67 1561.9 Q1240.88 1563.14 1244.54 1563.14 L1250.56 1563.14 L1250.56 1568.04 L1244.54 1568.04 Q1237.76 1568.04 1235.19 1565.53 Q1232.61 1562.98 1232.61 1556.3 L1232.61 1536.95 L1228.31 1536.95 L1228.31 1532.4 L1232.61 1532.4 L1232.61 1522.27 L1238.5 1522.27 Z\" fill=\"#000000\" fill-rule=\"evenodd\" fill-opacity=\"1\" /><path clip-path=\"url(#clip700)\" d=\"M 0 0 M1263.93 1562.7 L1263.93 1581.6 L1258.04 1581.6 L1258.04 1532.4 L1263.93 1532.4 L1263.93 1537.81 Q1265.77 1534.62 1268.57 1533.1 Q1271.41 1531.54 1275.32 1531.54 Q1281.81 1531.54 1285.86 1536.69 Q1289.93 1541.85 1289.93 1550.25 Q1289.93 1558.65 1285.86 1563.81 Q1281.81 1568.97 1275.32 1568.97 Q1271.41 1568.97 1268.57 1567.44 Q1265.77 1565.88 1263.93 1562.7 M1283.85 1550.25 Q1283.85 1543.79 1281.18 1540.13 Q1278.54 1536.44 1273.89 1536.44 Q1269.24 1536.44 1266.57 1540.13 Q1263.93 1543.79 1263.93 1550.25 Q1263.93 1556.71 1266.57 1560.4 Q1269.24 1564.07 1273.89 1564.07 Q1278.54 1564.07 1281.18 1560.4 Q1283.85 1556.71 1283.85 1550.25 Z\" fill=\"#000000\" fill-rule=\"evenodd\" fill-opacity=\"1\" /><path clip-path=\"url(#clip700)\" d=\"M 0 0 M1320.3 1537.87 Q1319.31 1537.3 1318.13 1537.04 Q1316.99 1536.76 1315.58 1536.76 Q1310.62 1536.76 1307.95 1540 Q1305.3 1543.22 1305.3 1549.27 L1305.3 1568.04 L1299.42 1568.04 L1299.42 1532.4 L1305.3 1532.4 L1305.3 1537.93 Q1307.15 1534.69 1310.11 1533.13 Q1313.07 1531.54 1317.3 1531.54 Q1317.91 1531.54 1318.64 1531.63 Q1319.37 1531.7 1320.26 1531.85 L1320.3 1537.87 Z\" fill=\"#000000\" fill-rule=\"evenodd\" fill-opacity=\"1\" /><path clip-path=\"url(#clip700)\" d=\"M 0 0 M1355.5 1548.76 L1355.5 1551.62 L1328.57 1551.62 Q1328.95 1557.67 1332.2 1560.85 Q1335.48 1564 1341.3 1564 Q1344.68 1564 1347.83 1563.17 Q1351.01 1562.35 1354.13 1560.69 L1354.13 1566.23 Q1350.98 1567.57 1347.67 1568.27 Q1344.36 1568.97 1340.95 1568.97 Q1332.42 1568.97 1327.42 1564 Q1322.46 1559.04 1322.46 1550.57 Q1322.46 1541.82 1327.17 1536.69 Q1331.91 1531.54 1339.93 1531.54 Q1347.13 1531.54 1351.3 1536.18 Q1355.5 1540.8 1355.5 1548.76 M1349.64 1547.04 Q1349.58 1542.23 1346.94 1539.37 Q1344.33 1536.5 1340 1536.5 Q1335.1 1536.5 1332.14 1539.27 Q1329.21 1542.04 1328.76 1547.07 L1349.64 1547.04 Z\" fill=\"#000000\" fill-rule=\"evenodd\" fill-opacity=\"1\" /><path clip-path=\"url(#clip700)\" d=\"M 0 0 M1388.57 1537.81 L1388.57 1518.52 L1394.42 1518.52 L1394.42 1568.04 L1388.57 1568.04 L1388.57 1562.7 Q1386.72 1565.88 1383.89 1567.44 Q1381.09 1568.97 1377.14 1568.97 Q1370.68 1568.97 1366.61 1563.81 Q1362.56 1558.65 1362.56 1550.25 Q1362.56 1541.85 1366.61 1536.69 Q1370.68 1531.54 1377.14 1531.54 Q1381.09 1531.54 1383.89 1533.1 Q1386.72 1534.62 1388.57 1537.81 M1368.61 1550.25 Q1368.61 1556.71 1371.25 1560.4 Q1373.93 1564.07 1378.57 1564.07 Q1383.22 1564.07 1385.89 1560.4 Q1388.57 1556.71 1388.57 1550.25 Q1388.57 1543.79 1385.89 1540.13 Q1383.22 1536.44 1378.57 1536.44 Q1373.93 1536.44 1371.25 1540.13 Q1368.61 1543.79 1368.61 1550.25 Z\" fill=\"#000000\" fill-rule=\"evenodd\" fill-opacity=\"1\" /><path clip-path=\"url(#clip700)\" d=\"M 0 0 M1433.57 1578.87 L1433.57 1583.42 L1399.71 1583.42 L1399.71 1578.87 L1433.57 1578.87 Z\" fill=\"#000000\" fill-rule=\"evenodd\" fill-opacity=\"1\" /><path clip-path=\"url(#clip700)\" d=\"M 0 0 M1445.45 1562.63 L1467.88 1562.63 L1467.88 1568.04 L1437.71 1568.04 L1437.71 1562.63 Q1441.37 1558.85 1447.67 1552.48 Q1454.01 1546.08 1455.63 1544.24 Q1458.72 1540.77 1459.93 1538.38 Q1461.17 1535.96 1461.17 1533.64 Q1461.17 1529.85 1458.49 1527.46 Q1455.85 1525.08 1451.59 1525.08 Q1448.56 1525.08 1445.19 1526.13 Q1441.85 1527.18 1438.03 1529.31 L1438.03 1522.82 Q1441.91 1521.26 1445.29 1520.46 Q1448.66 1519.66 1451.46 1519.66 Q1458.84 1519.66 1463.24 1523.36 Q1467.63 1527.05 1467.63 1533.22 Q1467.63 1536.15 1466.52 1538.79 Q1465.43 1541.4 1462.54 1544.97 Q1461.74 1545.89 1457.48 1550.32 Q1453.21 1554.71 1445.45 1562.63 Z\" fill=\"#000000\" fill-rule=\"evenodd\" fill-opacity=\"1\" /><polyline clip-path=\"url(#clip702)\" style=\"stroke:#000000; stroke-width:2; stroke-opacity:0.1; fill:none\" points=\"\n",
       "  232.389,1386.4 2352.76,1386.4 \n",
       "  \"/>\n",
       "<polyline clip-path=\"url(#clip702)\" style=\"stroke:#000000; stroke-width:2; stroke-opacity:0.1; fill:none\" points=\"\n",
       "  232.389,1199.2 2352.76,1199.2 \n",
       "  \"/>\n",
       "<polyline clip-path=\"url(#clip702)\" style=\"stroke:#000000; stroke-width:2; stroke-opacity:0.1; fill:none\" points=\"\n",
       "  232.389,1012 2352.76,1012 \n",
       "  \"/>\n",
       "<polyline clip-path=\"url(#clip702)\" style=\"stroke:#000000; stroke-width:2; stroke-opacity:0.1; fill:none\" points=\"\n",
       "  232.389,824.805 2352.76,824.805 \n",
       "  \"/>\n",
       "<polyline clip-path=\"url(#clip702)\" style=\"stroke:#000000; stroke-width:2; stroke-opacity:0.1; fill:none\" points=\"\n",
       "  232.389,637.608 2352.76,637.608 \n",
       "  \"/>\n",
       "<polyline clip-path=\"url(#clip702)\" style=\"stroke:#000000; stroke-width:2; stroke-opacity:0.1; fill:none\" points=\"\n",
       "  232.389,450.411 2352.76,450.411 \n",
       "  \"/>\n",
       "<polyline clip-path=\"url(#clip702)\" style=\"stroke:#000000; stroke-width:2; stroke-opacity:0.1; fill:none\" points=\"\n",
       "  232.389,263.215 2352.76,263.215 \n",
       "  \"/>\n",
       "<polyline clip-path=\"url(#clip700)\" style=\"stroke:#000000; stroke-width:4; stroke-opacity:1; fill:none\" points=\"\n",
       "  232.389,1423.18 232.389,123.472 \n",
       "  \"/>\n",
       "<polyline clip-path=\"url(#clip700)\" style=\"stroke:#000000; stroke-width:4; stroke-opacity:1; fill:none\" points=\"\n",
       "  232.389,1386.4 257.834,1386.4 \n",
       "  \"/>\n",
       "<polyline clip-path=\"url(#clip700)\" style=\"stroke:#000000; stroke-width:4; stroke-opacity:1; fill:none\" points=\"\n",
       "  232.389,1199.2 257.834,1199.2 \n",
       "  \"/>\n",
       "<polyline clip-path=\"url(#clip700)\" style=\"stroke:#000000; stroke-width:4; stroke-opacity:1; fill:none\" points=\"\n",
       "  232.389,1012 257.834,1012 \n",
       "  \"/>\n",
       "<polyline clip-path=\"url(#clip700)\" style=\"stroke:#000000; stroke-width:4; stroke-opacity:1; fill:none\" points=\"\n",
       "  232.389,824.805 257.834,824.805 \n",
       "  \"/>\n",
       "<polyline clip-path=\"url(#clip700)\" style=\"stroke:#000000; stroke-width:4; stroke-opacity:1; fill:none\" points=\"\n",
       "  232.389,637.608 257.834,637.608 \n",
       "  \"/>\n",
       "<polyline clip-path=\"url(#clip700)\" style=\"stroke:#000000; stroke-width:4; stroke-opacity:1; fill:none\" points=\"\n",
       "  232.389,450.411 257.834,450.411 \n",
       "  \"/>\n",
       "<polyline clip-path=\"url(#clip700)\" style=\"stroke:#000000; stroke-width:4; stroke-opacity:1; fill:none\" points=\"\n",
       "  232.389,263.215 257.834,263.215 \n",
       "  \"/>\n",
       "<path clip-path=\"url(#clip700)\" d=\"M 0 0 M184.445 1372.19 Q180.834 1372.19 179.005 1375.76 Q177.2 1379.3 177.2 1386.43 Q177.2 1393.54 179.005 1397.1 Q180.834 1400.64 184.445 1400.64 Q188.079 1400.64 189.885 1397.1 Q191.713 1393.54 191.713 1386.43 Q191.713 1379.3 189.885 1375.76 Q188.079 1372.19 184.445 1372.19 M184.445 1368.49 Q190.255 1368.49 193.311 1373.1 Q196.389 1377.68 196.389 1386.43 Q196.389 1395.16 193.311 1399.76 Q190.255 1404.35 184.445 1404.35 Q178.635 1404.35 175.556 1399.76 Q172.501 1395.16 172.501 1386.43 Q172.501 1377.68 175.556 1373.1 Q178.635 1368.49 184.445 1368.49 Z\" fill=\"#000000\" fill-rule=\"evenodd\" fill-opacity=\"1\" /><path clip-path=\"url(#clip700)\" d=\"M 0 0 M148.311 1212.54 L164.63 1212.54 L164.63 1216.48 L142.686 1216.48 L142.686 1212.54 Q145.348 1209.79 149.931 1205.16 Q154.538 1200.51 155.718 1199.16 Q157.964 1196.64 158.843 1194.9 Q159.746 1193.15 159.746 1191.46 Q159.746 1188.7 157.802 1186.97 Q155.88 1185.23 152.778 1185.23 Q150.579 1185.23 148.126 1185.99 Q145.695 1186.76 142.917 1188.31 L142.917 1183.59 Q145.741 1182.45 148.195 1181.87 Q150.649 1181.29 152.686 1181.29 Q158.056 1181.29 161.251 1183.98 Q164.445 1186.66 164.445 1191.15 Q164.445 1193.28 163.635 1195.21 Q162.848 1197.1 160.741 1199.7 Q160.163 1200.37 157.061 1203.59 Q153.959 1206.78 148.311 1212.54 Z\" fill=\"#000000\" fill-rule=\"evenodd\" fill-opacity=\"1\" /><path clip-path=\"url(#clip700)\" d=\"M 0 0 M184.445 1185 Q180.834 1185 179.005 1188.56 Q177.2 1192.1 177.2 1199.23 Q177.2 1206.34 179.005 1209.9 Q180.834 1213.45 184.445 1213.45 Q188.079 1213.45 189.885 1209.9 Q191.713 1206.34 191.713 1199.23 Q191.713 1192.1 189.885 1188.56 Q188.079 1185 184.445 1185 M184.445 1181.29 Q190.255 1181.29 193.311 1185.9 Q196.389 1190.48 196.389 1199.23 Q196.389 1207.96 193.311 1212.57 Q190.255 1217.15 184.445 1217.15 Q178.635 1217.15 175.556 1212.57 Q172.501 1207.96 172.501 1199.23 Q172.501 1190.48 175.556 1185.9 Q178.635 1181.29 184.445 1181.29 Z\" fill=\"#000000\" fill-rule=\"evenodd\" fill-opacity=\"1\" /><path clip-path=\"url(#clip700)\" d=\"M 0 0 M157.13 998.796 L145.325 1017.24 L157.13 1017.24 L157.13 998.796 M155.903 994.722 L161.783 994.722 L161.783 1017.24 L166.714 1017.24 L166.714 1021.13 L161.783 1021.13 L161.783 1029.28 L157.13 1029.28 L157.13 1021.13 L141.529 1021.13 L141.529 1016.62 L155.903 994.722 Z\" fill=\"#000000\" fill-rule=\"evenodd\" fill-opacity=\"1\" /><path clip-path=\"url(#clip700)\" d=\"M 0 0 M184.445 997.801 Q180.834 997.801 179.005 1001.37 Q177.2 1004.91 177.2 1012.04 Q177.2 1019.14 179.005 1022.71 Q180.834 1026.25 184.445 1026.25 Q188.079 1026.25 189.885 1022.71 Q191.713 1019.14 191.713 1012.04 Q191.713 1004.91 189.885 1001.37 Q188.079 997.801 184.445 997.801 M184.445 994.097 Q190.255 994.097 193.311 998.703 Q196.389 1003.29 196.389 1012.04 Q196.389 1020.76 193.311 1025.37 Q190.255 1029.95 184.445 1029.95 Q178.635 1029.95 175.556 1025.37 Q172.501 1020.76 172.501 1012.04 Q172.501 1003.29 175.556 998.703 Q178.635 994.097 184.445 994.097 Z\" fill=\"#000000\" fill-rule=\"evenodd\" fill-opacity=\"1\" /><path clip-path=\"url(#clip700)\" d=\"M 0 0 M154.862 822.942 Q151.714 822.942 149.862 825.094 Q148.033 827.247 148.033 830.997 Q148.033 834.724 149.862 836.9 Q151.714 839.053 154.862 839.053 Q158.01 839.053 159.839 836.9 Q161.69 834.724 161.69 830.997 Q161.69 827.247 159.839 825.094 Q158.01 822.942 154.862 822.942 M164.144 808.289 L164.144 812.548 Q162.385 811.715 160.579 811.275 Q158.797 810.835 157.038 810.835 Q152.408 810.835 149.954 813.96 Q147.524 817.085 147.177 823.405 Q148.542 821.391 150.603 820.326 Q152.663 819.238 155.14 819.238 Q160.348 819.238 163.357 822.409 Q166.39 825.557 166.39 830.997 Q166.39 836.321 163.241 839.539 Q160.093 842.756 154.862 842.756 Q148.866 842.756 145.695 838.173 Q142.524 833.567 142.524 824.84 Q142.524 816.645 146.413 811.784 Q150.302 806.9 156.853 806.9 Q158.612 806.9 160.394 807.247 Q162.2 807.595 164.144 808.289 Z\" fill=\"#000000\" fill-rule=\"evenodd\" fill-opacity=\"1\" /><path clip-path=\"url(#clip700)\" d=\"M 0 0 M184.445 810.604 Q180.834 810.604 179.005 814.169 Q177.2 817.71 177.2 824.84 Q177.2 831.946 179.005 835.511 Q180.834 839.053 184.445 839.053 Q188.079 839.053 189.885 835.511 Q191.713 831.946 191.713 824.84 Q191.713 817.71 189.885 814.169 Q188.079 810.604 184.445 810.604 M184.445 806.9 Q190.255 806.9 193.311 811.507 Q196.389 816.09 196.389 824.84 Q196.389 833.567 193.311 838.173 Q190.255 842.756 184.445 842.756 Q178.635 842.756 175.556 838.173 Q172.501 833.567 172.501 824.84 Q172.501 816.09 175.556 811.507 Q178.635 806.9 184.445 806.9 Z\" fill=\"#000000\" fill-rule=\"evenodd\" fill-opacity=\"1\" /><path clip-path=\"url(#clip700)\" d=\"M 0 0 M154.283 638.476 Q150.95 638.476 149.028 640.259 Q147.13 642.041 147.13 645.166 Q147.13 648.291 149.028 650.073 Q150.95 651.856 154.283 651.856 Q157.616 651.856 159.538 650.073 Q161.459 648.268 161.459 645.166 Q161.459 642.041 159.538 640.259 Q157.64 638.476 154.283 638.476 M149.607 636.486 Q146.598 635.745 144.908 633.685 Q143.241 631.625 143.241 628.662 Q143.241 624.518 146.181 622.111 Q149.144 619.703 154.283 619.703 Q159.445 619.703 162.385 622.111 Q165.325 624.518 165.325 628.662 Q165.325 631.625 163.635 633.685 Q161.968 635.745 158.982 636.486 Q162.362 637.273 164.237 639.564 Q166.135 641.856 166.135 645.166 Q166.135 650.189 163.056 652.874 Q160.001 655.56 154.283 655.56 Q148.566 655.56 145.487 652.874 Q142.431 650.189 142.431 645.166 Q142.431 641.856 144.329 639.564 Q146.228 637.273 149.607 636.486 M147.894 629.101 Q147.894 631.787 149.561 633.291 Q151.251 634.796 154.283 634.796 Q157.292 634.796 158.982 633.291 Q160.695 631.787 160.695 629.101 Q160.695 626.416 158.982 624.912 Q157.292 623.407 154.283 623.407 Q151.251 623.407 149.561 624.912 Q147.894 626.416 147.894 629.101 Z\" fill=\"#000000\" fill-rule=\"evenodd\" fill-opacity=\"1\" /><path clip-path=\"url(#clip700)\" d=\"M 0 0 M184.445 623.407 Q180.834 623.407 179.005 626.972 Q177.2 630.513 177.2 637.643 Q177.2 644.749 179.005 648.314 Q180.834 651.856 184.445 651.856 Q188.079 651.856 189.885 648.314 Q191.713 644.749 191.713 637.643 Q191.713 630.513 189.885 626.972 Q188.079 623.407 184.445 623.407 M184.445 619.703 Q190.255 619.703 193.311 624.31 Q196.389 628.893 196.389 637.643 Q196.389 646.37 193.311 650.976 Q190.255 655.56 184.445 655.56 Q178.635 655.56 175.556 650.976 Q172.501 646.37 172.501 637.643 Q172.501 628.893 175.556 624.31 Q178.635 619.703 184.445 619.703 Z\" fill=\"#000000\" fill-rule=\"evenodd\" fill-opacity=\"1\" /><path clip-path=\"url(#clip700)\" d=\"M 0 0 M114.931 463.756 L122.57 463.756 L122.57 437.391 L114.26 439.057 L114.26 434.798 L122.524 433.131 L127.2 433.131 L127.2 463.756 L134.839 463.756 L134.839 467.691 L114.931 467.691 L114.931 463.756 Z\" fill=\"#000000\" fill-rule=\"evenodd\" fill-opacity=\"1\" /><path clip-path=\"url(#clip700)\" d=\"M 0 0 M154.283 436.21 Q150.672 436.21 148.843 439.775 Q147.038 443.317 147.038 450.446 Q147.038 457.553 148.843 461.117 Q150.672 464.659 154.283 464.659 Q157.917 464.659 159.723 461.117 Q161.552 457.553 161.552 450.446 Q161.552 443.317 159.723 439.775 Q157.917 436.21 154.283 436.21 M154.283 432.506 Q160.093 432.506 163.149 437.113 Q166.227 441.696 166.227 450.446 Q166.227 459.173 163.149 463.779 Q160.093 468.363 154.283 468.363 Q148.473 468.363 145.394 463.779 Q142.339 459.173 142.339 450.446 Q142.339 441.696 145.394 437.113 Q148.473 432.506 154.283 432.506 Z\" fill=\"#000000\" fill-rule=\"evenodd\" fill-opacity=\"1\" /><path clip-path=\"url(#clip700)\" d=\"M 0 0 M184.445 436.21 Q180.834 436.21 179.005 439.775 Q177.2 443.317 177.2 450.446 Q177.2 457.553 179.005 461.117 Q180.834 464.659 184.445 464.659 Q188.079 464.659 189.885 461.117 Q191.713 457.553 191.713 450.446 Q191.713 443.317 189.885 439.775 Q188.079 436.21 184.445 436.21 M184.445 432.506 Q190.255 432.506 193.311 437.113 Q196.389 441.696 196.389 450.446 Q196.389 459.173 193.311 463.779 Q190.255 468.363 184.445 468.363 Q178.635 468.363 175.556 463.779 Q172.501 459.173 172.501 450.446 Q172.501 441.696 175.556 437.113 Q178.635 432.506 184.445 432.506 Z\" fill=\"#000000\" fill-rule=\"evenodd\" fill-opacity=\"1\" /><path clip-path=\"url(#clip700)\" d=\"M 0 0 M114.931 276.559 L122.57 276.559 L122.57 250.194 L114.26 251.86 L114.26 247.601 L122.524 245.935 L127.2 245.935 L127.2 276.559 L134.839 276.559 L134.839 280.495 L114.931 280.495 L114.931 276.559 Z\" fill=\"#000000\" fill-rule=\"evenodd\" fill-opacity=\"1\" /><path clip-path=\"url(#clip700)\" d=\"M 0 0 M148.311 276.559 L164.63 276.559 L164.63 280.495 L142.686 280.495 L142.686 276.559 Q145.348 273.805 149.931 269.175 Q154.538 264.522 155.718 263.18 Q157.964 260.657 158.843 258.921 Q159.746 257.161 159.746 255.472 Q159.746 252.717 157.802 250.981 Q155.88 249.245 152.778 249.245 Q150.579 249.245 148.126 250.009 Q145.695 250.773 142.917 252.323 L142.917 247.601 Q145.741 246.467 148.195 245.888 Q150.649 245.31 152.686 245.31 Q158.056 245.31 161.251 247.995 Q164.445 250.68 164.445 255.171 Q164.445 257.3 163.635 259.222 Q162.848 261.12 160.741 263.712 Q160.163 264.384 157.061 267.601 Q153.959 270.796 148.311 276.559 Z\" fill=\"#000000\" fill-rule=\"evenodd\" fill-opacity=\"1\" /><path clip-path=\"url(#clip700)\" d=\"M 0 0 M184.445 249.013 Q180.834 249.013 179.005 252.578 Q177.2 256.12 177.2 263.249 Q177.2 270.356 179.005 273.921 Q180.834 277.462 184.445 277.462 Q188.079 277.462 189.885 273.921 Q191.713 270.356 191.713 263.249 Q191.713 256.12 189.885 252.578 Q188.079 249.013 184.445 249.013 M184.445 245.31 Q190.255 245.31 193.311 249.916 Q196.389 254.499 196.389 263.249 Q196.389 271.976 193.311 276.583 Q190.255 281.166 184.445 281.166 Q178.635 281.166 175.556 276.583 Q172.501 271.976 172.501 263.249 Q172.501 254.499 175.556 249.916 Q178.635 245.31 184.445 245.31 Z\" fill=\"#000000\" fill-rule=\"evenodd\" fill-opacity=\"1\" /><path clip-path=\"url(#clip700)\" d=\"M 0 0 M16.4842 937.529 L16.4842 910.221 L21.895 910.221 L21.895 931.1 L35.8996 931.1 L35.8996 912.258 L41.3104 912.258 L41.3104 931.1 L64.0042 931.1 L64.0042 937.529 L16.4842 937.529 Z\" fill=\"#000000\" fill-rule=\"evenodd\" fill-opacity=\"1\" /><path clip-path=\"url(#clip700)\" d=\"M 0 0 M33.8307 884.376 Q33.2578 885.362 33.0032 886.54 Q32.7167 887.686 32.7167 889.086 Q32.7167 894.052 35.9632 896.725 Q39.1779 899.367 45.2253 899.367 L64.0042 899.367 L64.0042 905.255 L28.3562 905.255 L28.3562 899.367 L33.8944 899.367 Q30.6479 897.521 29.0883 894.561 Q27.4968 891.601 27.4968 887.368 Q27.4968 886.763 27.5923 886.031 Q27.656 885.299 27.8151 884.408 L33.8307 884.376 Z\" fill=\"#000000\" fill-rule=\"evenodd\" fill-opacity=\"1\" /><path clip-path=\"url(#clip700)\" d=\"M 0 0 M44.7161 849.173 L47.5806 849.173 L47.5806 876.1 Q53.6281 875.718 56.8109 872.472 Q59.9619 869.194 59.9619 863.369 Q59.9619 859.995 59.1344 856.844 Q58.3069 853.661 56.6518 850.542 L62.1899 850.542 Q63.5267 853.693 64.227 857.003 Q64.9272 860.313 64.9272 863.719 Q64.9272 872.249 59.9619 877.246 Q54.9967 882.211 46.5303 882.211 Q37.7774 882.211 32.6531 877.501 Q27.4968 872.758 27.4968 864.738 Q27.4968 857.544 32.1438 853.375 Q36.7589 849.173 44.7161 849.173 M42.9973 855.03 Q38.1912 855.093 35.3266 857.735 Q32.4621 860.345 32.4621 864.674 Q32.4621 869.575 35.2312 872.536 Q38.0002 875.464 43.0292 875.909 L42.9973 855.03 Z\" fill=\"#000000\" fill-rule=\"evenodd\" fill-opacity=\"1\" /><path clip-path=\"url(#clip700)\" d=\"M 0 0 M46.212 836.06 Q52.6732 836.06 56.3653 833.418 Q60.0256 830.745 60.0256 826.098 Q60.0256 821.451 56.3653 818.777 Q52.6732 816.104 46.212 816.104 Q39.7508 816.104 36.0905 818.777 Q32.3984 821.451 32.3984 826.098 Q32.3984 830.745 36.0905 833.418 Q39.7508 836.06 46.212 836.06 M58.657 816.104 Q61.8398 817.95 63.3994 820.782 Q64.9272 823.583 64.9272 827.53 Q64.9272 833.991 59.771 838.065 Q54.6147 842.107 46.212 842.107 Q37.8093 842.107 32.6531 838.065 Q27.4968 833.991 27.4968 827.53 Q27.4968 823.583 29.0564 820.782 Q30.5842 817.95 33.7671 816.104 L28.3562 816.104 L28.3562 810.247 L77.5631 810.247 L77.5631 816.104 L58.657 816.104 Z\" fill=\"#000000\" fill-rule=\"evenodd\" fill-opacity=\"1\" /><path clip-path=\"url(#clip700)\" d=\"M 0 0 M49.9359 798.789 L28.3562 798.789 L28.3562 792.932 L49.7131 792.932 Q54.7739 792.932 57.3202 790.959 Q59.8346 788.986 59.8346 785.039 Q59.8346 780.296 56.8109 777.559 Q53.7872 774.79 48.5673 774.79 L28.3562 774.79 L28.3562 768.934 L64.0042 768.934 L64.0042 774.79 L58.5296 774.79 Q61.7762 776.923 63.3676 779.755 Q64.9272 782.556 64.9272 786.28 Q64.9272 792.423 61.1078 795.606 Q57.2883 798.789 49.9359 798.789 M27.4968 784.052 L27.4968 784.052 Z\" fill=\"#000000\" fill-rule=\"evenodd\" fill-opacity=\"1\" /><path clip-path=\"url(#clip700)\" d=\"M 0 0 M44.7161 726.379 L47.5806 726.379 L47.5806 753.306 Q53.6281 752.924 56.8109 749.677 Q59.9619 746.399 59.9619 740.574 Q59.9619 737.201 59.1344 734.05 Q58.3069 730.867 56.6518 727.748 L62.1899 727.748 Q63.5267 730.899 64.227 734.209 Q64.9272 737.519 64.9272 740.925 Q64.9272 749.455 59.9619 754.452 Q54.9967 759.417 46.5303 759.417 Q37.7774 759.417 32.6531 754.706 Q27.4968 749.964 27.4968 741.943 Q27.4968 734.75 32.1438 730.58 Q36.7589 726.379 44.7161 726.379 M42.9973 732.235 Q38.1912 732.299 35.3266 734.941 Q32.4621 737.551 32.4621 741.879 Q32.4621 746.781 35.2312 749.741 Q38.0002 752.669 43.0292 753.115 L42.9973 732.235 Z\" fill=\"#000000\" fill-rule=\"evenodd\" fill-opacity=\"1\" /><path clip-path=\"url(#clip700)\" d=\"M 0 0 M42.4881 687.134 L64.0042 687.134 L64.0042 692.991 L42.679 692.991 Q37.6183 692.991 35.1038 694.964 Q32.5894 696.938 32.5894 700.884 Q32.5894 705.627 35.6131 708.364 Q38.6368 711.101 43.8567 711.101 L64.0042 711.101 L64.0042 716.989 L28.3562 716.989 L28.3562 711.101 L33.8944 711.101 Q30.6797 709.001 29.0883 706.168 Q27.4968 703.303 27.4968 699.579 Q27.4968 693.436 31.3163 690.285 Q35.1038 687.134 42.4881 687.134 Z\" fill=\"#000000\" fill-rule=\"evenodd\" fill-opacity=\"1\" /><path clip-path=\"url(#clip700)\" d=\"M 0 0 M29.7248 649.799 L35.1993 649.799 Q33.8307 652.282 33.1623 654.797 Q32.4621 657.279 32.4621 659.825 Q32.4621 665.523 36.0905 668.674 Q39.6872 671.825 46.212 671.825 Q52.7369 671.825 56.3653 668.674 Q59.9619 665.523 59.9619 659.825 Q59.9619 657.279 59.2935 654.797 Q58.5933 652.282 57.2247 649.799 L62.6355 649.799 Q63.7814 652.25 64.3543 654.892 Q64.9272 657.502 64.9272 660.462 Q64.9272 668.515 59.8664 673.257 Q54.8057 678 46.212 678 Q37.491 678 32.4939 673.225 Q27.4968 668.419 27.4968 660.08 Q27.4968 657.375 28.0697 654.797 Q28.6108 652.218 29.7248 649.799 Z\" fill=\"#000000\" fill-rule=\"evenodd\" fill-opacity=\"1\" /><path clip-path=\"url(#clip700)\" d=\"M 0 0 M67.3143 624.782 Q73.68 627.265 75.6216 629.62 Q77.5631 631.975 77.5631 635.922 L77.5631 640.601 L72.6615 640.601 L72.6615 637.164 Q72.6615 634.745 71.5157 633.408 Q70.3699 632.071 66.1048 630.448 L63.4312 629.397 L28.3562 643.816 L28.3562 637.609 L56.238 626.469 L28.3562 615.329 L28.3562 609.123 L67.3143 624.782 Z\" fill=\"#000000\" fill-rule=\"evenodd\" fill-opacity=\"1\" /><path clip-path=\"url(#clip700)\" d=\"M 0 0 M788.215 12.096 L796.398 12.096 L796.398 36.8875 L826.131 36.8875 L826.131 12.096 L834.314 12.096 L834.314 72.576 L826.131 72.576 L826.131 43.7741 L796.398 43.7741 L796.398 72.576 L788.215 72.576 L788.215 12.096 Z\" fill=\"#000000\" fill-rule=\"evenodd\" fill-opacity=\"1\" /><path clip-path=\"url(#clip700)\" d=\"M 0 0 M850.275 27.2059 L857.728 27.2059 L857.728 72.576 L850.275 72.576 L850.275 27.2059 M850.275 9.54393 L857.728 9.54393 L857.728 18.9825 L850.275 18.9825 L850.275 9.54393 Z\" fill=\"#000000\" fill-rule=\"evenodd\" fill-opacity=\"1\" /><path clip-path=\"url(#clip700)\" d=\"M 0 0 M902.248 28.5427 L902.248 35.5912 Q899.088 33.9709 895.685 33.1607 Q892.283 32.3505 888.637 32.3505 Q883.087 32.3505 880.292 34.0519 Q877.537 35.7533 877.537 39.156 Q877.537 41.7486 879.522 43.2475 Q881.507 44.7058 887.502 46.0426 L890.055 46.6097 Q897.994 48.3111 901.316 51.4303 Q904.678 54.509 904.678 60.0587 Q904.678 66.3781 899.655 70.0644 Q894.673 73.7508 885.923 73.7508 Q882.277 73.7508 878.307 73.0216 Q874.378 72.3329 870.003 70.9151 L870.003 63.2184 Q874.134 65.3654 878.145 66.4591 Q882.155 67.5124 886.085 67.5124 Q891.351 67.5124 894.186 65.73 Q897.022 63.9071 897.022 60.6258 Q897.022 57.5877 894.956 55.9673 Q892.931 54.3469 886.004 52.8481 L883.411 52.2405 Q876.484 50.7821 873.405 47.7845 Q870.327 44.7463 870.327 39.4801 Q870.327 33.0797 874.864 29.5959 Q879.401 26.1121 887.746 26.1121 Q891.877 26.1121 895.523 26.7198 Q899.169 27.3274 902.248 28.5427 Z\" fill=\"#000000\" fill-rule=\"evenodd\" fill-opacity=\"1\" /><path clip-path=\"url(#clip700)\" d=\"M 0 0 M923.92 14.324 L923.92 27.2059 L939.273 27.2059 L939.273 32.9987 L923.92 32.9987 L923.92 57.6282 Q923.92 63.1779 925.419 64.7578 Q926.958 66.3376 931.617 66.3376 L939.273 66.3376 L939.273 72.576 L931.617 72.576 Q922.988 72.576 919.707 69.3758 Q916.426 66.1351 916.426 57.6282 L916.426 32.9987 L910.957 32.9987 L910.957 27.2059 L916.426 27.2059 L916.426 14.324 L923.92 14.324 Z\" fill=\"#000000\" fill-rule=\"evenodd\" fill-opacity=\"1\" /><path clip-path=\"url(#clip700)\" d=\"M 0 0 M966.657 32.4315 Q960.662 32.4315 957.178 37.1306 Q953.694 41.7891 953.694 49.9314 Q953.694 58.0738 957.138 62.7728 Q960.621 67.4314 966.657 67.4314 Q972.612 67.4314 976.096 62.7323 Q979.58 58.0333 979.58 49.9314 Q979.58 41.8701 976.096 37.1711 Q972.612 32.4315 966.657 32.4315 M966.657 26.1121 Q976.379 26.1121 981.929 32.4315 Q987.479 38.7509 987.479 49.9314 Q987.479 61.0714 981.929 67.4314 Q976.379 73.7508 966.657 73.7508 Q956.894 73.7508 951.345 67.4314 Q945.835 61.0714 945.835 49.9314 Q945.835 38.7509 951.345 32.4315 Q956.894 26.1121 966.657 26.1121 Z\" fill=\"#000000\" fill-rule=\"evenodd\" fill-opacity=\"1\" /><path clip-path=\"url(#clip700)\" d=\"M 0 0 M1029.69 49.3643 Q1029.69 41.2625 1026.33 36.8065 Q1023.01 32.3505 1016.97 32.3505 Q1010.97 32.3505 1007.61 36.8065 Q1004.29 41.2625 1004.29 49.3643 Q1004.29 57.4256 1007.61 61.8816 Q1010.97 66.3376 1016.97 66.3376 Q1023.01 66.3376 1026.33 61.8816 Q1029.69 57.4256 1029.69 49.3643 M1037.14 66.9452 Q1037.14 78.5308 1032 84.1616 Q1026.85 89.8329 1016.24 89.8329 Q1012.31 89.8329 1008.83 89.2252 Q1005.34 88.6581 1002.06 87.4428 L1002.06 80.1917 Q1005.34 81.9741 1008.54 82.8248 Q1011.74 83.6755 1015.07 83.6755 Q1022.4 83.6755 1026.04 79.8271 Q1029.69 76.0193 1029.69 68.282 L1029.69 64.5957 Q1027.38 68.6061 1023.77 70.5911 Q1020.17 72.576 1015.15 72.576 Q1006.8 72.576 1001.7 66.2161 Q996.593 59.8562 996.593 49.3643 Q996.593 38.832 1001.7 32.472 Q1006.8 26.1121 1015.15 26.1121 Q1020.17 26.1121 1023.77 28.0971 Q1027.38 30.082 1029.69 34.0924 L1029.69 27.2059 L1037.14 27.2059 L1037.14 66.9452 Z\" fill=\"#000000\" fill-rule=\"evenodd\" fill-opacity=\"1\" /><path clip-path=\"url(#clip700)\" d=\"M 0 0 M1078.79 34.1734 Q1077.53 33.4443 1076.03 33.1202 Q1074.57 32.7556 1072.79 32.7556 Q1066.47 32.7556 1063.07 36.8875 Q1059.71 40.9789 1059.71 48.6757 L1059.71 72.576 L1052.21 72.576 L1052.21 27.2059 L1059.71 27.2059 L1059.71 34.2544 Q1062.06 30.1225 1065.82 28.1376 Q1069.59 26.1121 1074.98 26.1121 Q1075.75 26.1121 1076.68 26.2337 Q1077.61 26.3147 1078.75 26.5172 L1078.79 34.1734 Z\" fill=\"#000000\" fill-rule=\"evenodd\" fill-opacity=\"1\" /><path clip-path=\"url(#clip700)\" d=\"M 0 0 M1107.22 49.7694 Q1098.19 49.7694 1094.71 51.8354 Q1091.22 53.9013 1091.22 58.8839 Q1091.22 62.8538 1093.82 65.2034 Q1096.45 67.5124 1100.94 67.5124 Q1107.14 67.5124 1110.87 63.1374 Q1114.64 58.7219 1114.64 51.4303 L1114.64 49.7694 L1107.22 49.7694 M1122.09 46.6907 L1122.09 72.576 L1114.64 72.576 L1114.64 65.6895 Q1112.08 69.8214 1108.28 71.8063 Q1104.47 73.7508 1098.96 73.7508 Q1091.99 73.7508 1087.86 69.8619 Q1083.77 65.9325 1083.77 59.3701 Q1083.77 51.7138 1088.87 47.825 Q1094.02 43.9361 1104.19 43.9361 L1114.64 43.9361 L1114.64 43.2069 Q1114.64 38.0623 1111.23 35.2672 Q1107.87 32.4315 1101.75 32.4315 Q1097.87 32.4315 1094.18 33.3632 Q1090.49 34.295 1087.09 36.1584 L1087.09 29.2718 Q1091.18 27.692 1095.03 26.9223 Q1098.88 26.1121 1102.52 26.1121 Q1112.37 26.1121 1117.23 31.2163 Q1122.09 36.3204 1122.09 46.6907 Z\" fill=\"#000000\" fill-rule=\"evenodd\" fill-opacity=\"1\" /><path clip-path=\"url(#clip700)\" d=\"M 0 0 M1172.77 35.9153 Q1175.56 30.8922 1179.45 28.5022 Q1183.34 26.1121 1188.61 26.1121 Q1195.7 26.1121 1199.54 31.0947 Q1203.39 36.0368 1203.39 45.1919 L1203.39 72.576 L1195.9 72.576 L1195.9 45.4349 Q1195.9 38.913 1193.59 35.7533 Q1191.28 32.5936 1186.54 32.5936 Q1180.75 32.5936 1177.39 36.4419 Q1174.02 40.2903 1174.02 46.9338 L1174.02 72.576 L1166.53 72.576 L1166.53 45.4349 Q1166.53 38.8725 1164.22 35.7533 Q1161.91 32.5936 1157.09 32.5936 Q1151.38 32.5936 1148.02 36.4824 Q1144.65 40.3308 1144.65 46.9338 L1144.65 72.576 L1137.16 72.576 L1137.16 27.2059 L1144.65 27.2059 L1144.65 34.2544 Q1147.21 30.082 1150.77 28.0971 Q1154.34 26.1121 1159.24 26.1121 Q1164.18 26.1121 1167.62 28.6237 Q1171.11 31.1352 1172.77 35.9153 Z\" fill=\"#000000\" fill-rule=\"evenodd\" fill-opacity=\"1\" /><path clip-path=\"url(#clip700)\" d=\"M 0 0 M1262.21 32.4315 Q1256.22 32.4315 1252.73 37.1306 Q1249.25 41.7891 1249.25 49.9314 Q1249.25 58.0738 1252.69 62.7728 Q1256.18 67.4314 1262.21 67.4314 Q1268.17 67.4314 1271.65 62.7323 Q1275.13 58.0333 1275.13 49.9314 Q1275.13 41.8701 1271.65 37.1711 Q1268.17 32.4315 1262.21 32.4315 M1262.21 26.1121 Q1271.93 26.1121 1277.48 32.4315 Q1283.03 38.7509 1283.03 49.9314 Q1283.03 61.0714 1277.48 67.4314 Q1271.93 73.7508 1262.21 73.7508 Q1252.45 73.7508 1246.9 67.4314 Q1241.39 61.0714 1241.39 49.9314 Q1241.39 38.7509 1246.9 32.4315 Q1252.45 26.1121 1262.21 26.1121 Z\" fill=\"#000000\" fill-rule=\"evenodd\" fill-opacity=\"1\" /><path clip-path=\"url(#clip700)\" d=\"M 0 0 M1318.36 9.54393 L1318.36 15.7418 L1311.23 15.7418 Q1307.22 15.7418 1305.64 17.3622 Q1304.1 18.9825 1304.1 23.1955 L1304.1 27.2059 L1316.37 27.2059 L1316.37 32.9987 L1304.1 32.9987 L1304.1 72.576 L1296.6 72.576 L1296.6 32.9987 L1289.47 32.9987 L1289.47 27.2059 L1296.6 27.2059 L1296.6 24.0462 Q1296.6 16.471 1300.13 13.0277 Q1303.65 9.54393 1311.31 9.54393 L1318.36 9.54393 Z\" fill=\"#000000\" fill-rule=\"evenodd\" fill-opacity=\"1\" /><path clip-path=\"url(#clip700)\" d=\"M 0 0 M1358.18 65.7705 L1358.18 89.8329 L1350.68 89.8329 L1350.68 27.2059 L1358.18 27.2059 L1358.18 34.0924 Q1360.53 30.0415 1364.09 28.0971 Q1367.7 26.1121 1372.68 26.1121 Q1380.94 26.1121 1386.09 32.6746 Q1391.27 39.2371 1391.27 49.9314 Q1391.27 60.6258 1386.09 67.1883 Q1380.94 73.7508 1372.68 73.7508 Q1367.7 73.7508 1364.09 71.8063 Q1360.53 69.8214 1358.18 65.7705 M1383.54 49.9314 Q1383.54 41.7081 1380.13 37.0496 Q1376.77 32.3505 1370.86 32.3505 Q1364.94 32.3505 1361.54 37.0496 Q1358.18 41.7081 1358.18 49.9314 Q1358.18 58.1548 1361.54 62.8538 Q1364.94 67.5124 1370.86 67.5124 Q1376.77 67.5124 1380.13 62.8538 Q1383.54 58.1548 1383.54 49.9314 Z\" fill=\"#000000\" fill-rule=\"evenodd\" fill-opacity=\"1\" /><path clip-path=\"url(#clip700)\" d=\"M 0 0 M1421.21 32.4315 Q1415.21 32.4315 1411.73 37.1306 Q1408.25 41.7891 1408.25 49.9314 Q1408.25 58.0738 1411.69 62.7728 Q1415.17 67.4314 1421.21 67.4314 Q1427.16 67.4314 1430.65 62.7323 Q1434.13 58.0333 1434.13 49.9314 Q1434.13 41.8701 1430.65 37.1711 Q1427.16 32.4315 1421.21 32.4315 M1421.21 26.1121 Q1430.93 26.1121 1436.48 32.4315 Q1442.03 38.7509 1442.03 49.9314 Q1442.03 61.0714 1436.48 67.4314 Q1430.93 73.7508 1421.21 73.7508 Q1411.45 73.7508 1405.9 67.4314 Q1400.39 61.0714 1400.39 49.9314 Q1400.39 38.7509 1405.9 32.4315 Q1411.45 26.1121 1421.21 26.1121 Z\" fill=\"#000000\" fill-rule=\"evenodd\" fill-opacity=\"1\" /><path clip-path=\"url(#clip700)\" d=\"M 0 0 M1483.31 28.5427 L1483.31 35.5912 Q1480.15 33.9709 1476.75 33.1607 Q1473.34 32.3505 1469.7 32.3505 Q1464.15 32.3505 1461.35 34.0519 Q1458.6 35.7533 1458.6 39.156 Q1458.6 41.7486 1460.58 43.2475 Q1462.57 44.7058 1468.56 46.0426 L1471.12 46.6097 Q1479.06 48.3111 1482.38 51.4303 Q1485.74 54.509 1485.74 60.0587 Q1485.74 66.3781 1480.72 70.0644 Q1475.73 73.7508 1466.98 73.7508 Q1463.34 73.7508 1459.37 73.0216 Q1455.44 72.3329 1451.06 70.9151 L1451.06 63.2184 Q1455.2 65.3654 1459.21 66.4591 Q1463.22 67.5124 1467.15 67.5124 Q1472.41 67.5124 1475.25 65.73 Q1478.08 63.9071 1478.08 60.6258 Q1478.08 57.5877 1476.02 55.9673 Q1473.99 54.3469 1467.07 52.8481 L1464.47 52.2405 Q1457.55 50.7821 1454.47 47.7845 Q1451.39 44.7463 1451.39 39.4801 Q1451.39 33.0797 1455.93 29.5959 Q1460.46 26.1121 1468.81 26.1121 Q1472.94 26.1121 1476.58 26.7198 Q1480.23 27.3274 1483.31 28.5427 Z\" fill=\"#000000\" fill-rule=\"evenodd\" fill-opacity=\"1\" /><path clip-path=\"url(#clip700)\" d=\"M 0 0 M1504.98 14.324 L1504.98 27.2059 L1520.33 27.2059 L1520.33 32.9987 L1504.98 32.9987 L1504.98 57.6282 Q1504.98 63.1779 1506.48 64.7578 Q1508.02 66.3376 1512.68 66.3376 L1520.33 66.3376 L1520.33 72.576 L1512.68 72.576 Q1504.05 72.576 1500.77 69.3758 Q1497.49 66.1351 1497.49 57.6282 L1497.49 32.9987 L1492.02 32.9987 L1492.02 27.2059 L1497.49 27.2059 L1497.49 14.324 L1504.98 14.324 Z\" fill=\"#000000\" fill-rule=\"evenodd\" fill-opacity=\"1\" /><path clip-path=\"url(#clip700)\" d=\"M 0 0 M1537.35 65.7705 L1537.35 89.8329 L1529.85 89.8329 L1529.85 27.2059 L1537.35 27.2059 L1537.35 34.0924 Q1539.7 30.0415 1543.26 28.0971 Q1546.87 26.1121 1551.85 26.1121 Q1560.11 26.1121 1565.26 32.6746 Q1570.44 39.2371 1570.44 49.9314 Q1570.44 60.6258 1565.26 67.1883 Q1560.11 73.7508 1551.85 73.7508 Q1546.87 73.7508 1543.26 71.8063 Q1539.7 69.8214 1537.35 65.7705 M1562.71 49.9314 Q1562.71 41.7081 1559.3 37.0496 Q1555.94 32.3505 1550.03 32.3505 Q1544.11 32.3505 1540.71 37.0496 Q1537.35 41.7081 1537.35 49.9314 Q1537.35 58.1548 1540.71 62.8538 Q1544.11 67.5124 1550.03 67.5124 Q1555.94 67.5124 1559.3 62.8538 Q1562.71 58.1548 1562.71 49.9314 Z\" fill=\"#000000\" fill-rule=\"evenodd\" fill-opacity=\"1\" /><path clip-path=\"url(#clip700)\" d=\"M 0 0 M1609.09 34.1734 Q1607.83 33.4443 1606.34 33.1202 Q1604.88 32.7556 1603.09 32.7556 Q1596.78 32.7556 1593.37 36.8875 Q1590.01 40.9789 1590.01 48.6757 L1590.01 72.576 L1582.52 72.576 L1582.52 27.2059 L1590.01 27.2059 L1590.01 34.2544 Q1592.36 30.1225 1596.13 28.1376 Q1599.89 26.1121 1605.28 26.1121 Q1606.05 26.1121 1606.98 26.2337 Q1607.92 26.3147 1609.05 26.5172 L1609.09 34.1734 Z\" fill=\"#000000\" fill-rule=\"evenodd\" fill-opacity=\"1\" /><path clip-path=\"url(#clip700)\" d=\"M 0 0 M1653.89 48.0275 L1653.89 51.6733 L1619.62 51.6733 Q1620.11 59.3701 1624.24 63.421 Q1628.41 67.4314 1635.83 67.4314 Q1640.12 67.4314 1644.13 66.3781 Q1648.18 65.3249 1652.15 63.2184 L1652.15 70.267 Q1648.14 71.9684 1643.93 72.8596 Q1639.71 73.7508 1635.38 73.7508 Q1624.52 73.7508 1618.16 67.4314 Q1611.84 61.1119 1611.84 50.3365 Q1611.84 39.1965 1617.84 32.6746 Q1623.88 26.1121 1634.08 26.1121 Q1643.24 26.1121 1648.55 32.0264 Q1653.89 37.9003 1653.89 48.0275 M1646.44 45.84 Q1646.36 39.7232 1643 36.0774 Q1639.67 32.4315 1634.17 32.4315 Q1627.93 32.4315 1624.16 35.9558 Q1620.43 39.4801 1619.87 45.8805 L1646.44 45.84 Z\" fill=\"#000000\" fill-rule=\"evenodd\" fill-opacity=\"1\" /><path clip-path=\"url(#clip700)\" d=\"M 0 0 M1695.98 34.0924 L1695.98 9.54393 L1703.44 9.54393 L1703.44 72.576 L1695.98 72.576 L1695.98 65.7705 Q1693.63 69.8214 1690.03 71.8063 Q1686.46 73.7508 1681.44 73.7508 Q1673.22 73.7508 1668.03 67.1883 Q1662.89 60.6258 1662.89 49.9314 Q1662.89 39.2371 1668.03 32.6746 Q1673.22 26.1121 1681.44 26.1121 Q1686.46 26.1121 1690.03 28.0971 Q1693.63 30.0415 1695.98 34.0924 M1670.58 49.9314 Q1670.58 58.1548 1673.95 62.8538 Q1677.35 67.5124 1683.26 67.5124 Q1689.18 67.5124 1692.58 62.8538 Q1695.98 58.1548 1695.98 49.9314 Q1695.98 41.7081 1692.58 37.0496 Q1689.18 32.3505 1683.26 32.3505 Q1677.35 32.3505 1673.95 37.0496 Q1670.58 41.7081 1670.58 49.9314 Z\" fill=\"#000000\" fill-rule=\"evenodd\" fill-opacity=\"1\" /><path clip-path=\"url(#clip700)\" d=\"M 0 0 M1753.26 86.3491 L1753.26 92.1419 L1710.16 92.1419 L1710.16 86.3491 L1753.26 86.3491 Z\" fill=\"#000000\" fill-rule=\"evenodd\" fill-opacity=\"1\" /><path clip-path=\"url(#clip700)\" d=\"M 0 0 M1768.37 65.6895 L1796.93 65.6895 L1796.93 72.576 L1758.53 72.576 L1758.53 65.6895 Q1763.19 60.8689 1771.21 52.7671 Q1779.27 44.6248 1781.33 42.2752 Q1785.26 37.8598 1786.8 34.8216 Q1788.38 31.7429 1788.38 28.7857 Q1788.38 23.9651 1784.98 20.927 Q1781.62 17.8888 1776.19 17.8888 Q1772.34 17.8888 1768.05 19.2256 Q1763.79 20.5624 1758.93 23.2765 L1758.93 15.0127 Q1763.88 13.0277 1768.17 12.015 Q1772.46 11.0023 1776.03 11.0023 Q1785.43 11.0023 1791.02 15.7013 Q1796.61 20.4004 1796.61 28.2591 Q1796.61 31.9859 1795.19 35.3482 Q1793.81 38.6699 1790.12 43.2069 Q1789.11 44.3817 1783.68 50.0125 Q1778.26 55.6027 1768.37 65.6895 Z\" fill=\"#000000\" fill-rule=\"evenodd\" fill-opacity=\"1\" /><path clip-path=\"url(#clip702)\" d=\"\n",
       "M349.013 1377.04 L349.013 1386.4 L443.369 1386.4 L443.369 1377.04 L349.013 1377.04 L349.013 1377.04  Z\n",
       "  \" fill=\"#009af9\" fill-rule=\"evenodd\" fill-opacity=\"1\"/>\n",
       "<polyline clip-path=\"url(#clip702)\" style=\"stroke:#000000; stroke-width:4; stroke-opacity:1; fill:none\" points=\"\n",
       "  349.013,1377.04 349.013,1386.4 443.369,1386.4 443.369,1377.04 349.013,1377.04 \n",
       "  \"/>\n",
       "<path clip-path=\"url(#clip702)\" d=\"\n",
       "M443.369 1386.4 L443.369 1386.4 L537.725 1386.4 L537.725 1386.4 L443.369 1386.4 L443.369 1386.4  Z\n",
       "  \" fill=\"#009af9\" fill-rule=\"evenodd\" fill-opacity=\"1\"/>\n",
       "<polyline clip-path=\"url(#clip702)\" style=\"stroke:#000000; stroke-width:4; stroke-opacity:1; fill:none\" points=\"\n",
       "  443.369,1386.4 443.369,1386.4 537.725,1386.4 443.369,1386.4 \n",
       "  \"/>\n",
       "<path clip-path=\"url(#clip702)\" d=\"\n",
       "M537.725 1358.32 L537.725 1386.4 L632.081 1386.4 L632.081 1358.32 L537.725 1358.32 L537.725 1358.32  Z\n",
       "  \" fill=\"#009af9\" fill-rule=\"evenodd\" fill-opacity=\"1\"/>\n",
       "<polyline clip-path=\"url(#clip702)\" style=\"stroke:#000000; stroke-width:4; stroke-opacity:1; fill:none\" points=\"\n",
       "  537.725,1358.32 537.725,1386.4 632.081,1386.4 632.081,1358.32 537.725,1358.32 \n",
       "  \"/>\n",
       "<path clip-path=\"url(#clip702)\" d=\"\n",
       "M632.081 1339.6 L632.081 1386.4 L726.437 1386.4 L726.437 1339.6 L632.081 1339.6 L632.081 1339.6  Z\n",
       "  \" fill=\"#009af9\" fill-rule=\"evenodd\" fill-opacity=\"1\"/>\n",
       "<polyline clip-path=\"url(#clip702)\" style=\"stroke:#000000; stroke-width:4; stroke-opacity:1; fill:none\" points=\"\n",
       "  632.081,1339.6 632.081,1386.4 726.437,1386.4 726.437,1339.6 632.081,1339.6 \n",
       "  \"/>\n",
       "<path clip-path=\"url(#clip702)\" d=\"\n",
       "M726.437 1302.16 L726.437 1386.4 L820.793 1386.4 L820.793 1302.16 L726.437 1302.16 L726.437 1302.16  Z\n",
       "  \" fill=\"#009af9\" fill-rule=\"evenodd\" fill-opacity=\"1\"/>\n",
       "<polyline clip-path=\"url(#clip702)\" style=\"stroke:#000000; stroke-width:4; stroke-opacity:1; fill:none\" points=\"\n",
       "  726.437,1302.16 726.437,1386.4 820.793,1386.4 820.793,1302.16 726.437,1302.16 \n",
       "  \"/>\n",
       "<path clip-path=\"url(#clip702)\" d=\"\n",
       "M820.793 1255.36 L820.793 1386.4 L915.149 1386.4 L915.149 1255.36 L820.793 1255.36 L820.793 1255.36  Z\n",
       "  \" fill=\"#009af9\" fill-rule=\"evenodd\" fill-opacity=\"1\"/>\n",
       "<polyline clip-path=\"url(#clip702)\" style=\"stroke:#000000; stroke-width:4; stroke-opacity:1; fill:none\" points=\"\n",
       "  820.793,1255.36 820.793,1386.4 915.149,1386.4 915.149,1255.36 820.793,1255.36 \n",
       "  \"/>\n",
       "<path clip-path=\"url(#clip702)\" d=\"\n",
       "M915.149 1021.36 L915.149 1386.4 L1009.5 1386.4 L1009.5 1021.36 L915.149 1021.36 L915.149 1021.36  Z\n",
       "  \" fill=\"#009af9\" fill-rule=\"evenodd\" fill-opacity=\"1\"/>\n",
       "<polyline clip-path=\"url(#clip702)\" style=\"stroke:#000000; stroke-width:4; stroke-opacity:1; fill:none\" points=\"\n",
       "  915.149,1021.36 915.149,1386.4 1009.5,1386.4 1009.5,1021.36 915.149,1021.36 \n",
       "  \"/>\n",
       "<path clip-path=\"url(#clip702)\" d=\"\n",
       "M1009.5 946.483 L1009.5 1386.4 L1103.86 1386.4 L1103.86 946.483 L1009.5 946.483 L1009.5 946.483  Z\n",
       "  \" fill=\"#009af9\" fill-rule=\"evenodd\" fill-opacity=\"1\"/>\n",
       "<polyline clip-path=\"url(#clip702)\" style=\"stroke:#000000; stroke-width:4; stroke-opacity:1; fill:none\" points=\"\n",
       "  1009.5,946.483 1009.5,1386.4 1103.86,1386.4 1103.86,946.483 1009.5,946.483 \n",
       "  \"/>\n",
       "<path clip-path=\"url(#clip702)\" d=\"\n",
       "M1103.86 581.449 L1103.86 1386.4 L1198.22 1386.4 L1198.22 581.449 L1103.86 581.449 L1103.86 581.449  Z\n",
       "  \" fill=\"#009af9\" fill-rule=\"evenodd\" fill-opacity=\"1\"/>\n",
       "<polyline clip-path=\"url(#clip702)\" style=\"stroke:#000000; stroke-width:4; stroke-opacity:1; fill:none\" points=\"\n",
       "  1103.86,581.449 1103.86,1386.4 1198.22,1386.4 1198.22,581.449 1103.86,581.449 \n",
       "  \"/>\n",
       "<path clip-path=\"url(#clip702)\" d=\"\n",
       "M1198.22 412.972 L1198.22 1386.4 L1292.57 1386.4 L1292.57 412.972 L1198.22 412.972 L1198.22 412.972  Z\n",
       "  \" fill=\"#009af9\" fill-rule=\"evenodd\" fill-opacity=\"1\"/>\n",
       "<polyline clip-path=\"url(#clip702)\" style=\"stroke:#000000; stroke-width:4; stroke-opacity:1; fill:none\" points=\"\n",
       "  1198.22,412.972 1198.22,1386.4 1292.57,1386.4 1292.57,412.972 1198.22,412.972 \n",
       "  \"/>\n",
       "<path clip-path=\"url(#clip702)\" d=\"\n",
       "M1292.57 197.696 L1292.57 1386.4 L1386.93 1386.4 L1386.93 197.696 L1292.57 197.696 L1292.57 197.696  Z\n",
       "  \" fill=\"#009af9\" fill-rule=\"evenodd\" fill-opacity=\"1\"/>\n",
       "<polyline clip-path=\"url(#clip702)\" style=\"stroke:#000000; stroke-width:4; stroke-opacity:1; fill:none\" points=\"\n",
       "  1292.57,197.696 1292.57,1386.4 1386.93,1386.4 1386.93,197.696 1292.57,197.696 \n",
       "  \"/>\n",
       "<path clip-path=\"url(#clip702)\" d=\"\n",
       "M1386.93 160.256 L1386.93 1386.4 L1481.28 1386.4 L1481.28 160.256 L1386.93 160.256 L1386.93 160.256  Z\n",
       "  \" fill=\"#009af9\" fill-rule=\"evenodd\" fill-opacity=\"1\"/>\n",
       "<polyline clip-path=\"url(#clip702)\" style=\"stroke:#000000; stroke-width:4; stroke-opacity:1; fill:none\" points=\"\n",
       "  1386.93,160.256 1386.93,1386.4 1481.28,1386.4 1481.28,160.256 1386.93,160.256 \n",
       "  \"/>\n",
       "<path clip-path=\"url(#clip702)\" d=\"\n",
       "M1481.28 169.616 L1481.28 1386.4 L1575.64 1386.4 L1575.64 169.616 L1481.28 169.616 L1481.28 169.616  Z\n",
       "  \" fill=\"#009af9\" fill-rule=\"evenodd\" fill-opacity=\"1\"/>\n",
       "<polyline clip-path=\"url(#clip702)\" style=\"stroke:#000000; stroke-width:4; stroke-opacity:1; fill:none\" points=\"\n",
       "  1481.28,169.616 1481.28,1386.4 1575.64,1386.4 1575.64,169.616 1481.28,169.616 \n",
       "  \"/>\n",
       "<path clip-path=\"url(#clip702)\" d=\"\n",
       "M1575.64 291.294 L1575.64 1386.4 L1670 1386.4 L1670 291.294 L1575.64 291.294 L1575.64 291.294  Z\n",
       "  \" fill=\"#009af9\" fill-rule=\"evenodd\" fill-opacity=\"1\"/>\n",
       "<polyline clip-path=\"url(#clip702)\" style=\"stroke:#000000; stroke-width:4; stroke-opacity:1; fill:none\" points=\"\n",
       "  1575.64,291.294 1575.64,1386.4 1670,1386.4 1670,291.294 1575.64,291.294 \n",
       "  \"/>\n",
       "<path clip-path=\"url(#clip702)\" d=\"\n",
       "M1670 759.286 L1670 1386.4 L1764.35 1386.4 L1764.35 759.286 L1670 759.286 L1670 759.286  Z\n",
       "  \" fill=\"#009af9\" fill-rule=\"evenodd\" fill-opacity=\"1\"/>\n",
       "<polyline clip-path=\"url(#clip702)\" style=\"stroke:#000000; stroke-width:4; stroke-opacity:1; fill:none\" points=\"\n",
       "  1670,759.286 1670,1386.4 1764.35,1386.4 1764.35,759.286 1670,759.286 \n",
       "  \"/>\n",
       "<path clip-path=\"url(#clip702)\" d=\"\n",
       "M1764.35 721.847 L1764.35 1386.4 L1858.71 1386.4 L1858.71 721.847 L1764.35 721.847 L1764.35 721.847  Z\n",
       "  \" fill=\"#009af9\" fill-rule=\"evenodd\" fill-opacity=\"1\"/>\n",
       "<polyline clip-path=\"url(#clip702)\" style=\"stroke:#000000; stroke-width:4; stroke-opacity:1; fill:none\" points=\"\n",
       "  1764.35,721.847 1764.35,1386.4 1858.71,1386.4 1858.71,721.847 1764.35,721.847 \n",
       "  \"/>\n",
       "<path clip-path=\"url(#clip702)\" d=\"\n",
       "M1858.71 1124.32 L1858.71 1386.4 L1953.06 1386.4 L1953.06 1124.32 L1858.71 1124.32 L1858.71 1124.32  Z\n",
       "  \" fill=\"#009af9\" fill-rule=\"evenodd\" fill-opacity=\"1\"/>\n",
       "<polyline clip-path=\"url(#clip702)\" style=\"stroke:#000000; stroke-width:4; stroke-opacity:1; fill:none\" points=\"\n",
       "  1858.71,1124.32 1858.71,1386.4 1953.06,1386.4 1953.06,1124.32 1858.71,1124.32 \n",
       "  \"/>\n",
       "<path clip-path=\"url(#clip702)\" d=\"\n",
       "M1953.06 1302.16 L1953.06 1386.4 L2047.42 1386.4 L2047.42 1302.16 L1953.06 1302.16 L1953.06 1302.16  Z\n",
       "  \" fill=\"#009af9\" fill-rule=\"evenodd\" fill-opacity=\"1\"/>\n",
       "<polyline clip-path=\"url(#clip702)\" style=\"stroke:#000000; stroke-width:4; stroke-opacity:1; fill:none\" points=\"\n",
       "  1953.06,1302.16 1953.06,1386.4 2047.42,1386.4 2047.42,1302.16 1953.06,1302.16 \n",
       "  \"/>\n",
       "<path clip-path=\"url(#clip702)\" d=\"\n",
       "M2047.42 1311.52 L2047.42 1386.4 L2141.78 1386.4 L2141.78 1311.52 L2047.42 1311.52 L2047.42 1311.52  Z\n",
       "  \" fill=\"#009af9\" fill-rule=\"evenodd\" fill-opacity=\"1\"/>\n",
       "<polyline clip-path=\"url(#clip702)\" style=\"stroke:#000000; stroke-width:4; stroke-opacity:1; fill:none\" points=\"\n",
       "  2047.42,1311.52 2047.42,1386.4 2141.78,1386.4 2141.78,1311.52 2047.42,1311.52 \n",
       "  \"/>\n",
       "<path clip-path=\"url(#clip702)\" d=\"\n",
       "M2141.78 1348.96 L2141.78 1386.4 L2236.13 1386.4 L2236.13 1348.96 L2141.78 1348.96 L2141.78 1348.96  Z\n",
       "  \" fill=\"#009af9\" fill-rule=\"evenodd\" fill-opacity=\"1\"/>\n",
       "<polyline clip-path=\"url(#clip702)\" style=\"stroke:#000000; stroke-width:4; stroke-opacity:1; fill:none\" points=\"\n",
       "  2141.78,1348.96 2141.78,1386.4 2236.13,1386.4 2236.13,1348.96 2141.78,1348.96 \n",
       "  \"/>\n",
       "</svg>\n"
      ]
     },
     "execution_count": 105,
     "metadata": {},
     "output_type": "execute_result"
    }
   ],
   "source": [
    "histogram(\n",
    "    p[\"w[1]\"].data,\n",
    "    xlabel=\"postpred_2\",\n",
    "    ylabel=\"Frequency\",\n",
    "    title=\"Histogram of postpred_2\",\n",
    "    legend=false    \n",
    ")"
   ]
  },
  {
   "cell_type": "markdown",
   "id": "grand-birthday",
   "metadata": {},
   "source": [
    "## Indicator Variables\n",
    "\n",
    "### Predict weight (in pounds) from height (in inches)\n"
   ]
  },
  {
   "cell_type": "code",
   "execution_count": 106,
   "id": "funky-information",
   "metadata": {},
   "outputs": [
    {
     "name": "stdout",
     "output_type": "stream",
     "text": [
      "Predicted weight for a 66-inch-tall person is 153.4 pounds with a sd of 29.0\n"
     ]
    }
   ],
   "source": [
    "println(\n",
    "    string(\"Predicted weight for a 66-inch-tall person is \", predicted_1 |> x->round(x, digits=1), \n",
    "        \" pounds with a sd of \", coefs_1.σ |> mean |> round \n",
    "        )\n",
    ")"
   ]
  },
  {
   "cell_type": "code",
   "execution_count": 113,
   "id": "retired-rogers",
   "metadata": {},
   "outputs": [
    {
     "name": "stdout",
     "output_type": "stream",
     "text": [
      "Entries lost: 27\n"
     ]
    }
   ],
   "source": [
    "height_weight_male = earnings[!,[:height, :weight, :male]]\n",
    "hwm_complete= dropmissing(height_weight_male);\n",
    "hwm_complete[!,\"c_height\"] = hwm_complete.height .- MEAN_HEIGHT\n",
    "println(\"Entries lost: \", size(earnings)[1] - size(hwm_complete)[1])"
   ]
  },
  {
   "cell_type": "markdown",
   "id": "executed-bride",
   "metadata": {},
   "source": [
    "### Include a binary variable in a regression"
   ]
  },
  {
   "cell_type": "code",
   "execution_count": 115,
   "id": "tropical-supervisor",
   "metadata": {},
   "outputs": [],
   "source": [
    "@model function m2(h,m,w)\n",
    "    \n",
    "    # Variance\n",
    "    σ ~ truncated(Normal(0,100), 0, Inf)\n",
    "    \n",
    "    # Linear\n",
    "    α ~ Normal(0, 500)\n",
    "    βh ~ Normal(0, 10)\n",
    "    βm ~ Normal(0, 10)\n",
    "    \n",
    "    μ = α .+ h * βh .+ m * βm\n",
    "    w ~ MvNormal(μ, σ)\n",
    "end;"
   ]
  },
  {
   "cell_type": "code",
   "execution_count": 119,
   "id": "naval-european",
   "metadata": {},
   "outputs": [
    {
     "name": "stderr",
     "output_type": "stream",
     "text": [
      "┌ Warning: The current proposal will be rejected due to numerical error(s).\n",
      "│   isfinite.((θ, r, ℓπ, ℓκ)) = (true, false, false, false)\n",
      "└ @ AdvancedHMC C:\\Users\\tburch\\.julia\\packages\\AdvancedHMC\\MIxdK\\src\\hamiltonian.jl:47\n",
      "┌ Warning: The current proposal will be rejected due to numerical error(s).\n",
      "│   isfinite.((θ, r, ℓπ, ℓκ)) = (true, false, false, false)\n",
      "└ @ AdvancedHMC C:\\Users\\tburch\\.julia\\packages\\AdvancedHMC\\MIxdK\\src\\hamiltonian.jl:47\n",
      "┌ Warning: The current proposal will be rejected due to numerical error(s).\n",
      "│   isfinite.((θ, r, ℓπ, ℓκ)) = (true, false, false, false)\n",
      "└ @ AdvancedHMC C:\\Users\\tburch\\.julia\\packages\\AdvancedHMC\\MIxdK\\src\\hamiltonian.jl:47\n",
      "┌ Warning: The current proposal will be rejected due to numerical error(s).\n",
      "│   isfinite.((θ, r, ℓπ, ℓκ)) = (true, false, false, false)\n",
      "└ @ AdvancedHMC C:\\Users\\tburch\\.julia\\packages\\AdvancedHMC\\MIxdK\\src\\hamiltonian.jl:47\n",
      "┌ Warning: The current proposal will be rejected due to numerical error(s).\n",
      "│   isfinite.((θ, r, ℓπ, ℓκ)) = (true, false, false, false)\n",
      "└ @ AdvancedHMC C:\\Users\\tburch\\.julia\\packages\\AdvancedHMC\\MIxdK\\src\\hamiltonian.jl:47\n",
      "┌ Warning: The current proposal will be rejected due to numerical error(s).\n",
      "│   isfinite.((θ, r, ℓπ, ℓκ)) = (true, false, false, false)\n",
      "└ @ AdvancedHMC C:\\Users\\tburch\\.julia\\packages\\AdvancedHMC\\MIxdK\\src\\hamiltonian.jl:47\n",
      "┌ Warning: The current proposal will be rejected due to numerical error(s).\n",
      "│   isfinite.((θ, r, ℓπ, ℓκ)) = (true, false, false, false)\n",
      "└ @ AdvancedHMC C:\\Users\\tburch\\.julia\\packages\\AdvancedHMC\\MIxdK\\src\\hamiltonian.jl:47\n",
      "┌ Info: Found initial step size\n",
      "│   ϵ = 0.0001953125\n",
      "└ @ Turing.Inference C:\\Users\\tburch\\.julia\\packages\\Turing\\rHLGJ\\src\\inference\\hmc.jl:188\n",
      "\u001b[32mSampling: 100%|█████████████████████████████████████████| Time: 0:00:01\u001b[39m\n"
     ]
    },
    {
     "data": {
      "text/plain": [
       "Chains MCMC chain (1000×16×1 Array{Float64, 3}):\n",
       "\n",
       "Iterations        = 1:1000\n",
       "Thinning interval = 1\n",
       "Chains            = 1\n",
       "Samples per chain = 1000\n",
       "parameters        = α, βh, βm, σ\n",
       "internals         = acceptance_rate, hamiltonian_energy, hamiltonian_energy_error, is_accept, log_density, lp, max_hamiltonian_energy_error, n_steps, nom_step_size, numerical_error, step_size, tree_depth\n",
       "\n",
       "Summary Statistics\n",
       " \u001b[1m parameters \u001b[0m \u001b[1m     mean \u001b[0m \u001b[1m     std \u001b[0m \u001b[1m naive_se \u001b[0m \u001b[1m    mcse \u001b[0m \u001b[1m      ess \u001b[0m \u001b[1m    rhat \u001b[0m\n",
       " \u001b[90m     Symbol \u001b[0m \u001b[90m  Float64 \u001b[0m \u001b[90m Float64 \u001b[0m \u001b[90m  Float64 \u001b[0m \u001b[90m Float64 \u001b[0m \u001b[90m  Float64 \u001b[0m \u001b[90m Float64 \u001b[0m\n",
       "\n",
       "           α   149.7566    0.9487     0.0300    0.0520   461.9880    1.0018\n",
       "          βh     3.9389    0.2469     0.0078    0.0105   740.3642    0.9996\n",
       "          βm    11.2774    1.9020     0.0601    0.1204   491.0988    0.9999\n",
       "           σ    28.7091    0.4758     0.0150    0.0163   828.2441    0.9999\n",
       "\n",
       "Quantiles\n",
       " \u001b[1m parameters \u001b[0m \u001b[1m     2.5% \u001b[0m \u001b[1m    25.0% \u001b[0m \u001b[1m    50.0% \u001b[0m \u001b[1m    75.0% \u001b[0m \u001b[1m    97.5% \u001b[0m\n",
       " \u001b[90m     Symbol \u001b[0m \u001b[90m  Float64 \u001b[0m \u001b[90m  Float64 \u001b[0m \u001b[90m  Float64 \u001b[0m \u001b[90m  Float64 \u001b[0m \u001b[90m  Float64 \u001b[0m\n",
       "\n",
       "           α   148.0491   149.1054   149.7106   150.3687   151.7100\n",
       "          βh     3.4703     3.7772     3.9342     4.1016     4.4345\n",
       "          βm     7.5544     9.9730    11.3028    12.6294    14.8825\n",
       "           σ    27.7840    28.3801    28.6908    29.0321    29.6698\n"
      ]
     },
     "execution_count": 119,
     "metadata": {},
     "output_type": "execute_result"
    }
   ],
   "source": [
    "model3 = m2(hwm_complete.c_height, hwm_complete.male, hwm_complete.weight)\n",
    "chain3 = sample(model3, NUTS(), 1000)"
   ]
  },
  {
   "cell_type": "code",
   "execution_count": 129,
   "id": "angry-assist",
   "metadata": {},
   "outputs": [
    {
     "data": {
      "text/plain": [
       "Chains MCMC chain (1000×1×1 Array{Float64, 3}):\n",
       "\n",
       "Iterations        = 1:1000\n",
       "Thinning interval = 1\n",
       "Chains            = 1\n",
       "Samples per chain = 1000\n",
       "parameters        = w[1]\n",
       "internals         = \n",
       "\n",
       "Summary Statistics\n",
       " \u001b[1m parameters \u001b[0m \u001b[1m     mean \u001b[0m \u001b[1m     std \u001b[0m \u001b[1m naive_se \u001b[0m \u001b[1m    mcse \u001b[0m \u001b[1m       ess \u001b[0m \u001b[1m    rhat \u001b[0m\n",
       " \u001b[90m     Symbol \u001b[0m \u001b[90m  Float64 \u001b[0m \u001b[90m Float64 \u001b[0m \u001b[90m  Float64 \u001b[0m \u001b[90m Float64 \u001b[0m \u001b[90m   Float64 \u001b[0m \u001b[90m Float64 \u001b[0m\n",
       "\n",
       "        w[1]   164.6911   28.1830     0.8912    0.8750   1018.8557    1.0030\n",
       "\n",
       "Quantiles\n",
       " \u001b[1m parameters \u001b[0m \u001b[1m     2.5% \u001b[0m \u001b[1m    25.0% \u001b[0m \u001b[1m    50.0% \u001b[0m \u001b[1m    75.0% \u001b[0m \u001b[1m    97.5% \u001b[0m\n",
       " \u001b[90m     Symbol \u001b[0m \u001b[90m  Float64 \u001b[0m \u001b[90m  Float64 \u001b[0m \u001b[90m  Float64 \u001b[0m \u001b[90m  Float64 \u001b[0m \u001b[90m  Float64 \u001b[0m\n",
       "\n",
       "        w[1]   109.8452   146.0677   163.5305   184.4494   218.0717\n"
      ]
     },
     "execution_count": 129,
     "metadata": {},
     "output_type": "execute_result"
    }
   ],
   "source": [
    "mpred2 = m2([4], [0], missing);\n",
    "p2=predict(mpred2, chain3)"
   ]
  },
  {
   "cell_type": "code",
   "execution_count": 131,
   "id": "above-discretion",
   "metadata": {},
   "outputs": [
    {
     "name": "stdout",
     "output_type": "stream",
     "text": [
      "Predicted weight for a 70-inch-tall female is 165.0 pounds with a sd of 28.0\n"
     ]
    }
   ],
   "source": [
    "println(\n",
    "    string(\"Predicted weight for a 70-inch-tall female is \", p2[\"w[1]\"].data |> mean |> round, \n",
    "        \" pounds with a sd of \",  p2[\"w[1]\"].data |> std |> round\n",
    "        )\n",
    ")"
   ]
  },
  {
   "cell_type": "markdown",
   "id": "sixth-bride",
   "metadata": {},
   "source": [
    "### Using indicator variables for multiple levels of a categorical predictor\n",
    "\n",
    "Include ethnicity in the regression as a factor"
   ]
  },
  {
   "cell_type": "code",
   "execution_count": null,
   "id": "partial-rochester",
   "metadata": {},
   "outputs": [],
   "source": [
    "@model function m3(h,m,e,w)\n",
    "    \n",
    "    # Variance\n",
    "    σ ~ truncated(Normal(0,100), 0, Inf)\n",
    "    \n",
    "    # Linear\n",
    "    α ~ Normal(0, 500)\n",
    "    βh ~ Normal(0, 10)\n",
    "    βm ~ Normal(0, 10)\n",
    "    βe ~ Normal(0, 10, )\n",
    "    \n",
    "    μ = α .+ h * βh .+ m * βm\n",
    "    w ~ MvNormal(μ, σ)\n",
    "end;"
   ]
  },
  {
   "cell_type": "code",
   "execution_count": 134,
   "id": "surgical-uruguay",
   "metadata": {},
   "outputs": [
    {
     "name": "stdout",
     "output_type": "stream",
     "text": [
      "Entries lost: 0\n"
     ]
    }
   ],
   "source": [
    "height_weight_male_eth = earnings[!,[:height, :weight, :male, :ethnicity]]\n",
    "hwme_complete= dropmissing(height_weight_male_eth);\n",
    "hwme_complete[!,\"c_height\"] = hwme_complete.height .- MEAN_HEIGHT\n",
    "println(\"Entries lost: \", size(earnings)[1] - size(height_weight_male_eth)[1])"
   ]
  },
  {
   "cell_type": "code",
   "execution_count": null,
   "id": "floral-synthesis",
   "metadata": {},
   "outputs": [],
   "source": []
  }
 ],
 "metadata": {
  "kernelspec": {
   "display_name": "Julia 1.6.0",
   "language": "julia",
   "name": "julia-1.6"
  },
  "language_info": {
   "file_extension": ".jl",
   "mimetype": "application/julia",
   "name": "julia",
   "version": "1.6.0"
  }
 },
 "nbformat": 4,
 "nbformat_minor": 5
}
