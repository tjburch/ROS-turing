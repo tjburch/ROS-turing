{
 "cells": [
  {
   "cell_type": "markdown",
   "id": "5373c0fa-45f0-4709-a663-a4d578fa247b",
   "metadata": {},
   "source": [
    "# Regression and Other Stories: Bayesian $R^2$\n",
    "\n",
    "Bayesian R2. See Chapter 11 in Regression and Other Stories.\n",
    "\n",
    "See also - Andrew Gelman, Ben Goodrich, Jonah Gabry, and Aki Vehtari (2018). R-squared for Bayesian regression models. The American Statistician, 73:307-209 doi:10.1080/00031305.2018.1549100.\n",
    "\n",
    "----"
   ]
  },
  {
   "cell_type": "markdown",
   "id": "5cf1f0b6-29bb-4ec9-8ad6-bf0526bfca22",
   "metadata": {},
   "source": [
    "### Load packages"
   ]
  },
  {
   "cell_type": "code",
   "execution_count": 1,
   "id": "3b9b836f-74fe-4a8f-bc70-3d9d39cf7247",
   "metadata": {},
   "outputs": [],
   "source": [
    "using StatsPlots, MCMCChains, Turing, DataFrames, GLM"
   ]
  },
  {
   "cell_type": "markdown",
   "id": "92b252bc-48d1-4b56-b2f5-08544fab5f9a",
   "metadata": {},
   "source": [
    "### Function for Bayesian R-squared for turing models"
   ]
  },
  {
   "cell_type": "code",
   "execution_count": 2,
   "id": "ef25143e-8985-4161-84b2-d76c7cdd3962",
   "metadata": {},
   "outputs": [],
   "source": [
    "# TODO\n",
    "#function bayes_R2(fit)\n"
   ]
  },
  {
   "cell_type": "markdown",
   "id": "6d12fbf6-2ff2-4b1c-aa84-40e84eeb96aa",
   "metadata": {},
   "source": [
    "## Toy data with n=5"
   ]
  },
  {
   "cell_type": "code",
   "execution_count": 3,
   "id": "a7be2f05-f78e-48ee-b37c-e235d123aca7",
   "metadata": {},
   "outputs": [],
   "source": [
    "x = Array(1:5) .- 3\n",
    "y = [1.7, 2.6, 2.5, 4.4, 3.8] .- 3\n",
    "xy = DataFrame(Dict(\"x\"=>x,\"y\"=>y));"
   ]
  },
  {
   "cell_type": "markdown",
   "id": "cb4a334c-ab69-41ca-8d04-9e090834852f",
   "metadata": {},
   "source": [
    "### Lsq fit"
   ]
  },
  {
   "cell_type": "code",
   "execution_count": 4,
   "id": "2ed2ce34-0887-4827-a21f-54c5b65da52a",
   "metadata": {},
   "outputs": [
    {
     "name": "stdout",
     "output_type": "stream",
     "text": [
      "0.766 0.766\n"
     ]
    }
   ],
   "source": [
    "fit = lm(@formula(y ~ x), xy)\n",
    "ols_coef = coef(fit)\n",
    "yhat = ols_coef[1] .+ ols_coef[2] * x\n",
    "r = y - yhat\n",
    "rsq_1 = var(yhat)/var(y)\n",
    "rsq_2 = var(yhat)/(var(yhat) + var(r))\n",
    "println(round(rsq_1, digits=3), \" \", round(rsq_1, digits=3))"
   ]
  },
  {
   "cell_type": "markdown",
   "id": "4772b5dc-1428-42cc-801e-9b10a92096d9",
   "metadata": {},
   "source": [
    "### Bayes fit"
   ]
  },
  {
   "cell_type": "code",
   "execution_count": 8,
   "id": "cbf4a232-970f-465e-9227-cff5e173c224",
   "metadata": {},
   "outputs": [],
   "source": [
    "@model function linear(x,y)\n",
    "    σ ~ Exponential(1)\n",
    "    α ~ Normal(0,0.2)\n",
    "    β ~ Normal(1,0.2)\n",
    "    μ = α .+ β*x\n",
    "    y ~ MvNormal(μ,σ)\n",
    "end; "
   ]
  },
  {
   "cell_type": "code",
   "execution_count": 9,
   "id": "89649b9e-ebfe-481e-90c8-a6cb0dc47192",
   "metadata": {},
   "outputs": [
    {
     "name": "stderr",
     "output_type": "stream",
     "text": [
      "┌ Info: Found initial step size\n",
      "│   ϵ = 0.05\n",
      "└ @ Turing.Inference C:\\Users\\tburch\\.julia\\packages\\Turing\\pwMQO\\src\\inference\\hmc.jl:188\n",
      "\u001b[32mSampling: 100%|█████████████████████████████████████████| Time: 0:00:00\u001b[39m\n"
     ]
    },
    {
     "data": {
      "text/plain": [
       "Summary Statistics\n",
       " \u001b[1m parameters \u001b[0m \u001b[1m    mean \u001b[0m \u001b[1m     std \u001b[0m \u001b[1m naive_se \u001b[0m \u001b[1m    mcse \u001b[0m \u001b[1m       ess \u001b[0m \u001b[1m    rhat \u001b[0m \u001b[1m \u001b[0m ⋯\n",
       " \u001b[90m     Symbol \u001b[0m \u001b[90m Float64 \u001b[0m \u001b[90m Float64 \u001b[0m \u001b[90m  Float64 \u001b[0m \u001b[90m Float64 \u001b[0m \u001b[90m   Float64 \u001b[0m \u001b[90m Float64 \u001b[0m \u001b[90m \u001b[0m ⋯\n",
       "\n",
       "           α   -0.0017    0.1664     0.0026    0.0023   4850.1634    0.9998    ⋯\n",
       "           β    0.8149    0.1579     0.0025    0.0031   2984.3672    1.0000    ⋯\n",
       "           σ    0.7316    0.2982     0.0047    0.0062   2101.1172    0.9998    ⋯\n",
       "\u001b[36m                                                                1 column omitted\u001b[0m\n"
      ]
     },
     "execution_count": 9,
     "metadata": {},
     "output_type": "execute_result"
    }
   ],
   "source": [
    "model1 = linear(xy.x, xy.y)\n",
    "fit_bayes = sample(model1, NUTS(), 4000)\n",
    "summarystats(fit_bayes)"
   ]
  },
  {
   "cell_type": "code",
   "execution_count": 21,
   "id": "eabc7c3d-0222-4ae3-9e95-a1a2a0b9e7ca",
   "metadata": {},
   "outputs": [],
   "source": [
    "posterior = get(fit_bayes, [:α, :β])\n",
    "post_means = [mean(posterior.α.data), mean(posterior.β.data)];"
   ]
  },
  {
   "cell_type": "markdown",
   "id": "43caee6a-d08d-4a14-b6ef-32fa5bbcb099",
   "metadata": {},
   "source": [
    "### Median Bayesian R^2"
   ]
  },
  {
   "cell_type": "code",
   "execution_count": null,
   "id": "988a401f-989c-4bef-bec4-ae29efa0cae8",
   "metadata": {},
   "outputs": [],
   "source": []
  }
 ],
 "metadata": {
  "kernelspec": {
   "display_name": "Julia 1.6.0",
   "language": "julia",
   "name": "julia-1.6"
  },
  "language_info": {
   "file_extension": ".jl",
   "mimetype": "application/julia",
   "name": "julia",
   "version": "1.6.0"
  }
 },
 "nbformat": 4,
 "nbformat_minor": 5
}
