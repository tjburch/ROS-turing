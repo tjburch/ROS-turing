{
 "cells": [
  {
   "cell_type": "markdown",
   "id": "5373c0fa-45f0-4709-a663-a4d578fa247b",
   "metadata": {},
   "source": [
    "# Regression and Other Stories: Bayesian $R^2$\n",
    "\n",
    "Bayesian R2. See Chapter 11 in Regression and Other Stories.\n",
    "\n",
    "See also - Andrew Gelman, Ben Goodrich, Jonah Gabry, and Aki Vehtari (2018). R-squared for Bayesian regression models. The American Statistician, 73:307-209 doi:10.1080/00031305.2018.1549100.\n",
    "\n",
    "----"
   ]
  },
  {
   "cell_type": "markdown",
   "id": "5cf1f0b6-29bb-4ec9-8ad6-bf0526bfca22",
   "metadata": {},
   "source": [
    "### Load packages"
   ]
  },
  {
   "cell_type": "code",
   "execution_count": 1,
   "id": "3b9b836f-74fe-4a8f-bc70-3d9d39cf7247",
   "metadata": {},
   "outputs": [],
   "source": [
    "using StatsPlots, MCMCChains, Turing, DataFrames, GLM"
   ]
  },
  {
   "cell_type": "markdown",
   "id": "92b252bc-48d1-4b56-b2f5-08544fab5f9a",
   "metadata": {},
   "source": [
    "### Function for Bayesian R-squared for turing models"
   ]
  },
  {
   "cell_type": "code",
   "execution_count": null,
   "id": "ef25143e-8985-4161-84b2-d76c7cdd3962",
   "metadata": {},
   "outputs": [],
   "source": [
    "# TODO\n",
    "#function bayes_R2(fit)\n"
   ]
  },
  {
   "cell_type": "markdown",
   "id": "6d12fbf6-2ff2-4b1c-aa84-40e84eeb96aa",
   "metadata": {},
   "source": [
    "## Toy data with n=5"
   ]
  },
  {
   "cell_type": "code",
   "execution_count": 6,
   "id": "a7be2f05-f78e-48ee-b37c-e235d123aca7",
   "metadata": {},
   "outputs": [],
   "source": [
    "x = Array(1:5) .- 3\n",
    "y = [1.7, 2.6, 2.5, 4.4, 3.8] .- 3\n",
    "xy = DataFrame(Dict(\"x\"=>x,\"y\"=>y));"
   ]
  },
  {
   "cell_type": "markdown",
   "id": "cb4a334c-ab69-41ca-8d04-9e090834852f",
   "metadata": {},
   "source": [
    "### Lsq fit"
   ]
  },
  {
   "cell_type": "code",
   "execution_count": 12,
   "id": "2ed2ce34-0887-4827-a21f-54c5b65da52a",
   "metadata": {},
   "outputs": [
    {
     "name": "stdout",
     "output_type": "stream",
     "text": [
      "0.766 0.766\n"
     ]
    }
   ],
   "source": [
    "fit = lm(@formula(y ~ x), xy)\n",
    "ols_coef = coef(fit)\n",
    "yhat = ols_coef[1] .+ ols_coef[2] * x\n",
    "r = y - yhat\n",
    "rsq_1 = var(yhat)/var(y)\n",
    "rsq_2 = var(yhat)/(var(yhat) + var(r))\n",
    "println(round(rsq_1, digits=3), \" \", round(rsq_1, digits=3))"
   ]
  },
  {
   "cell_type": "code",
   "execution_count": null,
   "id": "fb3970fe-d5f1-4902-b160-4e1fe8832d7c",
   "metadata": {},
   "outputs": [],
   "source": []
  }
 ],
 "metadata": {
  "kernelspec": {
   "display_name": "Julia 1.6.0",
   "language": "julia",
   "name": "julia-1.6"
  },
  "language_info": {
   "file_extension": ".jl",
   "mimetype": "application/julia",
   "name": "julia",
   "version": "1.6.0"
  }
 },
 "nbformat": 4,
 "nbformat_minor": 5
}
