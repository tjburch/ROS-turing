{
 "cells": [
  {
   "cell_type": "markdown",
   "id": "legendary-basics",
   "metadata": {},
   "source": [
    "# Regression and Other Stories: Logistic regression priors\n",
    "\n",
    "Effect of priors in logistic regression. See Chapter 13 in Regression and Other Stories.\n",
    "\n",
    "TODO: Revisit this notebook, I don't think it's working as expected\n",
    "\n",
    "-----"
   ]
  },
  {
   "cell_type": "markdown",
   "id": "casual-poster",
   "metadata": {},
   "source": [
    "## Load packages"
   ]
  },
  {
   "cell_type": "code",
   "execution_count": 1,
   "id": "square-territory",
   "metadata": {},
   "outputs": [],
   "source": [
    "using Turing, MCMCChains, GLM, Random, DataFrames\n",
    "using StatsFuns: logistic"
   ]
  },
  {
   "cell_type": "markdown",
   "id": "dominant-crazy",
   "metadata": {},
   "source": [
    "## Define a function running glm and a turing linear model with simulated data\n",
    "\n",
    "Arguments are the number of simulated observations, and prior parameters a and b"
   ]
  },
  {
   "cell_type": "code",
   "execution_count": 2,
   "id": "earlier-transparency",
   "metadata": {},
   "outputs": [],
   "source": [
    "## Turing Logistic Regression\n",
    "@model function log_reg(x, y)\n",
    "    # Linear\n",
    "    α ~ Normal(0, 1)\n",
    "    β ~ Normal(0, 1)\n",
    "    \n",
    "    μ = α .+ β * x\n",
    "    p = logistic.(μ)\n",
    "    y .~ Binomial.(1, p)\n",
    "end;\n",
    "\n",
    "# hand-rolled runif\n",
    "function runif(n, lower, upper)\n",
    "    return( rand(n) * (upper-lower) .+ lower )\n",
    "end;\n",
    "\n",
    "\n",
    "function bayes_sim(n, a=-2, b=0.8)\n",
    "    \n",
    "    println(\"Simulating with $n data points\")\n",
    "    \n",
    "    x = runif(n, -1, 1)\n",
    "    z = rand.(Logistic.( a .+ b*x ))\n",
    "    y = ifelse.(z .> 0, 1, 0)\n",
    "    \n",
    "    df = DataFrame(Dict(\n",
    "            \"y\"=>y,\n",
    "            \"x\"=>x\n",
    "            ))\n",
    "\n",
    "    glm_fit = glm(@formula(y ~ x), df, Binomial(), LogitLink());\n",
    "\n",
    "    miter = log_reg(x,y);\n",
    "    chain = sample(miter, NUTS(), 4000);\n",
    "\n",
    "    display(glm_fit);\n",
    "    \n",
    "    display(summarystats(chain));\n",
    "    \n",
    "end;"
   ]
  },
  {
   "cell_type": "markdown",
   "id": "musical-norwegian",
   "metadata": {},
   "source": [
    "## Fit models to an increasing number of observations"
   ]
  },
  {
   "cell_type": "code",
   "execution_count": 3,
   "id": "right-laugh",
   "metadata": {},
   "outputs": [],
   "source": [
    "Random.seed!(363852);"
   ]
  },
  {
   "cell_type": "code",
   "execution_count": 4,
   "id": "ordered-collar",
   "metadata": {},
   "outputs": [
    {
     "name": "stdout",
     "output_type": "stream",
     "text": [
      "Simulating with 10 data points\n"
     ]
    },
    {
     "name": "stderr",
     "output_type": "stream",
     "text": [
      "┌ Info: Found initial step size\n",
      "│   ϵ = 1.625\n",
      "└ @ Turing.Inference C:\\Users\\tburch\\.julia\\packages\\Turing\\pwMQO\\src\\inference\\hmc.jl:188\n",
      "┌ Warning: The current proposal will be rejected due to numerical error(s).\n",
      "│   isfinite.((θ, r, ℓπ, ℓκ)) = (true, false, false, false)\n",
      "└ @ AdvancedHMC C:\\Users\\tburch\\.julia\\packages\\AdvancedHMC\\MIxdK\\src\\hamiltonian.jl:47\n",
      "\u001b[32mSampling:   2%|██                                       |  ETA: 0:00:21\u001b[39m┌ Warning: The current proposal will be rejected due to numerical error(s).\n",
      "│   isfinite.((θ, r, ℓπ, ℓκ)) = (true, false, false, false)\n",
      "└ @ AdvancedHMC C:\\Users\\tburch\\.julia\\packages\\AdvancedHMC\\MIxdK\\src\\hamiltonian.jl:47\n",
      "┌ Warning: The current proposal will be rejected due to numerical error(s).\n",
      "│   isfinite.((θ, r, ℓπ, ℓκ)) = (true, false, false, false)\n",
      "└ @ AdvancedHMC C:\\Users\\tburch\\.julia\\packages\\AdvancedHMC\\MIxdK\\src\\hamiltonian.jl:47\n",
      "\u001b[32mSampling: 100%|█████████████████████████████████████████| Time: 0:00:04\u001b[39m"
     ]
    },
    {
     "data": {
      "text/plain": [
       "StatsModels.TableRegressionModel{GeneralizedLinearModel{GLM.GlmResp{Vector{Float64}, Binomial{Float64}, LogitLink}, GLM.DensePredChol{Float64, LinearAlgebra.Cholesky{Float64, Matrix{Float64}}}}, Matrix{Float64}}\n",
       "\n",
       "y ~ 1 + x\n",
       "\n",
       "Coefficients:\n",
       "─────────────────────────────────────────────────────────────────────────\n",
       "                 Coef.  Std. Error      z  Pr(>|z|)  Lower 95%  Upper 95%\n",
       "─────────────────────────────────────────────────────────────────────────\n",
       "(Intercept)  -1.29876     0.989711  -1.31    0.1894   -3.23856   0.641038\n",
       "x             0.255941    1.8106     0.14    0.8876   -3.29276   3.80464\n",
       "─────────────────────────────────────────────────────────────────────────"
      ]
     },
     "metadata": {},
     "output_type": "display_data"
    },
    {
     "data": {
      "text/plain": [
       "Summary Statistics\n",
       " \u001b[1m parameters \u001b[0m \u001b[1m    mean \u001b[0m \u001b[1m     std \u001b[0m \u001b[1m naive_se \u001b[0m \u001b[1m    mcse \u001b[0m \u001b[1m       ess \u001b[0m \u001b[1m    rhat \u001b[0m \u001b[1m \u001b[0m ⋯\n",
       " \u001b[90m     Symbol \u001b[0m \u001b[90m Float64 \u001b[0m \u001b[90m Float64 \u001b[0m \u001b[90m  Float64 \u001b[0m \u001b[90m Float64 \u001b[0m \u001b[90m   Float64 \u001b[0m \u001b[90m Float64 \u001b[0m \u001b[90m \u001b[0m ⋯\n",
       "\n",
       "           α   -0.8922    0.6286     0.0099    0.0111   3351.6120    1.0003    ⋯\n",
       "           β    0.2852    0.8433     0.0133    0.0129   3533.9382    1.0001    ⋯\n",
       "\u001b[36m                                                                1 column omitted\u001b[0m\n"
      ]
     },
     "metadata": {},
     "output_type": "display_data"
    },
    {
     "name": "stderr",
     "output_type": "stream",
     "text": [
      "\n"
     ]
    }
   ],
   "source": [
    "bayes_sim(10)"
   ]
  },
  {
   "cell_type": "code",
   "execution_count": 5,
   "id": "aboriginal-inflation",
   "metadata": {},
   "outputs": [
    {
     "name": "stdout",
     "output_type": "stream",
     "text": [
      "Simulating with 100 data points\n"
     ]
    },
    {
     "name": "stderr",
     "output_type": "stream",
     "text": [
      "┌ Info: Found initial step size\n",
      "│   ϵ = 1.6\n",
      "└ @ Turing.Inference C:\\Users\\tburch\\.julia\\packages\\Turing\\pwMQO\\src\\inference\\hmc.jl:188\n",
      "┌ Warning: The current proposal will be rejected due to numerical error(s).\n",
      "│   isfinite.((θ, r, ℓπ, ℓκ)) = (true, false, false, false)\n",
      "└ @ AdvancedHMC C:\\Users\\tburch\\.julia\\packages\\AdvancedHMC\\MIxdK\\src\\hamiltonian.jl:47\n",
      "\u001b[32mSampling:   6%|███                                      |  ETA: 0:00:02\u001b[39m┌ Warning: The current proposal will be rejected due to numerical error(s).\n",
      "│   isfinite.((θ, r, ℓπ, ℓκ)) = (true, false, false, false)\n",
      "└ @ AdvancedHMC C:\\Users\\tburch\\.julia\\packages\\AdvancedHMC\\MIxdK\\src\\hamiltonian.jl:47\n",
      "\u001b[32mSampling: 100%|█████████████████████████████████████████| Time: 0:00:02\u001b[39m\n"
     ]
    },
    {
     "data": {
      "text/plain": [
       "StatsModels.TableRegressionModel{GeneralizedLinearModel{GLM.GlmResp{Vector{Float64}, Binomial{Float64}, LogitLink}, GLM.DensePredChol{Float64, LinearAlgebra.Cholesky{Float64, Matrix{Float64}}}}, Matrix{Float64}}\n",
       "\n",
       "y ~ 1 + x\n",
       "\n",
       "Coefficients:\n",
       "────────────────────────────────────────────────────────────────────────\n",
       "                Coef.  Std. Error      z  Pr(>|z|)  Lower 95%  Upper 95%\n",
       "────────────────────────────────────────────────────────────────────────\n",
       "(Intercept)  -3.85952    0.933976  -4.13    <1e-04   -5.69008   -2.02896\n",
       "x             3.09491    1.33074    2.33    0.0200    0.48671    5.70311\n",
       "────────────────────────────────────────────────────────────────────────"
      ]
     },
     "metadata": {},
     "output_type": "display_data"
    },
    {
     "data": {
      "text/plain": [
       "Summary Statistics\n",
       " \u001b[1m parameters \u001b[0m \u001b[1m    mean \u001b[0m \u001b[1m     std \u001b[0m \u001b[1m naive_se \u001b[0m \u001b[1m    mcse \u001b[0m \u001b[1m       ess \u001b[0m \u001b[1m    rhat \u001b[0m \u001b[1m \u001b[0m ⋯\n",
       " \u001b[90m     Symbol \u001b[0m \u001b[90m Float64 \u001b[0m \u001b[90m Float64 \u001b[0m \u001b[90m  Float64 \u001b[0m \u001b[90m Float64 \u001b[0m \u001b[90m   Float64 \u001b[0m \u001b[90m Float64 \u001b[0m \u001b[90m \u001b[0m ⋯\n",
       "\n",
       "           α   -2.6111    0.3931     0.0062    0.0074   3149.4397    1.0002    ⋯\n",
       "           β    1.1980    0.5776     0.0091    0.0104   2887.2504    0.9999    ⋯\n",
       "\u001b[36m                                                                1 column omitted\u001b[0m\n"
      ]
     },
     "metadata": {},
     "output_type": "display_data"
    }
   ],
   "source": [
    "bayes_sim(100)"
   ]
  },
  {
   "cell_type": "code",
   "execution_count": 6,
   "id": "coated-shipping",
   "metadata": {},
   "outputs": [
    {
     "name": "stdout",
     "output_type": "stream",
     "text": [
      "Simulating with 1000 data points\n"
     ]
    },
    {
     "name": "stderr",
     "output_type": "stream",
     "text": [
      "┌ Info: Found initial step size\n",
      "│   ϵ = 0.2\n",
      "└ @ Turing.Inference C:\\Users\\tburch\\.julia\\packages\\Turing\\pwMQO\\src\\inference\\hmc.jl:188\n",
      "\u001b[32mSampling:   9%|████                                     |  ETA: 0:00:13\u001b[39m┌ Warning: The current proposal will be rejected due to numerical error(s).\n",
      "│   isfinite.((θ, r, ℓπ, ℓκ)) = (true, false, false, false)\n",
      "└ @ AdvancedHMC C:\\Users\\tburch\\.julia\\packages\\AdvancedHMC\\MIxdK\\src\\hamiltonian.jl:47\n",
      "┌ Warning: The current proposal will be rejected due to numerical error(s).\n",
      "│   isfinite.((θ, r, ℓπ, ℓκ)) = (true, false, false, false)\n",
      "└ @ AdvancedHMC C:\\Users\\tburch\\.julia\\packages\\AdvancedHMC\\MIxdK\\src\\hamiltonian.jl:47\n",
      "\u001b[32mSampling: 100%|█████████████████████████████████████████| Time: 0:00:13\u001b[39m\n"
     ]
    },
    {
     "data": {
      "text/plain": [
       "StatsModels.TableRegressionModel{GeneralizedLinearModel{GLM.GlmResp{Vector{Float64}, Binomial{Float64}, LogitLink}, GLM.DensePredChol{Float64, LinearAlgebra.Cholesky{Float64, Matrix{Float64}}}}, Matrix{Float64}}\n",
       "\n",
       "y ~ 1 + x\n",
       "\n",
       "Coefficients:\n",
       "──────────────────────────────────────────────────────────────────────────\n",
       "                 Coef.  Std. Error       z  Pr(>|z|)  Lower 95%  Upper 95%\n",
       "──────────────────────────────────────────────────────────────────────────\n",
       "(Intercept)  -2.04456     0.105417  -19.39    <1e-83  -2.25118    -1.83795\n",
       "x             0.993895    0.176493    5.63    <1e-07   0.647975    1.33982\n",
       "──────────────────────────────────────────────────────────────────────────"
      ]
     },
     "metadata": {},
     "output_type": "display_data"
    },
    {
     "data": {
      "text/plain": [
       "Summary Statistics\n",
       " \u001b[1m parameters \u001b[0m \u001b[1m    mean \u001b[0m \u001b[1m     std \u001b[0m \u001b[1m naive_se \u001b[0m \u001b[1m    mcse \u001b[0m \u001b[1m       ess \u001b[0m \u001b[1m    rhat \u001b[0m \u001b[1m \u001b[0m ⋯\n",
       " \u001b[90m     Symbol \u001b[0m \u001b[90m Float64 \u001b[0m \u001b[90m Float64 \u001b[0m \u001b[90m  Float64 \u001b[0m \u001b[90m Float64 \u001b[0m \u001b[90m   Float64 \u001b[0m \u001b[90m Float64 \u001b[0m \u001b[90m \u001b[0m ⋯\n",
       "\n",
       "           α   -2.0241    0.1018     0.0016    0.0019   3165.5021    1.0002    ⋯\n",
       "           β    0.9535    0.1719     0.0027    0.0028   3341.9131    0.9999    ⋯\n",
       "\u001b[36m                                                                1 column omitted\u001b[0m\n"
      ]
     },
     "metadata": {},
     "output_type": "display_data"
    }
   ],
   "source": [
    "bayes_sim(1000)"
   ]
  }
 ],
 "metadata": {
  "kernelspec": {
   "display_name": "Julia 1.6.0",
   "language": "julia",
   "name": "julia-1.6"
  },
  "language_info": {
   "file_extension": ".jl",
   "mimetype": "application/julia",
   "name": "julia",
   "version": "1.6.0"
  }
 },
 "nbformat": 4,
 "nbformat_minor": 5
}
