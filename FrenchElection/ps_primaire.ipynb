{
 "cells": [
  {
   "cell_type": "markdown",
   "id": "7a189352-3919-4d7c-be59-dccf1b933fae",
   "metadata": {},
   "source": [
    "# Regression and Other Stories: French Election\n",
    "\n",
    "French Election data.\n",
    "\n",
    "----"
   ]
  },
  {
   "cell_type": "markdown",
   "id": "6b554c98-51d5-478c-bece-a194d76042c0",
   "metadata": {},
   "source": [
    "#### Load packages"
   ]
  },
  {
   "cell_type": "code",
   "execution_count": 1,
   "id": "f855cb46-8521-4384-89b3-fd36a51ec0a9",
   "metadata": {},
   "outputs": [],
   "source": [
    "using DataFrames, CSV, HTTP"
   ]
  },
  {
   "cell_type": "markdown",
   "id": "e582e12c-5f9f-4c68-99c1-d3a849cc03f1",
   "metadata": {},
   "source": [
    "#### Load data"
   ]
  },
  {
   "cell_type": "code",
   "execution_count": 2,
   "id": "8214ad22-5f42-4fe9-ad0f-4eeebf07f521",
   "metadata": {},
   "outputs": [],
   "source": [
    "url = \"https://raw.githubusercontent.com/avehtari/ROS-Examples/master/FrenchElection/data/ps_primaire.txt\"\n",
    "ps = CSV.File(HTTP.get(url).body, delim=\" \", ignorerepeated=true, missingstring=\"NA\") |> DataFrame;"
   ]
  },
  {
   "cell_type": "markdown",
   "id": "07cefce2-145d-4412-a15f-80f461c4d0f0",
   "metadata": {},
   "source": [
    "#### Analyse"
   ]
  },
  {
   "cell_type": "code",
   "execution_count": 3,
   "id": "635bf6ef-596e-4c7c-9e89-c6685b78e442",
   "metadata": {},
   "outputs": [
    {
     "data": {
      "text/plain": [
       "8×2 Matrix{Float64}:\n",
       "  2.0  9.0\n",
       "  1.0  9.0\n",
       " -1.0  7.0\n",
       " -0.0  5.0\n",
       " -2.0  4.0\n",
       " -2.0  3.0\n",
       "  0.0  2.0\n",
       "  0.0  2.0"
      ]
     },
     "execution_count": 3,
     "metadata": {},
     "output_type": "execute_result"
    }
   ],
   "source": [
    "J = nrow(ps)\n",
    "n1 = ps[J,2]\n",
    "n2 = ps[J,3] - ps[J,2]\n",
    "p1 = ps[1:(J-1),2]./n1\n",
    "p2 = (ps[1:(J-1),3] - ps[1:(J-1),2])/n2\n",
    "p_diff = p2 - p1\n",
    "se_diff = sqrt.(p1 .* (1 .- p1)/n1 + p2 .* (1 .- p2)/n2)\n",
    "round.(hcat(p_diff, se_diff) .* 10_000)"
   ]
  },
  {
   "cell_type": "code",
   "execution_count": 4,
   "id": "e46a0923-07db-4d4b-b7fa-b4dac8b740a6",
   "metadata": {},
   "outputs": [
    {
     "data": {
      "text/plain": [
       "8×2 Matrix{Float64}:\n",
       "     1.27894e5  127973.0\n",
       "     1.09461e5  109511.0\n",
       " 61655.2         61634.0\n",
       " 24104.6         24103.0\n",
       " 13667.3         13603.0\n",
       "  6945.35         6885.0\n",
       "  3551.68         3563.0\n",
       "  4573.05         4580.0"
      ]
     },
     "execution_count": 4,
     "metadata": {},
     "output_type": "execute_result"
    }
   ],
   "source": [
    "hcat(p1*n2, p2*n2)"
   ]
  }
 ],
 "metadata": {
  "kernelspec": {
   "display_name": "Julia 1.6.0",
   "language": "julia",
   "name": "julia-1.6"
  },
  "language_info": {
   "file_extension": ".jl",
   "mimetype": "application/julia",
   "name": "julia",
   "version": "1.6.0"
  }
 },
 "nbformat": 4,
 "nbformat_minor": 5
}
