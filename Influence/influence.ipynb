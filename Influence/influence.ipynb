{
 "cells": [
  {
   "cell_type": "markdown",
   "id": "nonprofit-olive",
   "metadata": {},
   "source": [
    "# Regression and Other Stories: Influence\n",
    "\n",
    "Plot influence of individual points in a fitted regression. See Chapter 8 in Regression and Other Stories.\n",
    "\n",
    "-----"
   ]
  },
  {
   "cell_type": "markdown",
   "id": "brief-frequency",
   "metadata": {},
   "source": [
    "## Load Packages"
   ]
  },
  {
   "cell_type": "code",
   "execution_count": 1,
   "id": "aging-humanitarian",
   "metadata": {},
   "outputs": [
    {
     "name": "stderr",
     "output_type": "stream",
     "text": [
      "┌ Info: Precompiling GLM [38e38edf-8417-5370-95a0-9cbb8c7f171a]\n",
      "└ @ Base loading.jl:1317\n"
     ]
    }
   ],
   "source": [
    "using GLM, Distributions, Random, DataFrames, StatsPlots, Plots"
   ]
  },
  {
   "cell_type": "markdown",
   "id": "delayed-spanish",
   "metadata": {},
   "source": [
    "## Fake data"
   ]
  },
  {
   "cell_type": "code",
   "execution_count": 2,
   "id": "loving-appliance",
   "metadata": {},
   "outputs": [],
   "source": [
    "x = Array(2:1:12)\n",
    "n = length(x)\n",
    "a = 1\n",
    "b = 2\n",
    "sigma = 5\n",
    "y = rand.(Normal.(a .+ b*x, sigma))\n",
    "df = DataFrame(Dict(\n",
    "        \"y\"=>y,\n",
    "        \"x\"=>x\n",
    "        )) \n",
    "least_squares_fit = lm(@formula(y ~ x), df)\n",
    "a_hat = coef(least_squares_fit)[1]\n",
    "b_hat = coef(least_squares_fit)[2];"
   ]
  },
  {
   "cell_type": "markdown",
   "id": "exceptional-essence",
   "metadata": {},
   "source": [
    "## Plot histogram of the data"
   ]
  },
  {
   "cell_type": "code",
   "execution_count": 3,
   "id": "increasing-cream",
   "metadata": {},
   "outputs": [
    {
     "data": {
      "image/svg+xml": [
       "<?xml version=\"1.0\" encoding=\"utf-8\"?>\n",
       "<svg xmlns=\"http://www.w3.org/2000/svg\" xmlns:xlink=\"http://www.w3.org/1999/xlink\" width=\"600\" height=\"400\" viewBox=\"0 0 2400 1600\">\n",
       "<defs>\n",
       "  <clipPath id=\"clip180\">\n",
       "    <rect x=\"0\" y=\"0\" width=\"2400\" height=\"1600\"/>\n",
       "  </clipPath>\n",
       "</defs>\n",
       "<path clip-path=\"url(#clip180)\" d=\"\n",
       "M0 1600 L2400 1600 L2400 0 L0 0  Z\n",
       "  \" fill=\"#ffffff\" fill-rule=\"evenodd\" fill-opacity=\"1\"/>\n",
       "<defs>\n",
       "  <clipPath id=\"clip181\">\n",
       "    <rect x=\"480\" y=\"0\" width=\"1681\" height=\"1600\"/>\n",
       "  </clipPath>\n",
       "</defs>\n",
       "<path clip-path=\"url(#clip180)\" d=\"\n",
       "M203.964 1423.18 L2352.76 1423.18 L2352.76 47.2441 L203.964 47.2441  Z\n",
       "  \" fill=\"#ffffff\" fill-rule=\"evenodd\" fill-opacity=\"1\"/>\n",
       "<defs>\n",
       "  <clipPath id=\"clip182\">\n",
       "    <rect x=\"203\" y=\"47\" width=\"2150\" height=\"1377\"/>\n",
       "  </clipPath>\n",
       "</defs>\n",
       "<polyline clip-path=\"url(#clip180)\" style=\"stroke:#000000; stroke-linecap:butt; stroke-linejoin:round; stroke-width:4; stroke-opacity:1; fill:none\" points=\"\n",
       "  203.964,1423.18 2352.76,1423.18 \n",
       "  \"/>\n",
       "<polyline clip-path=\"url(#clip180)\" style=\"stroke:#000000; stroke-linecap:butt; stroke-linejoin:round; stroke-width:4; stroke-opacity:1; fill:none\" points=\"\n",
       "  399.308,1423.18 399.308,1406.67 \n",
       "  \"/>\n",
       "<polyline clip-path=\"url(#clip180)\" style=\"stroke:#000000; stroke-linecap:butt; stroke-linejoin:round; stroke-width:4; stroke-opacity:1; fill:none\" points=\"\n",
       "  887.67,1423.18 887.67,1406.67 \n",
       "  \"/>\n",
       "<polyline clip-path=\"url(#clip180)\" style=\"stroke:#000000; stroke-linecap:butt; stroke-linejoin:round; stroke-width:4; stroke-opacity:1; fill:none\" points=\"\n",
       "  1376.03,1423.18 1376.03,1406.67 \n",
       "  \"/>\n",
       "<polyline clip-path=\"url(#clip180)\" style=\"stroke:#000000; stroke-linecap:butt; stroke-linejoin:round; stroke-width:4; stroke-opacity:1; fill:none\" points=\"\n",
       "  1864.39,1423.18 1864.39,1406.67 \n",
       "  \"/>\n",
       "<polyline clip-path=\"url(#clip180)\" style=\"stroke:#000000; stroke-linecap:butt; stroke-linejoin:round; stroke-width:4; stroke-opacity:1; fill:none\" points=\"\n",
       "  2352.76,1423.18 2352.76,1406.67 \n",
       "  \"/>\n",
       "<path clip-path=\"url(#clip180)\" d=\"M371.045 1479.92 L387.364 1479.92 L387.364 1483.85 L365.42 1483.85 L365.42 1479.92 Q368.082 1477.16 372.665 1472.53 Q377.271 1467.88 378.452 1466.54 Q380.697 1464.01 381.577 1462.28 Q382.48 1460.52 382.48 1458.83 Q382.48 1456.07 380.535 1454.34 Q378.614 1452.6 375.512 1452.6 Q373.313 1452.6 370.859 1453.37 Q368.429 1454.13 365.651 1455.68 L365.651 1450.96 Q368.475 1449.82 370.929 1449.25 Q373.383 1448.67 375.42 1448.67 Q380.79 1448.67 383.984 1451.35 Q387.179 1454.04 387.179 1458.53 Q387.179 1460.66 386.369 1462.58 Q385.582 1464.48 383.475 1467.07 Q382.896 1467.74 379.795 1470.96 Q376.693 1474.15 371.045 1479.92 Z\" fill=\"#000000\" fill-rule=\"evenodd\" fill-opacity=\"1\" /><path clip-path=\"url(#clip180)\" d=\"M397.179 1477.97 L402.063 1477.97 L402.063 1483.85 L397.179 1483.85 L397.179 1477.97 Z\" fill=\"#000000\" fill-rule=\"evenodd\" fill-opacity=\"1\" /><path clip-path=\"url(#clip180)\" d=\"M412.294 1449.29 L430.651 1449.29 L430.651 1453.23 L416.577 1453.23 L416.577 1461.7 Q417.595 1461.35 418.614 1461.19 Q419.632 1461 420.651 1461 Q426.438 1461 429.817 1464.18 Q433.197 1467.35 433.197 1472.76 Q433.197 1478.34 429.725 1481.44 Q426.253 1484.52 419.933 1484.52 Q417.757 1484.52 415.489 1484.15 Q413.243 1483.78 410.836 1483.04 L410.836 1478.34 Q412.919 1479.48 415.142 1480.03 Q417.364 1480.59 419.841 1480.59 Q423.845 1480.59 426.183 1478.48 Q428.521 1476.38 428.521 1472.76 Q428.521 1469.15 426.183 1467.05 Q423.845 1464.94 419.841 1464.94 Q417.966 1464.94 416.091 1465.36 Q414.239 1465.77 412.294 1466.65 L412.294 1449.29 Z\" fill=\"#000000\" fill-rule=\"evenodd\" fill-opacity=\"1\" /><path clip-path=\"url(#clip180)\" d=\"M854.835 1449.29 L873.191 1449.29 L873.191 1453.23 L859.117 1453.23 L859.117 1461.7 Q860.136 1461.35 861.154 1461.19 Q862.173 1461 863.191 1461 Q868.978 1461 872.358 1464.18 Q875.737 1467.35 875.737 1472.76 Q875.737 1478.34 872.265 1481.44 Q868.793 1484.52 862.474 1484.52 Q860.298 1484.52 858.029 1484.15 Q855.784 1483.78 853.376 1483.04 L853.376 1478.34 Q855.46 1479.48 857.682 1480.03 Q859.904 1480.59 862.381 1480.59 Q866.386 1480.59 868.724 1478.48 Q871.062 1476.38 871.062 1472.76 Q871.062 1469.15 868.724 1467.05 Q866.386 1464.94 862.381 1464.94 Q860.506 1464.94 858.631 1465.36 Q856.779 1465.77 854.835 1466.65 L854.835 1449.29 Z\" fill=\"#000000\" fill-rule=\"evenodd\" fill-opacity=\"1\" /><path clip-path=\"url(#clip180)\" d=\"M884.95 1477.97 L889.835 1477.97 L889.835 1483.85 L884.95 1483.85 L884.95 1477.97 Z\" fill=\"#000000\" fill-rule=\"evenodd\" fill-opacity=\"1\" /><path clip-path=\"url(#clip180)\" d=\"M910.02 1452.37 Q906.409 1452.37 904.58 1455.94 Q902.774 1459.48 902.774 1466.61 Q902.774 1473.71 904.58 1477.28 Q906.409 1480.82 910.02 1480.82 Q913.654 1480.82 915.459 1477.28 Q917.288 1473.71 917.288 1466.61 Q917.288 1459.48 915.459 1455.94 Q913.654 1452.37 910.02 1452.37 M910.02 1448.67 Q915.83 1448.67 918.885 1453.27 Q921.964 1457.86 921.964 1466.61 Q921.964 1475.33 918.885 1479.94 Q915.83 1484.52 910.02 1484.52 Q904.209 1484.52 901.131 1479.94 Q898.075 1475.33 898.075 1466.61 Q898.075 1457.86 901.131 1453.27 Q904.209 1448.67 910.02 1448.67 Z\" fill=\"#000000\" fill-rule=\"evenodd\" fill-opacity=\"1\" /><path clip-path=\"url(#clip180)\" d=\"M1342.35 1449.29 L1364.57 1449.29 L1364.57 1451.28 L1352.03 1483.85 L1347.14 1483.85 L1358.95 1453.23 L1342.35 1453.23 L1342.35 1449.29 Z\" fill=\"#000000\" fill-rule=\"evenodd\" fill-opacity=\"1\" /><path clip-path=\"url(#clip180)\" d=\"M1373.69 1477.97 L1378.58 1477.97 L1378.58 1483.85 L1373.69 1483.85 L1373.69 1477.97 Z\" fill=\"#000000\" fill-rule=\"evenodd\" fill-opacity=\"1\" /><path clip-path=\"url(#clip180)\" d=\"M1388.81 1449.29 L1407.17 1449.29 L1407.17 1453.23 L1393.09 1453.23 L1393.09 1461.7 Q1394.11 1461.35 1395.13 1461.19 Q1396.15 1461 1397.17 1461 Q1402.95 1461 1406.33 1464.18 Q1409.71 1467.35 1409.71 1472.76 Q1409.71 1478.34 1406.24 1481.44 Q1402.77 1484.52 1396.45 1484.52 Q1394.27 1484.52 1392 1484.15 Q1389.76 1483.78 1387.35 1483.04 L1387.35 1478.34 Q1389.43 1479.48 1391.66 1480.03 Q1393.88 1480.59 1396.36 1480.59 Q1400.36 1480.59 1402.7 1478.48 Q1405.04 1476.38 1405.04 1472.76 Q1405.04 1469.15 1402.7 1467.05 Q1400.36 1464.94 1396.36 1464.94 Q1394.48 1464.94 1392.61 1465.36 Q1390.75 1465.77 1388.81 1466.65 L1388.81 1449.29 Z\" fill=\"#000000\" fill-rule=\"evenodd\" fill-opacity=\"1\" /><path clip-path=\"url(#clip180)\" d=\"M1816.47 1479.92 L1824.1 1479.92 L1824.1 1453.55 L1815.79 1455.22 L1815.79 1450.96 L1824.06 1449.29 L1828.73 1449.29 L1828.73 1479.92 L1836.37 1479.92 L1836.37 1483.85 L1816.47 1483.85 L1816.47 1479.92 Z\" fill=\"#000000\" fill-rule=\"evenodd\" fill-opacity=\"1\" /><path clip-path=\"url(#clip180)\" d=\"M1855.82 1452.37 Q1852.21 1452.37 1850.38 1455.94 Q1848.57 1459.48 1848.57 1466.61 Q1848.57 1473.71 1850.38 1477.28 Q1852.21 1480.82 1855.82 1480.82 Q1859.45 1480.82 1861.26 1477.28 Q1863.09 1473.71 1863.09 1466.61 Q1863.09 1459.48 1861.26 1455.94 Q1859.45 1452.37 1855.82 1452.37 M1855.82 1448.67 Q1861.63 1448.67 1864.68 1453.27 Q1867.76 1457.86 1867.76 1466.61 Q1867.76 1475.33 1864.68 1479.94 Q1861.63 1484.52 1855.82 1484.52 Q1850.01 1484.52 1846.93 1479.94 Q1843.87 1475.33 1843.87 1466.61 Q1843.87 1457.86 1846.93 1453.27 Q1850.01 1448.67 1855.82 1448.67 Z\" fill=\"#000000\" fill-rule=\"evenodd\" fill-opacity=\"1\" /><path clip-path=\"url(#clip180)\" d=\"M1875.98 1477.97 L1880.86 1477.97 L1880.86 1483.85 L1875.98 1483.85 L1875.98 1477.97 Z\" fill=\"#000000\" fill-rule=\"evenodd\" fill-opacity=\"1\" /><path clip-path=\"url(#clip180)\" d=\"M1901.05 1452.37 Q1897.44 1452.37 1895.61 1455.94 Q1893.8 1459.48 1893.8 1466.61 Q1893.8 1473.71 1895.61 1477.28 Q1897.44 1480.82 1901.05 1480.82 Q1904.68 1480.82 1906.49 1477.28 Q1908.32 1473.71 1908.32 1466.61 Q1908.32 1459.48 1906.49 1455.94 Q1904.68 1452.37 1901.05 1452.37 M1901.05 1448.67 Q1906.86 1448.67 1909.91 1453.27 Q1912.99 1457.86 1912.99 1466.61 Q1912.99 1475.33 1909.91 1479.94 Q1906.86 1484.52 1901.05 1484.52 Q1895.24 1484.52 1892.16 1479.94 Q1889.1 1475.33 1889.1 1466.61 Q1889.1 1457.86 1892.16 1453.27 Q1895.24 1448.67 1901.05 1448.67 Z\" fill=\"#000000\" fill-rule=\"evenodd\" fill-opacity=\"1\" /><path clip-path=\"url(#clip180)\" d=\"M2305.33 1479.92 L2312.96 1479.92 L2312.96 1453.55 L2304.65 1455.22 L2304.65 1450.96 L2312.92 1449.29 L2317.59 1449.29 L2317.59 1479.92 L2325.23 1479.92 L2325.23 1483.85 L2305.33 1483.85 L2305.33 1479.92 Z\" fill=\"#000000\" fill-rule=\"evenodd\" fill-opacity=\"1\" /><path clip-path=\"url(#clip180)\" d=\"M2338.71 1479.92 L2355.02 1479.92 L2355.02 1483.85 L2333.08 1483.85 L2333.08 1479.92 Q2335.74 1477.16 2340.33 1472.53 Q2344.93 1467.88 2346.11 1466.54 Q2348.36 1464.01 2349.24 1462.28 Q2350.14 1460.52 2350.14 1458.83 Q2350.14 1456.07 2348.2 1454.34 Q2346.27 1452.6 2343.17 1452.6 Q2340.97 1452.6 2338.52 1453.37 Q2336.09 1454.13 2333.31 1455.68 L2333.31 1450.96 Q2336.14 1449.82 2338.59 1449.25 Q2341.04 1448.67 2343.08 1448.67 Q2348.45 1448.67 2351.64 1451.35 Q2354.84 1454.04 2354.84 1458.53 Q2354.84 1460.66 2354.03 1462.58 Q2353.24 1464.48 2351.14 1467.07 Q2350.56 1467.74 2347.46 1470.96 Q2344.35 1474.15 2338.71 1479.92 Z\" fill=\"#000000\" fill-rule=\"evenodd\" fill-opacity=\"1\" /><path clip-path=\"url(#clip180)\" d=\"M2364.84 1477.97 L2369.72 1477.97 L2369.72 1483.85 L2364.84 1483.85 L2364.84 1477.97 Z\" fill=\"#000000\" fill-rule=\"evenodd\" fill-opacity=\"1\" /><path clip-path=\"url(#clip180)\" d=\"M2379.95 1449.29 L2398.31 1449.29 L2398.31 1453.23 L2384.24 1453.23 L2384.24 1461.7 Q2385.26 1461.35 2386.27 1461.19 Q2387.29 1461 2388.31 1461 Q2394.1 1461 2397.48 1464.18 Q2400.86 1467.35 2400.86 1472.76 Q2400.86 1478.34 2397.39 1481.44 Q2393.91 1484.52 2387.59 1484.52 Q2385.42 1484.52 2383.15 1484.15 Q2380.9 1483.78 2378.5 1483.04 L2378.5 1478.34 Q2380.58 1479.48 2382.8 1480.03 Q2385.02 1480.59 2387.5 1480.59 Q2391.51 1480.59 2393.84 1478.48 Q2396.18 1476.38 2396.18 1472.76 Q2396.18 1469.15 2393.84 1467.05 Q2391.51 1464.94 2387.5 1464.94 Q2385.63 1464.94 2383.75 1465.36 Q2381.9 1465.77 2379.95 1466.65 L2379.95 1449.29 Z\" fill=\"#000000\" fill-rule=\"evenodd\" fill-opacity=\"1\" /><path clip-path=\"url(#clip180)\" d=\"M1294.97 1532.4 L1282.08 1549.74 L1295.64 1568.04 L1288.74 1568.04 L1278.36 1554.04 L1267.98 1568.04 L1261.08 1568.04 L1274.92 1549.39 L1262.25 1532.4 L1269.16 1532.4 L1278.61 1545.1 L1288.07 1532.4 L1294.97 1532.4 Z\" fill=\"#000000\" fill-rule=\"evenodd\" fill-opacity=\"1\" /><polyline clip-path=\"url(#clip180)\" style=\"stroke:#000000; stroke-linecap:butt; stroke-linejoin:round; stroke-width:4; stroke-opacity:1; fill:none\" points=\"\n",
       "  203.964,1423.18 203.964,47.2441 \n",
       "  \"/>\n",
       "<polyline clip-path=\"url(#clip180)\" style=\"stroke:#000000; stroke-linecap:butt; stroke-linejoin:round; stroke-width:4; stroke-opacity:1; fill:none\" points=\"\n",
       "  203.964,1270.54 229.749,1270.54 \n",
       "  \"/>\n",
       "<polyline clip-path=\"url(#clip180)\" style=\"stroke:#000000; stroke-linecap:butt; stroke-linejoin:round; stroke-width:4; stroke-opacity:1; fill:none\" points=\"\n",
       "  203.964,871.433 229.749,871.433 \n",
       "  \"/>\n",
       "<polyline clip-path=\"url(#clip180)\" style=\"stroke:#000000; stroke-linecap:butt; stroke-linejoin:round; stroke-width:4; stroke-opacity:1; fill:none\" points=\"\n",
       "  203.964,472.321 229.749,472.321 \n",
       "  \"/>\n",
       "<polyline clip-path=\"url(#clip180)\" style=\"stroke:#000000; stroke-linecap:butt; stroke-linejoin:round; stroke-width:4; stroke-opacity:1; fill:none\" points=\"\n",
       "  203.964,73.2093 229.749,73.2093 \n",
       "  \"/>\n",
       "<path clip-path=\"url(#clip180)\" d=\"M156.019 1256.34 Q152.408 1256.34 150.579 1259.91 Q148.774 1263.45 148.774 1270.58 Q148.774 1277.69 150.579 1281.25 Q152.408 1284.79 156.019 1284.79 Q159.653 1284.79 161.459 1281.25 Q163.288 1277.69 163.288 1270.58 Q163.288 1263.45 161.459 1259.91 Q159.653 1256.34 156.019 1256.34 M156.019 1252.64 Q161.829 1252.64 164.885 1257.25 Q167.964 1261.83 167.964 1270.58 Q167.964 1279.31 164.885 1283.91 Q161.829 1288.5 156.019 1288.5 Q150.209 1288.5 147.13 1283.91 Q144.075 1279.31 144.075 1270.58 Q144.075 1261.83 147.13 1257.25 Q150.209 1252.64 156.019 1252.64 Z\" fill=\"#000000\" fill-rule=\"evenodd\" fill-opacity=\"1\" /><path clip-path=\"url(#clip180)\" d=\"M116.668 884.777 L124.306 884.777 L124.306 858.412 L115.996 860.078 L115.996 855.819 L124.26 854.153 L128.936 854.153 L128.936 884.777 L136.575 884.777 L136.575 888.713 L116.668 888.713 L116.668 884.777 Z\" fill=\"#000000\" fill-rule=\"evenodd\" fill-opacity=\"1\" /><path clip-path=\"url(#clip180)\" d=\"M156.019 857.231 Q152.408 857.231 150.579 860.796 Q148.774 864.338 148.774 871.467 Q148.774 878.574 150.579 882.138 Q152.408 885.68 156.019 885.68 Q159.653 885.68 161.459 882.138 Q163.288 878.574 163.288 871.467 Q163.288 864.338 161.459 860.796 Q159.653 857.231 156.019 857.231 M156.019 853.528 Q161.829 853.528 164.885 858.134 Q167.964 862.717 167.964 871.467 Q167.964 880.194 164.885 884.801 Q161.829 889.384 156.019 889.384 Q150.209 889.384 147.13 884.801 Q144.075 880.194 144.075 871.467 Q144.075 862.717 147.13 858.134 Q150.209 853.528 156.019 853.528 Z\" fill=\"#000000\" fill-rule=\"evenodd\" fill-opacity=\"1\" /><path clip-path=\"url(#clip180)\" d=\"M119.885 485.666 L136.204 485.666 L136.204 489.601 L114.26 489.601 L114.26 485.666 Q116.922 482.911 121.505 478.282 Q126.112 473.629 127.292 472.286 Q129.538 469.763 130.417 468.027 Q131.32 466.268 131.32 464.578 Q131.32 461.823 129.376 460.087 Q127.455 458.351 124.353 458.351 Q122.154 458.351 119.7 459.115 Q117.269 459.879 114.492 461.43 L114.492 456.708 Q117.316 455.573 119.769 454.995 Q122.223 454.416 124.26 454.416 Q129.63 454.416 132.825 457.101 Q136.019 459.786 136.019 464.277 Q136.019 466.407 135.209 468.328 Q134.422 470.226 132.316 472.819 Q131.737 473.49 128.635 476.707 Q125.533 479.902 119.885 485.666 Z\" fill=\"#000000\" fill-rule=\"evenodd\" fill-opacity=\"1\" /><path clip-path=\"url(#clip180)\" d=\"M156.019 458.12 Q152.408 458.12 150.579 461.684 Q148.774 465.226 148.774 472.356 Q148.774 479.462 150.579 483.027 Q152.408 486.569 156.019 486.569 Q159.653 486.569 161.459 483.027 Q163.288 479.462 163.288 472.356 Q163.288 465.226 161.459 461.684 Q159.653 458.12 156.019 458.12 M156.019 454.416 Q161.829 454.416 164.885 459.022 Q167.964 463.606 167.964 472.356 Q167.964 481.082 164.885 485.689 Q161.829 490.272 156.019 490.272 Q150.209 490.272 147.13 485.689 Q144.075 481.082 144.075 472.356 Q144.075 463.606 147.13 459.022 Q150.209 454.416 156.019 454.416 Z\" fill=\"#000000\" fill-rule=\"evenodd\" fill-opacity=\"1\" /><path clip-path=\"url(#clip180)\" d=\"M130.024 71.8552 Q133.38 72.5727 135.255 74.8412 Q137.154 77.1098 137.154 80.4431 Q137.154 85.5588 133.635 88.3597 Q130.117 91.1606 123.635 91.1606 Q121.459 91.1606 119.144 90.7208 Q116.853 90.3041 114.399 89.4477 L114.399 84.9338 Q116.343 86.068 118.658 86.6467 Q120.973 87.2254 123.496 87.2254 Q127.894 87.2254 130.186 85.4893 Q132.501 83.7532 132.501 80.4431 Q132.501 77.3875 130.348 75.6746 Q128.218 73.9385 124.399 73.9385 L120.371 73.9385 L120.371 70.0959 L124.584 70.0959 Q128.033 70.0959 129.862 68.7302 Q131.691 67.3413 131.691 64.7487 Q131.691 62.0867 129.792 60.6747 Q127.917 59.2395 124.399 59.2395 Q122.478 59.2395 120.279 59.6561 Q118.08 60.0728 115.441 60.9524 L115.441 56.7858 Q118.103 56.0451 120.418 55.6747 Q122.755 55.3043 124.816 55.3043 Q130.14 55.3043 133.242 57.7349 Q136.343 60.1423 136.343 64.2626 Q136.343 67.133 134.7 69.1237 Q133.056 71.0913 130.024 71.8552 Z\" fill=\"#000000\" fill-rule=\"evenodd\" fill-opacity=\"1\" /><path clip-path=\"url(#clip180)\" d=\"M156.019 59.008 Q152.408 59.008 150.579 62.5728 Q148.774 66.1144 148.774 73.244 Q148.774 80.3505 150.579 83.9153 Q152.408 87.4569 156.019 87.4569 Q159.653 87.4569 161.459 83.9153 Q163.288 80.3505 163.288 73.244 Q163.288 66.1144 161.459 62.5728 Q159.653 59.008 156.019 59.008 M156.019 55.3043 Q161.829 55.3043 164.885 59.9108 Q167.964 64.4941 167.964 73.244 Q167.964 81.9708 164.885 86.5773 Q161.829 91.1606 156.019 91.1606 Q150.209 91.1606 147.13 86.5773 Q144.075 81.9708 144.075 73.244 Q144.075 64.4941 147.13 59.9108 Q150.209 55.3043 156.019 55.3043 Z\" fill=\"#000000\" fill-rule=\"evenodd\" fill-opacity=\"1\" /><path clip-path=\"url(#clip180)\" d=\"M67.3143 733.525 Q73.68 736.008 75.6216 738.363 Q77.5631 740.718 77.5631 744.665 L77.5631 749.344 L72.6615 749.344 L72.6615 745.906 Q72.6615 743.487 71.5157 742.151 Q70.3699 740.814 66.1048 739.191 L63.4312 738.14 L28.3562 752.559 L28.3562 746.352 L56.238 735.212 L28.3562 724.072 L28.3562 717.865 L67.3143 733.525 Z\" fill=\"#000000\" fill-rule=\"evenodd\" fill-opacity=\"1\" /><circle clip-path=\"url(#clip182)\" cx=\"301.636\" cy=\"1311.25\" r=\"14\" fill=\"#000000\" fill-rule=\"evenodd\" fill-opacity=\"1\" stroke=\"none\"/>\n",
       "<circle clip-path=\"url(#clip182)\" cx=\"496.981\" cy=\"1384.24\" r=\"14\" fill=\"#000000\" fill-rule=\"evenodd\" fill-opacity=\"1\" stroke=\"none\"/>\n",
       "<circle clip-path=\"url(#clip182)\" cx=\"692.325\" cy=\"1041.24\" r=\"14\" fill=\"#000000\" fill-rule=\"evenodd\" fill-opacity=\"1\" stroke=\"none\"/>\n",
       "<circle clip-path=\"url(#clip182)\" cx=\"887.67\" cy=\"534.912\" r=\"14\" fill=\"#000000\" fill-rule=\"evenodd\" fill-opacity=\"1\" stroke=\"none\"/>\n",
       "<circle clip-path=\"url(#clip182)\" cx=\"1083.01\" cy=\"867.892\" r=\"14\" fill=\"#000000\" fill-rule=\"evenodd\" fill-opacity=\"1\" stroke=\"none\"/>\n",
       "<circle clip-path=\"url(#clip182)\" cx=\"1278.36\" cy=\"388.403\" r=\"14\" fill=\"#000000\" fill-rule=\"evenodd\" fill-opacity=\"1\" stroke=\"none\"/>\n",
       "<circle clip-path=\"url(#clip182)\" cx=\"1473.7\" cy=\"484.032\" r=\"14\" fill=\"#000000\" fill-rule=\"evenodd\" fill-opacity=\"1\" stroke=\"none\"/>\n",
       "<circle clip-path=\"url(#clip182)\" cx=\"1669.05\" cy=\"232.809\" r=\"14\" fill=\"#000000\" fill-rule=\"evenodd\" fill-opacity=\"1\" stroke=\"none\"/>\n",
       "<circle clip-path=\"url(#clip182)\" cx=\"1864.39\" cy=\"417.647\" r=\"14\" fill=\"#000000\" fill-rule=\"evenodd\" fill-opacity=\"1\" stroke=\"none\"/>\n",
       "<circle clip-path=\"url(#clip182)\" cx=\"2059.74\" cy=\"350.667\" r=\"14\" fill=\"#000000\" fill-rule=\"evenodd\" fill-opacity=\"1\" stroke=\"none\"/>\n",
       "<circle clip-path=\"url(#clip182)\" cx=\"2255.08\" cy=\"369.897\" r=\"14\" fill=\"#000000\" fill-rule=\"evenodd\" fill-opacity=\"1\" stroke=\"none\"/>\n",
       "<polyline clip-path=\"url(#clip182)\" style=\"stroke:#000000; stroke-linecap:butt; stroke-linejoin:round; stroke-width:4; stroke-opacity:1; fill:none\" points=\"\n",
       "  203.964,1256.18 399.308,1149.81 594.653,1043.45 789.998,937.088 985.343,830.725 1180.69,724.363 1376.03,618 1571.38,511.637 1766.72,405.274 1962.07,298.911 \n",
       "  2157.41,192.548 2352.76,86.1857 \n",
       "  \"/>\n",
       "<polyline clip-path=\"url(#clip182)\" style=\"stroke:#000000; stroke-linecap:butt; stroke-linejoin:round; stroke-width:4; stroke-opacity:1; fill:none\" points=\"\n",
       "  301.636,1311.25 301.636,1203 \n",
       "  \"/>\n",
       "<polyline clip-path=\"url(#clip182)\" style=\"stroke:#000000; stroke-linecap:butt; stroke-linejoin:round; stroke-width:4; stroke-opacity:1; fill:none\" points=\"\n",
       "  496.981,1384.24 496.981,1096.63 \n",
       "  \"/>\n",
       "<polyline clip-path=\"url(#clip182)\" style=\"stroke:#000000; stroke-linecap:butt; stroke-linejoin:round; stroke-width:4; stroke-opacity:1; fill:none\" points=\"\n",
       "  692.325,1041.24 692.325,990.27 \n",
       "  \"/>\n",
       "<polyline clip-path=\"url(#clip182)\" style=\"stroke:#000000; stroke-linecap:butt; stroke-linejoin:round; stroke-width:4; stroke-opacity:1; fill:none\" points=\"\n",
       "  887.67,534.912 887.67,883.907 \n",
       "  \"/>\n",
       "<polyline clip-path=\"url(#clip182)\" style=\"stroke:#000000; stroke-linecap:butt; stroke-linejoin:round; stroke-width:4; stroke-opacity:1; fill:none\" points=\"\n",
       "  1083.01,867.892 1083.01,777.544 \n",
       "  \"/>\n",
       "<polyline clip-path=\"url(#clip182)\" style=\"stroke:#000000; stroke-linecap:butt; stroke-linejoin:round; stroke-width:4; stroke-opacity:1; fill:none\" points=\"\n",
       "  1278.36,388.403 1278.36,671.181 \n",
       "  \"/>\n",
       "<polyline clip-path=\"url(#clip182)\" style=\"stroke:#000000; stroke-linecap:butt; stroke-linejoin:round; stroke-width:4; stroke-opacity:1; fill:none\" points=\"\n",
       "  1473.7,484.032 1473.7,564.818 \n",
       "  \"/>\n",
       "<polyline clip-path=\"url(#clip182)\" style=\"stroke:#000000; stroke-linecap:butt; stroke-linejoin:round; stroke-width:4; stroke-opacity:1; fill:none\" points=\"\n",
       "  1669.05,232.809 1669.05,458.456 \n",
       "  \"/>\n",
       "<polyline clip-path=\"url(#clip182)\" style=\"stroke:#000000; stroke-linecap:butt; stroke-linejoin:round; stroke-width:4; stroke-opacity:1; fill:none\" points=\"\n",
       "  1864.39,417.647 1864.39,352.093 \n",
       "  \"/>\n",
       "<polyline clip-path=\"url(#clip182)\" style=\"stroke:#000000; stroke-linecap:butt; stroke-linejoin:round; stroke-width:4; stroke-opacity:1; fill:none\" points=\"\n",
       "  2059.74,350.667 2059.74,245.73 \n",
       "  \"/>\n",
       "<polyline clip-path=\"url(#clip182)\" style=\"stroke:#000000; stroke-linecap:butt; stroke-linejoin:round; stroke-width:4; stroke-opacity:1; fill:none\" points=\"\n",
       "  2255.08,369.897 2255.08,139.367 \n",
       "  \"/>\n",
       "</svg>\n"
      ]
     },
     "metadata": {},
     "output_type": "display_data"
    }
   ],
   "source": [
    "p=scatter(\n",
    "    x,y,\n",
    "    color=:black,\n",
    "    legend=false,\n",
    "    xlim=(1.5,12.5),\n",
    "    xlabel=\"x\",\n",
    "    ylabel=\"y\",\n",
    "    grid=false\n",
    ")\n",
    "plot!(\n",
    "    1.5:1:12.5,\n",
    "    x-> a_hat + b_hat * x,\n",
    "    color=:black\n",
    ")\n",
    "for i in 1:n\n",
    "    plot!(\n",
    "        [x[i],x[i]], \n",
    "        [y[i], a_hat + b_hat * x[i]],\n",
    "        color=:black\n",
    "    )\n",
    "end\n",
    "display(p)"
   ]
  }
 ],
 "metadata": {
  "kernelspec": {
   "display_name": "Julia 1.6.0",
   "language": "julia",
   "name": "julia-1.6"
  },
  "language_info": {
   "file_extension": ".jl",
   "mimetype": "application/julia",
   "name": "julia",
   "version": "1.6.0"
  }
 },
 "nbformat": 4,
 "nbformat_minor": 5
}
