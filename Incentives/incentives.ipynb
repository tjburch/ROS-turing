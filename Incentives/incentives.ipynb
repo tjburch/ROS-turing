{
 "cells": [
  {
   "cell_type": "markdown",
   "id": "czech-disney",
   "metadata": {},
   "source": [
    "## Load packages"
   ]
  },
  {
   "cell_type": "code",
   "execution_count": 1,
   "id": "blind-success",
   "metadata": {},
   "outputs": [],
   "source": [
    "using DataFrames, StatsPlots, CSV, HTTP\n",
    "using Distributions, Turing, MCMCChains"
   ]
  },
  {
   "cell_type": "markdown",
   "id": "formal-egyptian",
   "metadata": {},
   "source": [
    "## Load Data"
   ]
  },
  {
   "cell_type": "code",
   "execution_count": 2,
   "id": "frequent-timer",
   "metadata": {},
   "outputs": [
    {
     "data": {
      "text/html": [
       "<table class=\"data-frame\"><thead><tr><th></th><th>rr_diff</th><th>value</th><th>prepay</th><th>gift</th><th>burden</th></tr><tr><th></th><th>Int64</th><th>Float64</th><th>Int64</th><th>Int64</th><th>Int64</th></tr></thead><tbody><p>6 rows × 5 columns</p><tr><th>1</th><td>3</td><td>1.24151</td><td>1</td><td>0</td><td>0</td></tr><tr><th>2</th><td>6</td><td>2.46624</td><td>1</td><td>1</td><td>0</td></tr><tr><th>3</th><td>9</td><td>14.7135</td><td>0</td><td>0</td><td>1</td></tr><tr><th>4</th><td>4</td><td>24.6288</td><td>0</td><td>0</td><td>1</td></tr><tr><th>5</th><td>6</td><td>43.1172</td><td>0</td><td>0</td><td>1</td></tr><tr><th>6</th><td>13</td><td>17.314</td><td>0</td><td>0</td><td>1</td></tr></tbody></table>"
      ],
      "text/latex": [
       "\\begin{tabular}{r|ccccc}\n",
       "\t& rr\\_diff & value & prepay & gift & burden\\\\\n",
       "\t\\hline\n",
       "\t& Int64 & Float64 & Int64 & Int64 & Int64\\\\\n",
       "\t\\hline\n",
       "\t1 & 3 & 1.24151 & 1 & 0 & 0 \\\\\n",
       "\t2 & 6 & 2.46624 & 1 & 1 & 0 \\\\\n",
       "\t3 & 9 & 14.7135 & 0 & 0 & 1 \\\\\n",
       "\t4 & 4 & 24.6288 & 0 & 0 & 1 \\\\\n",
       "\t5 & 6 & 43.1172 & 0 & 0 & 1 \\\\\n",
       "\t6 & 13 & 17.314 & 0 & 0 & 1 \\\\\n",
       "\\end{tabular}\n"
      ],
      "text/plain": [
       "\u001b[1m6×5 DataFrame\u001b[0m\n",
       "\u001b[1m Row \u001b[0m│\u001b[1m rr_diff \u001b[0m\u001b[1m value    \u001b[0m\u001b[1m prepay \u001b[0m\u001b[1m gift  \u001b[0m\u001b[1m burden \u001b[0m\n",
       "\u001b[1m     \u001b[0m│\u001b[90m Int64   \u001b[0m\u001b[90m Float64  \u001b[0m\u001b[90m Int64  \u001b[0m\u001b[90m Int64 \u001b[0m\u001b[90m Int64  \u001b[0m\n",
       "─────┼──────────────────────────────────────────\n",
       "   1 │       3   1.24151       1      0       0\n",
       "   2 │       6   2.46624       1      1       0\n",
       "   3 │       9  14.7135        0      0       1\n",
       "   4 │       4  24.6288        0      0       1\n",
       "   5 │       6  43.1172        0      0       1\n",
       "   6 │      13  17.314         0      0       1"
      ]
     },
     "execution_count": 2,
     "metadata": {},
     "output_type": "execute_result"
    }
   ],
   "source": [
    "data = \"https://raw.githubusercontent.com/avehtari/ROS-Examples/master/Incentives/data/incentives.csv\"\n",
    "incentives  = CSV.File(HTTP.get(data).body, delim=\",\") |> DataFrame\n",
    "first(incentives , 6)"
   ]
  },
  {
   "cell_type": "code",
   "execution_count": 3,
   "id": "exterior-publisher",
   "metadata": {},
   "outputs": [],
   "source": [
    "model_data = Matrix(select(incentives,Not(:rr_diff)))\n",
    "targets = incentives.rr_diff;"
   ]
  },
  {
   "cell_type": "markdown",
   "id": "ethical-soldier",
   "metadata": {},
   "source": [
    "## Normal linear regression"
   ]
  },
  {
   "cell_type": "code",
   "execution_count": 4,
   "id": "formal-warren",
   "metadata": {},
   "outputs": [],
   "source": [
    "@model function m1(x, y)\n",
    "    # Set variance prior.\n",
    "    σ ~ truncated(Normal(0, 100), 0, Inf)\n",
    "    \n",
    "    # Set intercept prior.\n",
    "    intercept ~ Normal(0,50)\n",
    "    \n",
    "    # Set the priors on our coefficients.\n",
    "    nfeatures = size(x, 2)\n",
    "    coefficients ~ MvNormal(nfeatures, 10)\n",
    "    \n",
    "    # Calculate all the mu terms.\n",
    "    mu = intercept .+ x * coefficients\n",
    "    y ~ MvNormal(mu, σ)\n",
    "end;"
   ]
  },
  {
   "cell_type": "code",
   "execution_count": 5,
   "id": "hindu-newark",
   "metadata": {},
   "outputs": [
    {
     "name": "stderr",
     "output_type": "stream",
     "text": [
      "┌ Warning: The current proposal will be rejected due to numerical error(s).\n",
      "│   isfinite.((θ, r, ℓπ, ℓκ)) = (true, false, false, false)\n",
      "└ @ AdvancedHMC C:\\Users\\tburch\\.julia\\packages\\AdvancedHMC\\MIxdK\\src\\hamiltonian.jl:47\n",
      "┌ Warning: The current proposal will be rejected due to numerical error(s).\n",
      "│   isfinite.((θ, r, ℓπ, ℓκ)) = (true, false, false, false)\n",
      "└ @ AdvancedHMC C:\\Users\\tburch\\.julia\\packages\\AdvancedHMC\\MIxdK\\src\\hamiltonian.jl:47\n",
      "┌ Warning: The current proposal will be rejected due to numerical error(s).\n",
      "│   isfinite.((θ, r, ℓπ, ℓκ)) = (true, false, false, false)\n",
      "└ @ AdvancedHMC C:\\Users\\tburch\\.julia\\packages\\AdvancedHMC\\MIxdK\\src\\hamiltonian.jl:47\n",
      "┌ Warning: The current proposal will be rejected due to numerical error(s).\n",
      "│   isfinite.((θ, r, ℓπ, ℓκ)) = (true, false, false, false)\n",
      "└ @ AdvancedHMC C:\\Users\\tburch\\.julia\\packages\\AdvancedHMC\\MIxdK\\src\\hamiltonian.jl:47\n",
      "┌ Info: Found initial step size\n",
      "│   ϵ = 0.0015625\n",
      "└ @ Turing.Inference C:\\Users\\tburch\\.julia\\packages\\Turing\\uAz5c\\src\\inference\\hmc.jl:195\n",
      "\u001b[32mSampling: 100%|█████████████████████████████████████████| Time: 0:00:00\u001b[39m\n"
     ]
    }
   ],
   "source": [
    "model = m1(model_data, targets)\n",
    "chain = sample(model, NUTS(), 1_000);"
   ]
  },
  {
   "cell_type": "code",
   "execution_count": 6,
   "id": "foreign-camel",
   "metadata": {},
   "outputs": [
    {
     "data": {
      "text/plain": [
       "Chains MCMC chain (1000×18×1 Array{Float64, 3}):\n",
       "\n",
       "Iterations        = 1:1000\n",
       "Thinning interval = 1\n",
       "Chains            = 1\n",
       "Samples per chain = 1000\n",
       "parameters        = coefficients[1], coefficients[2], coefficients[3], coefficients[4], intercept, σ\n",
       "internals         = acceptance_rate, hamiltonian_energy, hamiltonian_energy_error, is_accept, log_density, lp, max_hamiltonian_energy_error, n_steps, nom_step_size, numerical_error, step_size, tree_depth\n",
       "\n",
       "Summary Statistics\n",
       " \u001b[1m      parameters \u001b[0m \u001b[1m    mean \u001b[0m \u001b[1m     std \u001b[0m \u001b[1m naive_se \u001b[0m \u001b[1m    mcse \u001b[0m \u001b[1m       ess \u001b[0m \u001b[1m    rh\u001b[0m ⋯\n",
       " \u001b[90m          Symbol \u001b[0m \u001b[90m Float64 \u001b[0m \u001b[90m Float64 \u001b[0m \u001b[90m  Float64 \u001b[0m \u001b[90m Float64 \u001b[0m \u001b[90m   Float64 \u001b[0m \u001b[90m Float\u001b[0m ⋯\n",
       "\n",
       "  coefficients[1]    0.1224    0.0444     0.0014    0.0015    643.6332    0.99 ⋯\n",
       "  coefficients[2]    3.7236    1.9669     0.0622    0.0693    722.1928    1.00 ⋯\n",
       "  coefficients[3]   -5.0501    2.0964     0.0663    0.0624    806.5378    0.99 ⋯\n",
       "  coefficients[4]    2.8697    1.5347     0.0485    0.0349    954.6031    1.00 ⋯\n",
       "        intercept    1.6898    1.6921     0.0535    0.0621    573.0443    1.00 ⋯\n",
       "                σ    6.0587    0.5730     0.0181    0.0136   1137.4653    1.00 ⋯\n",
       "\u001b[36m                                                                1 column omitted\u001b[0m\n",
       "\n",
       "Quantiles\n",
       " \u001b[1m      parameters \u001b[0m \u001b[1m    2.5% \u001b[0m \u001b[1m   25.0% \u001b[0m \u001b[1m   50.0% \u001b[0m \u001b[1m   75.0% \u001b[0m \u001b[1m   97.5% \u001b[0m\n",
       " \u001b[90m          Symbol \u001b[0m \u001b[90m Float64 \u001b[0m \u001b[90m Float64 \u001b[0m \u001b[90m Float64 \u001b[0m \u001b[90m Float64 \u001b[0m \u001b[90m Float64 \u001b[0m\n",
       "\n",
       "  coefficients[1]    0.0384    0.0913    0.1233    0.1521    0.2078\n",
       "  coefficients[2]   -0.0229    2.3799    3.7277    5.0536    7.5784\n",
       "  coefficients[3]   -9.0300   -6.5166   -5.1333   -3.6248   -0.9759\n",
       "  coefficients[4]   -0.1819    1.8385    2.8788    3.9288    5.8669\n",
       "        intercept   -1.6600    0.5104    1.6726    2.7970    5.2116\n",
       "                σ    5.0444    5.6679    5.9940    6.4220    7.2710\n"
      ]
     },
     "execution_count": 6,
     "metadata": {},
     "output_type": "execute_result"
    }
   ],
   "source": [
    "chain"
   ]
  }
 ],
 "metadata": {
  "kernelspec": {
   "display_name": "Julia 1.6.0",
   "language": "julia",
   "name": "julia-1.6"
  },
  "language_info": {
   "file_extension": ".jl",
   "mimetype": "application/julia",
   "name": "julia",
   "version": "1.6.0"
  }
 },
 "nbformat": 4,
 "nbformat_minor": 5
}
