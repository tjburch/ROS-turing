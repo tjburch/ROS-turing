{
 "cells": [
  {
   "cell_type": "markdown",
   "id": "85a35d42-389b-4747-ace4-edd4b4aa70ff",
   "metadata": {},
   "source": [
    "# Regression and Other Stories: Pew\n",
    "\n",
    "Miscellaneous analyses using raw Pew data. See Chapter 2 in Regression and Other Stories.\n",
    "\n",
    "-----"
   ]
  },
  {
   "cell_type": "markdown",
   "id": "7d84aa2f-770e-4716-8c40-87221d77ae2c",
   "metadata": {},
   "source": [
    "### Load packages"
   ]
  },
  {
   "cell_type": "code",
   "execution_count": 18,
   "id": "2fa3cb79-0361-46ed-a3a7-aca1f6a62fa9",
   "metadata": {},
   "outputs": [],
   "source": [
    "using DataFrames, StatsPlots, CSV, HTTP, StatsBase\n",
    "using StatFiles # For .dta file (stata)"
   ]
  },
  {
   "cell_type": "markdown",
   "id": "64acf56e-b0bd-419f-a5ea-ac8c7ed66829",
   "metadata": {},
   "source": [
    "### Load data"
   ]
  },
  {
   "cell_type": "code",
   "execution_count": 3,
   "id": "8afa6f75-f564-466b-8b09-7f627dc2771a",
   "metadata": {},
   "outputs": [
    {
     "data": {
      "text/plain": [
       "31201"
      ]
     },
     "execution_count": 3,
     "metadata": {},
     "output_type": "execute_result"
    }
   ],
   "source": [
    "# Not aware of a way to pass url to read_dta, so downloaded data locally\n",
    "pew_pre = load(\"data/pew_research_center_june_elect_wknd_data.dta\") |> DataFrame\n",
    "n = nrow(pew_pre);"
   ]
  },
  {
   "cell_type": "code",
   "execution_count": 59,
   "id": "628fc8e6-b328-4b69-ac1f-35aff5a00d7b",
   "metadata": {},
   "outputs": [
    {
     "data": {
      "text/html": [
       "<table class=\"data-frame\"><thead><tr><th></th><th>survey</th><th>rid</th><th>date</th><th>sample</th><th>phoneuse</th><th>zipcode</th><th>msa</th><th>usr</th><th>form</th><th>thoughtpres</th></tr><tr><th></th><th>Int32?</th><th>Int32?</th><th>Int32?</th><th>Int8?</th><th>Int8?</th><th>String?</th><th>Int32?</th><th>String?</th><th>Int8?</th><th>Int8?</th></tr></thead><tbody><p>6 rows × 70 columns (omitted printing of 60 columns)</p><tr><th>1</th><td>20080629</td><td>1720</td><td>62708</td><td>1</td><td>2</td><td>01007</td><td>44140</td><td>S</td><td>2</td><td><em>missing</em></td></tr><tr><th>2</th><td>20080810</td><td>668</td><td>80208</td><td>1</td><td>2</td><td>01010</td><td>44140</td><td>2</td><td>1</td><td><em>missing</em></td></tr><tr><th>3</th><td>20080810</td><td>50</td><td>73108</td><td>1</td><td>3</td><td>01013</td><td>44140</td><td>2</td><td>1</td><td><em>missing</em></td></tr><tr><th>4</th><td>20080810</td><td>50533</td><td>80208</td><td>2</td><td>3</td><td>01013</td><td>44140</td><td></td><td>2</td><td><em>missing</em></td></tr><tr><th>5</th><td>20080629</td><td>30091</td><td>62108</td><td>3</td><td>4</td><td>01020</td><td>44140</td><td>S</td><td>1</td><td><em>missing</em></td></tr><tr><th>6</th><td>20080727</td><td>60</td><td>72708</td><td>1</td><td>0</td><td>01020</td><td>44140</td><td>S</td><td>2</td><td><em>missing</em></td></tr></tbody></table>"
      ],
      "text/latex": [
       "\\begin{tabular}{r|ccccccccccc}\n",
       "\t& survey & rid & date & sample & phoneuse & zipcode & msa & usr & form & thoughtpres & \\\\\n",
       "\t\\hline\n",
       "\t& Int32? & Int32? & Int32? & Int8? & Int8? & String? & Int32? & String? & Int8? & Int8? & \\\\\n",
       "\t\\hline\n",
       "\t1 & 20080629 & 1720 & 62708 & 1 & 2 & 01007 & 44140 & S & 2 & \\emph{missing} & $\\dots$ \\\\\n",
       "\t2 & 20080810 & 668 & 80208 & 1 & 2 & 01010 & 44140 & 2 & 1 & \\emph{missing} & $\\dots$ \\\\\n",
       "\t3 & 20080810 & 50 & 73108 & 1 & 3 & 01013 & 44140 & 2 & 1 & \\emph{missing} & $\\dots$ \\\\\n",
       "\t4 & 20080810 & 50533 & 80208 & 2 & 3 & 01013 & 44140 &  & 2 & \\emph{missing} & $\\dots$ \\\\\n",
       "\t5 & 20080629 & 30091 & 62108 & 3 & 4 & 01020 & 44140 & S & 1 & \\emph{missing} & $\\dots$ \\\\\n",
       "\t6 & 20080727 & 60 & 72708 & 1 & 0 & 01020 & 44140 & S & 2 & \\emph{missing} & $\\dots$ \\\\\n",
       "\\end{tabular}\n"
      ],
      "text/plain": [
       "\u001b[1m6×70 DataFrame\u001b[0m\n",
       "\u001b[1m Row \u001b[0m│\u001b[1m survey   \u001b[0m\u001b[1m rid    \u001b[0m\u001b[1m date   \u001b[0m\u001b[1m sample \u001b[0m\u001b[1m phoneuse \u001b[0m\u001b[1m zipcode \u001b[0m\u001b[1m msa    \u001b[0m\u001b[1m usr     \u001b[0m\u001b[1m f\u001b[0m ⋯\n",
       "\u001b[1m     \u001b[0m│\u001b[90m Int32?   \u001b[0m\u001b[90m Int32? \u001b[0m\u001b[90m Int32? \u001b[0m\u001b[90m Int8?  \u001b[0m\u001b[90m Int8?    \u001b[0m\u001b[90m String? \u001b[0m\u001b[90m Int32? \u001b[0m\u001b[90m String? \u001b[0m\u001b[90m I\u001b[0m ⋯\n",
       "─────┼──────────────────────────────────────────────────────────────────────────\n",
       "   1 │ 20080629    1720   62708       1         2  01007     44140  S          ⋯\n",
       "   2 │ 20080810     668   80208       1         2  01010     44140  2\n",
       "   3 │ 20080810      50   73108       1         3  01013     44140  2\n",
       "   4 │ 20080810   50533   80208       2         3  01013     44140\n",
       "   5 │ 20080629   30091   62108       3         4  01020     44140  S          ⋯\n",
       "   6 │ 20080727      60   72708       1         0  01020     44140  S\n",
       "\u001b[36m                                                              62 columns omitted\u001b[0m"
      ]
     },
     "execution_count": 59,
     "metadata": {},
     "output_type": "execute_result"
    }
   ],
   "source": [
    "first(pew_pre, 6)"
   ]
  },
  {
   "cell_type": "markdown",
   "id": "f855c83b-164d-4a59-87b6-011ab38436f1",
   "metadata": {},
   "source": [
    "### Glance data"
   ]
  },
  {
   "cell_type": "code",
   "execution_count": 24,
   "id": "9a87176b-8140-4b14-b154-8471ac6c92f0",
   "metadata": {},
   "outputs": [
    {
     "name": "stdout",
     "output_type": "stream",
     "text": [
      "OrderedCollections.OrderedDict{Union{Missing, Int32}, Int64}(61808 => 228, 61908 => 422, 62008 => 340, 62108 => 412, 62208 => 376, 62308 => 442, 62408 => 420, 62508 => 280, 62608 => 370, 62708 => 258, 62808 => 334, 62908 => 126, 72308 => 484, 72408 => 942, 72508 => 502, 72608 => 654, 72708 => 424, 73108 => 360, 80108 => 584, 80208 => 508, 80308 => 478, 80408 => 524, 80508 => 742, 80608 => 410, 80708 => 532, 80808 => 560, 80908 => 540, 81008 => 540, 81108 => 32, 90908 => 614, 91008 => 1420, 91108 => 1184, 91208 => 976, 91308 => 970, 91408 => 800, 92708 => 1498, 92808 => 1246, 92908 => 266, 100908 => 376, 101008 => 384, 101108 => 433, 101208 => 285, 101308 => 7, 101608 => 874, 101708 => 922, 101808 => 843, 101908 => 377, 102308 => 535, 102408 => 527, 102508 => 400, 102608 => 38, 102908 => 873, 103008 => 867, 103108 => 864, 110108 => 798)\n"
     ]
    }
   ],
   "source": [
    "# A little less pretty than R's `table` method\n",
    "println(sort(countmap(pew_pre.date), by=x->x[1]));"
   ]
  },
  {
   "cell_type": "code",
   "execution_count": 33,
   "id": "03fe1010-9c70-4b70-9956-0acb8deeb3f2",
   "metadata": {},
   "outputs": [],
   "source": [
    "which_question = ifelse.(\n",
    "    .!ismissing.(pew_pre.heat2),\n",
    "    2,\n",
    "    ifelse.(\n",
    "        .!ismissing(pew_pre.heat4),\n",
    "        4,\n",
    "        0\n",
    "    )\n",
    ");"
   ]
  },
  {
   "cell_type": "code",
   "execution_count": 41,
   "id": "50ab1336-f8f4-4b00-98ad-77af50998a32",
   "metadata": {},
   "outputs": [],
   "source": [
    "#sort(pew_pre.date)\n",
    "# TODO"
   ]
  },
  {
   "cell_type": "markdown",
   "id": "47f64ed1-db4c-4fd5-914c-28b9aae0a06c",
   "metadata": {},
   "source": [
    "### Create vote intention variable \"rvote\" using variables heat2 and heat4 from Pew"
   ]
  },
  {
   "cell_type": "code",
   "execution_count": 49,
   "id": "f63c77d9-6cd6-4553-8616-060873f6f28f",
   "metadata": {},
   "outputs": [],
   "source": [
    "numeric_heat2 = replace(pew_pre.heat2, missing=>NaN)\n",
    "numeric_heat4 = replace(pew_pre.heat4, missing=>NaN)\n",
    "rvote = fill(NaN, n)\n",
    "for i in 1:n\n",
    "    if(which_question[i]==2)\n",
    "        rvote[i] = ifelse.(numeric_heat2[i]==1,1,\n",
    "                    ifelse.(numeric_heat2[i]==2,0,NaN))\n",
    "    elseif(which_question[i]==4)\n",
    "        rvote[i] = ifelse.(numeric_heat4[i]==1,1,\n",
    "                    ifelse.(numeric_heat4[i]==2,0,NaN))\n",
    "    end\n",
    "end"
   ]
  },
  {
   "cell_type": "markdown",
   "id": "b3b4b176-21a5-4d34-92cb-31aed0a66360",
   "metadata": {},
   "source": [
    "### Certain to have registered to vote?"
   ]
  },
  {
   "cell_type": "code",
   "execution_count": 69,
   "id": "04eb9b38-ee99-47a4-bfb2-6a9da05025d1",
   "metadata": {},
   "outputs": [
    {
     "data": {
      "text/plain": [
       "Dict{Union{Missing, Int8}, Int64} with 4 entries:\n",
       "  2       => 1078\n",
       "  9       => 114\n",
       "  missing => 3820\n",
       "  1       => 26189"
      ]
     },
     "execution_count": 69,
     "metadata": {},
     "output_type": "execute_result"
    }
   ],
   "source": [
    "countmap(pew_pre[!,:regicert])\n",
    "# This is different than represented in the original notebook..."
   ]
  },
  {
   "cell_type": "code",
   "execution_count": null,
   "id": "e5377ebf-c720-4675-b162-01ed2df8f0df",
   "metadata": {},
   "outputs": [],
   "source": []
  }
 ],
 "metadata": {
  "kernelspec": {
   "display_name": "Julia 1.6.0",
   "language": "julia",
   "name": "julia-1.6"
  },
  "language_info": {
   "file_extension": ".jl",
   "mimetype": "application/julia",
   "name": "julia",
   "version": "1.6.0"
  }
 },
 "nbformat": 4,
 "nbformat_minor": 5
}
